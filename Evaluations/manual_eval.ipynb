{
  "nbformat": 4,
  "nbformat_minor": 0,
  "metadata": {
    "colab": {
      "provenance": [],
      "toc_visible": true
    },
    "kernelspec": {
      "name": "python3",
      "display_name": "Python 3"
    },
    "language_info": {
      "name": "python"
    },
    "widgets": {
      "application/vnd.jupyter.widget-state+json": {
        "af5e54b97ec844edb36013a35dae3b18": {
          "model_module": "@jupyter-widgets/controls",
          "model_name": "HBoxModel",
          "model_module_version": "1.5.0",
          "state": {
            "_dom_classes": [],
            "_model_module": "@jupyter-widgets/controls",
            "_model_module_version": "1.5.0",
            "_model_name": "HBoxModel",
            "_view_count": null,
            "_view_module": "@jupyter-widgets/controls",
            "_view_module_version": "1.5.0",
            "_view_name": "HBoxView",
            "box_style": "",
            "children": [
              "IPY_MODEL_f6b4641754334d95932bf9db9c91d1a2",
              "IPY_MODEL_957a972ab1a342deade266974d7d765d",
              "IPY_MODEL_6a0ce5936f374f7babc50f893579498a"
            ],
            "layout": "IPY_MODEL_a665a3d398aa490a9dcaa21ad980b3a8"
          }
        },
        "f6b4641754334d95932bf9db9c91d1a2": {
          "model_module": "@jupyter-widgets/controls",
          "model_name": "HTMLModel",
          "model_module_version": "1.5.0",
          "state": {
            "_dom_classes": [],
            "_model_module": "@jupyter-widgets/controls",
            "_model_module_version": "1.5.0",
            "_model_name": "HTMLModel",
            "_view_count": null,
            "_view_module": "@jupyter-widgets/controls",
            "_view_module_version": "1.5.0",
            "_view_name": "HTMLView",
            "description": "",
            "description_tooltip": null,
            "layout": "IPY_MODEL_363b94765d12476e954e4d5f59914f9a",
            "placeholder": "​",
            "style": "IPY_MODEL_a5a02bc72099480393fc61430c9c4ab8",
            "value": "config.json: 100%"
          }
        },
        "957a972ab1a342deade266974d7d765d": {
          "model_module": "@jupyter-widgets/controls",
          "model_name": "FloatProgressModel",
          "model_module_version": "1.5.0",
          "state": {
            "_dom_classes": [],
            "_model_module": "@jupyter-widgets/controls",
            "_model_module_version": "1.5.0",
            "_model_name": "FloatProgressModel",
            "_view_count": null,
            "_view_module": "@jupyter-widgets/controls",
            "_view_module_version": "1.5.0",
            "_view_name": "ProgressView",
            "bar_style": "success",
            "description": "",
            "description_tooltip": null,
            "layout": "IPY_MODEL_65225cacaa7a431c9602b548033eb027",
            "max": 665,
            "min": 0,
            "orientation": "horizontal",
            "style": "IPY_MODEL_84c9cc2d539440eca2e33abcfe79cdbb",
            "value": 665
          }
        },
        "6a0ce5936f374f7babc50f893579498a": {
          "model_module": "@jupyter-widgets/controls",
          "model_name": "HTMLModel",
          "model_module_version": "1.5.0",
          "state": {
            "_dom_classes": [],
            "_model_module": "@jupyter-widgets/controls",
            "_model_module_version": "1.5.0",
            "_model_name": "HTMLModel",
            "_view_count": null,
            "_view_module": "@jupyter-widgets/controls",
            "_view_module_version": "1.5.0",
            "_view_name": "HTMLView",
            "description": "",
            "description_tooltip": null,
            "layout": "IPY_MODEL_f6e02a63c5f245509aa1644ffd2e4409",
            "placeholder": "​",
            "style": "IPY_MODEL_767798b9b9a146edb63b3a601cfbb8c1",
            "value": " 665/665 [00:00&lt;00:00, 5.49kB/s]"
          }
        },
        "a665a3d398aa490a9dcaa21ad980b3a8": {
          "model_module": "@jupyter-widgets/base",
          "model_name": "LayoutModel",
          "model_module_version": "1.2.0",
          "state": {
            "_model_module": "@jupyter-widgets/base",
            "_model_module_version": "1.2.0",
            "_model_name": "LayoutModel",
            "_view_count": null,
            "_view_module": "@jupyter-widgets/base",
            "_view_module_version": "1.2.0",
            "_view_name": "LayoutView",
            "align_content": null,
            "align_items": null,
            "align_self": null,
            "border": null,
            "bottom": null,
            "display": null,
            "flex": null,
            "flex_flow": null,
            "grid_area": null,
            "grid_auto_columns": null,
            "grid_auto_flow": null,
            "grid_auto_rows": null,
            "grid_column": null,
            "grid_gap": null,
            "grid_row": null,
            "grid_template_areas": null,
            "grid_template_columns": null,
            "grid_template_rows": null,
            "height": null,
            "justify_content": null,
            "justify_items": null,
            "left": null,
            "margin": null,
            "max_height": null,
            "max_width": null,
            "min_height": null,
            "min_width": null,
            "object_fit": null,
            "object_position": null,
            "order": null,
            "overflow": null,
            "overflow_x": null,
            "overflow_y": null,
            "padding": null,
            "right": null,
            "top": null,
            "visibility": null,
            "width": null
          }
        },
        "363b94765d12476e954e4d5f59914f9a": {
          "model_module": "@jupyter-widgets/base",
          "model_name": "LayoutModel",
          "model_module_version": "1.2.0",
          "state": {
            "_model_module": "@jupyter-widgets/base",
            "_model_module_version": "1.2.0",
            "_model_name": "LayoutModel",
            "_view_count": null,
            "_view_module": "@jupyter-widgets/base",
            "_view_module_version": "1.2.0",
            "_view_name": "LayoutView",
            "align_content": null,
            "align_items": null,
            "align_self": null,
            "border": null,
            "bottom": null,
            "display": null,
            "flex": null,
            "flex_flow": null,
            "grid_area": null,
            "grid_auto_columns": null,
            "grid_auto_flow": null,
            "grid_auto_rows": null,
            "grid_column": null,
            "grid_gap": null,
            "grid_row": null,
            "grid_template_areas": null,
            "grid_template_columns": null,
            "grid_template_rows": null,
            "height": null,
            "justify_content": null,
            "justify_items": null,
            "left": null,
            "margin": null,
            "max_height": null,
            "max_width": null,
            "min_height": null,
            "min_width": null,
            "object_fit": null,
            "object_position": null,
            "order": null,
            "overflow": null,
            "overflow_x": null,
            "overflow_y": null,
            "padding": null,
            "right": null,
            "top": null,
            "visibility": null,
            "width": null
          }
        },
        "a5a02bc72099480393fc61430c9c4ab8": {
          "model_module": "@jupyter-widgets/controls",
          "model_name": "DescriptionStyleModel",
          "model_module_version": "1.5.0",
          "state": {
            "_model_module": "@jupyter-widgets/controls",
            "_model_module_version": "1.5.0",
            "_model_name": "DescriptionStyleModel",
            "_view_count": null,
            "_view_module": "@jupyter-widgets/base",
            "_view_module_version": "1.2.0",
            "_view_name": "StyleView",
            "description_width": ""
          }
        },
        "65225cacaa7a431c9602b548033eb027": {
          "model_module": "@jupyter-widgets/base",
          "model_name": "LayoutModel",
          "model_module_version": "1.2.0",
          "state": {
            "_model_module": "@jupyter-widgets/base",
            "_model_module_version": "1.2.0",
            "_model_name": "LayoutModel",
            "_view_count": null,
            "_view_module": "@jupyter-widgets/base",
            "_view_module_version": "1.2.0",
            "_view_name": "LayoutView",
            "align_content": null,
            "align_items": null,
            "align_self": null,
            "border": null,
            "bottom": null,
            "display": null,
            "flex": null,
            "flex_flow": null,
            "grid_area": null,
            "grid_auto_columns": null,
            "grid_auto_flow": null,
            "grid_auto_rows": null,
            "grid_column": null,
            "grid_gap": null,
            "grid_row": null,
            "grid_template_areas": null,
            "grid_template_columns": null,
            "grid_template_rows": null,
            "height": null,
            "justify_content": null,
            "justify_items": null,
            "left": null,
            "margin": null,
            "max_height": null,
            "max_width": null,
            "min_height": null,
            "min_width": null,
            "object_fit": null,
            "object_position": null,
            "order": null,
            "overflow": null,
            "overflow_x": null,
            "overflow_y": null,
            "padding": null,
            "right": null,
            "top": null,
            "visibility": null,
            "width": null
          }
        },
        "84c9cc2d539440eca2e33abcfe79cdbb": {
          "model_module": "@jupyter-widgets/controls",
          "model_name": "ProgressStyleModel",
          "model_module_version": "1.5.0",
          "state": {
            "_model_module": "@jupyter-widgets/controls",
            "_model_module_version": "1.5.0",
            "_model_name": "ProgressStyleModel",
            "_view_count": null,
            "_view_module": "@jupyter-widgets/base",
            "_view_module_version": "1.2.0",
            "_view_name": "StyleView",
            "bar_color": null,
            "description_width": ""
          }
        },
        "f6e02a63c5f245509aa1644ffd2e4409": {
          "model_module": "@jupyter-widgets/base",
          "model_name": "LayoutModel",
          "model_module_version": "1.2.0",
          "state": {
            "_model_module": "@jupyter-widgets/base",
            "_model_module_version": "1.2.0",
            "_model_name": "LayoutModel",
            "_view_count": null,
            "_view_module": "@jupyter-widgets/base",
            "_view_module_version": "1.2.0",
            "_view_name": "LayoutView",
            "align_content": null,
            "align_items": null,
            "align_self": null,
            "border": null,
            "bottom": null,
            "display": null,
            "flex": null,
            "flex_flow": null,
            "grid_area": null,
            "grid_auto_columns": null,
            "grid_auto_flow": null,
            "grid_auto_rows": null,
            "grid_column": null,
            "grid_gap": null,
            "grid_row": null,
            "grid_template_areas": null,
            "grid_template_columns": null,
            "grid_template_rows": null,
            "height": null,
            "justify_content": null,
            "justify_items": null,
            "left": null,
            "margin": null,
            "max_height": null,
            "max_width": null,
            "min_height": null,
            "min_width": null,
            "object_fit": null,
            "object_position": null,
            "order": null,
            "overflow": null,
            "overflow_x": null,
            "overflow_y": null,
            "padding": null,
            "right": null,
            "top": null,
            "visibility": null,
            "width": null
          }
        },
        "767798b9b9a146edb63b3a601cfbb8c1": {
          "model_module": "@jupyter-widgets/controls",
          "model_name": "DescriptionStyleModel",
          "model_module_version": "1.5.0",
          "state": {
            "_model_module": "@jupyter-widgets/controls",
            "_model_module_version": "1.5.0",
            "_model_name": "DescriptionStyleModel",
            "_view_count": null,
            "_view_module": "@jupyter-widgets/base",
            "_view_module_version": "1.2.0",
            "_view_name": "StyleView",
            "description_width": ""
          }
        },
        "da920616302e478786340ec80117a36b": {
          "model_module": "@jupyter-widgets/controls",
          "model_name": "HBoxModel",
          "model_module_version": "1.5.0",
          "state": {
            "_dom_classes": [],
            "_model_module": "@jupyter-widgets/controls",
            "_model_module_version": "1.5.0",
            "_model_name": "HBoxModel",
            "_view_count": null,
            "_view_module": "@jupyter-widgets/controls",
            "_view_module_version": "1.5.0",
            "_view_name": "HBoxView",
            "box_style": "",
            "children": [
              "IPY_MODEL_6da40081480e4191a8492efb472a13fb",
              "IPY_MODEL_cd25b65ce8354e918d61726254b43a62",
              "IPY_MODEL_424646b7b4f046ceaf31d72daabb89d3"
            ],
            "layout": "IPY_MODEL_69c7531615e24a13962b4a465544d105"
          }
        },
        "6da40081480e4191a8492efb472a13fb": {
          "model_module": "@jupyter-widgets/controls",
          "model_name": "HTMLModel",
          "model_module_version": "1.5.0",
          "state": {
            "_dom_classes": [],
            "_model_module": "@jupyter-widgets/controls",
            "_model_module_version": "1.5.0",
            "_model_name": "HTMLModel",
            "_view_count": null,
            "_view_module": "@jupyter-widgets/controls",
            "_view_module_version": "1.5.0",
            "_view_name": "HTMLView",
            "description": "",
            "description_tooltip": null,
            "layout": "IPY_MODEL_7a2b151fb98f43ffb6aa22c3a811b069",
            "placeholder": "​",
            "style": "IPY_MODEL_5e7514d73e31406cb7bf3a338332c7ae",
            "value": "model.safetensors: 100%"
          }
        },
        "cd25b65ce8354e918d61726254b43a62": {
          "model_module": "@jupyter-widgets/controls",
          "model_name": "FloatProgressModel",
          "model_module_version": "1.5.0",
          "state": {
            "_dom_classes": [],
            "_model_module": "@jupyter-widgets/controls",
            "_model_module_version": "1.5.0",
            "_model_name": "FloatProgressModel",
            "_view_count": null,
            "_view_module": "@jupyter-widgets/controls",
            "_view_module_version": "1.5.0",
            "_view_name": "ProgressView",
            "bar_style": "success",
            "description": "",
            "description_tooltip": null,
            "layout": "IPY_MODEL_f5f1b83382a341aa87f3461227e7340e",
            "max": 548105171,
            "min": 0,
            "orientation": "horizontal",
            "style": "IPY_MODEL_63b1f52c19bb4e8481e03d0f7fac57a6",
            "value": 548105171
          }
        },
        "424646b7b4f046ceaf31d72daabb89d3": {
          "model_module": "@jupyter-widgets/controls",
          "model_name": "HTMLModel",
          "model_module_version": "1.5.0",
          "state": {
            "_dom_classes": [],
            "_model_module": "@jupyter-widgets/controls",
            "_model_module_version": "1.5.0",
            "_model_name": "HTMLModel",
            "_view_count": null,
            "_view_module": "@jupyter-widgets/controls",
            "_view_module_version": "1.5.0",
            "_view_name": "HTMLView",
            "description": "",
            "description_tooltip": null,
            "layout": "IPY_MODEL_90b4233473b746cfbd075c62e459d658",
            "placeholder": "​",
            "style": "IPY_MODEL_b58280e2efb64c0ba1509d6bef1c08fa",
            "value": " 548M/548M [00:22&lt;00:00, 34.8MB/s]"
          }
        },
        "69c7531615e24a13962b4a465544d105": {
          "model_module": "@jupyter-widgets/base",
          "model_name": "LayoutModel",
          "model_module_version": "1.2.0",
          "state": {
            "_model_module": "@jupyter-widgets/base",
            "_model_module_version": "1.2.0",
            "_model_name": "LayoutModel",
            "_view_count": null,
            "_view_module": "@jupyter-widgets/base",
            "_view_module_version": "1.2.0",
            "_view_name": "LayoutView",
            "align_content": null,
            "align_items": null,
            "align_self": null,
            "border": null,
            "bottom": null,
            "display": null,
            "flex": null,
            "flex_flow": null,
            "grid_area": null,
            "grid_auto_columns": null,
            "grid_auto_flow": null,
            "grid_auto_rows": null,
            "grid_column": null,
            "grid_gap": null,
            "grid_row": null,
            "grid_template_areas": null,
            "grid_template_columns": null,
            "grid_template_rows": null,
            "height": null,
            "justify_content": null,
            "justify_items": null,
            "left": null,
            "margin": null,
            "max_height": null,
            "max_width": null,
            "min_height": null,
            "min_width": null,
            "object_fit": null,
            "object_position": null,
            "order": null,
            "overflow": null,
            "overflow_x": null,
            "overflow_y": null,
            "padding": null,
            "right": null,
            "top": null,
            "visibility": null,
            "width": null
          }
        },
        "7a2b151fb98f43ffb6aa22c3a811b069": {
          "model_module": "@jupyter-widgets/base",
          "model_name": "LayoutModel",
          "model_module_version": "1.2.0",
          "state": {
            "_model_module": "@jupyter-widgets/base",
            "_model_module_version": "1.2.0",
            "_model_name": "LayoutModel",
            "_view_count": null,
            "_view_module": "@jupyter-widgets/base",
            "_view_module_version": "1.2.0",
            "_view_name": "LayoutView",
            "align_content": null,
            "align_items": null,
            "align_self": null,
            "border": null,
            "bottom": null,
            "display": null,
            "flex": null,
            "flex_flow": null,
            "grid_area": null,
            "grid_auto_columns": null,
            "grid_auto_flow": null,
            "grid_auto_rows": null,
            "grid_column": null,
            "grid_gap": null,
            "grid_row": null,
            "grid_template_areas": null,
            "grid_template_columns": null,
            "grid_template_rows": null,
            "height": null,
            "justify_content": null,
            "justify_items": null,
            "left": null,
            "margin": null,
            "max_height": null,
            "max_width": null,
            "min_height": null,
            "min_width": null,
            "object_fit": null,
            "object_position": null,
            "order": null,
            "overflow": null,
            "overflow_x": null,
            "overflow_y": null,
            "padding": null,
            "right": null,
            "top": null,
            "visibility": null,
            "width": null
          }
        },
        "5e7514d73e31406cb7bf3a338332c7ae": {
          "model_module": "@jupyter-widgets/controls",
          "model_name": "DescriptionStyleModel",
          "model_module_version": "1.5.0",
          "state": {
            "_model_module": "@jupyter-widgets/controls",
            "_model_module_version": "1.5.0",
            "_model_name": "DescriptionStyleModel",
            "_view_count": null,
            "_view_module": "@jupyter-widgets/base",
            "_view_module_version": "1.2.0",
            "_view_name": "StyleView",
            "description_width": ""
          }
        },
        "f5f1b83382a341aa87f3461227e7340e": {
          "model_module": "@jupyter-widgets/base",
          "model_name": "LayoutModel",
          "model_module_version": "1.2.0",
          "state": {
            "_model_module": "@jupyter-widgets/base",
            "_model_module_version": "1.2.0",
            "_model_name": "LayoutModel",
            "_view_count": null,
            "_view_module": "@jupyter-widgets/base",
            "_view_module_version": "1.2.0",
            "_view_name": "LayoutView",
            "align_content": null,
            "align_items": null,
            "align_self": null,
            "border": null,
            "bottom": null,
            "display": null,
            "flex": null,
            "flex_flow": null,
            "grid_area": null,
            "grid_auto_columns": null,
            "grid_auto_flow": null,
            "grid_auto_rows": null,
            "grid_column": null,
            "grid_gap": null,
            "grid_row": null,
            "grid_template_areas": null,
            "grid_template_columns": null,
            "grid_template_rows": null,
            "height": null,
            "justify_content": null,
            "justify_items": null,
            "left": null,
            "margin": null,
            "max_height": null,
            "max_width": null,
            "min_height": null,
            "min_width": null,
            "object_fit": null,
            "object_position": null,
            "order": null,
            "overflow": null,
            "overflow_x": null,
            "overflow_y": null,
            "padding": null,
            "right": null,
            "top": null,
            "visibility": null,
            "width": null
          }
        },
        "63b1f52c19bb4e8481e03d0f7fac57a6": {
          "model_module": "@jupyter-widgets/controls",
          "model_name": "ProgressStyleModel",
          "model_module_version": "1.5.0",
          "state": {
            "_model_module": "@jupyter-widgets/controls",
            "_model_module_version": "1.5.0",
            "_model_name": "ProgressStyleModel",
            "_view_count": null,
            "_view_module": "@jupyter-widgets/base",
            "_view_module_version": "1.2.0",
            "_view_name": "StyleView",
            "bar_color": null,
            "description_width": ""
          }
        },
        "90b4233473b746cfbd075c62e459d658": {
          "model_module": "@jupyter-widgets/base",
          "model_name": "LayoutModel",
          "model_module_version": "1.2.0",
          "state": {
            "_model_module": "@jupyter-widgets/base",
            "_model_module_version": "1.2.0",
            "_model_name": "LayoutModel",
            "_view_count": null,
            "_view_module": "@jupyter-widgets/base",
            "_view_module_version": "1.2.0",
            "_view_name": "LayoutView",
            "align_content": null,
            "align_items": null,
            "align_self": null,
            "border": null,
            "bottom": null,
            "display": null,
            "flex": null,
            "flex_flow": null,
            "grid_area": null,
            "grid_auto_columns": null,
            "grid_auto_flow": null,
            "grid_auto_rows": null,
            "grid_column": null,
            "grid_gap": null,
            "grid_row": null,
            "grid_template_areas": null,
            "grid_template_columns": null,
            "grid_template_rows": null,
            "height": null,
            "justify_content": null,
            "justify_items": null,
            "left": null,
            "margin": null,
            "max_height": null,
            "max_width": null,
            "min_height": null,
            "min_width": null,
            "object_fit": null,
            "object_position": null,
            "order": null,
            "overflow": null,
            "overflow_x": null,
            "overflow_y": null,
            "padding": null,
            "right": null,
            "top": null,
            "visibility": null,
            "width": null
          }
        },
        "b58280e2efb64c0ba1509d6bef1c08fa": {
          "model_module": "@jupyter-widgets/controls",
          "model_name": "DescriptionStyleModel",
          "model_module_version": "1.5.0",
          "state": {
            "_model_module": "@jupyter-widgets/controls",
            "_model_module_version": "1.5.0",
            "_model_name": "DescriptionStyleModel",
            "_view_count": null,
            "_view_module": "@jupyter-widgets/base",
            "_view_module_version": "1.2.0",
            "_view_name": "StyleView",
            "description_width": ""
          }
        },
        "9f0d24d0b6cb4f7bae23464423adbcb4": {
          "model_module": "@jupyter-widgets/controls",
          "model_name": "HBoxModel",
          "model_module_version": "1.5.0",
          "state": {
            "_dom_classes": [],
            "_model_module": "@jupyter-widgets/controls",
            "_model_module_version": "1.5.0",
            "_model_name": "HBoxModel",
            "_view_count": null,
            "_view_module": "@jupyter-widgets/controls",
            "_view_module_version": "1.5.0",
            "_view_name": "HBoxView",
            "box_style": "",
            "children": [
              "IPY_MODEL_0201ded35c414e4cad31299845d9f4de",
              "IPY_MODEL_1fdcf01a72574a8ab75fca06e61029e8",
              "IPY_MODEL_9985213e87e84ab294b1074d724fa267"
            ],
            "layout": "IPY_MODEL_3ef6f8bdc4584c6098e2298e245c204b"
          }
        },
        "0201ded35c414e4cad31299845d9f4de": {
          "model_module": "@jupyter-widgets/controls",
          "model_name": "HTMLModel",
          "model_module_version": "1.5.0",
          "state": {
            "_dom_classes": [],
            "_model_module": "@jupyter-widgets/controls",
            "_model_module_version": "1.5.0",
            "_model_name": "HTMLModel",
            "_view_count": null,
            "_view_module": "@jupyter-widgets/controls",
            "_view_module_version": "1.5.0",
            "_view_name": "HTMLView",
            "description": "",
            "description_tooltip": null,
            "layout": "IPY_MODEL_401ddfc4408e4eb3819df888d6f4aa65",
            "placeholder": "​",
            "style": "IPY_MODEL_a41cc7027ffe4aa68d5bc2a6a670297c",
            "value": "generation_config.json: 100%"
          }
        },
        "1fdcf01a72574a8ab75fca06e61029e8": {
          "model_module": "@jupyter-widgets/controls",
          "model_name": "FloatProgressModel",
          "model_module_version": "1.5.0",
          "state": {
            "_dom_classes": [],
            "_model_module": "@jupyter-widgets/controls",
            "_model_module_version": "1.5.0",
            "_model_name": "FloatProgressModel",
            "_view_count": null,
            "_view_module": "@jupyter-widgets/controls",
            "_view_module_version": "1.5.0",
            "_view_name": "ProgressView",
            "bar_style": "success",
            "description": "",
            "description_tooltip": null,
            "layout": "IPY_MODEL_fcd43c0bdac3400c8a7b6874788e00fe",
            "max": 124,
            "min": 0,
            "orientation": "horizontal",
            "style": "IPY_MODEL_5dacf49ac345474a85a5e3655635be85",
            "value": 124
          }
        },
        "9985213e87e84ab294b1074d724fa267": {
          "model_module": "@jupyter-widgets/controls",
          "model_name": "HTMLModel",
          "model_module_version": "1.5.0",
          "state": {
            "_dom_classes": [],
            "_model_module": "@jupyter-widgets/controls",
            "_model_module_version": "1.5.0",
            "_model_name": "HTMLModel",
            "_view_count": null,
            "_view_module": "@jupyter-widgets/controls",
            "_view_module_version": "1.5.0",
            "_view_name": "HTMLView",
            "description": "",
            "description_tooltip": null,
            "layout": "IPY_MODEL_9d1a3e14eb2c4dd29b87cdedc46c5605",
            "placeholder": "​",
            "style": "IPY_MODEL_bf512198220748faac758f0c5867672b",
            "value": " 124/124 [00:00&lt;00:00, 7.10kB/s]"
          }
        },
        "3ef6f8bdc4584c6098e2298e245c204b": {
          "model_module": "@jupyter-widgets/base",
          "model_name": "LayoutModel",
          "model_module_version": "1.2.0",
          "state": {
            "_model_module": "@jupyter-widgets/base",
            "_model_module_version": "1.2.0",
            "_model_name": "LayoutModel",
            "_view_count": null,
            "_view_module": "@jupyter-widgets/base",
            "_view_module_version": "1.2.0",
            "_view_name": "LayoutView",
            "align_content": null,
            "align_items": null,
            "align_self": null,
            "border": null,
            "bottom": null,
            "display": null,
            "flex": null,
            "flex_flow": null,
            "grid_area": null,
            "grid_auto_columns": null,
            "grid_auto_flow": null,
            "grid_auto_rows": null,
            "grid_column": null,
            "grid_gap": null,
            "grid_row": null,
            "grid_template_areas": null,
            "grid_template_columns": null,
            "grid_template_rows": null,
            "height": null,
            "justify_content": null,
            "justify_items": null,
            "left": null,
            "margin": null,
            "max_height": null,
            "max_width": null,
            "min_height": null,
            "min_width": null,
            "object_fit": null,
            "object_position": null,
            "order": null,
            "overflow": null,
            "overflow_x": null,
            "overflow_y": null,
            "padding": null,
            "right": null,
            "top": null,
            "visibility": null,
            "width": null
          }
        },
        "401ddfc4408e4eb3819df888d6f4aa65": {
          "model_module": "@jupyter-widgets/base",
          "model_name": "LayoutModel",
          "model_module_version": "1.2.0",
          "state": {
            "_model_module": "@jupyter-widgets/base",
            "_model_module_version": "1.2.0",
            "_model_name": "LayoutModel",
            "_view_count": null,
            "_view_module": "@jupyter-widgets/base",
            "_view_module_version": "1.2.0",
            "_view_name": "LayoutView",
            "align_content": null,
            "align_items": null,
            "align_self": null,
            "border": null,
            "bottom": null,
            "display": null,
            "flex": null,
            "flex_flow": null,
            "grid_area": null,
            "grid_auto_columns": null,
            "grid_auto_flow": null,
            "grid_auto_rows": null,
            "grid_column": null,
            "grid_gap": null,
            "grid_row": null,
            "grid_template_areas": null,
            "grid_template_columns": null,
            "grid_template_rows": null,
            "height": null,
            "justify_content": null,
            "justify_items": null,
            "left": null,
            "margin": null,
            "max_height": null,
            "max_width": null,
            "min_height": null,
            "min_width": null,
            "object_fit": null,
            "object_position": null,
            "order": null,
            "overflow": null,
            "overflow_x": null,
            "overflow_y": null,
            "padding": null,
            "right": null,
            "top": null,
            "visibility": null,
            "width": null
          }
        },
        "a41cc7027ffe4aa68d5bc2a6a670297c": {
          "model_module": "@jupyter-widgets/controls",
          "model_name": "DescriptionStyleModel",
          "model_module_version": "1.5.0",
          "state": {
            "_model_module": "@jupyter-widgets/controls",
            "_model_module_version": "1.5.0",
            "_model_name": "DescriptionStyleModel",
            "_view_count": null,
            "_view_module": "@jupyter-widgets/base",
            "_view_module_version": "1.2.0",
            "_view_name": "StyleView",
            "description_width": ""
          }
        },
        "fcd43c0bdac3400c8a7b6874788e00fe": {
          "model_module": "@jupyter-widgets/base",
          "model_name": "LayoutModel",
          "model_module_version": "1.2.0",
          "state": {
            "_model_module": "@jupyter-widgets/base",
            "_model_module_version": "1.2.0",
            "_model_name": "LayoutModel",
            "_view_count": null,
            "_view_module": "@jupyter-widgets/base",
            "_view_module_version": "1.2.0",
            "_view_name": "LayoutView",
            "align_content": null,
            "align_items": null,
            "align_self": null,
            "border": null,
            "bottom": null,
            "display": null,
            "flex": null,
            "flex_flow": null,
            "grid_area": null,
            "grid_auto_columns": null,
            "grid_auto_flow": null,
            "grid_auto_rows": null,
            "grid_column": null,
            "grid_gap": null,
            "grid_row": null,
            "grid_template_areas": null,
            "grid_template_columns": null,
            "grid_template_rows": null,
            "height": null,
            "justify_content": null,
            "justify_items": null,
            "left": null,
            "margin": null,
            "max_height": null,
            "max_width": null,
            "min_height": null,
            "min_width": null,
            "object_fit": null,
            "object_position": null,
            "order": null,
            "overflow": null,
            "overflow_x": null,
            "overflow_y": null,
            "padding": null,
            "right": null,
            "top": null,
            "visibility": null,
            "width": null
          }
        },
        "5dacf49ac345474a85a5e3655635be85": {
          "model_module": "@jupyter-widgets/controls",
          "model_name": "ProgressStyleModel",
          "model_module_version": "1.5.0",
          "state": {
            "_model_module": "@jupyter-widgets/controls",
            "_model_module_version": "1.5.0",
            "_model_name": "ProgressStyleModel",
            "_view_count": null,
            "_view_module": "@jupyter-widgets/base",
            "_view_module_version": "1.2.0",
            "_view_name": "StyleView",
            "bar_color": null,
            "description_width": ""
          }
        },
        "9d1a3e14eb2c4dd29b87cdedc46c5605": {
          "model_module": "@jupyter-widgets/base",
          "model_name": "LayoutModel",
          "model_module_version": "1.2.0",
          "state": {
            "_model_module": "@jupyter-widgets/base",
            "_model_module_version": "1.2.0",
            "_model_name": "LayoutModel",
            "_view_count": null,
            "_view_module": "@jupyter-widgets/base",
            "_view_module_version": "1.2.0",
            "_view_name": "LayoutView",
            "align_content": null,
            "align_items": null,
            "align_self": null,
            "border": null,
            "bottom": null,
            "display": null,
            "flex": null,
            "flex_flow": null,
            "grid_area": null,
            "grid_auto_columns": null,
            "grid_auto_flow": null,
            "grid_auto_rows": null,
            "grid_column": null,
            "grid_gap": null,
            "grid_row": null,
            "grid_template_areas": null,
            "grid_template_columns": null,
            "grid_template_rows": null,
            "height": null,
            "justify_content": null,
            "justify_items": null,
            "left": null,
            "margin": null,
            "max_height": null,
            "max_width": null,
            "min_height": null,
            "min_width": null,
            "object_fit": null,
            "object_position": null,
            "order": null,
            "overflow": null,
            "overflow_x": null,
            "overflow_y": null,
            "padding": null,
            "right": null,
            "top": null,
            "visibility": null,
            "width": null
          }
        },
        "bf512198220748faac758f0c5867672b": {
          "model_module": "@jupyter-widgets/controls",
          "model_name": "DescriptionStyleModel",
          "model_module_version": "1.5.0",
          "state": {
            "_model_module": "@jupyter-widgets/controls",
            "_model_module_version": "1.5.0",
            "_model_name": "DescriptionStyleModel",
            "_view_count": null,
            "_view_module": "@jupyter-widgets/base",
            "_view_module_version": "1.2.0",
            "_view_name": "StyleView",
            "description_width": ""
          }
        },
        "4f3c468581154da1b97a2bcb3c0510f7": {
          "model_module": "@jupyter-widgets/controls",
          "model_name": "HBoxModel",
          "model_module_version": "1.5.0",
          "state": {
            "_dom_classes": [],
            "_model_module": "@jupyter-widgets/controls",
            "_model_module_version": "1.5.0",
            "_model_name": "HBoxModel",
            "_view_count": null,
            "_view_module": "@jupyter-widgets/controls",
            "_view_module_version": "1.5.0",
            "_view_name": "HBoxView",
            "box_style": "",
            "children": [
              "IPY_MODEL_f320e031bd0046479e62c7c011ff14af",
              "IPY_MODEL_07fff3bf60f04c8dab7f94e79d0dd243",
              "IPY_MODEL_832cf01fec104539a4fa64840a1fa13a"
            ],
            "layout": "IPY_MODEL_129edd881c0c425b9e787d06f1824425"
          }
        },
        "f320e031bd0046479e62c7c011ff14af": {
          "model_module": "@jupyter-widgets/controls",
          "model_name": "HTMLModel",
          "model_module_version": "1.5.0",
          "state": {
            "_dom_classes": [],
            "_model_module": "@jupyter-widgets/controls",
            "_model_module_version": "1.5.0",
            "_model_name": "HTMLModel",
            "_view_count": null,
            "_view_module": "@jupyter-widgets/controls",
            "_view_module_version": "1.5.0",
            "_view_name": "HTMLView",
            "description": "",
            "description_tooltip": null,
            "layout": "IPY_MODEL_9b15cef359f34020ba8705fff66bb1d3",
            "placeholder": "​",
            "style": "IPY_MODEL_bc6751a0facc49c68aff6559753cdeb3",
            "value": "tokenizer_config.json: 100%"
          }
        },
        "07fff3bf60f04c8dab7f94e79d0dd243": {
          "model_module": "@jupyter-widgets/controls",
          "model_name": "FloatProgressModel",
          "model_module_version": "1.5.0",
          "state": {
            "_dom_classes": [],
            "_model_module": "@jupyter-widgets/controls",
            "_model_module_version": "1.5.0",
            "_model_name": "FloatProgressModel",
            "_view_count": null,
            "_view_module": "@jupyter-widgets/controls",
            "_view_module_version": "1.5.0",
            "_view_name": "ProgressView",
            "bar_style": "success",
            "description": "",
            "description_tooltip": null,
            "layout": "IPY_MODEL_94df94c330d04f02a7e570a680995af9",
            "max": 26,
            "min": 0,
            "orientation": "horizontal",
            "style": "IPY_MODEL_77be699474b04ddf82cec8b721723e6a",
            "value": 26
          }
        },
        "832cf01fec104539a4fa64840a1fa13a": {
          "model_module": "@jupyter-widgets/controls",
          "model_name": "HTMLModel",
          "model_module_version": "1.5.0",
          "state": {
            "_dom_classes": [],
            "_model_module": "@jupyter-widgets/controls",
            "_model_module_version": "1.5.0",
            "_model_name": "HTMLModel",
            "_view_count": null,
            "_view_module": "@jupyter-widgets/controls",
            "_view_module_version": "1.5.0",
            "_view_name": "HTMLView",
            "description": "",
            "description_tooltip": null,
            "layout": "IPY_MODEL_afb810266592412c991076485f850318",
            "placeholder": "​",
            "style": "IPY_MODEL_a057eb61ce9d4873a1bfcedc33cf8c90",
            "value": " 26.0/26.0 [00:00&lt;00:00, 1.18kB/s]"
          }
        },
        "129edd881c0c425b9e787d06f1824425": {
          "model_module": "@jupyter-widgets/base",
          "model_name": "LayoutModel",
          "model_module_version": "1.2.0",
          "state": {
            "_model_module": "@jupyter-widgets/base",
            "_model_module_version": "1.2.0",
            "_model_name": "LayoutModel",
            "_view_count": null,
            "_view_module": "@jupyter-widgets/base",
            "_view_module_version": "1.2.0",
            "_view_name": "LayoutView",
            "align_content": null,
            "align_items": null,
            "align_self": null,
            "border": null,
            "bottom": null,
            "display": null,
            "flex": null,
            "flex_flow": null,
            "grid_area": null,
            "grid_auto_columns": null,
            "grid_auto_flow": null,
            "grid_auto_rows": null,
            "grid_column": null,
            "grid_gap": null,
            "grid_row": null,
            "grid_template_areas": null,
            "grid_template_columns": null,
            "grid_template_rows": null,
            "height": null,
            "justify_content": null,
            "justify_items": null,
            "left": null,
            "margin": null,
            "max_height": null,
            "max_width": null,
            "min_height": null,
            "min_width": null,
            "object_fit": null,
            "object_position": null,
            "order": null,
            "overflow": null,
            "overflow_x": null,
            "overflow_y": null,
            "padding": null,
            "right": null,
            "top": null,
            "visibility": null,
            "width": null
          }
        },
        "9b15cef359f34020ba8705fff66bb1d3": {
          "model_module": "@jupyter-widgets/base",
          "model_name": "LayoutModel",
          "model_module_version": "1.2.0",
          "state": {
            "_model_module": "@jupyter-widgets/base",
            "_model_module_version": "1.2.0",
            "_model_name": "LayoutModel",
            "_view_count": null,
            "_view_module": "@jupyter-widgets/base",
            "_view_module_version": "1.2.0",
            "_view_name": "LayoutView",
            "align_content": null,
            "align_items": null,
            "align_self": null,
            "border": null,
            "bottom": null,
            "display": null,
            "flex": null,
            "flex_flow": null,
            "grid_area": null,
            "grid_auto_columns": null,
            "grid_auto_flow": null,
            "grid_auto_rows": null,
            "grid_column": null,
            "grid_gap": null,
            "grid_row": null,
            "grid_template_areas": null,
            "grid_template_columns": null,
            "grid_template_rows": null,
            "height": null,
            "justify_content": null,
            "justify_items": null,
            "left": null,
            "margin": null,
            "max_height": null,
            "max_width": null,
            "min_height": null,
            "min_width": null,
            "object_fit": null,
            "object_position": null,
            "order": null,
            "overflow": null,
            "overflow_x": null,
            "overflow_y": null,
            "padding": null,
            "right": null,
            "top": null,
            "visibility": null,
            "width": null
          }
        },
        "bc6751a0facc49c68aff6559753cdeb3": {
          "model_module": "@jupyter-widgets/controls",
          "model_name": "DescriptionStyleModel",
          "model_module_version": "1.5.0",
          "state": {
            "_model_module": "@jupyter-widgets/controls",
            "_model_module_version": "1.5.0",
            "_model_name": "DescriptionStyleModel",
            "_view_count": null,
            "_view_module": "@jupyter-widgets/base",
            "_view_module_version": "1.2.0",
            "_view_name": "StyleView",
            "description_width": ""
          }
        },
        "94df94c330d04f02a7e570a680995af9": {
          "model_module": "@jupyter-widgets/base",
          "model_name": "LayoutModel",
          "model_module_version": "1.2.0",
          "state": {
            "_model_module": "@jupyter-widgets/base",
            "_model_module_version": "1.2.0",
            "_model_name": "LayoutModel",
            "_view_count": null,
            "_view_module": "@jupyter-widgets/base",
            "_view_module_version": "1.2.0",
            "_view_name": "LayoutView",
            "align_content": null,
            "align_items": null,
            "align_self": null,
            "border": null,
            "bottom": null,
            "display": null,
            "flex": null,
            "flex_flow": null,
            "grid_area": null,
            "grid_auto_columns": null,
            "grid_auto_flow": null,
            "grid_auto_rows": null,
            "grid_column": null,
            "grid_gap": null,
            "grid_row": null,
            "grid_template_areas": null,
            "grid_template_columns": null,
            "grid_template_rows": null,
            "height": null,
            "justify_content": null,
            "justify_items": null,
            "left": null,
            "margin": null,
            "max_height": null,
            "max_width": null,
            "min_height": null,
            "min_width": null,
            "object_fit": null,
            "object_position": null,
            "order": null,
            "overflow": null,
            "overflow_x": null,
            "overflow_y": null,
            "padding": null,
            "right": null,
            "top": null,
            "visibility": null,
            "width": null
          }
        },
        "77be699474b04ddf82cec8b721723e6a": {
          "model_module": "@jupyter-widgets/controls",
          "model_name": "ProgressStyleModel",
          "model_module_version": "1.5.0",
          "state": {
            "_model_module": "@jupyter-widgets/controls",
            "_model_module_version": "1.5.0",
            "_model_name": "ProgressStyleModel",
            "_view_count": null,
            "_view_module": "@jupyter-widgets/base",
            "_view_module_version": "1.2.0",
            "_view_name": "StyleView",
            "bar_color": null,
            "description_width": ""
          }
        },
        "afb810266592412c991076485f850318": {
          "model_module": "@jupyter-widgets/base",
          "model_name": "LayoutModel",
          "model_module_version": "1.2.0",
          "state": {
            "_model_module": "@jupyter-widgets/base",
            "_model_module_version": "1.2.0",
            "_model_name": "LayoutModel",
            "_view_count": null,
            "_view_module": "@jupyter-widgets/base",
            "_view_module_version": "1.2.0",
            "_view_name": "LayoutView",
            "align_content": null,
            "align_items": null,
            "align_self": null,
            "border": null,
            "bottom": null,
            "display": null,
            "flex": null,
            "flex_flow": null,
            "grid_area": null,
            "grid_auto_columns": null,
            "grid_auto_flow": null,
            "grid_auto_rows": null,
            "grid_column": null,
            "grid_gap": null,
            "grid_row": null,
            "grid_template_areas": null,
            "grid_template_columns": null,
            "grid_template_rows": null,
            "height": null,
            "justify_content": null,
            "justify_items": null,
            "left": null,
            "margin": null,
            "max_height": null,
            "max_width": null,
            "min_height": null,
            "min_width": null,
            "object_fit": null,
            "object_position": null,
            "order": null,
            "overflow": null,
            "overflow_x": null,
            "overflow_y": null,
            "padding": null,
            "right": null,
            "top": null,
            "visibility": null,
            "width": null
          }
        },
        "a057eb61ce9d4873a1bfcedc33cf8c90": {
          "model_module": "@jupyter-widgets/controls",
          "model_name": "DescriptionStyleModel",
          "model_module_version": "1.5.0",
          "state": {
            "_model_module": "@jupyter-widgets/controls",
            "_model_module_version": "1.5.0",
            "_model_name": "DescriptionStyleModel",
            "_view_count": null,
            "_view_module": "@jupyter-widgets/base",
            "_view_module_version": "1.2.0",
            "_view_name": "StyleView",
            "description_width": ""
          }
        },
        "66390530245b4f779b26d4d8ba60d7cd": {
          "model_module": "@jupyter-widgets/controls",
          "model_name": "HBoxModel",
          "model_module_version": "1.5.0",
          "state": {
            "_dom_classes": [],
            "_model_module": "@jupyter-widgets/controls",
            "_model_module_version": "1.5.0",
            "_model_name": "HBoxModel",
            "_view_count": null,
            "_view_module": "@jupyter-widgets/controls",
            "_view_module_version": "1.5.0",
            "_view_name": "HBoxView",
            "box_style": "",
            "children": [
              "IPY_MODEL_2de7e2871eed44779edf7515d3559558",
              "IPY_MODEL_0d14d0feca5e41e9824535ef3a89b435",
              "IPY_MODEL_cb7e7fc1748c482f94bd1184245a921b"
            ],
            "layout": "IPY_MODEL_29804d3a848a4865913006a94a930995"
          }
        },
        "2de7e2871eed44779edf7515d3559558": {
          "model_module": "@jupyter-widgets/controls",
          "model_name": "HTMLModel",
          "model_module_version": "1.5.0",
          "state": {
            "_dom_classes": [],
            "_model_module": "@jupyter-widgets/controls",
            "_model_module_version": "1.5.0",
            "_model_name": "HTMLModel",
            "_view_count": null,
            "_view_module": "@jupyter-widgets/controls",
            "_view_module_version": "1.5.0",
            "_view_name": "HTMLView",
            "description": "",
            "description_tooltip": null,
            "layout": "IPY_MODEL_c054b97751474cfc824f8ce97f4cd832",
            "placeholder": "​",
            "style": "IPY_MODEL_d2a0e4f325d44d98be52233971c82b49",
            "value": "vocab.json: 100%"
          }
        },
        "0d14d0feca5e41e9824535ef3a89b435": {
          "model_module": "@jupyter-widgets/controls",
          "model_name": "FloatProgressModel",
          "model_module_version": "1.5.0",
          "state": {
            "_dom_classes": [],
            "_model_module": "@jupyter-widgets/controls",
            "_model_module_version": "1.5.0",
            "_model_name": "FloatProgressModel",
            "_view_count": null,
            "_view_module": "@jupyter-widgets/controls",
            "_view_module_version": "1.5.0",
            "_view_name": "ProgressView",
            "bar_style": "success",
            "description": "",
            "description_tooltip": null,
            "layout": "IPY_MODEL_71357512d50d4db2a5f65e9612e49164",
            "max": 1042301,
            "min": 0,
            "orientation": "horizontal",
            "style": "IPY_MODEL_8a979839edc540c397cef10b1efa03a7",
            "value": 1042301
          }
        },
        "cb7e7fc1748c482f94bd1184245a921b": {
          "model_module": "@jupyter-widgets/controls",
          "model_name": "HTMLModel",
          "model_module_version": "1.5.0",
          "state": {
            "_dom_classes": [],
            "_model_module": "@jupyter-widgets/controls",
            "_model_module_version": "1.5.0",
            "_model_name": "HTMLModel",
            "_view_count": null,
            "_view_module": "@jupyter-widgets/controls",
            "_view_module_version": "1.5.0",
            "_view_name": "HTMLView",
            "description": "",
            "description_tooltip": null,
            "layout": "IPY_MODEL_f91ab62bd7a6475b8137533eb6fa0692",
            "placeholder": "​",
            "style": "IPY_MODEL_55039691d120453ba7433839026d5cce",
            "value": " 1.04M/1.04M [00:00&lt;00:00, 7.70MB/s]"
          }
        },
        "29804d3a848a4865913006a94a930995": {
          "model_module": "@jupyter-widgets/base",
          "model_name": "LayoutModel",
          "model_module_version": "1.2.0",
          "state": {
            "_model_module": "@jupyter-widgets/base",
            "_model_module_version": "1.2.0",
            "_model_name": "LayoutModel",
            "_view_count": null,
            "_view_module": "@jupyter-widgets/base",
            "_view_module_version": "1.2.0",
            "_view_name": "LayoutView",
            "align_content": null,
            "align_items": null,
            "align_self": null,
            "border": null,
            "bottom": null,
            "display": null,
            "flex": null,
            "flex_flow": null,
            "grid_area": null,
            "grid_auto_columns": null,
            "grid_auto_flow": null,
            "grid_auto_rows": null,
            "grid_column": null,
            "grid_gap": null,
            "grid_row": null,
            "grid_template_areas": null,
            "grid_template_columns": null,
            "grid_template_rows": null,
            "height": null,
            "justify_content": null,
            "justify_items": null,
            "left": null,
            "margin": null,
            "max_height": null,
            "max_width": null,
            "min_height": null,
            "min_width": null,
            "object_fit": null,
            "object_position": null,
            "order": null,
            "overflow": null,
            "overflow_x": null,
            "overflow_y": null,
            "padding": null,
            "right": null,
            "top": null,
            "visibility": null,
            "width": null
          }
        },
        "c054b97751474cfc824f8ce97f4cd832": {
          "model_module": "@jupyter-widgets/base",
          "model_name": "LayoutModel",
          "model_module_version": "1.2.0",
          "state": {
            "_model_module": "@jupyter-widgets/base",
            "_model_module_version": "1.2.0",
            "_model_name": "LayoutModel",
            "_view_count": null,
            "_view_module": "@jupyter-widgets/base",
            "_view_module_version": "1.2.0",
            "_view_name": "LayoutView",
            "align_content": null,
            "align_items": null,
            "align_self": null,
            "border": null,
            "bottom": null,
            "display": null,
            "flex": null,
            "flex_flow": null,
            "grid_area": null,
            "grid_auto_columns": null,
            "grid_auto_flow": null,
            "grid_auto_rows": null,
            "grid_column": null,
            "grid_gap": null,
            "grid_row": null,
            "grid_template_areas": null,
            "grid_template_columns": null,
            "grid_template_rows": null,
            "height": null,
            "justify_content": null,
            "justify_items": null,
            "left": null,
            "margin": null,
            "max_height": null,
            "max_width": null,
            "min_height": null,
            "min_width": null,
            "object_fit": null,
            "object_position": null,
            "order": null,
            "overflow": null,
            "overflow_x": null,
            "overflow_y": null,
            "padding": null,
            "right": null,
            "top": null,
            "visibility": null,
            "width": null
          }
        },
        "d2a0e4f325d44d98be52233971c82b49": {
          "model_module": "@jupyter-widgets/controls",
          "model_name": "DescriptionStyleModel",
          "model_module_version": "1.5.0",
          "state": {
            "_model_module": "@jupyter-widgets/controls",
            "_model_module_version": "1.5.0",
            "_model_name": "DescriptionStyleModel",
            "_view_count": null,
            "_view_module": "@jupyter-widgets/base",
            "_view_module_version": "1.2.0",
            "_view_name": "StyleView",
            "description_width": ""
          }
        },
        "71357512d50d4db2a5f65e9612e49164": {
          "model_module": "@jupyter-widgets/base",
          "model_name": "LayoutModel",
          "model_module_version": "1.2.0",
          "state": {
            "_model_module": "@jupyter-widgets/base",
            "_model_module_version": "1.2.0",
            "_model_name": "LayoutModel",
            "_view_count": null,
            "_view_module": "@jupyter-widgets/base",
            "_view_module_version": "1.2.0",
            "_view_name": "LayoutView",
            "align_content": null,
            "align_items": null,
            "align_self": null,
            "border": null,
            "bottom": null,
            "display": null,
            "flex": null,
            "flex_flow": null,
            "grid_area": null,
            "grid_auto_columns": null,
            "grid_auto_flow": null,
            "grid_auto_rows": null,
            "grid_column": null,
            "grid_gap": null,
            "grid_row": null,
            "grid_template_areas": null,
            "grid_template_columns": null,
            "grid_template_rows": null,
            "height": null,
            "justify_content": null,
            "justify_items": null,
            "left": null,
            "margin": null,
            "max_height": null,
            "max_width": null,
            "min_height": null,
            "min_width": null,
            "object_fit": null,
            "object_position": null,
            "order": null,
            "overflow": null,
            "overflow_x": null,
            "overflow_y": null,
            "padding": null,
            "right": null,
            "top": null,
            "visibility": null,
            "width": null
          }
        },
        "8a979839edc540c397cef10b1efa03a7": {
          "model_module": "@jupyter-widgets/controls",
          "model_name": "ProgressStyleModel",
          "model_module_version": "1.5.0",
          "state": {
            "_model_module": "@jupyter-widgets/controls",
            "_model_module_version": "1.5.0",
            "_model_name": "ProgressStyleModel",
            "_view_count": null,
            "_view_module": "@jupyter-widgets/base",
            "_view_module_version": "1.2.0",
            "_view_name": "StyleView",
            "bar_color": null,
            "description_width": ""
          }
        },
        "f91ab62bd7a6475b8137533eb6fa0692": {
          "model_module": "@jupyter-widgets/base",
          "model_name": "LayoutModel",
          "model_module_version": "1.2.0",
          "state": {
            "_model_module": "@jupyter-widgets/base",
            "_model_module_version": "1.2.0",
            "_model_name": "LayoutModel",
            "_view_count": null,
            "_view_module": "@jupyter-widgets/base",
            "_view_module_version": "1.2.0",
            "_view_name": "LayoutView",
            "align_content": null,
            "align_items": null,
            "align_self": null,
            "border": null,
            "bottom": null,
            "display": null,
            "flex": null,
            "flex_flow": null,
            "grid_area": null,
            "grid_auto_columns": null,
            "grid_auto_flow": null,
            "grid_auto_rows": null,
            "grid_column": null,
            "grid_gap": null,
            "grid_row": null,
            "grid_template_areas": null,
            "grid_template_columns": null,
            "grid_template_rows": null,
            "height": null,
            "justify_content": null,
            "justify_items": null,
            "left": null,
            "margin": null,
            "max_height": null,
            "max_width": null,
            "min_height": null,
            "min_width": null,
            "object_fit": null,
            "object_position": null,
            "order": null,
            "overflow": null,
            "overflow_x": null,
            "overflow_y": null,
            "padding": null,
            "right": null,
            "top": null,
            "visibility": null,
            "width": null
          }
        },
        "55039691d120453ba7433839026d5cce": {
          "model_module": "@jupyter-widgets/controls",
          "model_name": "DescriptionStyleModel",
          "model_module_version": "1.5.0",
          "state": {
            "_model_module": "@jupyter-widgets/controls",
            "_model_module_version": "1.5.0",
            "_model_name": "DescriptionStyleModel",
            "_view_count": null,
            "_view_module": "@jupyter-widgets/base",
            "_view_module_version": "1.2.0",
            "_view_name": "StyleView",
            "description_width": ""
          }
        },
        "a41a1843ace547d6bfc2808ae72d921c": {
          "model_module": "@jupyter-widgets/controls",
          "model_name": "HBoxModel",
          "model_module_version": "1.5.0",
          "state": {
            "_dom_classes": [],
            "_model_module": "@jupyter-widgets/controls",
            "_model_module_version": "1.5.0",
            "_model_name": "HBoxModel",
            "_view_count": null,
            "_view_module": "@jupyter-widgets/controls",
            "_view_module_version": "1.5.0",
            "_view_name": "HBoxView",
            "box_style": "",
            "children": [
              "IPY_MODEL_0adf78420bc04a3da002b9332c3d8af9",
              "IPY_MODEL_661dcb813078410b87e651a3406f0397",
              "IPY_MODEL_d9815653ee7d43e3a613995affa903c8"
            ],
            "layout": "IPY_MODEL_f154ca20ae9c409797822ac82f56a32c"
          }
        },
        "0adf78420bc04a3da002b9332c3d8af9": {
          "model_module": "@jupyter-widgets/controls",
          "model_name": "HTMLModel",
          "model_module_version": "1.5.0",
          "state": {
            "_dom_classes": [],
            "_model_module": "@jupyter-widgets/controls",
            "_model_module_version": "1.5.0",
            "_model_name": "HTMLModel",
            "_view_count": null,
            "_view_module": "@jupyter-widgets/controls",
            "_view_module_version": "1.5.0",
            "_view_name": "HTMLView",
            "description": "",
            "description_tooltip": null,
            "layout": "IPY_MODEL_34a8005457c54be2aaf2adb3f0b34fdb",
            "placeholder": "​",
            "style": "IPY_MODEL_331ff989163549f58a8d6214e24856a9",
            "value": "merges.txt: 100%"
          }
        },
        "661dcb813078410b87e651a3406f0397": {
          "model_module": "@jupyter-widgets/controls",
          "model_name": "FloatProgressModel",
          "model_module_version": "1.5.0",
          "state": {
            "_dom_classes": [],
            "_model_module": "@jupyter-widgets/controls",
            "_model_module_version": "1.5.0",
            "_model_name": "FloatProgressModel",
            "_view_count": null,
            "_view_module": "@jupyter-widgets/controls",
            "_view_module_version": "1.5.0",
            "_view_name": "ProgressView",
            "bar_style": "success",
            "description": "",
            "description_tooltip": null,
            "layout": "IPY_MODEL_12230fa88fc84100acf679a8ddc35f39",
            "max": 456318,
            "min": 0,
            "orientation": "horizontal",
            "style": "IPY_MODEL_3ec85c7ee0a541d990068c533c6dc429",
            "value": 456318
          }
        },
        "d9815653ee7d43e3a613995affa903c8": {
          "model_module": "@jupyter-widgets/controls",
          "model_name": "HTMLModel",
          "model_module_version": "1.5.0",
          "state": {
            "_dom_classes": [],
            "_model_module": "@jupyter-widgets/controls",
            "_model_module_version": "1.5.0",
            "_model_name": "HTMLModel",
            "_view_count": null,
            "_view_module": "@jupyter-widgets/controls",
            "_view_module_version": "1.5.0",
            "_view_name": "HTMLView",
            "description": "",
            "description_tooltip": null,
            "layout": "IPY_MODEL_cfabf96ebbdb49e9a9773eee7fbe4ae2",
            "placeholder": "​",
            "style": "IPY_MODEL_036a5db2258e468f838a5ed32aacab0c",
            "value": " 456k/456k [00:00&lt;00:00, 11.6MB/s]"
          }
        },
        "f154ca20ae9c409797822ac82f56a32c": {
          "model_module": "@jupyter-widgets/base",
          "model_name": "LayoutModel",
          "model_module_version": "1.2.0",
          "state": {
            "_model_module": "@jupyter-widgets/base",
            "_model_module_version": "1.2.0",
            "_model_name": "LayoutModel",
            "_view_count": null,
            "_view_module": "@jupyter-widgets/base",
            "_view_module_version": "1.2.0",
            "_view_name": "LayoutView",
            "align_content": null,
            "align_items": null,
            "align_self": null,
            "border": null,
            "bottom": null,
            "display": null,
            "flex": null,
            "flex_flow": null,
            "grid_area": null,
            "grid_auto_columns": null,
            "grid_auto_flow": null,
            "grid_auto_rows": null,
            "grid_column": null,
            "grid_gap": null,
            "grid_row": null,
            "grid_template_areas": null,
            "grid_template_columns": null,
            "grid_template_rows": null,
            "height": null,
            "justify_content": null,
            "justify_items": null,
            "left": null,
            "margin": null,
            "max_height": null,
            "max_width": null,
            "min_height": null,
            "min_width": null,
            "object_fit": null,
            "object_position": null,
            "order": null,
            "overflow": null,
            "overflow_x": null,
            "overflow_y": null,
            "padding": null,
            "right": null,
            "top": null,
            "visibility": null,
            "width": null
          }
        },
        "34a8005457c54be2aaf2adb3f0b34fdb": {
          "model_module": "@jupyter-widgets/base",
          "model_name": "LayoutModel",
          "model_module_version": "1.2.0",
          "state": {
            "_model_module": "@jupyter-widgets/base",
            "_model_module_version": "1.2.0",
            "_model_name": "LayoutModel",
            "_view_count": null,
            "_view_module": "@jupyter-widgets/base",
            "_view_module_version": "1.2.0",
            "_view_name": "LayoutView",
            "align_content": null,
            "align_items": null,
            "align_self": null,
            "border": null,
            "bottom": null,
            "display": null,
            "flex": null,
            "flex_flow": null,
            "grid_area": null,
            "grid_auto_columns": null,
            "grid_auto_flow": null,
            "grid_auto_rows": null,
            "grid_column": null,
            "grid_gap": null,
            "grid_row": null,
            "grid_template_areas": null,
            "grid_template_columns": null,
            "grid_template_rows": null,
            "height": null,
            "justify_content": null,
            "justify_items": null,
            "left": null,
            "margin": null,
            "max_height": null,
            "max_width": null,
            "min_height": null,
            "min_width": null,
            "object_fit": null,
            "object_position": null,
            "order": null,
            "overflow": null,
            "overflow_x": null,
            "overflow_y": null,
            "padding": null,
            "right": null,
            "top": null,
            "visibility": null,
            "width": null
          }
        },
        "331ff989163549f58a8d6214e24856a9": {
          "model_module": "@jupyter-widgets/controls",
          "model_name": "DescriptionStyleModel",
          "model_module_version": "1.5.0",
          "state": {
            "_model_module": "@jupyter-widgets/controls",
            "_model_module_version": "1.5.0",
            "_model_name": "DescriptionStyleModel",
            "_view_count": null,
            "_view_module": "@jupyter-widgets/base",
            "_view_module_version": "1.2.0",
            "_view_name": "StyleView",
            "description_width": ""
          }
        },
        "12230fa88fc84100acf679a8ddc35f39": {
          "model_module": "@jupyter-widgets/base",
          "model_name": "LayoutModel",
          "model_module_version": "1.2.0",
          "state": {
            "_model_module": "@jupyter-widgets/base",
            "_model_module_version": "1.2.0",
            "_model_name": "LayoutModel",
            "_view_count": null,
            "_view_module": "@jupyter-widgets/base",
            "_view_module_version": "1.2.0",
            "_view_name": "LayoutView",
            "align_content": null,
            "align_items": null,
            "align_self": null,
            "border": null,
            "bottom": null,
            "display": null,
            "flex": null,
            "flex_flow": null,
            "grid_area": null,
            "grid_auto_columns": null,
            "grid_auto_flow": null,
            "grid_auto_rows": null,
            "grid_column": null,
            "grid_gap": null,
            "grid_row": null,
            "grid_template_areas": null,
            "grid_template_columns": null,
            "grid_template_rows": null,
            "height": null,
            "justify_content": null,
            "justify_items": null,
            "left": null,
            "margin": null,
            "max_height": null,
            "max_width": null,
            "min_height": null,
            "min_width": null,
            "object_fit": null,
            "object_position": null,
            "order": null,
            "overflow": null,
            "overflow_x": null,
            "overflow_y": null,
            "padding": null,
            "right": null,
            "top": null,
            "visibility": null,
            "width": null
          }
        },
        "3ec85c7ee0a541d990068c533c6dc429": {
          "model_module": "@jupyter-widgets/controls",
          "model_name": "ProgressStyleModel",
          "model_module_version": "1.5.0",
          "state": {
            "_model_module": "@jupyter-widgets/controls",
            "_model_module_version": "1.5.0",
            "_model_name": "ProgressStyleModel",
            "_view_count": null,
            "_view_module": "@jupyter-widgets/base",
            "_view_module_version": "1.2.0",
            "_view_name": "StyleView",
            "bar_color": null,
            "description_width": ""
          }
        },
        "cfabf96ebbdb49e9a9773eee7fbe4ae2": {
          "model_module": "@jupyter-widgets/base",
          "model_name": "LayoutModel",
          "model_module_version": "1.2.0",
          "state": {
            "_model_module": "@jupyter-widgets/base",
            "_model_module_version": "1.2.0",
            "_model_name": "LayoutModel",
            "_view_count": null,
            "_view_module": "@jupyter-widgets/base",
            "_view_module_version": "1.2.0",
            "_view_name": "LayoutView",
            "align_content": null,
            "align_items": null,
            "align_self": null,
            "border": null,
            "bottom": null,
            "display": null,
            "flex": null,
            "flex_flow": null,
            "grid_area": null,
            "grid_auto_columns": null,
            "grid_auto_flow": null,
            "grid_auto_rows": null,
            "grid_column": null,
            "grid_gap": null,
            "grid_row": null,
            "grid_template_areas": null,
            "grid_template_columns": null,
            "grid_template_rows": null,
            "height": null,
            "justify_content": null,
            "justify_items": null,
            "left": null,
            "margin": null,
            "max_height": null,
            "max_width": null,
            "min_height": null,
            "min_width": null,
            "object_fit": null,
            "object_position": null,
            "order": null,
            "overflow": null,
            "overflow_x": null,
            "overflow_y": null,
            "padding": null,
            "right": null,
            "top": null,
            "visibility": null,
            "width": null
          }
        },
        "036a5db2258e468f838a5ed32aacab0c": {
          "model_module": "@jupyter-widgets/controls",
          "model_name": "DescriptionStyleModel",
          "model_module_version": "1.5.0",
          "state": {
            "_model_module": "@jupyter-widgets/controls",
            "_model_module_version": "1.5.0",
            "_model_name": "DescriptionStyleModel",
            "_view_count": null,
            "_view_module": "@jupyter-widgets/base",
            "_view_module_version": "1.2.0",
            "_view_name": "StyleView",
            "description_width": ""
          }
        },
        "50edfc7a53e1439d8ed6d1b4fe3d17a7": {
          "model_module": "@jupyter-widgets/controls",
          "model_name": "HBoxModel",
          "model_module_version": "1.5.0",
          "state": {
            "_dom_classes": [],
            "_model_module": "@jupyter-widgets/controls",
            "_model_module_version": "1.5.0",
            "_model_name": "HBoxModel",
            "_view_count": null,
            "_view_module": "@jupyter-widgets/controls",
            "_view_module_version": "1.5.0",
            "_view_name": "HBoxView",
            "box_style": "",
            "children": [
              "IPY_MODEL_f2a3f766df524eab93d662ac19d89eeb",
              "IPY_MODEL_c8246e83bf704544b40b2a24092796e2",
              "IPY_MODEL_27d4282e113741799a78e10a6d474812"
            ],
            "layout": "IPY_MODEL_ea75e807f1f74c6c8e2201776b5f2dd6"
          }
        },
        "f2a3f766df524eab93d662ac19d89eeb": {
          "model_module": "@jupyter-widgets/controls",
          "model_name": "HTMLModel",
          "model_module_version": "1.5.0",
          "state": {
            "_dom_classes": [],
            "_model_module": "@jupyter-widgets/controls",
            "_model_module_version": "1.5.0",
            "_model_name": "HTMLModel",
            "_view_count": null,
            "_view_module": "@jupyter-widgets/controls",
            "_view_module_version": "1.5.0",
            "_view_name": "HTMLView",
            "description": "",
            "description_tooltip": null,
            "layout": "IPY_MODEL_d607e78bcde147538e6e5621aa0ea34d",
            "placeholder": "​",
            "style": "IPY_MODEL_4ce6ee9bc20b4333ac11d60ec0d6c039",
            "value": "tokenizer.json: 100%"
          }
        },
        "c8246e83bf704544b40b2a24092796e2": {
          "model_module": "@jupyter-widgets/controls",
          "model_name": "FloatProgressModel",
          "model_module_version": "1.5.0",
          "state": {
            "_dom_classes": [],
            "_model_module": "@jupyter-widgets/controls",
            "_model_module_version": "1.5.0",
            "_model_name": "FloatProgressModel",
            "_view_count": null,
            "_view_module": "@jupyter-widgets/controls",
            "_view_module_version": "1.5.0",
            "_view_name": "ProgressView",
            "bar_style": "success",
            "description": "",
            "description_tooltip": null,
            "layout": "IPY_MODEL_4de1763f79a0414eb529140a1733cc37",
            "max": 1355256,
            "min": 0,
            "orientation": "horizontal",
            "style": "IPY_MODEL_5382c3c327f94e609732edee3c1d6e65",
            "value": 1355256
          }
        },
        "27d4282e113741799a78e10a6d474812": {
          "model_module": "@jupyter-widgets/controls",
          "model_name": "HTMLModel",
          "model_module_version": "1.5.0",
          "state": {
            "_dom_classes": [],
            "_model_module": "@jupyter-widgets/controls",
            "_model_module_version": "1.5.0",
            "_model_name": "HTMLModel",
            "_view_count": null,
            "_view_module": "@jupyter-widgets/controls",
            "_view_module_version": "1.5.0",
            "_view_name": "HTMLView",
            "description": "",
            "description_tooltip": null,
            "layout": "IPY_MODEL_82edb96577624973bf7b9b24470c033c",
            "placeholder": "​",
            "style": "IPY_MODEL_8848613bbed2429e926d3c102aeb1c85",
            "value": " 1.36M/1.36M [00:00&lt;00:00, 16.4MB/s]"
          }
        },
        "ea75e807f1f74c6c8e2201776b5f2dd6": {
          "model_module": "@jupyter-widgets/base",
          "model_name": "LayoutModel",
          "model_module_version": "1.2.0",
          "state": {
            "_model_module": "@jupyter-widgets/base",
            "_model_module_version": "1.2.0",
            "_model_name": "LayoutModel",
            "_view_count": null,
            "_view_module": "@jupyter-widgets/base",
            "_view_module_version": "1.2.0",
            "_view_name": "LayoutView",
            "align_content": null,
            "align_items": null,
            "align_self": null,
            "border": null,
            "bottom": null,
            "display": null,
            "flex": null,
            "flex_flow": null,
            "grid_area": null,
            "grid_auto_columns": null,
            "grid_auto_flow": null,
            "grid_auto_rows": null,
            "grid_column": null,
            "grid_gap": null,
            "grid_row": null,
            "grid_template_areas": null,
            "grid_template_columns": null,
            "grid_template_rows": null,
            "height": null,
            "justify_content": null,
            "justify_items": null,
            "left": null,
            "margin": null,
            "max_height": null,
            "max_width": null,
            "min_height": null,
            "min_width": null,
            "object_fit": null,
            "object_position": null,
            "order": null,
            "overflow": null,
            "overflow_x": null,
            "overflow_y": null,
            "padding": null,
            "right": null,
            "top": null,
            "visibility": null,
            "width": null
          }
        },
        "d607e78bcde147538e6e5621aa0ea34d": {
          "model_module": "@jupyter-widgets/base",
          "model_name": "LayoutModel",
          "model_module_version": "1.2.0",
          "state": {
            "_model_module": "@jupyter-widgets/base",
            "_model_module_version": "1.2.0",
            "_model_name": "LayoutModel",
            "_view_count": null,
            "_view_module": "@jupyter-widgets/base",
            "_view_module_version": "1.2.0",
            "_view_name": "LayoutView",
            "align_content": null,
            "align_items": null,
            "align_self": null,
            "border": null,
            "bottom": null,
            "display": null,
            "flex": null,
            "flex_flow": null,
            "grid_area": null,
            "grid_auto_columns": null,
            "grid_auto_flow": null,
            "grid_auto_rows": null,
            "grid_column": null,
            "grid_gap": null,
            "grid_row": null,
            "grid_template_areas": null,
            "grid_template_columns": null,
            "grid_template_rows": null,
            "height": null,
            "justify_content": null,
            "justify_items": null,
            "left": null,
            "margin": null,
            "max_height": null,
            "max_width": null,
            "min_height": null,
            "min_width": null,
            "object_fit": null,
            "object_position": null,
            "order": null,
            "overflow": null,
            "overflow_x": null,
            "overflow_y": null,
            "padding": null,
            "right": null,
            "top": null,
            "visibility": null,
            "width": null
          }
        },
        "4ce6ee9bc20b4333ac11d60ec0d6c039": {
          "model_module": "@jupyter-widgets/controls",
          "model_name": "DescriptionStyleModel",
          "model_module_version": "1.5.0",
          "state": {
            "_model_module": "@jupyter-widgets/controls",
            "_model_module_version": "1.5.0",
            "_model_name": "DescriptionStyleModel",
            "_view_count": null,
            "_view_module": "@jupyter-widgets/base",
            "_view_module_version": "1.2.0",
            "_view_name": "StyleView",
            "description_width": ""
          }
        },
        "4de1763f79a0414eb529140a1733cc37": {
          "model_module": "@jupyter-widgets/base",
          "model_name": "LayoutModel",
          "model_module_version": "1.2.0",
          "state": {
            "_model_module": "@jupyter-widgets/base",
            "_model_module_version": "1.2.0",
            "_model_name": "LayoutModel",
            "_view_count": null,
            "_view_module": "@jupyter-widgets/base",
            "_view_module_version": "1.2.0",
            "_view_name": "LayoutView",
            "align_content": null,
            "align_items": null,
            "align_self": null,
            "border": null,
            "bottom": null,
            "display": null,
            "flex": null,
            "flex_flow": null,
            "grid_area": null,
            "grid_auto_columns": null,
            "grid_auto_flow": null,
            "grid_auto_rows": null,
            "grid_column": null,
            "grid_gap": null,
            "grid_row": null,
            "grid_template_areas": null,
            "grid_template_columns": null,
            "grid_template_rows": null,
            "height": null,
            "justify_content": null,
            "justify_items": null,
            "left": null,
            "margin": null,
            "max_height": null,
            "max_width": null,
            "min_height": null,
            "min_width": null,
            "object_fit": null,
            "object_position": null,
            "order": null,
            "overflow": null,
            "overflow_x": null,
            "overflow_y": null,
            "padding": null,
            "right": null,
            "top": null,
            "visibility": null,
            "width": null
          }
        },
        "5382c3c327f94e609732edee3c1d6e65": {
          "model_module": "@jupyter-widgets/controls",
          "model_name": "ProgressStyleModel",
          "model_module_version": "1.5.0",
          "state": {
            "_model_module": "@jupyter-widgets/controls",
            "_model_module_version": "1.5.0",
            "_model_name": "ProgressStyleModel",
            "_view_count": null,
            "_view_module": "@jupyter-widgets/base",
            "_view_module_version": "1.2.0",
            "_view_name": "StyleView",
            "bar_color": null,
            "description_width": ""
          }
        },
        "82edb96577624973bf7b9b24470c033c": {
          "model_module": "@jupyter-widgets/base",
          "model_name": "LayoutModel",
          "model_module_version": "1.2.0",
          "state": {
            "_model_module": "@jupyter-widgets/base",
            "_model_module_version": "1.2.0",
            "_model_name": "LayoutModel",
            "_view_count": null,
            "_view_module": "@jupyter-widgets/base",
            "_view_module_version": "1.2.0",
            "_view_name": "LayoutView",
            "align_content": null,
            "align_items": null,
            "align_self": null,
            "border": null,
            "bottom": null,
            "display": null,
            "flex": null,
            "flex_flow": null,
            "grid_area": null,
            "grid_auto_columns": null,
            "grid_auto_flow": null,
            "grid_auto_rows": null,
            "grid_column": null,
            "grid_gap": null,
            "grid_row": null,
            "grid_template_areas": null,
            "grid_template_columns": null,
            "grid_template_rows": null,
            "height": null,
            "justify_content": null,
            "justify_items": null,
            "left": null,
            "margin": null,
            "max_height": null,
            "max_width": null,
            "min_height": null,
            "min_width": null,
            "object_fit": null,
            "object_position": null,
            "order": null,
            "overflow": null,
            "overflow_x": null,
            "overflow_y": null,
            "padding": null,
            "right": null,
            "top": null,
            "visibility": null,
            "width": null
          }
        },
        "8848613bbed2429e926d3c102aeb1c85": {
          "model_module": "@jupyter-widgets/controls",
          "model_name": "DescriptionStyleModel",
          "model_module_version": "1.5.0",
          "state": {
            "_model_module": "@jupyter-widgets/controls",
            "_model_module_version": "1.5.0",
            "_model_name": "DescriptionStyleModel",
            "_view_count": null,
            "_view_module": "@jupyter-widgets/base",
            "_view_module_version": "1.2.0",
            "_view_name": "StyleView",
            "description_width": ""
          }
        }
      }
    }
  },
  "cells": [
    {
      "cell_type": "code",
      "execution_count": null,
      "metadata": {
        "id": "AIiurFQlWtLW"
      },
      "outputs": [],
      "source": [
        "#manual eval bc of course nothing can be straightforward"
      ]
    },
    {
      "cell_type": "code",
      "source": [
        "import math\n",
        "from math import sqrt\n",
        "from sklearn.metrics import precision_score\n",
        "import numpy as np\n",
        "\n",
        "def evalsuite(preds, labels):\n",
        "  trueneg = 0\n",
        "  truepos = 0\n",
        "  falseneg = 0\n",
        "  falsepos = 0\n",
        "\n",
        "  fxp = []\n",
        "\n",
        "\n",
        "\n",
        "  for label, pred in zip(labels, preds):\n",
        "\n",
        "    if pd.isna(pred):\n",
        "      print(pred, label)\n",
        "    if pred == -1:\n",
        "      print(pred, label)\n",
        "      if label == 1:\n",
        "        pred = 0\n",
        "      if label == 0:\n",
        "        pred = 1\n",
        "    fxp.append(pred)\n",
        "\n",
        "    if label + pred == 2:\n",
        "      truepos = truepos +1\n",
        "    elif label + pred == 0:\n",
        "      trueneg = trueneg +1\n",
        "    elif label == 0 and pred == 1 :\n",
        "      falsepos = falsepos +1\n",
        "    elif label == 1 and pred == 0:\n",
        "      falseneg = falseneg +1\n",
        " # print( \"trueneg: \", trueneg, \"truepos: \", truepos, \"falseng: \", falseneg, \"falsepos: \", falsepos)\n",
        "  print(fxp)\n",
        "  if np.isnan(fxp).any():\n",
        "      fxp = np.nan_to_num(fxp, nan=1.0)\n",
        "\n",
        "  macro = precision_score(labels, fxp, average='macro')\n",
        "  micro = precision_score(labels, fxp, average='micro')\n",
        "\n",
        "  accuracy = (truepos + trueneg) /len(labels)\n",
        "\n",
        "  if truepos+falsepos == 0 :\n",
        "    precision =0\n",
        "  else:\n",
        "    precision = truepos /(truepos + falsepos)\n",
        "\n",
        "  if truepos + falseneg == 0:\n",
        "    recall = 0\n",
        "  else:\n",
        "    recall = truepos / (truepos + falseneg)\n",
        "\n",
        "  if precision + recall == 0:\n",
        "    f1 = 0\n",
        "  else:\n",
        "    f1 = 2*(precision*recall)/(precision + recall)\n",
        "\n",
        "  #sensitivity = is the same as recall\n",
        "  if trueneg + falsepos == 0:\n",
        "    specificity = 0\n",
        "  else:\n",
        "    specificity = trueneg / (trueneg + falsepos)\n",
        "\n",
        "  if sqrt((truepos+falsepos)*(truepos + falseneg)*(trueneg+ falsepos)*(trueneg +falseneg))== 0:\n",
        "    mcc = 0\n",
        "  else:\n",
        "    mcc = ((trueneg * truepos)-(falseneg*falsepos))/sqrt((truepos+falsepos)*(truepos + falseneg)*(trueneg+ falsepos)*(trueneg +falseneg))\n",
        "  return \"acc: \", accuracy, \"precision: \", precision, \"recall: \", recall, \"f1: \", f1, \"specificity: \", specificity, \"mcc: \", mcc, \"mac pre \", macro, \"micro pre \", micro\n"
      ],
      "metadata": {
        "id": "DzlcbE6kWy6k"
      },
      "execution_count": null,
      "outputs": []
    },
    {
      "cell_type": "markdown",
      "source": [
        "# Prev ver"
      ],
      "metadata": {
        "id": "OChoyaIK8XeO"
      }
    },
    {
      "cell_type": "code",
      "source": [
        "#fix that one svm bc labels are backwards"
      ],
      "metadata": {
        "id": "jFWKqk0OYE5f"
      },
      "execution_count": null,
      "outputs": []
    },
    {
      "cell_type": "code",
      "source": [
        "#get all rows where the vers with history had changes from the ones without and take a look"
      ],
      "metadata": {
        "id": "LxclxsEvZRYP"
      },
      "execution_count": null,
      "outputs": []
    },
    {
      "cell_type": "code",
      "source": [
        "import pandas as pd\n",
        "df = pd.read_csv(\"/content/drive/MyDrive/predictionsdf.tsv\", sep='\\t')\n",
        "print(df)"
      ],
      "metadata": {
        "colab": {
          "base_uri": "https://localhost:8080/"
        },
        "id": "fq_M5Nlwcjb_",
        "outputId": "8d96e8b2-72a1-43c3-9140-bffe4149946e"
      },
      "execution_count": null,
      "outputs": [
        {
          "output_type": "stream",
          "name": "stdout",
          "text": [
            "      Unnamed: 0.7  Unnamed: 0.6  Unnamed: 0.5  Unnamed: 0.4  Unnamed: 0.3  \\\n",
            "0                0             0             0             0             0   \n",
            "1                1             1             1             1             1   \n",
            "2                2             2             2             2             2   \n",
            "3                3             3             3             3             3   \n",
            "4                4             4             4             4             4   \n",
            "...            ...           ...           ...           ...           ...   \n",
            "2400          2400          2400          2400          2400          2400   \n",
            "2401          2401          2401          2401          2401          2401   \n",
            "2402          2402          2402          2402          2402          2402   \n",
            "2403          2403          2403          2403          2403          2403   \n",
            "2404          2404          2404          2404          2404          2404   \n",
            "\n",
            "      Unnamed: 0.2  Unnamed: 0.1  Unnamed: 0            mid  \\\n",
            "0                0             0        1710  1VVGAqnFM9y0o   \n",
            "1                1             1        1711    OJJPBkWizpG   \n",
            "2                2             2        1712   nGGg4Vxtl2Xr   \n",
            "3                3             3        1713    wnnK488C8mn   \n",
            "4                4             4        1714  m77Y4VoFj974E   \n",
            "...            ...           ...         ...            ...   \n",
            "2400          2400          2400          36  xooqrjOHJqLzp   \n",
            "2401          2401          2401          37   1VV1vpEiqE9M   \n",
            "2402          2402          2402          38  nGGQ9mvu70A9O   \n",
            "2403          2403          2403          39  g77Y9KVhlpWLJ   \n",
            "2404          2404          2404          40   JEED9jxUwokQ   \n",
            "\n",
            "             persuasion  ... mberthistorypred mberthistorylabelsT0D1  \\\n",
            "0             assertion  ...                1                      0   \n",
            "1             assertion  ...                1                      0   \n",
            "2             agreement  ...                1                      0   \n",
            "3             assertion  ...                0                      0   \n",
            "4             agreement  ...                0                      0   \n",
            "...                 ...  ...              ...                    ...   \n",
            "2400  logical deduction  ...                0                      0   \n",
            "2401  logical deduction  ...                0                      0   \n",
            "2402        questioning  ...                0                      0   \n",
            "2403         suggestion  ...                0                      0   \n",
            "2404          assertion  ...                0                      0   \n",
            "\n",
            "     robertahistorypred robertahistorylabelsT0D1  svmpred  svmlabelsT1D0  \\\n",
            "0                     0                        0        1              1   \n",
            "1                     0                        0        1              1   \n",
            "2                     0                        0        1              1   \n",
            "3                     0                        0        1              1   \n",
            "4                     0                        0        1              1   \n",
            "...                 ...                      ...      ...            ...   \n",
            "2400                  0                        0        1              1   \n",
            "2401                  0                        0        1              1   \n",
            "2402                  0                        0        1              1   \n",
            "2403                  0                        0        1              1   \n",
            "2404                  0                        0        1              1   \n",
            "\n",
            "     robertapred robertalabelsT0D1 mbertpred mbertlabelsT0D1  \n",
            "0              0                 0         0               0  \n",
            "1              0                 0         0               0  \n",
            "2              0                 0         0               0  \n",
            "3              0                 0         0               0  \n",
            "4              0                 0         0               0  \n",
            "...          ...               ...       ...             ...  \n",
            "2400           0                 0         0               0  \n",
            "2401           0                 0         0               0  \n",
            "2402           0                 0         0               0  \n",
            "2403           0                 0         0               0  \n",
            "2404           0                 0         0               0  \n",
            "\n",
            "[2405 rows x 32 columns]\n"
          ]
        }
      ]
    },
    {
      "cell_type": "code",
      "source": [
        "def invertlist(list):\n",
        "    return [1 - x for x in list]\n",
        "\n",
        "fxsvm = invertlist(df['svmhistorypred'])\n",
        "fxlabels = invertlist(df['svmhistorylabelsT1D0'])\n",
        "\n",
        "svmwhistory = evalsuite(fxsvm, fxlabels)\n",
        "print(\"SVM with histoyr: \", svmwhistory)\n",
        "\n",
        "svm = invertlist(df['svmpred'])\n",
        "lbls = invertlist(df['svmlabelsT1D0'])\n",
        "\n",
        "svm = evalsuite(svm, lbls)\n",
        "print(\"SVM: \", svm)\n",
        "\n",
        "\n",
        "\n",
        "robertawhistory = evalsuite(df['robertahistorypred'], df['robertahistorylabelsT0D1'])\n",
        "print(\"roberta w history: \", robertawhistory)\n",
        "\n",
        "\n",
        "roberta= evalsuite(df['robertapred'], df['robertalabelsT0D1'])\n",
        "print(\"roberta : \", roberta)\n",
        "\n",
        "\n",
        "mbertwhistory = evalsuite(df['mberthistorypred'], df['mberthistorylabelsT0D1'])\n",
        "print(\"mbertwhistory: \", mbertwhistory)\n",
        "\n",
        "mbert = evalsuite(df['mbertpred'], df['mbertlabelsT0D1'])\n",
        "print(\"mbert: \", mbert)"
      ],
      "metadata": {
        "colab": {
          "base_uri": "https://localhost:8080/"
        },
        "id": "Wo1mb4uHctpF",
        "outputId": "59003cf2-d40b-4977-ec1a-10fb9ee53365"
      },
      "execution_count": null,
      "outputs": [
        {
          "output_type": "stream",
          "name": "stdout",
          "text": [
            "trueneg:  1959 trueos:  0 falseng:  0 falseos:  14\n",
            "SVM with histoyr:  ('acc: ', 0.8145530145530145, 'recision: ', 0.0, 'recall: ', 0, 'f1: ', 0, 'secificity: ', 0.9929042067916878, 'mcc: ', 0)\n",
            "trueneg:  1973 trueos:  0 falseng:  0 falseos:  0\n",
            "SVM:  ('acc: ', 0.8203742203742204, 'recision: ', 0, 'recall: ', 0, 'f1: ', 0, 'secificity: ', 1.0, 'mcc: ', 0)\n",
            "trueneg:  1973 trueos:  0 falseng:  0 falseos:  0\n",
            "roberta w history:  ('acc: ', 0.8203742203742204, 'recision: ', 0, 'recall: ', 0, 'f1: ', 0, 'secificity: ', 1.0, 'mcc: ', 0)\n",
            "trueneg:  1973 trueos:  0 falseng:  0 falseos:  0\n",
            "roberta :  ('acc: ', 0.8203742203742204, 'recision: ', 0, 'recall: ', 0, 'f1: ', 0, 'secificity: ', 1.0, 'mcc: ', 0)\n",
            "trueneg:  1702 trueos:  48 falseng:  0 falseos:  271\n",
            "mbertwhistory:  ('acc: ', 0.7276507276507277, 'recision: ', 0.15047021943573669, 'recall: ', 1.0, 'f1: ', 0.2615803814713897, 'secificity: ', 0.8626457171819564, 'mcc: ', 0.36028112684356284)\n",
            "trueneg:  1973 trueos:  0 falseng:  0 falseos:  0\n",
            "mbert:  ('acc: ', 0.8203742203742204, 'recision: ', 0, 'recall: ', 0, 'f1: ', 0, 'secificity: ', 1.0, 'mcc: ', 0)\n"
          ]
        }
      ]
    },
    {
      "cell_type": "code",
      "source": [
        "mberthistorychange = df[df['mbertpred'] != df['mberthistorypred']]"
      ],
      "metadata": {
        "id": "3FdPebcdioym"
      },
      "execution_count": null,
      "outputs": []
    },
    {
      "cell_type": "code",
      "source": [
        "print(len(mberthistorychange), len(mberthistorychange[mberthistorychange['mberthistorypred'] != 1]))"
      ],
      "metadata": {
        "colab": {
          "base_uri": "https://localhost:8080/"
        },
        "id": "NxzxIIzul7Gk",
        "outputId": "2c5b63a7-9490-4636-8270-3bafdec5b50b"
      },
      "execution_count": null,
      "outputs": [
        {
          "output_type": "stream",
          "name": "stdout",
          "text": [
            "319 0\n"
          ]
        }
      ]
    },
    {
      "cell_type": "code",
      "source": [
        "svmhistorychange = df[df['svmpred'] != df['svmhistorypred']]"
      ],
      "metadata": {
        "id": "fzLBOSB1jH5Q"
      },
      "execution_count": null,
      "outputs": []
    },
    {
      "cell_type": "code",
      "source": [
        "print(len(svmhistorychange), len(svmhistorychange[svmhistorychange['svmhistorypred'] != 0]))"
      ],
      "metadata": {
        "colab": {
          "base_uri": "https://localhost:8080/"
        },
        "id": "TH-DPf0hnGeW",
        "outputId": "3b1e213e-cbc2-4e61-91e8-6032aaa7375b"
      },
      "execution_count": null,
      "outputs": [
        {
          "output_type": "stream",
          "name": "stdout",
          "text": [
            "14 0\n"
          ]
        }
      ]
    },
    {
      "cell_type": "code",
      "source": [
        "geminidf = pd.read_csv(\"/content/drive/MyDrive/geminialldone.tsv\", sep='\\t')\n"
      ],
      "metadata": {
        "id": "KzlG-oyas-IP"
      },
      "execution_count": null,
      "outputs": []
    },
    {
      "cell_type": "code",
      "source": [
        "geminidf['labelffx'] = geminidf['label'].map({'T': 0, 'D': 1})\n",
        "print(geminidf)"
      ],
      "metadata": {
        "colab": {
          "base_uri": "https://localhost:8080/"
        },
        "id": "M1RZ9Xa954C1",
        "outputId": "8edf463a-ee11-49e7-ab22-be7cbf11475b"
      },
      "execution_count": null,
      "outputs": [
        {
          "output_type": "stream",
          "name": "stdout",
          "text": [
            "      Unnamed: 0.3  Unnamed: 0.2  Unnamed: 0.1  Unnamed: 0            mid  \\\n",
            "0                0             0             0        1710  1VVGAqnFM9y0o   \n",
            "1                1             1             1        1711    OJJPBkWizpG   \n",
            "2                2             2             2        1712   nGGg4Vxtl2Xr   \n",
            "3                3             3             3        1713    wnnK488C8mn   \n",
            "4                4             4             4        1714  m77Y4VoFj974E   \n",
            "...            ...           ...           ...         ...            ...   \n",
            "2400          2400          2400          2400          36  xooqrjOHJqLzp   \n",
            "2401          2401          2401          2401          37   1VV1vpEiqE9M   \n",
            "2402          2402          2402          2402          38  nGGQ9mvu70A9O   \n",
            "2403          2403          2403          2403          39  g77Y9KVhlpWLJ   \n",
            "2404          2404          2404          2404          40   JEED9jxUwokQ   \n",
            "\n",
            "             persuasion deception label    player  \\\n",
            "0             assertion      none     T  player-4   \n",
            "1             assertion      none     T  player-5   \n",
            "2             agreement      none     T  player-6   \n",
            "3             assertion      none     T  player-1   \n",
            "4             agreement      none     T  player-2   \n",
            "...                 ...       ...   ...       ...   \n",
            "2400  logical deduction      none     T  player-3   \n",
            "2401  logical deduction      none     T  player-3   \n",
            "2402        questioning      none     T  player-3   \n",
            "2403         suggestion      none     T  player-4   \n",
            "2404          assertion      none     T  player-5   \n",
            "\n",
            "                                                    msg  ...  turn  \\\n",
            "0     random given no information. included myself a...  ...     2   \n",
            "1                                      looks good to me  ...     3   \n",
            "2                                           seems fine.  ...     4   \n",
            "3         nothing to go off here, so yeah, this is fine  ...     5   \n",
            "4            im feeling good about this one, lets do it  ...     6   \n",
            "...                                                 ...  ...   ...   \n",
            "2400  player-6 is unsure about player-5, if he's bad...  ...     5   \n",
            "2401  if he's good and thinks player-5 is bad, then ...  ...     5   \n",
            "2402  so, i think player-2 is evil, and will know if...  ...     5   \n",
            "2403  i'm unsure about player-5 and player-6 either....  ...     6   \n",
            "2404  i think player-1, player-4 and player-3 are go...  ...     7   \n",
            "\n",
            "             file                                           withName  \\\n",
            "0     1aKReQ.json  player-4: random given no information. include...   \n",
            "1     1aKReQ.json                         player-5: looks good to me   \n",
            "2     1aKReQ.json                              player-6: seems fine.   \n",
            "3     1aKReQ.json  player-1: nothing to go off here, so yeah, thi...   \n",
            "4     1aKReQ.json  player-2: im feeling good about this one, lets...   \n",
            "...           ...                                                ...   \n",
            "2400  zbq2dp.json  player-3: player-6 is unsure about player-5, i...   \n",
            "2401  zbq2dp.json  player-3: if he's good and thinks player-5 is ...   \n",
            "2402  zbq2dp.json  player-3: so, i think player-2 is evil, and wi...   \n",
            "2403  zbq2dp.json  player-4: i'm unsure about player-5 and player...   \n",
            "2404  zbq2dp.json  player-5: i think player-1, player-4 and playe...   \n",
            "\n",
            "                                                history  \\\n",
            "0                                                   NaN   \n",
            "1     player-4: random given no information. include...   \n",
            "2     player-4: random given no information. include...   \n",
            "3     player-4: random given no information. include...   \n",
            "4     player-4: random given no information. include...   \n",
            "...                                                 ...   \n",
            "2400  player-3: whelp, no sure who to put in the par...   \n",
            "2401  player-3: whelp, no sure who to put in the par...   \n",
            "2402  player-3: whelp, no sure who to put in the par...   \n",
            "2403  player-3: whelp, no sure who to put in the par...   \n",
            "2404  player-3: whelp, no sure who to put in the par...   \n",
            "\n",
            "                                          msgAndHistory       gemini  \\\n",
            "0     Game history: \"\" Detect deception for the foll...       True\\n   \n",
            "1     Game history: \"player-4: random given no infor...       True\\n   \n",
            "2     Game history: \"player-4: random given no infor...       True\\n   \n",
            "3     Game history: \"player-4: random given no infor...       True\\n   \n",
            "4     Game history: \"player-4: random given no infor...       True\\n   \n",
            "...                                                 ...          ...   \n",
            "2400  Game history: \"player-3: whelp, no sure who to...       True\\n   \n",
            "2401  Game history: \"player-3: whelp, no sure who to...       True\\n   \n",
            "2402  Game history: \"player-3: whelp, no sure who to...  Deceptive\\n   \n",
            "2403  Game history: \"player-3: whelp, no sure who to...       True\\n   \n",
            "2404  Game history: \"player-3: whelp, no sure who to...  Deceptive\\n   \n",
            "\n",
            "     geminiwhistory gemresfix  gemreswhistoryfix  labelffx  \n",
            "0            True\\n         0                  0         0  \n",
            "1            True\\n         0                  0         0  \n",
            "2            True\\n         0                  0         0  \n",
            "3            True\\n         0                  0         0  \n",
            "4            True\\n         0                  0         0  \n",
            "...             ...       ...                ...       ...  \n",
            "2400         True\\n         0                  0         0  \n",
            "2401         True\\n         0                  0         0  \n",
            "2402    Deceptive\\n         1                  1         0  \n",
            "2403    Deceptive\\n         0                  1         0  \n",
            "2404         True\\n         1                  0         0  \n",
            "\n",
            "[2405 rows x 21 columns]\n"
          ]
        }
      ]
    },
    {
      "cell_type": "code",
      "source": [
        "gem = evalsuite(geminidf['gemresfix'], geminidf['labelffx'])\n",
        "print(\"gemini: \", gem)"
      ],
      "metadata": {
        "colab": {
          "base_uri": "https://localhost:8080/"
        },
        "id": "A_cgMbOT6Oh-",
        "outputId": "9fea9e4f-3d9b-4ba8-bbb9-f12bdfc3f0eb"
      },
      "execution_count": null,
      "outputs": [
        {
          "output_type": "stream",
          "name": "stdout",
          "text": [
            "trueneg:  1409 trueos:  165 falseng:  0 falseos:  564\n",
            "gemini:  ('acc: ', 0.6544698544698545, 'recision: ', 0.22633744855967078, 'recall: ', 1.0, 'f1: ', 0.3691275167785235, 'secificity: ', 0.7141409021794222, 'mcc: ', 0.40204083090078285)\n"
          ]
        }
      ]
    },
    {
      "cell_type": "code",
      "source": [
        "gemwhis = evalsuite(geminidf['gemreswhistoryfix'], geminidf['labelffx'])\n",
        "print(\"geminiwhis: \", gemwhis)"
      ],
      "metadata": {
        "colab": {
          "base_uri": "https://localhost:8080/"
        },
        "id": "YQsn3ZQS6c-8",
        "outputId": "91726ef9-75c2-47a0-ec61-38937b1e2525"
      },
      "execution_count": null,
      "outputs": [
        {
          "output_type": "stream",
          "name": "stdout",
          "text": [
            "trueneg:  1007 trueos:  227 falseng:  0 falseos:  966\n",
            "geminiwhis:  ('acc: ', 0.5130977130977131, 'recision: ', 0.19027661357921208, 'recall: ', 1.0, 'f1: ', 0.31971830985915495, 'secificity: ', 0.5103902686264572, 'mcc: ', 0.31163332927982307)\n"
          ]
        }
      ]
    },
    {
      "cell_type": "code",
      "source": [
        "import matplotlib.pyplot as plt\n",
        "import numpy as np\n",
        "import seaborn as sns\n"
      ],
      "metadata": {
        "id": "yLsMj4rRjv-V"
      },
      "execution_count": null,
      "outputs": []
    },
    {
      "cell_type": "code",
      "source": [],
      "metadata": {
        "id": "TCNGXWWZu892"
      },
      "execution_count": null,
      "outputs": []
    },
    {
      "cell_type": "code",
      "source": [
        "\n",
        "def whyres(df, labels, preds, historypreds):\n",
        "  df['hislen'] = df['msgAndHistory'].str.len()\n",
        "  df['len'] = df['withName'].str.len()\n",
        "  #print(df[preds].sum())\n",
        "  #print(df[historypreds].sum())\n",
        "\n",
        "\n",
        "  histchange = df[df[preds] != df[historypreds]]\n",
        "  print('len diffs ', len(histchange))\n",
        "\n",
        "  errors = df[df[preds] != df[labels]]\n",
        "  print('len no history errors ',len(errors))\n",
        "\n",
        "\n",
        "  histerrors = df[df[historypreds] != df[labels]]\n",
        "  print('len history errors ',len(histerrors))\n",
        "\n",
        "\n",
        "\n",
        "\n",
        "  plt.figure(figsize=(10, 6))\n",
        "\n",
        "  plt.hist(df['len'], bins='auto',\n",
        "         alpha=0.7, color='red', edgecolor='black',\n",
        "         label='wout his')\n",
        "\n",
        "\n",
        "  plt.hist(errors['len'], bins='auto',\n",
        "          alpha=0.7, color='green', edgecolor='black',\n",
        "          label='wout his errors')\n",
        "\n",
        "  plt.title('no history len v fails ')\n",
        "  plt.xlabel('len')\n",
        "  plt.ylabel('# of times')\n",
        "  plt.legend()\n",
        "  plt.show()\n",
        "\n",
        "\n",
        "  plt.figure(figsize=(10, 6))\n",
        "  plt.hist(df['hislen'], bins='auto',\n",
        "         alpha=0.7, color='blue', edgecolor='black',\n",
        "         label='w his')\n",
        "\n",
        "  plt.hist(histerrors['hislen'], bins='auto',\n",
        "         alpha=0.7, color='grey', edgecolor='black',\n",
        "         label='w his errors')\n",
        "\n",
        "  plt.title('whistory len fails ')\n",
        "  plt.xlabel('len')\n",
        "  plt.ylabel('# of times')\n",
        "  plt.legend()\n",
        "  plt.show()\n",
        "\n",
        "  plt.figure(figsize=(10, 6))\n",
        "\n",
        "  plt.figure(figsize=(10, 6))\n",
        "  df['file'].value_counts().plot(kind='bar', color='blue', label='all data')\n",
        "\n",
        "  histerrors['file'].value_counts().plot(kind='bar', color='green', label='with history errors')\n",
        "  errors['file'].value_counts().plot(kind='bar', color='red', label='no history errors')\n",
        "  plt.title(f' file hits')\n",
        "  plt.xlabel('Filename')\n",
        "  plt.ylabel('num hits')\n",
        "  plt.xticks(rotation=45, ha='right')\n",
        "  plt.tight_layout()\n",
        "  plt.legend()\n",
        "  plt.show()\n",
        "  #print('file in whole dataset',df['file'].value_counts())\n",
        "  #print('file in no history error ',errors['file'].value_counts())\n",
        "  #print('file in  history error ',histerrors['file'].value_counts())\n"
      ],
      "metadata": {
        "id": "LaMvM3i1jU64"
      },
      "execution_count": null,
      "outputs": []
    },
    {
      "cell_type": "code",
      "source": [
        "whyres(geminidf, 'labelffx', 'gemresfix', 'gemreswhistoryfix' )"
      ],
      "metadata": {
        "colab": {
          "base_uri": "https://localhost:8080/",
          "height": 1000
        },
        "id": "MZ9tHANWnYJp",
        "outputId": "f4003bcd-e11a-40e8-d064-56fab2596519"
      },
      "execution_count": null,
      "outputs": [
        {
          "output_type": "stream",
          "name": "stdout",
          "text": [
            "len diffs  854\n",
            "len no history errors  831\n",
            "len history errors  1171\n"
          ]
        },
        {
          "output_type": "display_data",
          "data": {
            "text/plain": [
              "<Figure size 1000x600 with 1 Axes>"
            ],
            "image/png": "[encoded data removed]"
          },
          "metadata": {}
        },
        {
          "output_type": "display_data",
          "data": {
            "text/plain": [
              "<Figure size 1000x600 with 1 Axes>"
            ],
            "image/png": "[encoded data removed]"
          },
          "metadata": {}
        },
        {
          "output_type": "display_data",
          "data": {
            "text/plain": [
              "<Figure size 1000x600 with 0 Axes>"
            ]
          },
          "metadata": {}
        },
        {
          "output_type": "display_data",
          "data": {
            "text/plain": [
              "<Figure size 1000x600 with 1 Axes>"
            ],
            "image/png": "[encoded data removed]"
          },
          "metadata": {}
        }
      ]
    },
    {
      "cell_type": "code",
      "source": [
        "#def check(row):\n",
        "\n",
        "\n",
        "def whyresagain(df, model, labelcol, nhcol, whcol):\n",
        "  df[\"errcheck\" + model] = \"\"\n",
        "  for i, (index, row) in enumerate(df.iterrows()):\n",
        "        if row[labelcol] != row[nhcol] and row[labelcol]!= row[whcol]:\n",
        "          label = \"Both error\" #both error\n",
        "        elif row[labelcol] == row[nhcol] and row[labelcol]!= row[whcol] :\n",
        "          label = \"history error\" #history error\n",
        "        elif row[labelcol] != row[nhcol] and row[labelcol] == row[whcol] :\n",
        "          label = \"no history error\" #no history error\n",
        "        elif row[labelcol] == row[nhcol] and row[labelcol] == row[whcol] :\n",
        "          label = \"all good\" #all good\n",
        "        else:\n",
        "          print(\"oh no\")\n",
        "          break\n",
        "        df.at[index, \"errcheck \" + model] = label\n",
        "  return df\n",
        "\n",
        "\n"
      ],
      "metadata": {
        "id": "1aTkW1MJ3GDP"
      },
      "execution_count": null,
      "outputs": []
    },
    {
      "cell_type": "code",
      "source": [
        "gemdf = whyresagain(geminidf, \"gemini\", 'labelffx', 'gemresfix', 'gemreswhistoryfix')"
      ],
      "metadata": {
        "id": "kv5LbWTo3SbA"
      },
      "execution_count": null,
      "outputs": []
    },
    {
      "cell_type": "code",
      "source": [
        "gemdf[\"errcheck gemini\"].value_counts()"
      ],
      "metadata": {
        "colab": {
          "base_uri": "https://localhost:8080/",
          "height": 241
        },
        "id": "YzcQsOJv5zOz",
        "outputId": "b465d998-7d89-4b39-a67e-063e9bdde3c3"
      },
      "execution_count": null,
      "outputs": [
        {
          "output_type": "execute_result",
          "data": {
            "text/plain": [
              "errcheck gemini\n",
              "all good            977\n",
              "history error       597\n",
              "Both error          574\n",
              "no history error    257\n",
              "Name: count, dtype: int64"
            ],
            "text/html": [
              "<div>\n",
              "<style scoped>\n",
              "    .dataframe tbody tr th:only-of-type {\n",
              "        vertical-align: middle;\n",
              "    }\n",
              "\n",
              "    .dataframe tbody tr th {\n",
              "        vertical-align: top;\n",
              "    }\n",
              "\n",
              "    .dataframe thead th {\n",
              "        text-align: right;\n",
              "    }\n",
              "</style>\n",
              "<table border=\"1\" class=\"dataframe\">\n",
              "  <thead>\n",
              "    <tr style=\"text-align: right;\">\n",
              "      <th></th>\n",
              "      <th>count</th>\n",
              "    </tr>\n",
              "    <tr>\n",
              "      <th>errcheck gemini</th>\n",
              "      <th></th>\n",
              "    </tr>\n",
              "  </thead>\n",
              "  <tbody>\n",
              "    <tr>\n",
              "      <th>all good</th>\n",
              "      <td>977</td>\n",
              "    </tr>\n",
              "    <tr>\n",
              "      <th>history error</th>\n",
              "      <td>597</td>\n",
              "    </tr>\n",
              "    <tr>\n",
              "      <th>Both error</th>\n",
              "      <td>574</td>\n",
              "    </tr>\n",
              "    <tr>\n",
              "      <th>no history error</th>\n",
              "      <td>257</td>\n",
              "    </tr>\n",
              "  </tbody>\n",
              "</table>\n",
              "</div><br><label><b>dtype:</b> int64</label>"
            ]
          },
          "metadata": {},
          "execution_count": 8
        }
      ]
    },
    {
      "cell_type": "markdown",
      "source": [
        "this is on the no history"
      ],
      "metadata": {
        "id": "OlMPfECW8ZJf"
      }
    },
    {
      "cell_type": "code",
      "source": [
        "gemdf['nhlen'] = gemdf['withName'].str.len()\n",
        "gemdf['hlen'] = gemdf['msgAndHistory'].str.len()\n",
        "lenresnh = gemdf.groupby(\"errcheck gemini\")['nhlen'].agg('mean')\n",
        "print(lenresnh)"
      ],
      "metadata": {
        "colab": {
          "base_uri": "https://localhost:8080/"
        },
        "id": "EtSgPW496tk0",
        "outputId": "bc1f7b2c-1c94-4ce4-c695-b3f37f5116ae"
      },
      "execution_count": null,
      "outputs": [
        {
          "output_type": "stream",
          "name": "stdout",
          "text": [
            "errcheck gemini\n",
            "Both error          109.012195\n",
            "all good             87.624360\n",
            "history error       101.296482\n",
            "no history error    103.887160\n",
            "Name: nhlen, dtype: float64\n"
          ]
        }
      ]
    },
    {
      "cell_type": "markdown",
      "source": [
        "history ver"
      ],
      "metadata": {
        "id": "p4EbC8Rc8wtl"
      }
    },
    {
      "cell_type": "code",
      "source": [
        "gemdf['hlen'] = gemdf['msgAndHistory'].str.len()\n",
        "lenresh = gemdf.groupby(\"errcheck gemini\")['hlen'].agg('mean')\n",
        "print(lenresh)"
      ],
      "metadata": {
        "colab": {
          "base_uri": "https://localhost:8080/"
        },
        "id": "aqpJAFzI7BUy",
        "outputId": "f953dceb-7ae1-4b6c-8c36-814d3da49662"
      },
      "execution_count": null,
      "outputs": [
        {
          "output_type": "stream",
          "name": "stdout",
          "text": [
            "errcheck gemini\n",
            "Both error          8345.229965\n",
            "all good            6560.756397\n",
            "history error       8375.586265\n",
            "no history error    7724.673152\n",
            "Name: hlen, dtype: float64\n"
          ]
        }
      ]
    },
    {
      "cell_type": "code",
      "source": [
        "#ok so checking correlation of message length on label basically longer messages are more likely to have errors with both and the shorter messages are better\n",
        "\n"
      ],
      "metadata": {
        "id": "dix9e0wB4tH0"
      },
      "execution_count": null,
      "outputs": []
    },
    {
      "cell_type": "code",
      "source": [
        "#so player and num messed up original attempt, so using the msg only to check for word stuff\n",
        "\n",
        "geminidf['msg'].value_counts().head(30)"
      ],
      "metadata": {
        "colab": {
          "base_uri": "https://localhost:8080/",
          "height": 1000
        },
        "id": "LQIiZEwf55c8",
        "outputId": "91390be2-d9bd-458e-e04f-f0fe3cc0425c"
      },
      "execution_count": null,
      "outputs": [
        {
          "output_type": "execute_result",
          "data": {
            "text/plain": [
              "msg\n",
              "well well well                                                                                                                                                                                                                                                                                                                                                                                                          5\n",
              "but opposing the only person declaring as percival is inefficient because we would have so much more to lose than gain.                                                                                                                                                                                                                                                                                                 3\n",
              "agree                                                                                                                                                                                                                                                                                                                                                                                                                   3\n",
              "i agree too.                                                                                                                                                                                                                                                                                                                                                                                                            2\n",
              "i generally think that both player-2 and player-3 are slowly struggling to make consistent arguments, thus i now belief that both of them are on the same evil team                                                                                                                                                                                                                                                     2\n",
              "player-4 is a bit too defensive to some comments that was not based on clear logic lines and evidence.                                                                                                                                                                                                                                                                                                                  2\n",
              "i would agree with this composition but i have no info on who to bring on next, but i think this one is likely to succeed if we choose to right person                                                                                                                                                                                                                                                                  2\n",
              "i would propose to send me, player-2, player-6, and finally either player-5 or player-4 on the quest.                                                                                                                                                                                                                                                                                                                   2\n",
              "once again we can observe player-2 and player-3 are the only ones to vote yes for the previous party proposal while all else voted no which is suspicious. i remain suspicious of both player-2 and player-3.                                                                                                                                                                                                           2\n",
              "but since she doubts me, i know she is not merlin.                                                                                                                                                                                                                                                                                                                                                                      2\n",
              "i will leave the extra player choice to the party leader.                                                                                                                                                                                                                                                                                                                                                               2\n",
              "i agree                                                                                                                                                                                                                                                                                                                                                                                                                 2\n",
              "but for the next one, i would definitely vouch myself for a spot                                                                                                                                                                                                                                                                                                                                                        2\n",
              "aha                                                                                                                                                                                                                                                                                                                                                                                                                     2\n",
              "of course saying this poses me under the accusation for teaming up with player-5 as if we are both evil. the best way to clarify this would be putting me and player-5 on the next quest with player-1, who has the highest trust for now among all others.                                                                                                                                                             2\n",
              "to respond to player-2 accusation, i am not trying to bundling with player-4. last round i did not support player-4 in that player-4 did not even try to put me and player-5 on the same party, the best way to clarify if player-5 and i are good or bad, which makes me suspect him.                                                                                                                                  2\n",
              "i would remain neutral on others standing in between because it is natural given everyones identities are not revealed.                                                                                                                                                                                                                                                                                                 2\n",
              "i would maintain the previous party because it is the best strategy for good people to win.                                                                                                                                                                                                                                                                                                                             2\n",
              "i assume that player-1 and player-3 also saw it that way and thus voted no on the party however, i still maintain my suspicion that player-1 voted no in order to hide his identity.                                                                                                                                                                                                                                    2\n",
              "it is very likely that one of player-1 and player-6 is bad, and this party is like to fail, so please do not include me in this party.                                                                                                                                                                                                                                                                                  2\n",
              "as it is right now, we have to put either player-2 or player-3 on the party to see what happens. i lean towards player-2 simply because player-3 was doubting me before, and again from my own perspective i know i am good with all the context of the percival claims.                                                                                                                                                2\n",
              "furthermore, i dont understand why percival would want to reveal themselves that early, when there is limited information available and percival wouldnt know who is good or bad. so this makes me think player-3 is an imposter and makes me more suspicious.                                                                                                                                                          2\n",
              "i'm fine with this party                                                                                                                                                                                                                                                                                                                                                                                                2\n",
              "let's go                                                                                                                                                                                                                                                                                                                                                                                                                2\n",
              "as both of them said no to the party, i assume that either player-1 or player-6 is bad, but i think it is unlikely that both are bad.                                                                                                                                                                                                                                                                                   2\n",
              "player-1 still endorsing player-4 also seems a little strange to me                                                                                                                                                                                                                                                                                                                                                     2\n",
              "given that this is a very important one, i would agree with player-5 that we should not include player-3 on the quest. as for player-6, i would encourage putting him on the quest in place of player-5 or player-4 because to me he seems to have some information and has voted no on the previous failed quest. following the previous failed round, i would strongly advice putting myself on the quest as well.    2\n",
              "let's go:)                                                                                                                                                                                                                                                                                                                                                                                                              2\n",
              "i think player-1's point is not correct. there can't be three evil people and from your point of view player-5, player-6, and me are evil.                                                                                                                                                                                                                                                                              1\n",
              "that doesn't sound like a good person's saying                                                                                                                                                                                                                                                                                                                                                                          1\n",
              "Name: count, dtype: int64"
            ],
            "text/html": [
              "<div>\n",
              "<style scoped>\n",
              "    .dataframe tbody tr th:only-of-type {\n",
              "        vertical-align: middle;\n",
              "    }\n",
              "\n",
              "    .dataframe tbody tr th {\n",
              "        vertical-align: top;\n",
              "    }\n",
              "\n",
              "    .dataframe thead th {\n",
              "        text-align: right;\n",
              "    }\n",
              "</style>\n",
              "<table border=\"1\" class=\"dataframe\">\n",
              "  <thead>\n",
              "    <tr style=\"text-align: right;\">\n",
              "      <th></th>\n",
              "      <th>count</th>\n",
              "    </tr>\n",
              "    <tr>\n",
              "      <th>msg</th>\n",
              "      <th></th>\n",
              "    </tr>\n",
              "  </thead>\n",
              "  <tbody>\n",
              "    <tr>\n",
              "      <th>well well well</th>\n",
              "      <td>5</td>\n",
              "    </tr>\n",
              "    <tr>\n",
              "      <th>but opposing the only person declaring as percival is inefficient because we would have so much more to lose than gain.</th>\n",
              "      <td>3</td>\n",
              "    </tr>\n",
              "    <tr>\n",
              "      <th>agree</th>\n",
              "      <td>3</td>\n",
              "    </tr>\n",
              "    <tr>\n",
              "      <th>i agree too.</th>\n",
              "      <td>2</td>\n",
              "    </tr>\n",
              "    <tr>\n",
              "      <th>i generally think that both player-2 and player-3 are slowly struggling to make consistent arguments, thus i now belief that both of them are on the same evil team</th>\n",
              "      <td>2</td>\n",
              "    </tr>\n",
              "    <tr>\n",
              "      <th>player-4 is a bit too defensive to some comments that was not based on clear logic lines and evidence.</th>\n",
              "      <td>2</td>\n",
              "    </tr>\n",
              "    <tr>\n",
              "      <th>i would agree with this composition but i have no info on who to bring on next, but i think this one is likely to succeed if we choose to right person</th>\n",
              "      <td>2</td>\n",
              "    </tr>\n",
              "    <tr>\n",
              "      <th>i would propose to send me, player-2, player-6, and finally either player-5 or player-4 on the quest.</th>\n",
              "      <td>2</td>\n",
              "    </tr>\n",
              "    <tr>\n",
              "      <th>once again we can observe player-2 and player-3 are the only ones to vote yes for the previous party proposal while all else voted no which is suspicious. i remain suspicious of both player-2 and player-3.</th>\n",
              "      <td>2</td>\n",
              "    </tr>\n",
              "    <tr>\n",
              "      <th>but since she doubts me, i know she is not merlin.</th>\n",
              "      <td>2</td>\n",
              "    </tr>\n",
              "    <tr>\n",
              "      <th>i will leave the extra player choice to the party leader.</th>\n",
              "      <td>2</td>\n",
              "    </tr>\n",
              "    <tr>\n",
              "      <th>i agree</th>\n",
              "      <td>2</td>\n",
              "    </tr>\n",
              "    <tr>\n",
              "      <th>but for the next one, i would definitely vouch myself for a spot</th>\n",
              "      <td>2</td>\n",
              "    </tr>\n",
              "    <tr>\n",
              "      <th>aha</th>\n",
              "      <td>2</td>\n",
              "    </tr>\n",
              "    <tr>\n",
              "      <th>of course saying this poses me under the accusation for teaming up with player-5 as if we are both evil. the best way to clarify this would be putting me and player-5 on the next quest with player-1, who has the highest trust for now among all others.</th>\n",
              "      <td>2</td>\n",
              "    </tr>\n",
              "    <tr>\n",
              "      <th>to respond to player-2 accusation, i am not trying to bundling with player-4. last round i did not support player-4 in that player-4 did not even try to put me and player-5 on the same party, the best way to clarify if player-5 and i are good or bad, which makes me suspect him.</th>\n",
              "      <td>2</td>\n",
              "    </tr>\n",
              "    <tr>\n",
              "      <th>i would remain neutral on others standing in between because it is natural given everyones identities are not revealed.</th>\n",
              "      <td>2</td>\n",
              "    </tr>\n",
              "    <tr>\n",
              "      <th>i would maintain the previous party because it is the best strategy for good people to win.</th>\n",
              "      <td>2</td>\n",
              "    </tr>\n",
              "    <tr>\n",
              "      <th>i assume that player-1 and player-3 also saw it that way and thus voted no on the party however, i still maintain my suspicion that player-1 voted no in order to hide his identity.</th>\n",
              "      <td>2</td>\n",
              "    </tr>\n",
              "    <tr>\n",
              "      <th>it is very likely that one of player-1 and player-6 is bad, and this party is like to fail, so please do not include me in this party.</th>\n",
              "      <td>2</td>\n",
              "    </tr>\n",
              "    <tr>\n",
              "      <th>as it is right now, we have to put either player-2 or player-3 on the party to see what happens. i lean towards player-2 simply because player-3 was doubting me before, and again from my own perspective i know i am good with all the context of the percival claims.</th>\n",
              "      <td>2</td>\n",
              "    </tr>\n",
              "    <tr>\n",
              "      <th>furthermore, i dont understand why percival would want to reveal themselves that early, when there is limited information available and percival wouldnt know who is good or bad. so this makes me think player-3 is an imposter and makes me more suspicious.</th>\n",
              "      <td>2</td>\n",
              "    </tr>\n",
              "    <tr>\n",
              "      <th>i'm fine with this party</th>\n",
              "      <td>2</td>\n",
              "    </tr>\n",
              "    <tr>\n",
              "      <th>let's go</th>\n",
              "      <td>2</td>\n",
              "    </tr>\n",
              "    <tr>\n",
              "      <th>as both of them said no to the party, i assume that either player-1 or player-6 is bad, but i think it is unlikely that both are bad.</th>\n",
              "      <td>2</td>\n",
              "    </tr>\n",
              "    <tr>\n",
              "      <th>player-1 still endorsing player-4 also seems a little strange to me</th>\n",
              "      <td>2</td>\n",
              "    </tr>\n",
              "    <tr>\n",
              "      <th>given that this is a very important one, i would agree with player-5 that we should not include player-3 on the quest. as for player-6, i would encourage putting him on the quest in place of player-5 or player-4 because to me he seems to have some information and has voted no on the previous failed quest. following the previous failed round, i would strongly advice putting myself on the quest as well.</th>\n",
              "      <td>2</td>\n",
              "    </tr>\n",
              "    <tr>\n",
              "      <th>let's go:)</th>\n",
              "      <td>2</td>\n",
              "    </tr>\n",
              "    <tr>\n",
              "      <th>i think player-1's point is not correct. there can't be three evil people and from your point of view player-5, player-6, and me are evil.</th>\n",
              "      <td>1</td>\n",
              "    </tr>\n",
              "    <tr>\n",
              "      <th>that doesn't sound like a good person's saying</th>\n",
              "      <td>1</td>\n",
              "    </tr>\n",
              "  </tbody>\n",
              "</table>\n",
              "</div><br><label><b>dtype:</b> int64</label>"
            ]
          },
          "metadata": {},
          "execution_count": 15
        }
      ]
    },
    {
      "cell_type": "markdown",
      "source": [
        "BELOW CONTAINS FIXED DATA VERS"
      ],
      "metadata": {
        "id": "BgekgKoZr3cq"
      }
    },
    {
      "cell_type": "markdown",
      "source": [
        "# No duplicates ver"
      ],
      "metadata": {
        "id": "ht-v2Qt48BoA"
      }
    },
    {
      "cell_type": "code",
      "source": [
        "import pandas as pd\n",
        "df= pd.read_csv(\"/content/drive/MyDrive/Colab Notebooks/llm decetion/predictionsfixed.tsv\", sep='\\t')"
      ],
      "metadata": {
        "id": "SsCEya8vr7ld"
      },
      "execution_count": null,
      "outputs": []
    },
    {
      "cell_type": "code",
      "source": [
        "def invertlist(list):\n",
        "    return [1 - x for x in list]\n",
        "\n",
        "fxsvm = invertlist(df['svmhistorypred'])\n",
        "fxlabels = invertlist(df['svmhistorylabelsT1D0'])\n",
        "\n",
        "svmwhistory = evalsuite(fxsvm, fxlabels)\n",
        "print(\"SVM with histoyr: \", svmwhistory)\n",
        "\n",
        "svm = invertlist(df['svmpred'])\n",
        "lbls = invertlist(df['svmlabelsT1D0'])\n",
        "\n",
        "svm = evalsuite(svm, lbls)\n",
        "print(\"SVM: \", svm)\n",
        "\n",
        "\n",
        "\n",
        "robertawhistory = evalsuite(df['robertahistorypred'], df['robertahistorylabelsT0D1'])\n",
        "print(\"roberta w history: \", robertawhistory)\n",
        "\n",
        "\n",
        "roberta= evalsuite(df['robertapred'], df['robertalabelsT0D1'])\n",
        "print(\"roberta : \", roberta)\n",
        "\n",
        "\n",
        "mbertwhistory = evalsuite(df['mberthistorypred'], df['mberthistorylabelsT0D1'])\n",
        "print(\"mbertwhistory: \", mbertwhistory)\n",
        "\n",
        "mbert = evalsuite(df['mbertpred'], df['mbertlabelsT0D1'])\n",
        "print(\"mbert: \", mbert)"
      ],
      "metadata": {
        "colab": {
          "base_uri": "https://localhost:8080/"
        },
        "id": "QwJincSN8RPQ",
        "outputId": "c62f88a6-a417-4189-8a86-7fe8d8a7c3a4"
      },
      "execution_count": null,
      "outputs": [
        {
          "output_type": "stream",
          "name": "stdout",
          "text": [
            "SVM with histoyr:  ('acc: ', 0.8145973154362416, 'precision: ', 0.0, 'recall: ', 0.0, 'f1: ', 0, 'specificity: ', 0.9928425357873211, 'mcc: ', -0.035952351748025455, 'mac pre ', 0.40970464135021095, 'micro pre ', 0.8145973154362416)\n",
            "SVM:  ('acc: ', 0.8204697986577181, 'precision: ', 0, 'recall: ', 0.0, 'f1: ', 0, 'specificity: ', 1.0, 'mcc: ', 0, 'mac pre ', 0.41023489932885904, 'micro pre ', 0.8204697986577181)\n",
            "roberta w history:  ('acc: ', 0.8204697986577181, 'precision: ', 0, 'recall: ', 0.0, 'f1: ', 0, 'specificity: ', 1.0, 'mcc: ', 0, 'mac pre ', 0.41023489932885904, 'micro pre ', 0.8204697986577181)\n",
            "roberta :  ('acc: ', 0.8204697986577181, 'precision: ', 0, 'recall: ', 0.0, 'f1: ', 0, 'specificity: ', 1.0, 'mcc: ', 0, 'mac pre ', 0.41023489932885904, 'micro pre ', 0.8204697986577181)\n",
            "mbertwhistory:  ('acc: ', 0.7273489932885906, 'precision: ', 0.14873417721518986, 'recall: ', 0.10981308411214953, 'f1: ', 0.12634408602150535, 'specificity: ', 0.8624744376278118, 'mcc: ', -0.03136626928543024, 'mac pre ', 0.4822491002130108, 'micro pre ', 0.7273489932885906)\n",
            "mbert:  ('acc: ', 0.8204697986577181, 'precision: ', 0, 'recall: ', 0.0, 'f1: ', 0, 'specificity: ', 1.0, 'mcc: ', 0, 'mac pre ', 0.41023489932885904, 'micro pre ', 0.8204697986577181)\n"
          ]
        },
        {
          "output_type": "stream",
          "name": "stderr",
          "text": [
            "/usr/local/lib/python3.11/dist-packages/sklearn/metrics/_classification.py:1565: UndefinedMetricWarning: Precision is ill-defined and being set to 0.0 in labels with no predicted samples. Use `zero_division` parameter to control this behavior.\n",
            "  _warn_prf(average, modifier, f\"{metric.capitalize()} is\", len(result))\n",
            "/usr/local/lib/python3.11/dist-packages/sklearn/metrics/_classification.py:1565: UndefinedMetricWarning: Precision is ill-defined and being set to 0.0 in labels with no predicted samples. Use `zero_division` parameter to control this behavior.\n",
            "  _warn_prf(average, modifier, f\"{metric.capitalize()} is\", len(result))\n",
            "/usr/local/lib/python3.11/dist-packages/sklearn/metrics/_classification.py:1565: UndefinedMetricWarning: Precision is ill-defined and being set to 0.0 in labels with no predicted samples. Use `zero_division` parameter to control this behavior.\n",
            "  _warn_prf(average, modifier, f\"{metric.capitalize()} is\", len(result))\n",
            "/usr/local/lib/python3.11/dist-packages/sklearn/metrics/_classification.py:1565: UndefinedMetricWarning: Precision is ill-defined and being set to 0.0 in labels with no predicted samples. Use `zero_division` parameter to control this behavior.\n",
            "  _warn_prf(average, modifier, f\"{metric.capitalize()} is\", len(result))\n"
          ]
        }
      ]
    },
    {
      "cell_type": "code",
      "source": [
        "import collections\n",
        "from collections import Counter\n",
        "import re\n",
        "def reseval(df, model):\n",
        "\n",
        "  df['msglen'] = df['msg'].str.len()\n",
        "  dmlen = df.groupby('errcheck' +model)['msglen'].agg('mean')\n",
        "\n",
        "  print(\"msg len avg \", dmlen)\n",
        "  df['hislen'] = df['msgAndHistory'].str.len()\n",
        "\n",
        "  dhlen = df.groupby('errcheck' +model)['hislen'].agg('mean')\n",
        "\n",
        "  print(\"history len avg \",dhlen )\n",
        "\n",
        "  dfg = df.groupby('errcheck'+model)\n",
        "  for g, gdf in dfg:\n",
        "    words =  gdf['msg'].apply(lambda c: re.findall(r\"\\w+\", c.lower(), re.UNICODE))\n",
        "\n",
        "    wc = Counter(words)\n",
        "    print(\" msot freq words in \", g, \" \", wc.most_common(10) )\n",
        "\n",
        "    print(\"most freq msgs \" ,g, \" \" , gdf['msg'].value_counts().head(5))\n",
        "\n",
        "    #print(words)\n",
        "\n",
        "\n",
        "\n",
        "\n"
      ],
      "metadata": {
        "id": "_BH-bs1_-xJA"
      },
      "execution_count": null,
      "outputs": []
    },
    {
      "cell_type": "code",
      "source": [
        "def whyresagain(df, model, labelcol, nhcol, whcol):\n",
        "  df[\"errcheck\" + model] = \"\"\n",
        "  for i, (index, row) in enumerate(df.iterrows()):\n",
        "        #print(row)\n",
        "        if row[labelcol] != row[nhcol] and row[labelcol]!= row[whcol]:\n",
        "          label = \"Both error\" #both error\n",
        "        elif row[labelcol] == row[nhcol] and row[labelcol]!= row[whcol] :\n",
        "          label = \"history error\" #history error\n",
        "        elif row[labelcol] != row[nhcol] and row[labelcol] == row[whcol] :\n",
        "          label = \"no history error\" #no history error\n",
        "        elif row[labelcol] == row[nhcol] and row[labelcol] == row[whcol] :\n",
        "          label = \"all good\" #all good\n",
        "        else:\n",
        "          print(\"oh no\")\n",
        "          break\n",
        "        df.at[index, \"errcheck\" + model] = label\n",
        "  return df\n",
        "\n",
        "#dfnew = whyresagain(df, 'mbert', 'mbertlabelsT0D1', 'mbertpred', 'mberthistorypred')\n"
      ],
      "metadata": {
        "id": "TOK_6e02GNsn"
      },
      "execution_count": null,
      "outputs": []
    },
    {
      "cell_type": "code",
      "source": [
        "dfnew = whyresagain(df, 'mbert', 'mbertlabelsT0D1', 'mbertpred', 'mberthistorypred')\n",
        "#print(dfnew['errcheckmbert'].value_counts())\n",
        "#print(dfnew['errcheckmbert'])\n",
        "\n",
        "reseval(dfnew, 'mbert')"
      ],
      "metadata": {
        "colab": {
          "base_uri": "https://localhost:8080/",
          "height": 543
        },
        "id": "pjwR13JPGo4v",
        "outputId": "46754024-51e8-4b22-8a77-87a6afb9e3d1"
      },
      "execution_count": null,
      "outputs": [
        {
          "output_type": "stream",
          "name": "stdout",
          "text": [
            "msg len avg  errcheckmbert\n",
            "Both error          103.587927\n",
            "all good             83.561352\n",
            "history error        83.312268\n",
            "no history error    109.659574\n",
            "Name: msglen, dtype: float64\n",
            "history len avg  errcheckmbert\n",
            "Both error          8082.992126\n",
            "all good            7946.071725\n",
            "history error       3423.111524\n",
            "no history error    4241.319149\n",
            "Name: hislen, dtype: float64\n"
          ]
        },
        {
          "output_type": "error",
          "ename": "TypeError",
          "evalue": "unhashable type: 'list'",
          "traceback": [
            "\u001b[0;31m---------------------------------------------------------------------------\u001b[0m",
            "\u001b[0;31mTypeError\u001b[0m                                 Traceback (most recent call last)",
            "\u001b[0;32m<ipython-input-4-b91ea97f3075>\u001b[0m in \u001b[0;36m<cell line: 0>\u001b[0;34m()\u001b[0m\n\u001b[1;32m      3\u001b[0m \u001b[0;31m#print(dfnew['errcheckmbert'])\u001b[0m\u001b[0;34m\u001b[0m\u001b[0;34m\u001b[0m\u001b[0m\n\u001b[1;32m      4\u001b[0m \u001b[0;34m\u001b[0m\u001b[0m\n\u001b[0;32m----> 5\u001b[0;31m \u001b[0mreseval\u001b[0m\u001b[0;34m(\u001b[0m\u001b[0mdfnew\u001b[0m\u001b[0;34m,\u001b[0m \u001b[0;34m'mbert'\u001b[0m\u001b[0;34m)\u001b[0m\u001b[0;34m\u001b[0m\u001b[0;34m\u001b[0m\u001b[0m\n\u001b[0m",
            "\u001b[0;32m<ipython-input-2-3c5d7558d7e3>\u001b[0m in \u001b[0;36mreseval\u001b[0;34m(df, model)\u001b[0m\n\u001b[1;32m     18\u001b[0m     \u001b[0mwords\u001b[0m \u001b[0;34m=\u001b[0m  \u001b[0mgdf\u001b[0m\u001b[0;34m[\u001b[0m\u001b[0;34m'msg'\u001b[0m\u001b[0;34m]\u001b[0m\u001b[0;34m.\u001b[0m\u001b[0mapply\u001b[0m\u001b[0;34m(\u001b[0m\u001b[0;32mlambda\u001b[0m \u001b[0mc\u001b[0m\u001b[0;34m:\u001b[0m \u001b[0mre\u001b[0m\u001b[0;34m.\u001b[0m\u001b[0mfindall\u001b[0m\u001b[0;34m(\u001b[0m\u001b[0;34mr\"\\w+\"\u001b[0m\u001b[0;34m,\u001b[0m \u001b[0mc\u001b[0m\u001b[0;34m.\u001b[0m\u001b[0mlower\u001b[0m\u001b[0;34m(\u001b[0m\u001b[0;34m)\u001b[0m\u001b[0;34m,\u001b[0m \u001b[0mre\u001b[0m\u001b[0;34m.\u001b[0m\u001b[0mUNICODE\u001b[0m\u001b[0;34m)\u001b[0m\u001b[0;34m)\u001b[0m\u001b[0;34m\u001b[0m\u001b[0;34m\u001b[0m\u001b[0m\n\u001b[1;32m     19\u001b[0m \u001b[0;34m\u001b[0m\u001b[0m\n\u001b[0;32m---> 20\u001b[0;31m     \u001b[0mwc\u001b[0m \u001b[0;34m=\u001b[0m \u001b[0mCounter\u001b[0m\u001b[0;34m(\u001b[0m\u001b[0mwords\u001b[0m\u001b[0;34m)\u001b[0m\u001b[0;34m\u001b[0m\u001b[0;34m\u001b[0m\u001b[0m\n\u001b[0m\u001b[1;32m     21\u001b[0m     \u001b[0mprint\u001b[0m\u001b[0;34m(\u001b[0m\u001b[0;34m\" msot freq words in \"\u001b[0m\u001b[0;34m,\u001b[0m \u001b[0mg\u001b[0m\u001b[0;34m,\u001b[0m \u001b[0;34m\" \"\u001b[0m\u001b[0;34m,\u001b[0m \u001b[0mwc\u001b[0m\u001b[0;34m.\u001b[0m\u001b[0mmost_common\u001b[0m\u001b[0;34m(\u001b[0m\u001b[0;36m10\u001b[0m\u001b[0;34m)\u001b[0m \u001b[0;34m)\u001b[0m\u001b[0;34m\u001b[0m\u001b[0;34m\u001b[0m\u001b[0m\n\u001b[1;32m     22\u001b[0m \u001b[0;34m\u001b[0m\u001b[0m\n",
            "\u001b[0;32m/usr/lib/python3.11/collections/__init__.py\u001b[0m in \u001b[0;36m__init__\u001b[0;34m(self, iterable, **kwds)\u001b[0m\n\u001b[1;32m    597\u001b[0m         '''\n\u001b[1;32m    598\u001b[0m         \u001b[0msuper\u001b[0m\u001b[0;34m(\u001b[0m\u001b[0;34m)\u001b[0m\u001b[0;34m.\u001b[0m\u001b[0m__init__\u001b[0m\u001b[0;34m(\u001b[0m\u001b[0;34m)\u001b[0m\u001b[0;34m\u001b[0m\u001b[0;34m\u001b[0m\u001b[0m\n\u001b[0;32m--> 599\u001b[0;31m         \u001b[0mself\u001b[0m\u001b[0;34m.\u001b[0m\u001b[0mupdate\u001b[0m\u001b[0;34m(\u001b[0m\u001b[0miterable\u001b[0m\u001b[0;34m,\u001b[0m \u001b[0;34m**\u001b[0m\u001b[0mkwds\u001b[0m\u001b[0;34m)\u001b[0m\u001b[0;34m\u001b[0m\u001b[0;34m\u001b[0m\u001b[0m\n\u001b[0m\u001b[1;32m    600\u001b[0m \u001b[0;34m\u001b[0m\u001b[0m\n\u001b[1;32m    601\u001b[0m     \u001b[0;32mdef\u001b[0m \u001b[0m__missing__\u001b[0m\u001b[0;34m(\u001b[0m\u001b[0mself\u001b[0m\u001b[0;34m,\u001b[0m \u001b[0mkey\u001b[0m\u001b[0;34m)\u001b[0m\u001b[0;34m:\u001b[0m\u001b[0;34m\u001b[0m\u001b[0;34m\u001b[0m\u001b[0m\n",
            "\u001b[0;32m/usr/lib/python3.11/collections/__init__.py\u001b[0m in \u001b[0;36mupdate\u001b[0;34m(self, iterable, **kwds)\u001b[0m\n\u001b[1;32m    688\u001b[0m                     \u001b[0msuper\u001b[0m\u001b[0;34m(\u001b[0m\u001b[0;34m)\u001b[0m\u001b[0;34m.\u001b[0m\u001b[0mupdate\u001b[0m\u001b[0;34m(\u001b[0m\u001b[0miterable\u001b[0m\u001b[0;34m)\u001b[0m\u001b[0;34m\u001b[0m\u001b[0;34m\u001b[0m\u001b[0m\n\u001b[1;32m    689\u001b[0m             \u001b[0;32melse\u001b[0m\u001b[0;34m:\u001b[0m\u001b[0;34m\u001b[0m\u001b[0;34m\u001b[0m\u001b[0m\n\u001b[0;32m--> 690\u001b[0;31m                 \u001b[0m_count_elements\u001b[0m\u001b[0;34m(\u001b[0m\u001b[0mself\u001b[0m\u001b[0;34m,\u001b[0m \u001b[0miterable\u001b[0m\u001b[0;34m)\u001b[0m\u001b[0;34m\u001b[0m\u001b[0;34m\u001b[0m\u001b[0m\n\u001b[0m\u001b[1;32m    691\u001b[0m         \u001b[0;32mif\u001b[0m \u001b[0mkwds\u001b[0m\u001b[0;34m:\u001b[0m\u001b[0;34m\u001b[0m\u001b[0;34m\u001b[0m\u001b[0m\n\u001b[1;32m    692\u001b[0m             \u001b[0mself\u001b[0m\u001b[0;34m.\u001b[0m\u001b[0mupdate\u001b[0m\u001b[0;34m(\u001b[0m\u001b[0mkwds\u001b[0m\u001b[0;34m)\u001b[0m\u001b[0;34m\u001b[0m\u001b[0;34m\u001b[0m\u001b[0m\n",
            "\u001b[0;31mTypeError\u001b[0m: unhashable type: 'list'"
          ]
        }
      ]
    },
    {
      "cell_type": "code",
      "source": [
        "df = df.drop(columns=['Unnamed: 0.9', 'Unnamed: 0.8', 'Unnamed: 0.7', 'Unnamed: 0.6','Unnamed: 0.5', 'Unnamed: 0.4', 'Unnamed: 0.3', 'Unnamed: 0.2','Unnamed: 0.1', 'Unnamed: 0'])\n",
        "print(df.columns)"
      ],
      "metadata": {
        "colab": {
          "base_uri": "https://localhost:8080/"
        },
        "id": "jz2OZRTvQM-d",
        "outputId": "902c1ad2-65bb-4122-a162-92908a1d1932"
      },
      "execution_count": null,
      "outputs": [
        {
          "output_type": "stream",
          "name": "stdout",
          "text": [
            "Index(['mid', 'persuasion', 'deception', 'label', 'player', 'msg', 'quest',\n",
            "       'turn', 'file', 'withName', 'history', 'msgAndHistory',\n",
            "       'svmhistorypred', 'svmhistorylabelsT1D0', 'svmpred', 'svmlabelsT1D0',\n",
            "       'robertahistorypred', 'robertahistorylabelsT0D1', 'mberthistorypred',\n",
            "       'mberthistorylabelsT0D1', 'mbertpred', 'mbertlabelsT0D1', 'robertapred',\n",
            "       'robertalabelsT0D1', 'errcheckmbert', 'msglen', 'hislen'],\n",
            "      dtype='object')\n"
          ]
        }
      ]
    },
    {
      "cell_type": "code",
      "source": [
        "d = df.loc[df[\"label\"] == \"D\"]\n",
        "print(d)"
      ],
      "metadata": {
        "colab": {
          "base_uri": "https://localhost:8080/"
        },
        "id": "EJFHzTMmQgJT",
        "outputId": "08dff646-f96c-426d-9d56-e6b75cd21cf6"
      },
      "execution_count": null,
      "outputs": [
        {
          "output_type": "stream",
          "name": "stdout",
          "text": [
            "                mid           persuasion   deception label    player  \\\n",
            "6     0AA0zBNf2qloK            assertion    omission     D  player-5   \n",
            "10     8XXMLNXT28Q5            assertion    omission     D  player-1   \n",
            "21     ypp9gGWSYkqN            assertion   influence     D  player-1   \n",
            "28    oAAj4xkUXxRp4            assertion    omission     D  player-5   \n",
            "29    P66zDBvtKWX6K          questioning  commission     D  player-5   \n",
            "...             ...                  ...         ...   ...       ...   \n",
            "2366  nGGQ9N8i7Kzzp            assertion   influence     D  player-6   \n",
            "2373  3YYRxVlsmp5O0  critique/opposition   influence     D  player-2   \n",
            "2374   7DD8BVOcLgKp            assertion  commission     D  player-2   \n",
            "2375   VJJpVnySxg31            assertion  commission     D  player-2   \n",
            "2376   wnn9q7vFVVNR  critique/opposition  commission     D  player-2   \n",
            "\n",
            "                                                    msg  quest  turn  \\\n",
            "6     random selection apart from the previous two p...      2     1   \n",
            "10    hm, again, not much to start making claims abo...      2     3   \n",
            "21    hm, yeah, either we got very lucky, or some ev...      3     2   \n",
            "28    yeah, its unlikely this one would pass, but i ...      3     6   \n",
            "29    also, player-6 seems a little suspicious, look...      3     6   \n",
            "...                                                 ...    ...   ...   \n",
            "2366  so i'm not totally sure who to trust, but i do...      3     2   \n",
            "2373  i think player-1 is suspicious that he voted n...      3     4   \n",
            "2374                            and he keep pointing me      3     4   \n",
            "2375                               i am definitely good      3     4   \n",
            "2376                                   he is pretending      3     4   \n",
            "\n",
            "             file                                           withName  ...  \\\n",
            "6     1aKReQ.json  player-5: random selection apart from the prev...  ...   \n",
            "10    1aKReQ.json  player-1: hm, again, not much to start making ...  ...   \n",
            "21    1aKReQ.json  player-1: hm, yeah, either we got very lucky, ...  ...   \n",
            "28    1aKReQ.json  player-5: yeah, its unlikely this one would pa...  ...   \n",
            "29    1aKReQ.json  player-5: also, player-6 seems a little suspic...  ...   \n",
            "...           ...                                                ...  ...   \n",
            "2366  zbq2dp.json  player-6: so i'm not totally sure who to trust...  ...   \n",
            "2373  zbq2dp.json  player-2: i think player-1 is suspicious that ...  ...   \n",
            "2374  zbq2dp.json                  player-2: and he keep pointing me  ...   \n",
            "2375  zbq2dp.json                     player-2: i am definitely good  ...   \n",
            "2376  zbq2dp.json                         player-2: he is pretending  ...   \n",
            "\n",
            "     robertahistorylabelsT0D1 mberthistorypred  mberthistorylabelsT0D1  \\\n",
            "6                           1                0                       1   \n",
            "10                          1                0                       1   \n",
            "21                          1                0                       1   \n",
            "28                          1                0                       1   \n",
            "29                          1                0                       1   \n",
            "...                       ...              ...                     ...   \n",
            "2366                        1                1                       1   \n",
            "2373                        1                0                       1   \n",
            "2374                        1                0                       1   \n",
            "2375                        1                0                       1   \n",
            "2376                        1                0                       1   \n",
            "\n",
            "      mbertpred  mbertlabelsT0D1  robertapred  robertalabelsT0D1  \\\n",
            "6             0                1            0                  1   \n",
            "10            0                1            0                  1   \n",
            "21            0                1            0                  1   \n",
            "28            0                1            0                  1   \n",
            "29            0                1            0                  1   \n",
            "...         ...              ...          ...                ...   \n",
            "2366          0                1            0                  1   \n",
            "2373          0                1            0                  1   \n",
            "2374          0                1            0                  1   \n",
            "2375          0                1            0                  1   \n",
            "2376          0                1            0                  1   \n",
            "\n",
            "         errcheckmbert  msglen  hislen  \n",
            "6           Both error      69     400  \n",
            "10          Both error      72     670  \n",
            "21          Both error      58    1360  \n",
            "28          Both error     133    1971  \n",
            "29          Both error     128    2110  \n",
            "...                ...     ...     ...  \n",
            "2366  no history error      72    1863  \n",
            "2373        Both error      61    2273  \n",
            "2374        Both error      23    2307  \n",
            "2375        Both error      20    2338  \n",
            "2376        Both error      16    2365  \n",
            "\n",
            "[428 rows x 27 columns]\n"
          ]
        }
      ]
    },
    {
      "cell_type": "code",
      "source": [
        "#findinf patterns in the deceptive messages"
      ],
      "metadata": {
        "id": "FI0ihi4zRTN2"
      },
      "execution_count": null,
      "outputs": []
    },
    {
      "cell_type": "code",
      "source": [
        "words =  d['msg'].apply(lambda c: re.findall(r\"\\w+\", c.lower(), re.UNICODE))\n",
        "wlist = [w for ws in words for w in ws]\n",
        "wc = Counter(wlist)\n",
        "print(wc.most_common(15))"
      ],
      "metadata": {
        "colab": {
          "base_uri": "https://localhost:8080/"
        },
        "id": "I8Y4dq9WoYXO",
        "outputId": "e575c208-6dbc-4eb6-ce7d-d94e24575734"
      },
      "execution_count": null,
      "outputs": [
        {
          "output_type": "stream",
          "name": "stdout",
          "text": [
            "[('i', 467), ('player', 435), ('the', 348), ('to', 285), ('and', 184), ('is', 183), ('that', 165), ('on', 133), ('it', 129), ('party', 128), ('good', 117), ('of', 114), ('this', 106), ('a', 101), ('t', 95)]\n"
          ]
        }
      ]
    },
    {
      "cell_type": "code",
      "source": [
        "import transformers\n",
        "from transformers import pipeline\n"
      ],
      "metadata": {
        "id": "vr1baDD8oqSn"
      },
      "execution_count": null,
      "outputs": []
    },
    {
      "cell_type": "code",
      "source": [
        "sentiment_pipeline = pipeline(\"sentiment-analysis\")\n",
        "d['sentiment'] = \"\"\n",
        "#https://huggingface.co/blog/sentiment-analysis-python\n",
        "for i, (index, row) in enumerate(d.iterrows()):\n",
        "\n",
        "      #label = llmCall(prompt, row[column])\n",
        "      res = sentiment_pipeline(row['msg'])\n",
        "      #print(res[0]['label'])\n",
        "      d.at[index, 'sentiment'] = res[0]['label']\n",
        "#data = [\"I love you\", \"I hate you\"]\n",
        "#sentiment_pipeline(data)"
      ],
      "metadata": {
        "colab": {
          "base_uri": "https://localhost:8080/"
        },
        "id": "G5mbJCGssyZ0",
        "outputId": "1eabbbf4-bc06-4a2b-c390-776d361d6f88"
      },
      "execution_count": null,
      "outputs": [
        {
          "output_type": "stream",
          "name": "stderr",
          "text": [
            "No model was supplied, defaulted to distilbert/distilbert-base-uncased-finetuned-sst-2-english and revision 714eb0f (https://huggingface.co/distilbert/distilbert-base-uncased-finetuned-sst-2-english).\n",
            "Using a pipeline without specifying a model name and revision in production is not recommended.\n",
            "/usr/local/lib/python3.11/dist-packages/huggingface_hub/utils/_auth.py:94: UserWarning: \n",
            "The secret `HF_TOKEN` does not exist in your Colab secrets.\n",
            "To authenticate with the Hugging Face Hub, create a token in your settings tab (https://huggingface.co/settings/tokens), set it as secret in your Google Colab and restart your session.\n",
            "You will be able to reuse this secret in all of your notebooks.\n",
            "Please note that authentication is recommended but still optional to access public models or datasets.\n",
            "  warnings.warn(\n",
            "Device set to use cpu\n",
            "<ipython-input-11-f67ee82e504c>:2: SettingWithCopyWarning: \n",
            "A value is trying to be set on a copy of a slice from a DataFrame.\n",
            "Try using .loc[row_indexer,col_indexer] = value instead\n",
            "\n",
            "See the caveats in the documentation: https://pandas.pydata.org/pandas-docs/stable/user_guide/indexing.html#returning-a-view-versus-a-copy\n",
            "  d['sentiment'] = \"\"\n"
          ]
        }
      ]
    },
    {
      "cell_type": "code",
      "source": [
        "d['sentiment'].value_counts()"
      ],
      "metadata": {
        "colab": {
          "base_uri": "https://localhost:8080/",
          "height": 178
        },
        "id": "ceZColGItLia",
        "outputId": "fb3888e9-bf8a-4365-e606-b718459c1452"
      },
      "execution_count": null,
      "outputs": [
        {
          "output_type": "execute_result",
          "data": {
            "text/plain": [
              "sentiment\n",
              "NEGATIVE    300\n",
              "POSITIVE    128\n",
              "Name: count, dtype: int64"
            ],
            "text/html": [
              "<div>\n",
              "<style scoped>\n",
              "    .dataframe tbody tr th:only-of-type {\n",
              "        vertical-align: middle;\n",
              "    }\n",
              "\n",
              "    .dataframe tbody tr th {\n",
              "        vertical-align: top;\n",
              "    }\n",
              "\n",
              "    .dataframe thead th {\n",
              "        text-align: right;\n",
              "    }\n",
              "</style>\n",
              "<table border=\"1\" class=\"dataframe\">\n",
              "  <thead>\n",
              "    <tr style=\"text-align: right;\">\n",
              "      <th></th>\n",
              "      <th>count</th>\n",
              "    </tr>\n",
              "    <tr>\n",
              "      <th>sentiment</th>\n",
              "      <th></th>\n",
              "    </tr>\n",
              "  </thead>\n",
              "  <tbody>\n",
              "    <tr>\n",
              "      <th>NEGATIVE</th>\n",
              "      <td>300</td>\n",
              "    </tr>\n",
              "    <tr>\n",
              "      <th>POSITIVE</th>\n",
              "      <td>128</td>\n",
              "    </tr>\n",
              "  </tbody>\n",
              "</table>\n",
              "</div><br><label><b>dtype:</b> int64</label>"
            ]
          },
          "metadata": {},
          "execution_count": 12
        }
      ]
    },
    {
      "cell_type": "code",
      "source": [
        "!pip install keybert\n",
        "!pip install keyphrase-vectorizers"
      ],
      "metadata": {
        "colab": {
          "base_uri": "https://localhost:8080/"
        },
        "id": "mtZHvUK0tXPt",
        "outputId": "eefbfeb5-c08b-4d9a-ac14-c1818b85db41"
      },
      "execution_count": null,
      "outputs": [
        {
          "output_type": "stream",
          "name": "stdout",
          "text": [
            "Requirement already satisfied: keybert in /usr/local/lib/python3.11/dist-packages (0.9.0)\n",
            "Requirement already satisfied: numpy>=1.18.5 in /usr/local/lib/python3.11/dist-packages (from keybert) (2.0.2)\n",
            "Requirement already satisfied: rich>=10.4.0 in /usr/local/lib/python3.11/dist-packages (from keybert) (13.9.4)\n",
            "Requirement already satisfied: scikit-learn>=0.22.2 in /usr/local/lib/python3.11/dist-packages (from keybert) (1.6.1)\n",
            "Requirement already satisfied: sentence-transformers>=0.3.8 in /usr/local/lib/python3.11/dist-packages (from keybert) (4.1.0)\n",
            "Requirement already satisfied: markdown-it-py>=2.2.0 in /usr/local/lib/python3.11/dist-packages (from rich>=10.4.0->keybert) (3.0.0)\n",
            "Requirement already satisfied: pygments<3.0.0,>=2.13.0 in /usr/local/lib/python3.11/dist-packages (from rich>=10.4.0->keybert) (2.19.1)\n",
            "Requirement already satisfied: scipy>=1.6.0 in /usr/local/lib/python3.11/dist-packages (from scikit-learn>=0.22.2->keybert) (1.15.2)\n",
            "Requirement already satisfied: joblib>=1.2.0 in /usr/local/lib/python3.11/dist-packages (from scikit-learn>=0.22.2->keybert) (1.5.0)\n",
            "Requirement already satisfied: threadpoolctl>=3.1.0 in /usr/local/lib/python3.11/dist-packages (from scikit-learn>=0.22.2->keybert) (3.6.0)\n",
            "Requirement already satisfied: transformers<5.0.0,>=4.41.0 in /usr/local/lib/python3.11/dist-packages (from sentence-transformers>=0.3.8->keybert) (4.49.0)\n",
            "Requirement already satisfied: tqdm in /usr/local/lib/python3.11/dist-packages (from sentence-transformers>=0.3.8->keybert) (4.67.1)\n",
            "Requirement already satisfied: torch>=1.11.0 in /usr/local/lib/python3.11/dist-packages (from sentence-transformers>=0.3.8->keybert) (2.6.0+cu124)\n",
            "Requirement already satisfied: huggingface-hub>=0.20.0 in /usr/local/lib/python3.11/dist-packages (from sentence-transformers>=0.3.8->keybert) (0.31.1)\n",
            "Requirement already satisfied: Pillow in /usr/local/lib/python3.11/dist-packages (from sentence-transformers>=0.3.8->keybert) (11.2.1)\n",
            "Requirement already satisfied: typing_extensions>=4.5.0 in /usr/local/lib/python3.11/dist-packages (from sentence-transformers>=0.3.8->keybert) (4.13.2)\n",
            "Requirement already satisfied: filelock in /usr/local/lib/python3.11/dist-packages (from huggingface-hub>=0.20.0->sentence-transformers>=0.3.8->keybert) (3.18.0)\n",
            "Requirement already satisfied: fsspec>=2023.5.0 in /usr/local/lib/python3.11/dist-packages (from huggingface-hub>=0.20.0->sentence-transformers>=0.3.8->keybert) (2025.3.2)\n",
            "Requirement already satisfied: packaging>=20.9 in /usr/local/lib/python3.11/dist-packages (from huggingface-hub>=0.20.0->sentence-transformers>=0.3.8->keybert) (24.2)\n",
            "Requirement already satisfied: pyyaml>=5.1 in /usr/local/lib/python3.11/dist-packages (from huggingface-hub>=0.20.0->sentence-transformers>=0.3.8->keybert) (6.0.2)\n",
            "Requirement already satisfied: requests in /usr/local/lib/python3.11/dist-packages (from huggingface-hub>=0.20.0->sentence-transformers>=0.3.8->keybert) (2.32.3)\n",
            "Requirement already satisfied: hf-xet<2.0.0,>=1.1.0 in /usr/local/lib/python3.11/dist-packages (from huggingface-hub>=0.20.0->sentence-transformers>=0.3.8->keybert) (1.1.0)\n",
            "Requirement already satisfied: mdurl~=0.1 in /usr/local/lib/python3.11/dist-packages (from markdown-it-py>=2.2.0->rich>=10.4.0->keybert) (0.1.2)\n",
            "Requirement already satisfied: networkx in /usr/local/lib/python3.11/dist-packages (from torch>=1.11.0->sentence-transformers>=0.3.8->keybert) (3.4.2)\n",
            "Requirement already satisfied: jinja2 in /usr/local/lib/python3.11/dist-packages (from torch>=1.11.0->sentence-transformers>=0.3.8->keybert) (3.1.6)\n",
            "Requirement already satisfied: nvidia-cuda-nvrtc-cu12==12.4.127 in /usr/local/lib/python3.11/dist-packages (from torch>=1.11.0->sentence-transformers>=0.3.8->keybert) (12.4.127)\n",
            "Requirement already satisfied: nvidia-cuda-runtime-cu12==12.4.127 in /usr/local/lib/python3.11/dist-packages (from torch>=1.11.0->sentence-transformers>=0.3.8->keybert) (12.4.127)\n",
            "Requirement already satisfied: nvidia-cuda-cupti-cu12==12.4.127 in /usr/local/lib/python3.11/dist-packages (from torch>=1.11.0->sentence-transformers>=0.3.8->keybert) (12.4.127)\n",
            "Requirement already satisfied: nvidia-cudnn-cu12==9.1.0.70 in /usr/local/lib/python3.11/dist-packages (from torch>=1.11.0->sentence-transformers>=0.3.8->keybert) (9.1.0.70)\n",
            "Requirement already satisfied: nvidia-cublas-cu12==12.4.5.8 in /usr/local/lib/python3.11/dist-packages (from torch>=1.11.0->sentence-transformers>=0.3.8->keybert) (12.4.5.8)\n",
            "Requirement already satisfied: nvidia-cufft-cu12==11.2.1.3 in /usr/local/lib/python3.11/dist-packages (from torch>=1.11.0->sentence-transformers>=0.3.8->keybert) (11.2.1.3)\n",
            "Requirement already satisfied: nvidia-curand-cu12==10.3.5.147 in /usr/local/lib/python3.11/dist-packages (from torch>=1.11.0->sentence-transformers>=0.3.8->keybert) (10.3.5.147)\n",
            "Requirement already satisfied: nvidia-cusolver-cu12==11.6.1.9 in /usr/local/lib/python3.11/dist-packages (from torch>=1.11.0->sentence-transformers>=0.3.8->keybert) (11.6.1.9)\n",
            "Requirement already satisfied: nvidia-cusparse-cu12==12.3.1.170 in /usr/local/lib/python3.11/dist-packages (from torch>=1.11.0->sentence-transformers>=0.3.8->keybert) (12.3.1.170)\n",
            "Requirement already satisfied: nvidia-cusparselt-cu12==0.6.2 in /usr/local/lib/python3.11/dist-packages (from torch>=1.11.0->sentence-transformers>=0.3.8->keybert) (0.6.2)\n",
            "Requirement already satisfied: nvidia-nccl-cu12==2.21.5 in /usr/local/lib/python3.11/dist-packages (from torch>=1.11.0->sentence-transformers>=0.3.8->keybert) (2.21.5)\n",
            "Requirement already satisfied: nvidia-nvtx-cu12==12.4.127 in /usr/local/lib/python3.11/dist-packages (from torch>=1.11.0->sentence-transformers>=0.3.8->keybert) (12.4.127)\n",
            "Requirement already satisfied: nvidia-nvjitlink-cu12==12.4.127 in /usr/local/lib/python3.11/dist-packages (from torch>=1.11.0->sentence-transformers>=0.3.8->keybert) (12.4.127)\n",
            "Requirement already satisfied: triton==3.2.0 in /usr/local/lib/python3.11/dist-packages (from torch>=1.11.0->sentence-transformers>=0.3.8->keybert) (3.2.0)\n",
            "Requirement already satisfied: sympy==1.13.1 in /usr/local/lib/python3.11/dist-packages (from torch>=1.11.0->sentence-transformers>=0.3.8->keybert) (1.13.1)\n",
            "Requirement already satisfied: mpmath<1.4,>=1.1.0 in /usr/local/lib/python3.11/dist-packages (from sympy==1.13.1->torch>=1.11.0->sentence-transformers>=0.3.8->keybert) (1.3.0)\n",
            "Requirement already satisfied: regex!=2019.12.17 in /usr/local/lib/python3.11/dist-packages (from transformers<5.0.0,>=4.41.0->sentence-transformers>=0.3.8->keybert) (2024.11.6)\n",
            "Requirement already satisfied: tokenizers<0.22,>=0.21 in /usr/local/lib/python3.11/dist-packages (from transformers<5.0.0,>=4.41.0->sentence-transformers>=0.3.8->keybert) (0.21.1)\n",
            "Requirement already satisfied: safetensors>=0.4.1 in /usr/local/lib/python3.11/dist-packages (from transformers<5.0.0,>=4.41.0->sentence-transformers>=0.3.8->keybert) (0.5.3)\n",
            "Requirement already satisfied: MarkupSafe>=2.0 in /usr/local/lib/python3.11/dist-packages (from jinja2->torch>=1.11.0->sentence-transformers>=0.3.8->keybert) (3.0.2)\n",
            "Requirement already satisfied: charset-normalizer<4,>=2 in /usr/local/lib/python3.11/dist-packages (from requests->huggingface-hub>=0.20.0->sentence-transformers>=0.3.8->keybert) (3.4.2)\n",
            "Requirement already satisfied: idna<4,>=2.5 in /usr/local/lib/python3.11/dist-packages (from requests->huggingface-hub>=0.20.0->sentence-transformers>=0.3.8->keybert) (3.10)\n",
            "Requirement already satisfied: urllib3<3,>=1.21.1 in /usr/local/lib/python3.11/dist-packages (from requests->huggingface-hub>=0.20.0->sentence-transformers>=0.3.8->keybert) (2.4.0)\n",
            "Requirement already satisfied: certifi>=2017.4.17 in /usr/local/lib/python3.11/dist-packages (from requests->huggingface-hub>=0.20.0->sentence-transformers>=0.3.8->keybert) (2025.4.26)\n",
            "Requirement already satisfied: keyphrase-vectorizers in /usr/local/lib/python3.11/dist-packages (0.0.13)\n",
            "Requirement already satisfied: numpy>=1.18.5 in /usr/local/lib/python3.11/dist-packages (from keyphrase-vectorizers) (2.0.2)\n",
            "Requirement already satisfied: spacy>=3.0.1 in /usr/local/lib/python3.11/dist-packages (from keyphrase-vectorizers) (3.8.5)\n",
            "Requirement already satisfied: spacy-transformers>=1.1.6 in /usr/local/lib/python3.11/dist-packages (from keyphrase-vectorizers) (1.3.8)\n",
            "Requirement already satisfied: spacy-curated-transformers>=0.2.2 in /usr/local/lib/python3.11/dist-packages (from keyphrase-vectorizers) (0.3.0)\n",
            "Requirement already satisfied: nltk>=3.6.1 in /usr/local/lib/python3.11/dist-packages (from keyphrase-vectorizers) (3.9.1)\n",
            "Requirement already satisfied: scikit-learn>=1.0 in /usr/local/lib/python3.11/dist-packages (from keyphrase-vectorizers) (1.6.1)\n",
            "Requirement already satisfied: scipy>=1.7.3 in /usr/local/lib/python3.11/dist-packages (from keyphrase-vectorizers) (1.15.2)\n",
            "Requirement already satisfied: psutil>=5.8.0 in /usr/local/lib/python3.11/dist-packages (from keyphrase-vectorizers) (5.9.5)\n",
            "Requirement already satisfied: click in /usr/local/lib/python3.11/dist-packages (from nltk>=3.6.1->keyphrase-vectorizers) (8.1.8)\n",
            "Requirement already satisfied: joblib in /usr/local/lib/python3.11/dist-packages (from nltk>=3.6.1->keyphrase-vectorizers) (1.5.0)\n",
            "Requirement already satisfied: regex>=2021.8.3 in /usr/local/lib/python3.11/dist-packages (from nltk>=3.6.1->keyphrase-vectorizers) (2024.11.6)\n",
            "Requirement already satisfied: tqdm in /usr/local/lib/python3.11/dist-packages (from nltk>=3.6.1->keyphrase-vectorizers) (4.67.1)\n",
            "Requirement already satisfied: threadpoolctl>=3.1.0 in /usr/local/lib/python3.11/dist-packages (from scikit-learn>=1.0->keyphrase-vectorizers) (3.6.0)\n",
            "Requirement already satisfied: spacy-legacy<3.1.0,>=3.0.11 in /usr/local/lib/python3.11/dist-packages (from spacy>=3.0.1->keyphrase-vectorizers) (3.0.12)\n",
            "Requirement already satisfied: spacy-loggers<2.0.0,>=1.0.0 in /usr/local/lib/python3.11/dist-packages (from spacy>=3.0.1->keyphrase-vectorizers) (1.0.5)\n",
            "Requirement already satisfied: murmurhash<1.1.0,>=0.28.0 in /usr/local/lib/python3.11/dist-packages (from spacy>=3.0.1->keyphrase-vectorizers) (1.0.12)\n",
            "Requirement already satisfied: cymem<2.1.0,>=2.0.2 in /usr/local/lib/python3.11/dist-packages (from spacy>=3.0.1->keyphrase-vectorizers) (2.0.11)\n",
            "Requirement already satisfied: preshed<3.1.0,>=3.0.2 in /usr/local/lib/python3.11/dist-packages (from spacy>=3.0.1->keyphrase-vectorizers) (3.0.9)\n",
            "Requirement already satisfied: thinc<8.4.0,>=8.3.4 in /usr/local/lib/python3.11/dist-packages (from spacy>=3.0.1->keyphrase-vectorizers) (8.3.6)\n",
            "Requirement already satisfied: wasabi<1.2.0,>=0.9.1 in /usr/local/lib/python3.11/dist-packages (from spacy>=3.0.1->keyphrase-vectorizers) (1.1.3)\n",
            "Requirement already satisfied: srsly<3.0.0,>=2.4.3 in /usr/local/lib/python3.11/dist-packages (from spacy>=3.0.1->keyphrase-vectorizers) (2.5.1)\n",
            "Requirement already satisfied: catalogue<2.1.0,>=2.0.6 in /usr/local/lib/python3.11/dist-packages (from spacy>=3.0.1->keyphrase-vectorizers) (2.0.10)\n",
            "Requirement already satisfied: weasel<0.5.0,>=0.1.0 in /usr/local/lib/python3.11/dist-packages (from spacy>=3.0.1->keyphrase-vectorizers) (0.4.1)\n",
            "Requirement already satisfied: typer<1.0.0,>=0.3.0 in /usr/local/lib/python3.11/dist-packages (from spacy>=3.0.1->keyphrase-vectorizers) (0.15.3)\n",
            "Requirement already satisfied: requests<3.0.0,>=2.13.0 in /usr/local/lib/python3.11/dist-packages (from spacy>=3.0.1->keyphrase-vectorizers) (2.32.3)\n",
            "Requirement already satisfied: pydantic!=1.8,!=1.8.1,<3.0.0,>=1.7.4 in /usr/local/lib/python3.11/dist-packages (from spacy>=3.0.1->keyphrase-vectorizers) (2.11.4)\n",
            "Requirement already satisfied: jinja2 in /usr/local/lib/python3.11/dist-packages (from spacy>=3.0.1->keyphrase-vectorizers) (3.1.6)\n",
            "Requirement already satisfied: setuptools in /usr/local/lib/python3.11/dist-packages (from spacy>=3.0.1->keyphrase-vectorizers) (75.2.0)\n",
            "Requirement already satisfied: packaging>=20.0 in /usr/local/lib/python3.11/dist-packages (from spacy>=3.0.1->keyphrase-vectorizers) (24.2)\n",
            "Requirement already satisfied: langcodes<4.0.0,>=3.2.0 in /usr/local/lib/python3.11/dist-packages (from spacy>=3.0.1->keyphrase-vectorizers) (3.5.0)\n",
            "Requirement already satisfied: curated-transformers<0.2.0,>=0.1.0 in /usr/local/lib/python3.11/dist-packages (from spacy-curated-transformers>=0.2.2->keyphrase-vectorizers) (0.1.1)\n",
            "Requirement already satisfied: curated-tokenizers<0.1.0,>=0.0.9 in /usr/local/lib/python3.11/dist-packages (from spacy-curated-transformers>=0.2.2->keyphrase-vectorizers) (0.0.9)\n",
            "Requirement already satisfied: torch>=1.12.0 in /usr/local/lib/python3.11/dist-packages (from spacy-curated-transformers>=0.2.2->keyphrase-vectorizers) (2.6.0+cu124)\n",
            "Requirement already satisfied: transformers<4.50.0,>=3.4.0 in /usr/local/lib/python3.11/dist-packages (from spacy-transformers>=1.1.6->keyphrase-vectorizers) (4.49.0)\n",
            "Requirement already satisfied: spacy-alignments<1.0.0,>=0.7.2 in /usr/local/lib/python3.11/dist-packages (from spacy-transformers>=1.1.6->keyphrase-vectorizers) (0.9.1)\n",
            "Requirement already satisfied: language-data>=1.2 in /usr/local/lib/python3.11/dist-packages (from langcodes<4.0.0,>=3.2.0->spacy>=3.0.1->keyphrase-vectorizers) (1.3.0)\n",
            "Requirement already satisfied: annotated-types>=0.6.0 in /usr/local/lib/python3.11/dist-packages (from pydantic!=1.8,!=1.8.1,<3.0.0,>=1.7.4->spacy>=3.0.1->keyphrase-vectorizers) (0.7.0)\n",
            "Requirement already satisfied: pydantic-core==2.33.2 in /usr/local/lib/python3.11/dist-packages (from pydantic!=1.8,!=1.8.1,<3.0.0,>=1.7.4->spacy>=3.0.1->keyphrase-vectorizers) (2.33.2)\n",
            "Requirement already satisfied: typing-extensions>=4.12.2 in /usr/local/lib/python3.11/dist-packages (from pydantic!=1.8,!=1.8.1,<3.0.0,>=1.7.4->spacy>=3.0.1->keyphrase-vectorizers) (4.13.2)\n",
            "Requirement already satisfied: typing-inspection>=0.4.0 in /usr/local/lib/python3.11/dist-packages (from pydantic!=1.8,!=1.8.1,<3.0.0,>=1.7.4->spacy>=3.0.1->keyphrase-vectorizers) (0.4.0)\n",
            "Requirement already satisfied: charset-normalizer<4,>=2 in /usr/local/lib/python3.11/dist-packages (from requests<3.0.0,>=2.13.0->spacy>=3.0.1->keyphrase-vectorizers) (3.4.2)\n",
            "Requirement already satisfied: idna<4,>=2.5 in /usr/local/lib/python3.11/dist-packages (from requests<3.0.0,>=2.13.0->spacy>=3.0.1->keyphrase-vectorizers) (3.10)\n",
            "Requirement already satisfied: urllib3<3,>=1.21.1 in /usr/local/lib/python3.11/dist-packages (from requests<3.0.0,>=2.13.0->spacy>=3.0.1->keyphrase-vectorizers) (2.4.0)\n",
            "Requirement already satisfied: certifi>=2017.4.17 in /usr/local/lib/python3.11/dist-packages (from requests<3.0.0,>=2.13.0->spacy>=3.0.1->keyphrase-vectorizers) (2025.4.26)\n",
            "Requirement already satisfied: blis<1.4.0,>=1.3.0 in /usr/local/lib/python3.11/dist-packages (from thinc<8.4.0,>=8.3.4->spacy>=3.0.1->keyphrase-vectorizers) (1.3.0)\n",
            "Requirement already satisfied: confection<1.0.0,>=0.0.1 in /usr/local/lib/python3.11/dist-packages (from thinc<8.4.0,>=8.3.4->spacy>=3.0.1->keyphrase-vectorizers) (0.1.5)\n",
            "Requirement already satisfied: filelock in /usr/local/lib/python3.11/dist-packages (from torch>=1.12.0->spacy-curated-transformers>=0.2.2->keyphrase-vectorizers) (3.18.0)\n",
            "Requirement already satisfied: networkx in /usr/local/lib/python3.11/dist-packages (from torch>=1.12.0->spacy-curated-transformers>=0.2.2->keyphrase-vectorizers) (3.4.2)\n",
            "Requirement already satisfied: fsspec in /usr/local/lib/python3.11/dist-packages (from torch>=1.12.0->spacy-curated-transformers>=0.2.2->keyphrase-vectorizers) (2025.3.2)\n",
            "Requirement already satisfied: nvidia-cuda-nvrtc-cu12==12.4.127 in /usr/local/lib/python3.11/dist-packages (from torch>=1.12.0->spacy-curated-transformers>=0.2.2->keyphrase-vectorizers) (12.4.127)\n",
            "Requirement already satisfied: nvidia-cuda-runtime-cu12==12.4.127 in /usr/local/lib/python3.11/dist-packages (from torch>=1.12.0->spacy-curated-transformers>=0.2.2->keyphrase-vectorizers) (12.4.127)\n",
            "Requirement already satisfied: nvidia-cuda-cupti-cu12==12.4.127 in /usr/local/lib/python3.11/dist-packages (from torch>=1.12.0->spacy-curated-transformers>=0.2.2->keyphrase-vectorizers) (12.4.127)\n",
            "Requirement already satisfied: nvidia-cudnn-cu12==9.1.0.70 in /usr/local/lib/python3.11/dist-packages (from torch>=1.12.0->spacy-curated-transformers>=0.2.2->keyphrase-vectorizers) (9.1.0.70)\n",
            "Requirement already satisfied: nvidia-cublas-cu12==12.4.5.8 in /usr/local/lib/python3.11/dist-packages (from torch>=1.12.0->spacy-curated-transformers>=0.2.2->keyphrase-vectorizers) (12.4.5.8)\n",
            "Requirement already satisfied: nvidia-cufft-cu12==11.2.1.3 in /usr/local/lib/python3.11/dist-packages (from torch>=1.12.0->spacy-curated-transformers>=0.2.2->keyphrase-vectorizers) (11.2.1.3)\n",
            "Requirement already satisfied: nvidia-curand-cu12==10.3.5.147 in /usr/local/lib/python3.11/dist-packages (from torch>=1.12.0->spacy-curated-transformers>=0.2.2->keyphrase-vectorizers) (10.3.5.147)\n",
            "Requirement already satisfied: nvidia-cusolver-cu12==11.6.1.9 in /usr/local/lib/python3.11/dist-packages (from torch>=1.12.0->spacy-curated-transformers>=0.2.2->keyphrase-vectorizers) (11.6.1.9)\n",
            "Requirement already satisfied: nvidia-cusparse-cu12==12.3.1.170 in /usr/local/lib/python3.11/dist-packages (from torch>=1.12.0->spacy-curated-transformers>=0.2.2->keyphrase-vectorizers) (12.3.1.170)\n",
            "Requirement already satisfied: nvidia-cusparselt-cu12==0.6.2 in /usr/local/lib/python3.11/dist-packages (from torch>=1.12.0->spacy-curated-transformers>=0.2.2->keyphrase-vectorizers) (0.6.2)\n",
            "Requirement already satisfied: nvidia-nccl-cu12==2.21.5 in /usr/local/lib/python3.11/dist-packages (from torch>=1.12.0->spacy-curated-transformers>=0.2.2->keyphrase-vectorizers) (2.21.5)\n",
            "Requirement already satisfied: nvidia-nvtx-cu12==12.4.127 in /usr/local/lib/python3.11/dist-packages (from torch>=1.12.0->spacy-curated-transformers>=0.2.2->keyphrase-vectorizers) (12.4.127)\n",
            "Requirement already satisfied: nvidia-nvjitlink-cu12==12.4.127 in /usr/local/lib/python3.11/dist-packages (from torch>=1.12.0->spacy-curated-transformers>=0.2.2->keyphrase-vectorizers) (12.4.127)\n",
            "Requirement already satisfied: triton==3.2.0 in /usr/local/lib/python3.11/dist-packages (from torch>=1.12.0->spacy-curated-transformers>=0.2.2->keyphrase-vectorizers) (3.2.0)\n",
            "Requirement already satisfied: sympy==1.13.1 in /usr/local/lib/python3.11/dist-packages (from torch>=1.12.0->spacy-curated-transformers>=0.2.2->keyphrase-vectorizers) (1.13.1)\n",
            "Requirement already satisfied: mpmath<1.4,>=1.1.0 in /usr/local/lib/python3.11/dist-packages (from sympy==1.13.1->torch>=1.12.0->spacy-curated-transformers>=0.2.2->keyphrase-vectorizers) (1.3.0)\n",
            "Requirement already satisfied: huggingface-hub<1.0,>=0.26.0 in /usr/local/lib/python3.11/dist-packages (from transformers<4.50.0,>=3.4.0->spacy-transformers>=1.1.6->keyphrase-vectorizers) (0.31.1)\n",
            "Requirement already satisfied: pyyaml>=5.1 in /usr/local/lib/python3.11/dist-packages (from transformers<4.50.0,>=3.4.0->spacy-transformers>=1.1.6->keyphrase-vectorizers) (6.0.2)\n",
            "Requirement already satisfied: tokenizers<0.22,>=0.21 in /usr/local/lib/python3.11/dist-packages (from transformers<4.50.0,>=3.4.0->spacy-transformers>=1.1.6->keyphrase-vectorizers) (0.21.1)\n",
            "Requirement already satisfied: safetensors>=0.4.1 in /usr/local/lib/python3.11/dist-packages (from transformers<4.50.0,>=3.4.0->spacy-transformers>=1.1.6->keyphrase-vectorizers) (0.5.3)\n",
            "Requirement already satisfied: shellingham>=1.3.0 in /usr/local/lib/python3.11/dist-packages (from typer<1.0.0,>=0.3.0->spacy>=3.0.1->keyphrase-vectorizers) (1.5.4)\n",
            "Requirement already satisfied: rich>=10.11.0 in /usr/local/lib/python3.11/dist-packages (from typer<1.0.0,>=0.3.0->spacy>=3.0.1->keyphrase-vectorizers) (13.9.4)\n",
            "Requirement already satisfied: cloudpathlib<1.0.0,>=0.7.0 in /usr/local/lib/python3.11/dist-packages (from weasel<0.5.0,>=0.1.0->spacy>=3.0.1->keyphrase-vectorizers) (0.21.0)\n",
            "Requirement already satisfied: smart-open<8.0.0,>=5.2.1 in /usr/local/lib/python3.11/dist-packages (from weasel<0.5.0,>=0.1.0->spacy>=3.0.1->keyphrase-vectorizers) (7.1.0)\n",
            "Requirement already satisfied: MarkupSafe>=2.0 in /usr/local/lib/python3.11/dist-packages (from jinja2->spacy>=3.0.1->keyphrase-vectorizers) (3.0.2)\n",
            "Requirement already satisfied: hf-xet<2.0.0,>=1.1.0 in /usr/local/lib/python3.11/dist-packages (from huggingface-hub<1.0,>=0.26.0->transformers<4.50.0,>=3.4.0->spacy-transformers>=1.1.6->keyphrase-vectorizers) (1.1.0)\n",
            "Requirement already satisfied: marisa-trie>=1.1.0 in /usr/local/lib/python3.11/dist-packages (from language-data>=1.2->langcodes<4.0.0,>=3.2.0->spacy>=3.0.1->keyphrase-vectorizers) (1.2.1)\n",
            "Requirement already satisfied: markdown-it-py>=2.2.0 in /usr/local/lib/python3.11/dist-packages (from rich>=10.11.0->typer<1.0.0,>=0.3.0->spacy>=3.0.1->keyphrase-vectorizers) (3.0.0)\n",
            "Requirement already satisfied: pygments<3.0.0,>=2.13.0 in /usr/local/lib/python3.11/dist-packages (from rich>=10.11.0->typer<1.0.0,>=0.3.0->spacy>=3.0.1->keyphrase-vectorizers) (2.19.1)\n",
            "Requirement already satisfied: wrapt in /usr/local/lib/python3.11/dist-packages (from smart-open<8.0.0,>=5.2.1->weasel<0.5.0,>=0.1.0->spacy>=3.0.1->keyphrase-vectorizers) (1.17.2)\n",
            "Requirement already satisfied: mdurl~=0.1 in /usr/local/lib/python3.11/dist-packages (from markdown-it-py>=2.2.0->rich>=10.11.0->typer<1.0.0,>=0.3.0->spacy>=3.0.1->keyphrase-vectorizers) (0.1.2)\n"
          ]
        }
      ]
    },
    {
      "cell_type": "code",
      "source": [
        "import keyphrase_vectorizers\n",
        "import keybert\n",
        "from keyphrase_vectorizers import KeyphraseCountVectorizer\n",
        "from keybert import KeyBERT"
      ],
      "metadata": {
        "id": "4d5UggkvuScd"
      },
      "execution_count": null,
      "outputs": []
    },
    {
      "cell_type": "code",
      "source": [
        "#https://towardsdatascience.com/enhancing-keybert-keyword-extraction-results-with-keyphrasevectorizers-3796fa93f4db/\n",
        "kw_model = KeyBERT()\n",
        "textlist = ' '.join(d['msg'])\n",
        "kw_model.extract_keywords(docs=textlist, vectorizer=KeyphraseCountVectorizer(), top_n = 10)"
      ],
      "metadata": {
        "colab": {
          "base_uri": "https://localhost:8080/"
        },
        "id": "vJ14rVDiuXEB",
        "outputId": "bd146dfa-7818-46fc-c573-719b53e4ce77"
      },
      "execution_count": null,
      "outputs": [
        {
          "output_type": "execute_result",
          "data": {
            "text/plain": [
              "[('uninvolved second evil player', 0.4966),\n",
              " ('unlucky party pick', 0.4895),\n",
              " ('evil player', 0.453),\n",
              " ('merlin', 0.4299),\n",
              " ('1st quest party members', 0.4027),\n",
              " ('belief player-6', 0.3998),\n",
              " ('player-5', 0.3957),\n",
              " ('player-4 hm', 0.3915),\n",
              " ('player-6', 0.3897),\n",
              " ('weird player-1', 0.376)]"
            ]
          },
          "metadata": {},
          "execution_count": 28
        }
      ]
    },
    {
      "cell_type": "code",
      "source": [
        "textlist = '. '.join(d['msg'])\n",
        "for m in d['msg']:\n",
        "  print(m)"
      ],
      "metadata": {
        "colab": {
          "base_uri": "https://localhost:8080/"
        },
        "id": "MebQO4d4xKUu",
        "outputId": "729f5e8a-04db-4bf5-80cb-90beeec595f6"
      },
      "execution_count": null,
      "outputs": [
        {
          "output_type": "stream",
          "name": "stdout",
          "text": [
            "random selection apart from the previous two people of the last quest\n",
            "hm, again, not much to start making claims about, but it's a little odd.\n",
            "hm, yeah, either we got very lucky, or some evil is hiding\n",
            "yeah, its unlikely this one would pass, but i don't have any additional info to suggest anything else, so i guess i'm fine with this.\n",
            "also, player-6 seems a little suspicious, looks like he has some additional info, he might be evil or he might be merlin as well\n",
            "i agree that it's weird that player-5 tries to call out merlin. doesn't seem to me like something a good person would do.\n",
            "i would say that the current setup would fail since i know im good and since i'm not included in this party there is one evil person in it\n",
            "if this fails, i would be suspicious of player-6 a little bit\n",
            "also just out of curiosity( i don't think you're evil, just asking), if you think im not evil why did you not vote for the last party? question for player-4\n",
            "hm, the consensus seems to be that player-6 and player-5 are on differ teams, so we need one of them on the four player party\n",
            "i am still more suspicious of player-5 than of player-6, so i will keep player-6 on the current party\n",
            "i don't know much about player-3 and player-4 yet, so there is not much to say about them\n",
            "for player-2, he wanted to give player-5 another chance, so for now, i keep player-4 and player-3 because knowing nothing about them is still better than player-2 supporting player-5\n",
            "but these are all weak suspicions\n",
            "at some point we have to agree to a party so i guess i'll vote for this one. i'm not sure about player-3 or player-2, for player-1 and player-4 i think they're good since they were on the previous party and\n",
            "i am little suspicious of player-6 so its goof to keep him out for this one\n",
            "yeah, i am not happy with this party as both of the people i suspected are on this party\n",
            "i don't like this party as player-2 and player-3 are both in it and they seem to be in different team, i have no idea who is good though\n",
            "also i agree with player-4's argument but that's not necessarily suspicious but yes i would like to know the reason for that\n",
            "i think we all have our suspicions about player-5, so i don't get why he would be included by player-2 and player-3.\n",
            "however, we can't have three evils, so assuming player-5 is bad, one of the two doesn't play logically here.\n",
            "in your own turns, can you elaborate on why you think player-5 is good? maybe i am missing something.\n",
            "i'm sure player-3 won't take herself of the proposed party in favor fo player-2, but as i am not slightly suspicious of both of them, i guess i'd be fine with it for now if player-3 stays on it\n",
            "i think player-4 is good and that's what most people agree on as well\n",
            "i also feel a little suspicious of player-3 because her arguments are not consistent\n",
            "well, this is half of my wishlist. i kinda wanted player-6 on the quest and not player-5 because i think it's likely that player-6 is good and player-5 isn't.\n",
            "i will still vote no for this party, but as player-6 said, i don't want to loose the game because we don't fine a party, so whatever is next, i will approve\n",
            "not much of a choice now, we have to vote yes to this\n",
            "yeah, i won't learn anything from this, but sure, i don't want to loose now, so i approve\n",
            "i don't think we need another quest to confirm that player-5 is evil.\n",
            "hm, these were very strong allegations against player-3, player-4\n",
            "sure, you pointed out that she mis voted, intentionally or unintentionally, before, which makes her seem evil, but this is now took a strong turn\n",
            "so i think as we only need three people, i will approve of this\n",
            "player-3 and player-1 do look suspicious to me so i don't like this\n",
            "well, as i said before, i didn't trust player-3 fully yet, however, player-4, your allegations were very sudden and strong, so that seemed odd to me despite me trusting you initially.\n",
            "i don't get why you are trying to blame me though. on what grounds?!\n",
            "by that conclusion, player-3 is the bad here and player-5 is bad anyways\n",
            "yeah so last turn i said that there are two teams forming: me, player-4 and player-2 and other team player-3, player-1 and player-6. in the last quest all of the people i suspected were there\n",
            "it clearly shows that the three of us player-2, me and player-4 are good. from the other 3 i would say we can include player-6 based on the reasons player-4 mentioned\n",
            "but i think two of these three have to be evil\n",
            "it makes sense that player-3 is casting shade on me now because she tries to save her credibility.\n",
            "also, early on, when we all already suspected player-5, she kept proposing parties with player-5 on it, so to me it makes sense that she is the most likely evil\n",
            "also, player-5, if you say two evils were on the previous party, that means you think player-6 is evil, which doesn't make sense to me\n",
            "also, player-2, why do you try to not trust player-6 all of a sudden? you seem to be switching your alliances a lot too\n",
            "so frankly, i don't trust anyone but player-6 fully\n",
            "i still suspect that 2/ 3 people in the last round are evil\n",
            "either way, as i am not on the party, this quest will surely fail. given player-4's argument and the last quest outcome, i still think that player-3 is the second evil.\n",
            "i literally dont see why that explanation of me changing tabs and time running out is not convincing\n",
            "knowing fully that people will fail it even if i vote pass\n",
            "it seems too much of a coincidence to pass it together without communication\n",
            "yeah, player-4, you are all over the place with your allegations. first it was player-3, then it was me, then player-3 again, then player-5, what's it gonna be?\n",
            "i still think you are good as player-3 failed the previous party, so i don't get what your plan is here\n",
            "i still think player-1 and player-3 are suspicious but i also player-4 has been placing blame on far too many people too often\n",
            "also answering his question, the two things he mentioned aren't same since i literally wrote that it was a mistake in that round and she didn't\n",
            "seems ok to me. only first round, so don't really know much about player-5 or player-4 yet.\n",
            "but i'm good, so i'll go ahead and continue with the party and add myself. don't see any other way to proceed at the moment.\n",
            "emma the party seems good to me now as we don't have much info. let's see.\n",
            "so i'm not sure why there's so much distrust regarding me. i haven't voted yet, but neither have player-1 nor player-2.\n",
            "on that note though, it is a bit suspicious that player-1 would not protest more if he is good.\n",
            "i would've expected him to want to be on the party. but he is also not that naive at the game to make the mistake if he's evil.\n",
            "i mean i'll put it to a vote because i'm not sure who else i'm supposed to swap out here. reject it if you'd like to discuss more.\n",
            "normally, i would vote no on the party. but if everyone wants to pass it to gather information that's fine.\n",
            "at this point, player-1 is still the most suspicious to me from the last quest.\n",
            "well, what we know for sure is that one of player-5, player-3, player-4, or player-1 is bad\n",
            "i don't disagree with the others that this is a big change from the previous party.\n",
            "i know for myself that i am good. so from my perspective, it comes down to this: if player-2 is also good, then that means 2 ppl in the 4 person party are bad\n",
            "player-2 could also be bad herself, but to be honest i'm not getting much indication from evil either way here\n",
            "there are some accusations between player-3 and player-1. so from my perspective i would maybe opt to exclude both? i don't know tbe\n",
            "same for me with not a lot of information at this point, but i would be happy to be on the quest.\n",
            "and you wont regret it\n",
            "same with the above three players.\n",
            "for now, i would propose myself because i am on the good side. because the first round would not be helpful in terms of gathering information, i would propose bringing on player-1 at the very least.\n",
            "first of all, i have to propose myself on the good side. from the information i got from the chat. i think player-2 might be a good guy. to ensure the mission to be successful i would like to join the team\n",
            "since for now, there would only be one spot left if we want to gather some clues about the roles at all. i would keep my previous proposal, if you insist that you should be on the quest, i think we could include you on the next one. because the one with 4 is the hardest to succeed.\n",
            "surprisingly player-6 did not approve the vote. my mind is kind of in a mess now. i need some extra information to get further conclusions. but for the current round, i agree with the party.\n",
            "so it seems that we have at least one person on the bad side, so we need to choose this one wisely. given the current information we have, i would exclude player-3 from the quest at the very least, although not much can be said about me and player-1 were on the first successful round. i am on the good side, and we really need this to succeed. given the credibility player-3 has here with me, i would decline any proposal from him unless he is percival. and it would be safer to pass it to player-4 or player-5.\n",
            "im not so sure why the quest 3 failed. first of all, i have to claim myself as a good guy. im not so sure about player-6, though player-6 seemed to trust my based on his words. but for this time, i would like to try a different party.\n",
            "given that this is a very important one, i would agree with player-5 that we should not include player-3 on the quest. as for player-6, i would encourage putting him on the quest in place of player-5 or player-4 because to me he seems to have some information and has voted no on the previous failed quest. following the previous failed round, i would strongly advice putting myself on the quest as well.\n",
            "it seems that player-6 and player-5 share the same idea. to ensure the safety of the quest. i would like to do an experiment. let player-5, player-6 and me on the board. so if the quest fails, i would have to say that player-5 and player-6 may be trying to fool us.\n",
            "i'm fine with this. there's no useful info at the moment\n",
            "i agree with player-2. i think it is better to not add both player-6 and player-5 to the party\n",
            "ingrid is still kinda suspicious because she didn't choose herself.\n",
            "yea i agree, player-6 pointed fingers and player-1 almost immediately blamed someone\n",
            "i also agree that maybe picking 3 different people than the original people is too much change. it won't give us good enough data to determine who is bad\n",
            "honestly player-1 and player-6 seem to be working together. i also can see player-4 promoting someone else with her vague statements.\n",
            "this is an important vote, because the next vote is the hardest. i really want to get it right here. i'm kinda suspicious of player-1 a little bit because he seems to be guiding player-6 on what to do\n",
            "but i guess at this point we just gotta see where it goes. i thought player-4 was suspicious too. i'm just suspicious of everyone lol\n",
            "interesting so ingrid was vague and now she is pushing blame on me?\n",
            "i also see player-6 being guided by player-1. player-6 changed the party when player-1 mentioned how to prove his innocence.\n",
            "i think it's super weird player-1 started off saying that he was suspicious of player-4 but is now adding her to the quest\n",
            "i think if this fails it's more likely to be player-1. but i also probably won't be convinced if it succeeds\n",
            "interesting ingrid is bunching people together when no one else seeing these connections... i must say ingrid seems to be in favor of player-1 but against him to not be so suspicious?\n",
            "i didn't even get to play yet and i'm feeling left out. also i suspect that player-1 is going to fail the quest\n",
            "and then evil wins\n",
            "well i think player-1 is leading everyone on and now they are excluding ingrid on partys. why? because she will fail them?\n",
            "also player-4 is attacking me so i would not pick her either\n",
            "interesting player-4 agrees with everything player-1 says and yet she is excluded...\n",
            "i'm fine with this. we have no information to go off so doesn't seem unreasonable.\n",
            "no objection.\n",
            "but i'm good. i want to be on the quest as well.\n",
            "i will take the usual approach and add myself to the last party.\n",
            "we don't know anything yet, so let's see how the vote goes.\n",
            "yup. i'm fine with the proposal as well.\n",
            "as people tend to pretend in the first round, selecting both player-4 and player-3 might not be a 100 safe choice.\n",
            "anyways, i don't know any more either.\n",
            "but i'm good. please take me, otherwise this quest will fail.\n",
            "this is a dangerous situation now.\n",
            "i know i am good, so either player-4 or player-3 are bad and the next quest will fail.\n",
            "if it fails, then what do we know? we don't know which one of them is bad, leaving us with a 50/ 50 guess\n",
            "and on top of that, the second bad guy may be one of the others\n",
            "i will reject this party because i think if it goes through there's really not much chance of winning after that, other than sheer luck\n",
            "regardless it's not looking good. the last 2 votes failed with me on so it doesn't look great, i agree.\n",
            "ultimately i will need to be on the party if this round passes though, because i am good.\n",
            "i'm not sure why you trust player-4 suddenly though?\n",
            "on top of accusing me at first, there's also some weird merlin/ morgana thing going on?\n",
            "they're either merlin or morgana if we believe player-3.\n",
            "i won't vote for this party.\n",
            "sorry i ended my turn by accident in the last round.\n",
            "i'm so confused now. i'm servant 2.\n",
            "now i don't believe player-3 and player-6.\n",
            "but i tend to believe player-4 is merlin.\n",
            "but i don't think player-6 is good.\n",
            "the quest he proposed failed as well.\n",
            "first: player-3 could be morgana herself trying to throw things off.\n",
            "second: player-4 seems suspicious either way, so if we don't have to include them now i don't see why we should\n",
            "from my viewpoint, both player-3 and player-4 are most suspicious right now\n",
            "so i would not accept a party with them in it\n",
            "ok as we only need three good people. i'll exclude myself and choose three i trust.\n",
            "i never proposed a party with player-2 at any time. that is factually incorrect, you can look through the chat\n",
            "if anything i have been the most consistent one. i've literally been suspicious of player-3 and player-4 since the second round and have never voiced otherwise\n",
            "the rest of this madness is coming from them, yet somehow their stories make sense out of context? like what?\n",
            "so i'm not sure what to say at this point other than i am strongly suspicious of player-4 and player-3. player-2 is also saying some really questionable things, so i also don't trust her.\n",
            "i don't have enough evidence to know what to think about player-6 or player-1, so i guess i trust them the most at the moment.\n",
            "if that fails we're done either way in my opinion.\n",
            "it's assassin's show time;)\n",
            "your funeral.\n",
            "i think i am fine with the team as well\n",
            "i am good with that\n",
            "looks good to me!\n",
            "i won't reject this proposal since i am in it:)\n",
            "one of player-2 and player-3 have to be evil so i guess its safe to keep both of them out\n",
            "i voted player-2 out of the previous one because since one of player-2 and player-3 has to be evil, it makes sense to keep both of them out.\n",
            "also i feel player-5 and player-2 are both evil\n",
            "please do note that there is a possibility where player-2 and player-3 are evil. they know each other and they designed this scheme against player-4. i am not sure but this could be possible.\n",
            "i don't think player-6 and i are necessarily on different teams btw\n",
            "i would have to say angel, but it will be a tough position like player-1 said since player-5 and player-4 are oth added in this round\n",
            "it seems angel is trying to shift the blame to zeke, but it also seems that player-5 is suspicious of angel and also agree with player-2 that it is bad luck and was an unlucky party pick\n",
            "i agree with player-1 and believe that angel is a bad guy and i am a bit hesitant about player-5\n",
            "he claims he added himself to prove he is innocent but he could know that removing angel and keeping me would make me look bad since he could fail the second quest\n",
            "as others have mentioned my reason not to include myself in the party. it was simply because angel and zeke were across from each other and unfortunately one of them turned out to be a bad pick. fourth\n",
            "furthermore with what player-1 said. should i have been evil wouldn't it have been better to include myself from the start and then blame someone else\n",
            "otherthan then angel accidentally adding player-2 to the party. i think angel excluding himself from the party but keeping player-5 in was a way to fail the quest.\n",
            "they both could have used this strategy to keep angel looking like he is a good guy.\n",
            "and it will raise suspicions from everyone whether or not i want to be in said party so i leave the choice to you guys\n",
            "i agree with player-2 and how the previous party seems to prove their innocence, and feel that current party is a good choice. on the other hand, wouldn't an evil person purposely vote for a quest to\n",
            "succeed just to throw off get the group to lower their guard?\n",
            "player-5 player-4 and player-2 are all a little sus. player-5 keeps climbing he knows whos bad. but shouldn't want the assassin to know who is\n",
            "what zeke is saying makes sense. proof is that on multiple occasions player-5 has stated that he in fact who knows who is who and wouldn't an evil person also know who their companion in crime is???\n",
            "hmm unless player-5 claims he forgot the plot but is in fact trying to sacrifice himself as a servant to win\n",
            "player-5 has made it clear time and time again that both zeke and i are in cahoots. so i ask that group to think long and hard on whether you guys go through with this vote. it can go either way\n",
            "also angel switching between player-2, zeke, and i. it seems the rest of o group is forcing him to pick and not allowing himself to decide that fate of the game\n",
            "i'm good, but i agree this choice is weird\n",
            "however, i don't know what changes we can make since this is the first turn\n",
            "i'll approve the current party unless you make some good arguments\n",
            "no opinions but a good guy will always place themselves in the team...\n",
            "player-6 made a mistake in his statement cuz player-3 is not in the party\n",
            "i also think player-3 is kinda suspicious since he voted no in the first party\n",
            "i'm good, but if you want to make a more solid discussion, feel free to exclude me\n",
            "i voted no based on the same logic as player-6... that i am not in the party and i am good guy( and since the first round is symbolic)\n",
            "funny that he is accusing me based on his own logic\n",
            "i'm good, and i'm not sure about player-5 and player-6\n",
            "player-1 voted no in the last party, so do player-3 and player-5\n",
            "it weird that player-6 didn't include himself in the party.... any good guy will do that for sure....\n",
            "also am not a fan of player-2 since she doubted me\n",
            "i don't think player-1 is evident enough to through accusation to me\n",
            "so he is the bad guy and we shouldn't vote yes on this party\n",
            "player-1 took the words straight from me\n",
            "as expected this failed\n",
            "i voted no too previously and i think player-1 knows why the missions failed since he failed it\n",
            "i also dont trust player-2 too since she doubted me since round 1\n",
            "i am not voting for this party because player-1 is in it\n",
            "i don't believe in player-3 because he is doubting me from the beginning of the game\n",
            "that's a large chance of bad people i would say, since merlin won't reveal themselves so soon\n",
            "i doubted you because you doubted me first player-2....\n",
            "i agree with player-6 assessment that player-1 and player-2 are likely to be bad guys\n",
            "and the previous round they just swapped a bad guy for another\n",
            "player-2: i also think player-3 is kinda suspicious since he voted no in the first party\n",
            "i'm not sure but i think player-1 and player-6 are the bad guys at the moment\n",
            "player-2 those were the seeds of distrust...\n",
            "i am choosing this party because its the only one that player-5 would vote yes for\n",
            "it seems that the hate with passion has turned towards me right now\n",
            "although i'm good, i will approve whatever party you suggest to gain credit\n",
            "as i am good myself, i conclude that it must be player-6 and player-3\n",
            "is this the long con between the 2 bad people?\n",
            "and i think it's weird that she now tries to cast shade on player-5 and player-4 since the general consensus is that they are good\n",
            "i was happy with the old party until player-5 and player-4 started teaming up without a sufficient amount of info to truly know who is good and who is bad\n",
            "right now 4 people are required on the party. i still don't have faith in this party, especially now that i'm not on it\n",
            "oh well, i was wrong. the bad person was probably player-1 based on the evidence. sorry y'all. i think this party wil work\n",
            "since they saw that player-6 will have to make the third quest, they set her up to be the sacrificial evil\n",
            "so i will not vote for this party because the other evil player is on it\n",
            "sure, it makes sense that she's trusted because she was on all successful parties, but still\n",
            "well played by her...\n",
            "either way, i stand by my initial assessment that player-2 is on the party still and hid herself very well through a strategic second quest vote\n",
            "you did that to gain trust from the other players, making you the primary choice on any party\n",
            "so you are now trying to fail them all because you have inherent trust, e. g. throwing player-3 under the bus next\n",
            "i don't know how much more obvious i need to be here, but it's pretty clear how the roles are distributed.\n",
            "we only need three people on the party, not four, so even if there is some doubt left, we can win this round.\n",
            "we should also make sure that we end this soon enough such that we don't give the assassin more discussion to find merlin\n",
            "well that was weird\n",
            "didn't expect that to fail\n",
            "just to ward off any questions, i voted yes on the last one because it seemed like player-4 was in doubt of things and we need his vote\n",
            "also, i will stand by my previous assessment that player-2 is bad and played a very well though out game here, so this quest will fail again unless you replace her with me\n",
            "she intentionally threw player-6 under the bus and then tried to pile on some more people by trying to throw more blame on player-3\n",
            "i voted no cos anyone seems agreeable. that doesn't make sense unless there is some evil person on the party.\n",
            "player-1 could be pretending in this round. but i'm not sure.\n",
            "hmm id vote for this but its the left half of the round table i dont trust\n",
            "since we know player-3 and player-4 are good, i want to stack myself against player-6\n",
            "if we fail, we know hes evil, so remove one of the 1st quest party members\n",
            "i didn't go with it cos i think this will probably go wrong.\n",
            "i guess player-1 might be pretending.\n",
            "i find it convenient that player-6 thinks im being aggressive after voting not on a line up he was included in\n",
            "and again not trusting that left side, i think i should be in the party beyond player-6 here\n",
            "if both player-6 and player-1 are evil. then we are done huh\n",
            "anyways, i'm good. i won't approve it as i'm not on the party.\n",
            "i think player-1 is a little suspicious just by feeling.\n",
            "well my vote would be to swap player-6 for myself so we can actually wrap up\n",
            "i don't think we can get any info if the the quest failed. we don't even know how many evils in the party.\n",
            "player-6 and player-1 seems teaming up. although there is meaningless to get the teammate on the same party, it might just be their strategy. i'm no sure yet.\n",
            "again, if i was evil, i'll just propose player-3, player-4, player-1 me, and let everyone approve. i don't need to make things so complicated.\n",
            "player-3 made a good point, player-2 voted yes in the last round. he doesn't look good to me.\n",
            "agree. although i'm against it, i'll vote yes. otherwise, we'll loose directly.\n",
            "i voted no in the last round cos i think player-2 is suspicions.\n",
            "ok, well that seems to lend evidence that the last party is good\n",
            "i'm not sure why player-5 is attacking me. that's a little suspicious.\n",
            "agree, i think this is a safe choice.\n",
            "i agree with player-6. i was making the safe decision by keeping the party and adding myself, but player-5 was immediately attacking me.\n",
            "normally i would agree with player-1 that it seems like a long shot of a strategy. it would be way more likely for me to be evil\n",
            "but consider this: it's player-5 and she likes to behave chaotically\n",
            "and if you do decide to trust her at this point, then you will probably never change your mind and then evil will end up winning\n",
            "i know i am good, which means one of the three people on the party are bad. i am pretty sure it's player-5 at this point( or maybe there are two bad people on the party?)\n",
            "according to my guess, player-2 might be evil. then he chose his teammate on the first quest.\n",
            "but i really don't know whom to trust..\n",
            "as expected, it still failed. i am very sure player-5 is bad.\n",
            "but now that it seems player-5 is bad, it makes me think he is bad as well.\n",
            "i don't know that for sure, but to be honest we're kind of in trouble here now. so it's my best guess.\n",
            "i am fine with this party. i think this is our best chance.\n",
            "it doesn't make sense to exclude me. i'll definitely disapprove.\n",
            "i also wonder why player-6 voted no for his own proposal.\n",
            "this is absurd. why would we add the two people we suspect of being evil to the party?\n",
            "and to player-2's point, how is there strong evidence i framed player-5? she's the one who attacked me before we even voted.\n",
            "to me it still makes the most logical sense that player-5 and player-2 are evil. of course player-5 wants to be on the party, she is evil and wants to win!\n",
            "so yeah, i think we should stick with the party player-6 proposed last time. i think that is our best chance still.\n",
            "i agree with random team\n",
            "yeah, nothing to go off on right now, so this is fine.\n",
            "i would agree with any additional member. better be me since i am a good person\n",
            "it's good that everyone approved of the previous party, so it seems like everyone was good\n",
            "i think it would be very risky for the bad guys to vote pass two times in a row. so i would suggest us keeping the same party with the addition of me. there isa good chance that we had 3 good people\n",
            "i think it's pretty clear that player-4, player-3 and me are good.\n",
            "no evil player would have approved of that party\n",
            "so it might be safe to use the same party and just add one unknown player\n",
            "but if this fails, we should use the same three people as last quest because it's pretty safe to assume they are all good.\n",
            "i want to propose the same party as i mentioned before. the three of the supposedly good people and me, another good.\n",
            "just so you know, the three good people from quest two were player-3, player-4, and me. so you added player-2 instead.\n",
            "i also think it makes player-5 rather suspicious that she wanted to change the party so drastically initially.\n",
            "as long as that new person isn't player-5, i am fine with any proposal\n",
            "i am almost sure player-5 is evil for being suspicious especially to me\n",
            "yeah, i agree that player-5 is suspicious\n",
            "i think player-5 has a rather rootless allegation to me.\n",
            "yeah, i agree with this\n",
            "so since quest 2 succeeded and i still think that no evil person would have done that, i will go with the same party as quest 2\n",
            "i'm convinced that player-6 is evil now\n",
            "i tend to vote for the two people who voted yes for two rounds in the first place, which are player-1 and player-3.\n",
            "so it's strange how you are now trying to support player-2. is she the other evil?\n",
            "i have not much to say except that i am a good person.\n",
            "player-5's arguments make sense; however, she keeps defending player-2, who also happens to be the person player-6 wants on the party\n",
            "something is going on there and i don't fully trust player-5 or player-2\n",
            "i just initially followed player-6's party along as we didn't know much more at that point\n",
            "however, fact is that quest 2 succeeded with me on the party, so that's a pretty solid testament to me being good\n",
            "no info atm. i'm good with the party\n",
            "i think it's hard to decide which player is bad at the moment.\n",
            "i agree that it's better to exclude player-3 or player-4 or both this turn, so i will vote for the current party.\n",
            "clearly player-4 is in a perfect position to frame me as a bad person. they will vote to succeed the party, and gain the trust of the group.\n",
            "however, that means nothing because any bad person would vote to succeed the quest in their position\n",
            "i would suggest we exclude both of us, because that will guarantee the quest will succeed\n",
            "i can't see a point why player-6 disagrees this proposal so quickly\n",
            "i think even though player-4 happens to be bad, she will still vote yes for the second round in order to hide herself.\n",
            "so it is too early to say who is good or evil\n",
            "i doubt player-6's role but since this party excludes player-6 i'll vote yes\n",
            "this party has too many unknowns. based on the previous party/ votes, i am confident that player-6 and player-5 are good and player-4 is bad. that means there's a bad guy on this party. i'm going to vote no\n",
            "i was too naive on the avalon strategies. i was persuaded by what player-4 said about the strategy that bad people would try to fail the second turn as well.\n",
            "i tend to think player-4 is good and player-3 is not\n",
            "but i disagree with what player-6 just said. i cannot see the reason why you are so sure that i'm the bad guy\n",
            "it makes me suspicious of your identify\n",
            "i still don't agree with player-4 being on the party so i'm voting no. i don't think i can prove my innocence as there seems to be no trust in me, but i don't think it's a good idea to put player-4\n",
            "i turned against player-6 because he asserts that i am evil based on my lack of knowledge of strategies\n",
            "i am percival and i know who is evil. he is trying to fool you and fail the rest of the games\n",
            "that makes sense then why you kept voting no on parties that had player-4\n",
            "i will vote no on this party. it's too suspicious.\n",
            "well, since player-3 is new to the game, i tend to believe this is just a random selection\n",
            "i'm good, and i'll definitely vote for this party\n",
            "hmmm i do agree that player-5's analysis is a little weird\n",
            "i'd suggest player-3 in the party instead of player-1\n",
            "i think player-1 is suspicious\n",
            "he proposed to be in the party instead of player-5 in the last round\n",
            "but then he voted yes\n",
            "i'm a bit confused, but i'd suggest we keep him out of the party for the current round\n",
            "i mean someone is lying right now\n",
            "i would suggest to replace player-2 with me\n",
            "which will be fine\n",
            "i'm good, so i'm even more confused now\n",
            "i think it's possible for one of player-6, player-5 and player-4 to conceal their identity in the second round\n",
            "this looks good to me. however as a good person, i would like to suggest myself to be on the quest.\n",
            "i agree with player-3, i would also like to be on the quest\n",
            "i would also agree to this party.\n",
            "it is going to be quite rare if we get this quest succeeded, but it will be a good strategy to show the evil\n",
            "i would selfdeclare as good, and i think that for the first round we can go ahead with this party!\n",
            "i would also agree with this party. but please everyone, be extra cautious that people on this quest are not necessarily good even it succeeded.\n",
            "so i dont understand why player-2 would single me out when literally almost everyone else had nothing else to say either and were okay with the party, that seems suspicious to me\n",
            "also player-3 said she was okay with a random person the pervious round\n",
            "and now shes changing her stance all of a sudden\n",
            "i would be okay with any other proposed party\n",
            "everything looks complicated to me right now. as a blind plain good guy i am really confused.\n",
            "although one thing i observe is that player-6 and player-2 voted no for the party last round, i am wondering the reason why.\n",
            "one thing i can smell out of it is that player-2, who was previously on the party, voted no for a party that eventually doesn't include him. this is suspicious to me because i as a good person would approve any party just to gain visibility or simply get the game going.\n",
            "i would approve any party for now except if player-2 is in it.\n",
            "i would like to assert that i am still a good person and i dont think we can automatically just infer from the fact that the previous quest succeeded that everyone on was good\n",
            "it is quite possible that one of the members voted otherwise to completely remove suspicions on. themselves and use this opportunity to pin me as a bad guy\n",
            "i will apologize to player-2 for casting doubt to him because i did not have much visibility in the first round.\n",
            "however, i do agree with player-4 that even the last three people who made the request successful were not un suspicious.\n",
            "it is very likely that one of player-1 and player-6 is bad, and this party is like to fail, so please do not include me in this party.\n",
            "but for the purpose of clearing confusion, please bringing player-1 and player-4 on the game because they seem to endorse each other from the very beginning.\n",
            "i am percival and i would suggest player-1 and me to be on this quest.\n",
            "it would be the safest option for us good people at the beginning of the game.\n",
            "i also dont have much information right now, outside of knowing that i am part of the good team\n",
            "player-6 suggestion of not putting player-2 or me on the quest makes him very suspicious to me. if there are no overlap between parties, it will be very difficult to confirm who is good and who is bad.\n",
            "finally, just to remind good people that i am percival who has some extra information.\n",
            "to answer player-6 question, it would be better for percival to declare themselves in the early round. because at first blind good people have no information but as percival i have extra information.\n",
            "from last round, player-6 appears more suspicious to me and player-5 doesn't seem to have good identity either.\n",
            "good people please trust me. i am the real percival.\n",
            "maybe i was a little too naive in the first assessment that was just based on the quest votes.\n",
            "particularly player-2 trying to gain control in the first and second quests.\n",
            "now that player-2 is saying that he does not want to lead the party anyways, it just makes him even more suspicious to me, so i am pretty sure that he is bad at this point.\n",
            "i would not approve of any party containing player-2 at this point.\n",
            "regarding player-3, i think revealing herself as percival might not be a completely bad idea as it helps in the first round, however, i also see the problem that it may now be easier for the evil to find merlin.\n",
            "thus, i remain undecided on player-3 as her intentions may have been good, but it just did not play out as intended.\n",
            "so i am not entirely sure about her role yet\n",
            "i dont think revealing my identity of percival at the beginning will cause any trouble to merlin.\n",
            "good people wont try to find who is merlin, only bad people do. player-6 bad identity is more than obvious from my perspective.\n",
            "ok, so this outcome is expected to me as both the previously suspicious people, player-2 and player-3, were on the quest\n",
            "i generally think that both player-2 and player-3 are slowly struggling to make consistent arguments, thus i now belief that both of them are on the same evil team\n",
            "if it succeeds, the evil people successfully gain credit and will be easier for them to continue their disguise. if it fails, we lose one round of chance.\n",
            "i am not saying that either of them are bad as i agree with most of their arguments, but particularly player-6 always advocates for player-5, yet he want even on a party yet.\n",
            "i maintain my initial suspicion of player-2 and player-3 though, so i hope this goes through and we are clear for the rest of the game.\n",
            "we used one round to prove that the previous game is under the control of the bad people. i am almost certain that at least one of player-6 and player-5 is bad, more probably player-6.\n",
            "also, player-6 and player-5 always speak for each other in the previous rounds, which is really suspicious. they are too confident with the other peoples identity and help each other.\n",
            "i would only approve for the four people quest without player-6 and player-5. for good people, please do not get fooled by the evil!\n",
            "yeah, so i guess we know for sure now that either player-2 or player-3 is good.\n",
            "in my mind, i still tend to trust player-3 a little more than player-2 as he wanted establish control of the second round initially and then threw it away easily when we started to catch on to it, which remains very suspicious to me.\n",
            "additionally, he just said that it would not make sense to put one of him or player-3 on the quest, but that is the definition of what we are trying to figure out. one of them must be good and i remain fairly certain that one of them is bad, so putting one of them on the party makes absolute sense. i am convinced that player-2 is the evil here and player-3 is good.\n",
            "however, we accused player-3 of revealing to be percival as proof of her being bad. maybe she really just had good intentions and wanted to make sure the first round is a clear win for good. also, no alternative percival has come forward yet to cast doubt on her having good intentions.\n",
            "i also agree with player-5s point that we dont know much about player-1. looking at the history, he did not say much in the past few rounds either, so maybe he is trying to hide that he is evil.\n",
            "to player-6 point as to why not putting him and player-5 on one team. everyone wanted player-1 on the team so far and as a good person, it would be weird not putting myself. i know i am good and i am fairly certain both player-6 and player-5 are too, but it was easier to trust myself and only add one of you.\n",
            "the situation is quite clear now. no need to say more. we still have chance to win if we propose a party without player-6 and player-5. this is not saying both of them are definitely evil, but if we have both of them on the quest, it will definitely fail.\n",
            "however, i said no to the party because player-2 was on it, which he, as an evil person, happily agreed to.\n",
            "i assume that player-1 and player-3 also saw it that way and thus voted no on the party however, i still maintain my suspicion that player-1 voted no in order to hide his identity.\n",
            "to clarify, i did not put player-5 and player-6 on the same party because i am good too, and trusting two people i am fairly certain about is still more dangerous than just picking one of them.\n",
            "agree with this party. it is on the right track.\n",
            "given that player-1 switched his vote from no to yes, i think my suspicion if him trying to hide his evilness was spot on.\n",
            "similarly, player-2 also changed his vote because i assume he felt called out.\n",
            "doing a complete turnaround now and throwing player-5 and player-6 off the party doesn't make sense to me. there is no way in my mind that player-5 and player-6 are both evil.\n",
            "again, i propose player-3, player-5, player-6, and myself\n",
            "player-5, i doubt your identity only based on my observation. i am percival, who do not have global information. i dont know exactly who is good or bad. there is no reason for good person to doubt my identity based on this. i havent say in certain that you are evil, but suspiciously.\n",
            "its too late for player-6 to pretend to be percival. from my view, i am the real one so it could not be you. for other good people, think about why player-6 didn't reveal his identity right after me if he was the real percival.\n",
            "besides, i am confident to declare my identity in the first round because i know i am the only real percival, and whoever declared themself as percival was fake.\n",
            "as we expected, not both player-5 and player-6 are bad. i have the same feeling about player-6 as what player-2 has said. from all the information i had in the previous rounds, i could almost draw the conclusion that player-6 is bad and player-5 is good.\n",
            "i also believe that player-2 is a blind good person. so for the next round of three people, the safest option would be player-2, player-5 and me.\n",
            "i am unsure whether or not i belief player-6 to be percival as yes, he supported to players in particular, but at the same time, he did not consistently cast doubt on the surely evil person he should know\n",
            "however, both are unlikely, so if forced to make a choice, i still support player-3 over player-2, but i am also happy to be convinced otherwise.\n",
            "i think for the current party, as we know that not player-5 and player-6 are bad, i assume one person on there is bad at least, which would be the winning game for tem\n",
            "so i would propose to remove player-2 and put on me or another person we know is good, e. g. player-6\n",
            "since i am on the group i will definitely approve this quest!\n",
            "yeah, this seems strange to me. player-2 immediately tried to render me evil, not skipping someone in line for the party under the disguise of\" random\".\n",
            "either way, that might not mean anything\n",
            "for now, i'm, good with this party.\n",
            "i am definitely on the good side but i can understand player-3's decision\n",
            "yeah, this is a big change from the previous party, so we likely may have even included the previously uninvolved second evil player now, which is kinda likely\n",
            "i think it's strange tough that player-2 now did a 180 and now suddenly thinks i am good\n",
            "i mean, he's not wrong, but still, it makes him seem suspicious to me\n",
            "oh wow i am kinda surprised that the quest succeeded\n",
            "because i am on the good side and there's guarantee that there's a bad guy on the group\n",
            "the only reason i am voting approve is because i guess we had to sacrifice some of the quest to tell who is on the evil side, at least give us some info\n",
            "but to be honest i don't really know who to kick out from the original four\n",
            "i would randomly pick three and you guys can disapprove\n",
            "at this point it seems like we found the good people, so i am fine with this.\n",
            "i probably need some explanation on why i am the bad person... it's been a while since the last time i play avalon though but all i am trying to do is to vote yes for a quest whenever i can\n",
            "i don't have any extra knowledge, so i am at a loss here who the second evil is\n",
            "looking at evidence, i think player-2 is more likely to be bad because he initially changed a lot on who is evil\n",
            "then he claimed to be percival who knows among to players who is merlin, but then was confused among three players, which doesn't make sense to me at all.\n",
            "so i think player-2 failed quest two, and either player-5 or player-3 failed quest four\n",
            "as player-6 was not on the failing ones, i think he's fine, but yeah... i can't really pinpoint the second evil for now\n",
            "i thought i explained my strategy clearly. the 3 party i propose is based on a random pick since i have no idea who to kick out. i also claimed you can disapprove at free will\n",
            "i also explained that i guess sometimes it's necessary to try out some combinations to exclude the evil persons\n",
            "the last thing i would like to add is that believe or not i am on the good side and please include me if you want to win\n",
            "similarly, player-2 was very quick throwing blame around, and additionally, also is making strange statements about percival and merlin, which seems like an evil strategy to cause confusion\n",
            "however, if the general consensus is player-4 is bad over player-2, fine, as a servant i don't know anything for sure\n",
            "however, as i am good, there is no way this party will succeed, so i still stand by my prior assessment that either player-3 or player-5 are evil\n",
            "given that player-3 tries to tag on to me now, i feel like it's her\n",
            "i would like to be on this quest. i am good. because the first round was too random.\n",
            "i am curious why player-1 didn't put himself on the quest.\n",
            "however, i am a good person, so i would like to propose myself to the party.\n",
            "as to why i voted no as i know that i am good, only choosing one other person is safer than choosing two random people for whom we don't know anything.\n",
            "maybe player-1 didn't choose himself because he doesn't want to be in doubt as the first round doesn't have much information and wants to keep his evilness hidden for now.\n",
            "i would vote not to have him on the quest and choose someone else.\n",
            "i am not doubting the identity of player-2 and player-5.\n",
            "i personally think that player-1 is going to be my main suspicion if this quest fails, but i am fine with him being on it for now as i do not know anything for sure yet.\n",
            "we can also afford to lose one round as i think we can win the next quest in which we only need three people anyways.\n",
            "i am not teaming up with anyone. i voted no in the previous round just because the choices were too random, and as a good people off the quest, i didn't think it was a good sign.\n",
            "when other people are doubting about why player-1 didn't put themselves on the quest, player-5 made an assertion that player-1 is good, which makes player-5 very suspicious.\n",
            "since we have already had two rounds successful, we can keep this party setting and see the result.\n",
            "i am a good person and i would like to be on the quest.\n",
            "ok, well i don't like the current party setup because i know i am good.\n",
            "which means at least someone on the current party has to be bad.\n",
            "it would be weird for either player-1 or player-4 to be bad, but player-1 did also vote no on the party last turn which is a bit suspicious.\n",
            "so i'm not totally sure who to trust, but i do disagree with this party.\n",
            "i think player-1 is suspicious that he voted no in last round\n",
            "and he keep pointing me\n",
            "i am definitely good\n",
            "he is pretending\n"
          ]
        }
      ]
    },
    {
      "cell_type": "code",
      "source": [
        "generator = pipeline('text-generation', model='gpt2')"
      ],
      "metadata": {
        "colab": {
          "base_uri": "https://localhost:8080/",
          "height": 259,
          "referenced_widgets": [
            "af5e54b97ec844edb36013a35dae3b18",
            "f6b4641754334d95932bf9db9c91d1a2",
            "957a972ab1a342deade266974d7d765d",
            "6a0ce5936f374f7babc50f893579498a",
            "a665a3d398aa490a9dcaa21ad980b3a8",
            "363b94765d12476e954e4d5f59914f9a",
            "a5a02bc72099480393fc61430c9c4ab8",
            "65225cacaa7a431c9602b548033eb027",
            "84c9cc2d539440eca2e33abcfe79cdbb",
            "f6e02a63c5f245509aa1644ffd2e4409",
            "767798b9b9a146edb63b3a601cfbb8c1",
            "da920616302e478786340ec80117a36b",
            "6da40081480e4191a8492efb472a13fb",
            "cd25b65ce8354e918d61726254b43a62",
            "424646b7b4f046ceaf31d72daabb89d3",
            "69c7531615e24a13962b4a465544d105",
            "7a2b151fb98f43ffb6aa22c3a811b069",
            "5e7514d73e31406cb7bf3a338332c7ae",
            "f5f1b83382a341aa87f3461227e7340e",
            "63b1f52c19bb4e8481e03d0f7fac57a6",
            "90b4233473b746cfbd075c62e459d658",
            "b58280e2efb64c0ba1509d6bef1c08fa",
            "9f0d24d0b6cb4f7bae23464423adbcb4",
            "0201ded35c414e4cad31299845d9f4de",
            "1fdcf01a72574a8ab75fca06e61029e8",
            "9985213e87e84ab294b1074d724fa267",
            "3ef6f8bdc4584c6098e2298e245c204b",
            "401ddfc4408e4eb3819df888d6f4aa65",
            "a41cc7027ffe4aa68d5bc2a6a670297c",
            "fcd43c0bdac3400c8a7b6874788e00fe",
            "5dacf49ac345474a85a5e3655635be85",
            "9d1a3e14eb2c4dd29b87cdedc46c5605",
            "bf512198220748faac758f0c5867672b",
            "4f3c468581154da1b97a2bcb3c0510f7",
            "f320e031bd0046479e62c7c011ff14af",
            "07fff3bf60f04c8dab7f94e79d0dd243",
            "832cf01fec104539a4fa64840a1fa13a",
            "129edd881c0c425b9e787d06f1824425",
            "9b15cef359f34020ba8705fff66bb1d3",
            "bc6751a0facc49c68aff6559753cdeb3",
            "94df94c330d04f02a7e570a680995af9",
            "77be699474b04ddf82cec8b721723e6a",
            "afb810266592412c991076485f850318",
            "a057eb61ce9d4873a1bfcedc33cf8c90",
            "66390530245b4f779b26d4d8ba60d7cd",
            "2de7e2871eed44779edf7515d3559558",
            "0d14d0feca5e41e9824535ef3a89b435",
            "cb7e7fc1748c482f94bd1184245a921b",
            "29804d3a848a4865913006a94a930995",
            "c054b97751474cfc824f8ce97f4cd832",
            "d2a0e4f325d44d98be52233971c82b49",
            "71357512d50d4db2a5f65e9612e49164",
            "8a979839edc540c397cef10b1efa03a7",
            "f91ab62bd7a6475b8137533eb6fa0692",
            "55039691d120453ba7433839026d5cce",
            "a41a1843ace547d6bfc2808ae72d921c",
            "0adf78420bc04a3da002b9332c3d8af9",
            "661dcb813078410b87e651a3406f0397",
            "d9815653ee7d43e3a613995affa903c8",
            "f154ca20ae9c409797822ac82f56a32c",
            "34a8005457c54be2aaf2adb3f0b34fdb",
            "331ff989163549f58a8d6214e24856a9",
            "12230fa88fc84100acf679a8ddc35f39",
            "3ec85c7ee0a541d990068c533c6dc429",
            "cfabf96ebbdb49e9a9773eee7fbe4ae2",
            "036a5db2258e468f838a5ed32aacab0c",
            "50edfc7a53e1439d8ed6d1b4fe3d17a7",
            "f2a3f766df524eab93d662ac19d89eeb",
            "c8246e83bf704544b40b2a24092796e2",
            "27d4282e113741799a78e10a6d474812",
            "ea75e807f1f74c6c8e2201776b5f2dd6",
            "d607e78bcde147538e6e5621aa0ea34d",
            "4ce6ee9bc20b4333ac11d60ec0d6c039",
            "4de1763f79a0414eb529140a1733cc37",
            "5382c3c327f94e609732edee3c1d6e65",
            "82edb96577624973bf7b9b24470c033c",
            "8848613bbed2429e926d3c102aeb1c85"
          ]
        },
        "id": "4lSq-jjry75h",
        "outputId": "f9b9293f-7055-4772-c1d7-5e9661031931"
      },
      "execution_count": null,
      "outputs": [
        {
          "output_type": "display_data",
          "data": {
            "text/plain": [
              "config.json:   0%|          | 0.00/665 [00:00<?, ?B/s]"
            ],
            "application/vnd.jupyter.widget-view+json": {
              "version_major": 2,
              "version_minor": 0,
              "model_id": "af5e54b97ec844edb36013a35dae3b18"
            }
          },
          "metadata": {}
        },
        {
          "output_type": "display_data",
          "data": {
            "text/plain": [
              "model.safetensors:   0%|          | 0.00/548M [00:00<?, ?B/s]"
            ],
            "application/vnd.jupyter.widget-view+json": {
              "version_major": 2,
              "version_minor": 0,
              "model_id": "da920616302e478786340ec80117a36b"
            }
          },
          "metadata": {}
        },
        {
          "output_type": "display_data",
          "data": {
            "text/plain": [
              "generation_config.json:   0%|          | 0.00/124 [00:00<?, ?B/s]"
            ],
            "application/vnd.jupyter.widget-view+json": {
              "version_major": 2,
              "version_minor": 0,
              "model_id": "9f0d24d0b6cb4f7bae23464423adbcb4"
            }
          },
          "metadata": {}
        },
        {
          "output_type": "display_data",
          "data": {
            "text/plain": [
              "tokenizer_config.json:   0%|          | 0.00/26.0 [00:00<?, ?B/s]"
            ],
            "application/vnd.jupyter.widget-view+json": {
              "version_major": 2,
              "version_minor": 0,
              "model_id": "4f3c468581154da1b97a2bcb3c0510f7"
            }
          },
          "metadata": {}
        },
        {
          "output_type": "display_data",
          "data": {
            "text/plain": [
              "vocab.json:   0%|          | 0.00/1.04M [00:00<?, ?B/s]"
            ],
            "application/vnd.jupyter.widget-view+json": {
              "version_major": 2,
              "version_minor": 0,
              "model_id": "66390530245b4f779b26d4d8ba60d7cd"
            }
          },
          "metadata": {}
        },
        {
          "output_type": "display_data",
          "data": {
            "text/plain": [
              "merges.txt:   0%|          | 0.00/456k [00:00<?, ?B/s]"
            ],
            "application/vnd.jupyter.widget-view+json": {
              "version_major": 2,
              "version_minor": 0,
              "model_id": "a41a1843ace547d6bfc2808ae72d921c"
            }
          },
          "metadata": {}
        },
        {
          "output_type": "display_data",
          "data": {
            "text/plain": [
              "tokenizer.json:   0%|          | 0.00/1.36M [00:00<?, ?B/s]"
            ],
            "application/vnd.jupyter.widget-view+json": {
              "version_major": 2,
              "version_minor": 0,
              "model_id": "50edfc7a53e1439d8ed6d1b4fe3d17a7"
            }
          },
          "metadata": {}
        },
        {
          "output_type": "stream",
          "name": "stderr",
          "text": [
            "Device set to use cpu\n"
          ]
        }
      ]
    },
    {
      "cell_type": "code",
      "source": [
        "res = generator(textlist, num_return_sequences=3)"
      ],
      "metadata": {
        "colab": {
          "base_uri": "https://localhost:8080/",
          "height": 456
        },
        "id": "OXbY9g7ry_A7",
        "outputId": "ad2875cd-67c6-4bc5-f8f9-21124190c81b"
      },
      "execution_count": null,
      "outputs": [
        {
          "output_type": "stream",
          "name": "stderr",
          "text": [
            "Token indices sequence length is longer than the specified maximum sequence length for this model (10754 > 1024). Running this sequence through the model will result in indexing errors\n",
            "Setting `pad_token_id` to `eos_token_id`:50256 for open-end generation.\n"
          ]
        },
        {
          "output_type": "error",
          "ename": "ValueError",
          "evalue": "Input length of input_ids is 10754, but `max_length` is set to 50. This can lead to unexpected behavior. You should consider increasing `max_length` or, better yet, setting `max_new_tokens`.",
          "traceback": [
            "\u001b[0;31m---------------------------------------------------------------------------\u001b[0m",
            "\u001b[0;31mValueError\u001b[0m                                Traceback (most recent call last)",
            "\u001b[0;32m<ipython-input-32-ae3aeba8cb8b>\u001b[0m in \u001b[0;36m<cell line: 0>\u001b[0;34m()\u001b[0m\n\u001b[0;32m----> 1\u001b[0;31m \u001b[0mres\u001b[0m \u001b[0;34m=\u001b[0m \u001b[0mgenerator\u001b[0m\u001b[0;34m(\u001b[0m\u001b[0mtextlist\u001b[0m\u001b[0;34m,\u001b[0m \u001b[0mnum_return_sequences\u001b[0m\u001b[0;34m=\u001b[0m\u001b[0;36m3\u001b[0m\u001b[0;34m)\u001b[0m\u001b[0;34m\u001b[0m\u001b[0;34m\u001b[0m\u001b[0m\n\u001b[0m",
            "\u001b[0;32m/usr/local/lib/python3.11/dist-packages/transformers/pipelines/text_generation.py\u001b[0m in \u001b[0;36m__call__\u001b[0;34m(self, text_inputs, **kwargs)\u001b[0m\n\u001b[1;32m    285\u001b[0m                     \u001b[0;32melse\u001b[0m\u001b[0;34m:\u001b[0m\u001b[0;34m\u001b[0m\u001b[0;34m\u001b[0m\u001b[0m\n\u001b[1;32m    286\u001b[0m                         \u001b[0;32mreturn\u001b[0m \u001b[0msuper\u001b[0m\u001b[0;34m(\u001b[0m\u001b[0;34m)\u001b[0m\u001b[0;34m.\u001b[0m\u001b[0m__call__\u001b[0m\u001b[0;34m(\u001b[0m\u001b[0mlist\u001b[0m\u001b[0;34m(\u001b[0m\u001b[0mchats\u001b[0m\u001b[0;34m)\u001b[0m\u001b[0;34m,\u001b[0m \u001b[0;34m**\u001b[0m\u001b[0mkwargs\u001b[0m\u001b[0;34m)\u001b[0m\u001b[0;34m\u001b[0m\u001b[0;34m\u001b[0m\u001b[0m\n\u001b[0;32m--> 287\u001b[0;31m         \u001b[0;32mreturn\u001b[0m \u001b[0msuper\u001b[0m\u001b[0;34m(\u001b[0m\u001b[0;34m)\u001b[0m\u001b[0;34m.\u001b[0m\u001b[0m__call__\u001b[0m\u001b[0;34m(\u001b[0m\u001b[0mtext_inputs\u001b[0m\u001b[0;34m,\u001b[0m \u001b[0;34m**\u001b[0m\u001b[0mkwargs\u001b[0m\u001b[0;34m)\u001b[0m\u001b[0;34m\u001b[0m\u001b[0;34m\u001b[0m\u001b[0m\n\u001b[0m\u001b[1;32m    288\u001b[0m \u001b[0;34m\u001b[0m\u001b[0m\n\u001b[1;32m    289\u001b[0m     def preprocess(\n",
            "\u001b[0;32m/usr/local/lib/python3.11/dist-packages/transformers/pipelines/base.py\u001b[0m in \u001b[0;36m__call__\u001b[0;34m(self, inputs, num_workers, batch_size, *args, **kwargs)\u001b[0m\n\u001b[1;32m   1366\u001b[0m             )\n\u001b[1;32m   1367\u001b[0m         \u001b[0;32melse\u001b[0m\u001b[0;34m:\u001b[0m\u001b[0;34m\u001b[0m\u001b[0;34m\u001b[0m\u001b[0m\n\u001b[0;32m-> 1368\u001b[0;31m             \u001b[0;32mreturn\u001b[0m \u001b[0mself\u001b[0m\u001b[0;34m.\u001b[0m\u001b[0mrun_single\u001b[0m\u001b[0;34m(\u001b[0m\u001b[0minputs\u001b[0m\u001b[0;34m,\u001b[0m \u001b[0mpreprocess_params\u001b[0m\u001b[0;34m,\u001b[0m \u001b[0mforward_params\u001b[0m\u001b[0;34m,\u001b[0m \u001b[0mpostprocess_params\u001b[0m\u001b[0;34m)\u001b[0m\u001b[0;34m\u001b[0m\u001b[0;34m\u001b[0m\u001b[0m\n\u001b[0m\u001b[1;32m   1369\u001b[0m \u001b[0;34m\u001b[0m\u001b[0m\n\u001b[1;32m   1370\u001b[0m     \u001b[0;32mdef\u001b[0m \u001b[0mrun_multi\u001b[0m\u001b[0;34m(\u001b[0m\u001b[0mself\u001b[0m\u001b[0;34m,\u001b[0m \u001b[0minputs\u001b[0m\u001b[0;34m,\u001b[0m \u001b[0mpreprocess_params\u001b[0m\u001b[0;34m,\u001b[0m \u001b[0mforward_params\u001b[0m\u001b[0;34m,\u001b[0m \u001b[0mpostprocess_params\u001b[0m\u001b[0;34m)\u001b[0m\u001b[0;34m:\u001b[0m\u001b[0;34m\u001b[0m\u001b[0;34m\u001b[0m\u001b[0m\n",
            "\u001b[0;32m/usr/local/lib/python3.11/dist-packages/transformers/pipelines/base.py\u001b[0m in \u001b[0;36mrun_single\u001b[0;34m(self, inputs, preprocess_params, forward_params, postprocess_params)\u001b[0m\n\u001b[1;32m   1373\u001b[0m     \u001b[0;32mdef\u001b[0m \u001b[0mrun_single\u001b[0m\u001b[0;34m(\u001b[0m\u001b[0mself\u001b[0m\u001b[0;34m,\u001b[0m \u001b[0minputs\u001b[0m\u001b[0;34m,\u001b[0m \u001b[0mpreprocess_params\u001b[0m\u001b[0;34m,\u001b[0m \u001b[0mforward_params\u001b[0m\u001b[0;34m,\u001b[0m \u001b[0mpostprocess_params\u001b[0m\u001b[0;34m)\u001b[0m\u001b[0;34m:\u001b[0m\u001b[0;34m\u001b[0m\u001b[0;34m\u001b[0m\u001b[0m\n\u001b[1;32m   1374\u001b[0m         \u001b[0mmodel_inputs\u001b[0m \u001b[0;34m=\u001b[0m \u001b[0mself\u001b[0m\u001b[0;34m.\u001b[0m\u001b[0mpreprocess\u001b[0m\u001b[0;34m(\u001b[0m\u001b[0minputs\u001b[0m\u001b[0;34m,\u001b[0m \u001b[0;34m**\u001b[0m\u001b[0mpreprocess_params\u001b[0m\u001b[0;34m)\u001b[0m\u001b[0;34m\u001b[0m\u001b[0;34m\u001b[0m\u001b[0m\n\u001b[0;32m-> 1375\u001b[0;31m         \u001b[0mmodel_outputs\u001b[0m \u001b[0;34m=\u001b[0m \u001b[0mself\u001b[0m\u001b[0;34m.\u001b[0m\u001b[0mforward\u001b[0m\u001b[0;34m(\u001b[0m\u001b[0mmodel_inputs\u001b[0m\u001b[0;34m,\u001b[0m \u001b[0;34m**\u001b[0m\u001b[0mforward_params\u001b[0m\u001b[0;34m)\u001b[0m\u001b[0;34m\u001b[0m\u001b[0;34m\u001b[0m\u001b[0m\n\u001b[0m\u001b[1;32m   1376\u001b[0m         \u001b[0moutputs\u001b[0m \u001b[0;34m=\u001b[0m \u001b[0mself\u001b[0m\u001b[0;34m.\u001b[0m\u001b[0mpostprocess\u001b[0m\u001b[0;34m(\u001b[0m\u001b[0mmodel_outputs\u001b[0m\u001b[0;34m,\u001b[0m \u001b[0;34m**\u001b[0m\u001b[0mpostprocess_params\u001b[0m\u001b[0;34m)\u001b[0m\u001b[0;34m\u001b[0m\u001b[0;34m\u001b[0m\u001b[0m\n\u001b[1;32m   1377\u001b[0m         \u001b[0;32mreturn\u001b[0m \u001b[0moutputs\u001b[0m\u001b[0;34m\u001b[0m\u001b[0;34m\u001b[0m\u001b[0m\n",
            "\u001b[0;32m/usr/local/lib/python3.11/dist-packages/transformers/pipelines/base.py\u001b[0m in \u001b[0;36mforward\u001b[0;34m(self, model_inputs, **forward_params)\u001b[0m\n\u001b[1;32m   1273\u001b[0m                 \u001b[0;32mwith\u001b[0m \u001b[0minference_context\u001b[0m\u001b[0;34m(\u001b[0m\u001b[0;34m)\u001b[0m\u001b[0;34m:\u001b[0m\u001b[0;34m\u001b[0m\u001b[0;34m\u001b[0m\u001b[0m\n\u001b[1;32m   1274\u001b[0m                     \u001b[0mmodel_inputs\u001b[0m \u001b[0;34m=\u001b[0m \u001b[0mself\u001b[0m\u001b[0;34m.\u001b[0m\u001b[0m_ensure_tensor_on_device\u001b[0m\u001b[0;34m(\u001b[0m\u001b[0mmodel_inputs\u001b[0m\u001b[0;34m,\u001b[0m \u001b[0mdevice\u001b[0m\u001b[0;34m=\u001b[0m\u001b[0mself\u001b[0m\u001b[0;34m.\u001b[0m\u001b[0mdevice\u001b[0m\u001b[0;34m)\u001b[0m\u001b[0;34m\u001b[0m\u001b[0;34m\u001b[0m\u001b[0m\n\u001b[0;32m-> 1275\u001b[0;31m                     \u001b[0mmodel_outputs\u001b[0m \u001b[0;34m=\u001b[0m \u001b[0mself\u001b[0m\u001b[0;34m.\u001b[0m\u001b[0m_forward\u001b[0m\u001b[0;34m(\u001b[0m\u001b[0mmodel_inputs\u001b[0m\u001b[0;34m,\u001b[0m \u001b[0;34m**\u001b[0m\u001b[0mforward_params\u001b[0m\u001b[0;34m)\u001b[0m\u001b[0;34m\u001b[0m\u001b[0;34m\u001b[0m\u001b[0m\n\u001b[0m\u001b[1;32m   1276\u001b[0m                     \u001b[0mmodel_outputs\u001b[0m \u001b[0;34m=\u001b[0m \u001b[0mself\u001b[0m\u001b[0;34m.\u001b[0m\u001b[0m_ensure_tensor_on_device\u001b[0m\u001b[0;34m(\u001b[0m\u001b[0mmodel_outputs\u001b[0m\u001b[0;34m,\u001b[0m \u001b[0mdevice\u001b[0m\u001b[0;34m=\u001b[0m\u001b[0mtorch\u001b[0m\u001b[0;34m.\u001b[0m\u001b[0mdevice\u001b[0m\u001b[0;34m(\u001b[0m\u001b[0;34m\"cpu\"\u001b[0m\u001b[0;34m)\u001b[0m\u001b[0;34m)\u001b[0m\u001b[0;34m\u001b[0m\u001b[0;34m\u001b[0m\u001b[0m\n\u001b[1;32m   1277\u001b[0m             \u001b[0;32melse\u001b[0m\u001b[0;34m:\u001b[0m\u001b[0;34m\u001b[0m\u001b[0;34m\u001b[0m\u001b[0m\n",
            "\u001b[0;32m/usr/local/lib/python3.11/dist-packages/transformers/pipelines/text_generation.py\u001b[0m in \u001b[0;36m_forward\u001b[0;34m(self, model_inputs, **generate_kwargs)\u001b[0m\n\u001b[1;32m    383\u001b[0m             \u001b[0mgenerate_kwargs\u001b[0m\u001b[0;34m[\u001b[0m\u001b[0;34m\"generation_config\"\u001b[0m\u001b[0;34m]\u001b[0m \u001b[0;34m=\u001b[0m \u001b[0mself\u001b[0m\u001b[0;34m.\u001b[0m\u001b[0mgeneration_config\u001b[0m\u001b[0;34m\u001b[0m\u001b[0;34m\u001b[0m\u001b[0m\n\u001b[1;32m    384\u001b[0m \u001b[0;34m\u001b[0m\u001b[0m\n\u001b[0;32m--> 385\u001b[0;31m         \u001b[0moutput\u001b[0m \u001b[0;34m=\u001b[0m \u001b[0mself\u001b[0m\u001b[0;34m.\u001b[0m\u001b[0mmodel\u001b[0m\u001b[0;34m.\u001b[0m\u001b[0mgenerate\u001b[0m\u001b[0;34m(\u001b[0m\u001b[0minput_ids\u001b[0m\u001b[0;34m=\u001b[0m\u001b[0minput_ids\u001b[0m\u001b[0;34m,\u001b[0m \u001b[0mattention_mask\u001b[0m\u001b[0;34m=\u001b[0m\u001b[0mattention_mask\u001b[0m\u001b[0;34m,\u001b[0m \u001b[0;34m**\u001b[0m\u001b[0mgenerate_kwargs\u001b[0m\u001b[0;34m)\u001b[0m\u001b[0;34m\u001b[0m\u001b[0;34m\u001b[0m\u001b[0m\n\u001b[0m\u001b[1;32m    386\u001b[0m \u001b[0;34m\u001b[0m\u001b[0m\n\u001b[1;32m    387\u001b[0m         \u001b[0;32mif\u001b[0m \u001b[0misinstance\u001b[0m\u001b[0;34m(\u001b[0m\u001b[0moutput\u001b[0m\u001b[0;34m,\u001b[0m \u001b[0mModelOutput\u001b[0m\u001b[0;34m)\u001b[0m\u001b[0;34m:\u001b[0m\u001b[0;34m\u001b[0m\u001b[0;34m\u001b[0m\u001b[0m\n",
            "\u001b[0;32m/usr/local/lib/python3.11/dist-packages/torch/utils/_contextlib.py\u001b[0m in \u001b[0;36mdecorate_context\u001b[0;34m(*args, **kwargs)\u001b[0m\n\u001b[1;32m    114\u001b[0m     \u001b[0;32mdef\u001b[0m \u001b[0mdecorate_context\u001b[0m\u001b[0;34m(\u001b[0m\u001b[0;34m*\u001b[0m\u001b[0margs\u001b[0m\u001b[0;34m,\u001b[0m \u001b[0;34m**\u001b[0m\u001b[0mkwargs\u001b[0m\u001b[0;34m)\u001b[0m\u001b[0;34m:\u001b[0m\u001b[0;34m\u001b[0m\u001b[0;34m\u001b[0m\u001b[0m\n\u001b[1;32m    115\u001b[0m         \u001b[0;32mwith\u001b[0m \u001b[0mctx_factory\u001b[0m\u001b[0;34m(\u001b[0m\u001b[0;34m)\u001b[0m\u001b[0;34m:\u001b[0m\u001b[0;34m\u001b[0m\u001b[0;34m\u001b[0m\u001b[0m\n\u001b[0;32m--> 116\u001b[0;31m             \u001b[0;32mreturn\u001b[0m \u001b[0mfunc\u001b[0m\u001b[0;34m(\u001b[0m\u001b[0;34m*\u001b[0m\u001b[0margs\u001b[0m\u001b[0;34m,\u001b[0m \u001b[0;34m**\u001b[0m\u001b[0mkwargs\u001b[0m\u001b[0;34m)\u001b[0m\u001b[0;34m\u001b[0m\u001b[0;34m\u001b[0m\u001b[0m\n\u001b[0m\u001b[1;32m    117\u001b[0m \u001b[0;34m\u001b[0m\u001b[0m\n\u001b[1;32m    118\u001b[0m     \u001b[0;32mreturn\u001b[0m \u001b[0mdecorate_context\u001b[0m\u001b[0;34m\u001b[0m\u001b[0;34m\u001b[0m\u001b[0m\n",
            "\u001b[0;32m/usr/local/lib/python3.11/dist-packages/transformers/generation/utils.py\u001b[0m in \u001b[0;36mgenerate\u001b[0;34m(self, inputs, generation_config, logits_processor, stopping_criteria, prefix_allowed_tokens_fn, synced_gpus, assistant_model, streamer, negative_prompt_ids, negative_prompt_attention_mask, **kwargs)\u001b[0m\n\u001b[1;32m   2077\u001b[0m             \u001b[0mmodel_kwargs\u001b[0m\u001b[0;34m[\u001b[0m\u001b[0;34m\"logits_to_keep\"\u001b[0m\u001b[0;34m]\u001b[0m \u001b[0;34m=\u001b[0m \u001b[0;36m1\u001b[0m\u001b[0;34m\u001b[0m\u001b[0;34m\u001b[0m\u001b[0m\n\u001b[1;32m   2078\u001b[0m \u001b[0;34m\u001b[0m\u001b[0m\n\u001b[0;32m-> 2079\u001b[0;31m         \u001b[0mself\u001b[0m\u001b[0;34m.\u001b[0m\u001b[0m_validate_generated_length\u001b[0m\u001b[0;34m(\u001b[0m\u001b[0mgeneration_config\u001b[0m\u001b[0;34m,\u001b[0m \u001b[0minput_ids_length\u001b[0m\u001b[0;34m,\u001b[0m \u001b[0mhas_default_max_length\u001b[0m\u001b[0;34m)\u001b[0m\u001b[0;34m\u001b[0m\u001b[0;34m\u001b[0m\u001b[0m\n\u001b[0m\u001b[1;32m   2080\u001b[0m \u001b[0;34m\u001b[0m\u001b[0m\n\u001b[1;32m   2081\u001b[0m         \u001b[0;31m# 7. Prepare the cache.\u001b[0m\u001b[0;34m\u001b[0m\u001b[0;34m\u001b[0m\u001b[0m\n",
            "\u001b[0;32m/usr/local/lib/python3.11/dist-packages/transformers/generation/utils.py\u001b[0m in \u001b[0;36m_validate_generated_length\u001b[0;34m(self, generation_config, input_ids_length, has_default_max_length)\u001b[0m\n\u001b[1;32m   1414\u001b[0m         \u001b[0;32mif\u001b[0m \u001b[0minput_ids_length\u001b[0m \u001b[0;34m>=\u001b[0m \u001b[0mgeneration_config\u001b[0m\u001b[0;34m.\u001b[0m\u001b[0mmax_length\u001b[0m\u001b[0;34m:\u001b[0m\u001b[0;34m\u001b[0m\u001b[0;34m\u001b[0m\u001b[0m\n\u001b[1;32m   1415\u001b[0m             \u001b[0minput_ids_string\u001b[0m \u001b[0;34m=\u001b[0m \u001b[0;34m\"decoder_input_ids\"\u001b[0m \u001b[0;32mif\u001b[0m \u001b[0mself\u001b[0m\u001b[0;34m.\u001b[0m\u001b[0mconfig\u001b[0m\u001b[0;34m.\u001b[0m\u001b[0mis_encoder_decoder\u001b[0m \u001b[0;32melse\u001b[0m \u001b[0;34m\"input_ids\"\u001b[0m\u001b[0;34m\u001b[0m\u001b[0;34m\u001b[0m\u001b[0m\n\u001b[0;32m-> 1416\u001b[0;31m             raise ValueError(\n\u001b[0m\u001b[1;32m   1417\u001b[0m                 \u001b[0;34mf\"Input length of {input_ids_string} is {input_ids_length}, but `max_length` is set to\"\u001b[0m\u001b[0;34m\u001b[0m\u001b[0;34m\u001b[0m\u001b[0m\n\u001b[1;32m   1418\u001b[0m                 \u001b[0;34mf\" {generation_config.max_length}. This can lead to unexpected behavior. You should consider\"\u001b[0m\u001b[0;34m\u001b[0m\u001b[0;34m\u001b[0m\u001b[0m\n",
            "\u001b[0;31mValueError\u001b[0m: Input length of input_ids is 10754, but `max_length` is set to 50. This can lead to unexpected behavior. You should consider increasing `max_length` or, better yet, setting `max_new_tokens`."
          ]
        }
      ]
    },
    {
      "cell_type": "code",
      "source": [
        "print(res)"
      ],
      "metadata": {
        "id": "K2SERMvKzGBG"
      },
      "execution_count": null,
      "outputs": []
    },
    {
      "cell_type": "code",
      "source": [],
      "metadata": {
        "id": "fEZXSglR_Dmg"
      },
      "execution_count": null,
      "outputs": []
    },
    {
      "cell_type": "markdown",
      "source": [
        "# gemini vers check [re ran]"
      ],
      "metadata": {
        "id": "dVVV2CEb_EDM"
      }
    },
    {
      "cell_type": "code",
      "source": [
        "import pandas as pd\n",
        "df = pd.read_csv(\"/content/drive/MyDrive/promptcheck.tsv\", sep='\\t' )\n"
      ],
      "metadata": {
        "id": "ij00Rm0p_HMu"
      },
      "execution_count": null,
      "outputs": []
    },
    {
      "cell_type": "code",
      "source": [
        "print(df)"
      ],
      "metadata": {
        "colab": {
          "base_uri": "https://localhost:8080/"
        },
        "id": "tYRDPmDb_OCh",
        "outputId": "e8757d1d-022d-4b52-996f-126f709de622"
      },
      "execution_count": null,
      "outputs": [
        {
          "output_type": "stream",
          "name": "stdout",
          "text": [
            "     Unnamed: 0.14  Unnamed: 0.13  Unnamed: 0.12  Unnamed: 0.11  \\\n",
            "0                0              0              0              0   \n",
            "1                1              1              1              1   \n",
            "2                2              2              2              2   \n",
            "3                3              3              3              3   \n",
            "4                4              4              4              4   \n",
            "..             ...            ...            ...            ...   \n",
            "475            475            475            475            475   \n",
            "476            476            476            476            476   \n",
            "477            477            477            477            477   \n",
            "478            478            478            478            478   \n",
            "479            479            479            479            479   \n",
            "\n",
            "     Unnamed: 0.10  Unnamed: 0.9  Unnamed: 0.8  Unnamed: 0.7  Unnamed: 0.6  \\\n",
            "0                0             0             0             0             0   \n",
            "1                1             1             1             1             1   \n",
            "2                2             2             2             2             2   \n",
            "3                3             3             3             3             3   \n",
            "4                4             4             4             4             4   \n",
            "..             ...           ...           ...           ...           ...   \n",
            "475            475           475           475           475           475   \n",
            "476            476           476           476           476           476   \n",
            "477            477           477           477           477           477   \n",
            "478            478           478           478           478           478   \n",
            "479            479           479           479           479           479   \n",
            "\n",
            "     Unnamed: 0.5  ...  feverpromptstruct  jsonpromptmess  \\\n",
            "0               0  ...             True\\n          True\\n   \n",
            "1               1  ...        Deceptive\\n     Deceptive\\n   \n",
            "2               2  ...        Deceptive\\n     Deceptive\\n   \n",
            "3               3  ...        Deceptive\\n     Deceptive\\n   \n",
            "4               4  ...        Deceptive\\n          True\\n   \n",
            "..            ...  ...                ...             ...   \n",
            "475           475  ...        Deceptive\\n     Deceptive\\n   \n",
            "476           476  ...             True\\n          True\\n   \n",
            "477           477  ...             True\\n          True\\n   \n",
            "478           478  ...        Deceptive\\n     Deceptive\\n   \n",
            "479           479  ...        Deceptive\\n     Deceptive\\n   \n",
            "\n",
            "     promptOGwHistorytemp6  promptOGwHistorytemp8  promptOGwHistorytemp10  \\\n",
            "0                   True\\n                 True\\n                  True\\n   \n",
            "1              Deceptive\\n            Deceptive\\n                  True\\n   \n",
            "2                   True\\n                 True\\n                  True\\n   \n",
            "3              Deceptive\\n            Deceptive\\n             Deceptive\\n   \n",
            "4              Deceptive\\n            Deceptive\\n             Deceptive\\n   \n",
            "..                     ...                    ...                     ...   \n",
            "475            Deceptive\\n            Deceptive\\n                  True\\n   \n",
            "476                 True\\n                 True\\n                  True\\n   \n",
            "477                 True\\n            Deceptive\\n                  True\\n   \n",
            "478                 True\\n                 True\\n                  True\\n   \n",
            "479            Deceptive\\n            Deceptive\\n             Deceptive\\n   \n",
            "\n",
            "     comboprompt combopromptremix combopromptremixthesequel    jsonremix  \\\n",
            "0         True\\n         \"True\"\\n                    True\\n       True\\n   \n",
            "1         True\\n      Deceptive\\n               Deceptive\\n  Deceptive\\n   \n",
            "2         True\\n      Deceptive\\n                    True\\n       True\\n   \n",
            "3    Deceptive\\n      Deceptive\\n               Deceptive\\n  Deceptive\\n   \n",
            "4         True\\n      Deceptive\\n                    True\\n  Deceptive\\n   \n",
            "..           ...              ...                       ...          ...   \n",
            "475       True\\n           True\\n               Deceptive\\n  Deceptive\\n   \n",
            "476       True\\n           True\\n                    True\\n       True\\n   \n",
            "477       True\\n           True\\n                    True\\n       True\\n   \n",
            "478       True\\n           True\\n                    True\\n       True\\n   \n",
            "479       True\\n      Deceptive\\n               Deceptive\\n  Deceptive\\n   \n",
            "\n",
            "    jsonremixinspace  \n",
            "0             True\\n  \n",
            "1             True\\n  \n",
            "2        Deceptive\\n  \n",
            "3        Deceptive\\n  \n",
            "4             True\\n  \n",
            "..               ...  \n",
            "475           True\\n  \n",
            "476           True\\n  \n",
            "477           True\\n  \n",
            "478           True\\n  \n",
            "479      Deceptive\\n  \n",
            "\n",
            "[480 rows x 42 columns]\n"
          ]
        }
      ]
    },
    {
      "cell_type": "code",
      "source": [
        "\n",
        "for ver in ['promptOG', 'promptOGwHistory', 'promptwExample','promptOGwHistorytemp2', 'promptOGwHistorytemp4', 'feverpromptstruct','promptOGwHistorytemp6', 'promptOGwHistorytemp8','promptOGwHistorytemp10']:\n",
        "  #print(df[ver].value_counts())\n",
        "  df[ver+\"fmt\"] = df[ver].map({'True\\n': 0, 'Deceptive\\n': 1})\n",
        "  #print( df[ver+\"fmt\"].value_counts())\n",
        "df['labelfmt'] = df['label'].map({'T': 0, 'D': 1})\n",
        "#print(df['labelfmt'].value_counts())\n",
        "def fix(row):\n",
        "  if 'True' in row['feverpromptstruct']:\n",
        "    return 0\n",
        "  elif 'Deceptive' in row['feverpromptstruct']:\n",
        "    return 1\n",
        "\n",
        "def fixjson(row):\n",
        "\n",
        "  if 'True' in row['jsonpromptmess']:\n",
        "    return 0\n",
        "  elif 'Deceptive' in row['jsonpromptmess']:\n",
        "    return 1\n",
        "  else:\n",
        "    print(row['jsonpromptmess'])\n",
        "\n",
        "\n",
        "df['jsonpromptmessfmt'] = df.apply(lambda row: fixjson(row), axis=1)\n",
        "print(df['jsonpromptmessfmt'].apply(type).value_counts())\n",
        "df['feverpromptstructfmt'] = df.apply(lambda row: fix(row), axis=1)\n",
        "#print(df['feverpromptstructfmt'].value_counts())"
      ],
      "metadata": {
        "colab": {
          "base_uri": "https://localhost:8080/"
        },
        "id": "KckDM12QVVky",
        "outputId": "0afcf3a7-547f-4046-a15f-4f6f4d0acab5"
      },
      "execution_count": null,
      "outputs": [
        {
          "output_type": "stream",
          "name": "stdout",
          "text": [
            "jsonpromptmessfmt\n",
            "<class 'int'>    480\n",
            "Name: count, dtype: int64\n"
          ]
        }
      ]
    },
    {
      "cell_type": "code",
      "source": [
        "print(df.columns)"
      ],
      "metadata": {
        "colab": {
          "base_uri": "https://localhost:8080/"
        },
        "id": "pdaXaLlIWKQp",
        "outputId": "6404617c-8513-44a2-c408-e1f716dc09a8"
      },
      "execution_count": null,
      "outputs": [
        {
          "output_type": "stream",
          "name": "stdout",
          "text": [
            "Index(['Unnamed: 0.14', 'Unnamed: 0.13', 'Unnamed: 0.12', 'Unnamed: 0.11',\n",
            "       'Unnamed: 0.10', 'Unnamed: 0.9', 'Unnamed: 0.8', 'Unnamed: 0.7',\n",
            "       'Unnamed: 0.6', 'Unnamed: 0.5', 'Unnamed: 0.4', 'Unnamed: 0.3',\n",
            "       'Unnamed: 0.2', 'Unnamed: 0.1', 'Unnamed: 0', 'mid', 'persuasion',\n",
            "       'deception', 'label', 'player', 'msg', 'quest', 'turn', 'file',\n",
            "       'withName', 'history', 'msgAndHistory', 'promptOG', 'promptOGwHistory',\n",
            "       'promptwExample', 'promptOGwHistorytemp2', 'promptOGwHistorytemp4',\n",
            "       'feverpromptstruct', 'jsonpromptmess', 'promptOGwHistorytemp6',\n",
            "       'promptOGwHistorytemp8', 'promptOGwHistorytemp10', 'comboprompt',\n",
            "       'combopromptremix', 'combopromptremixthesequel', 'jsonremix',\n",
            "       'jsonremixinspace', 'promptOGfmt', 'promptOGwHistoryfmt',\n",
            "       'promptwExamplefmt', 'promptOGwHistorytemp2fmt',\n",
            "       'promptOGwHistorytemp4fmt', 'feverpromptstructfmt',\n",
            "       'promptOGwHistorytemp6fmt', 'promptOGwHistorytemp8fmt',\n",
            "       'promptOGwHistorytemp10fmt', 'labelfmt', 'jsonpromptmessfmt'],\n",
            "      dtype='object')\n"
          ]
        }
      ]
    },
    {
      "cell_type": "code",
      "source": [
        "for res in ['promptOGfmt', 'promptOGwHistoryfmt','promptwExamplefmt', 'promptOGwHistorytemp2fmt', 'promptOGwHistorytemp4fmt', 'feverpromptstructfmt', 'jsonpromptmessfmt','promptOGwHistorytemp6fmt', 'promptOGwHistorytemp8fmt','promptOGwHistorytemp10fmt']:\n",
        "\n",
        "\n",
        "  d = df.loc[df[\"labelfmt\"] == 1]\n",
        "  preddec = evalsuite(d[res], d['labelfmt'])\n",
        "  print(res , \" res on deceptive only: \", preddec)\n",
        "\n",
        "  t = df.loc[df[\"labelfmt\"] == 0]\n",
        "  predt = evalsuite(t[res], t['labelfmt'])\n",
        "  print(res , \" res on true only: \", predt)\n",
        "\n",
        "\n",
        "  predall = evalsuite(df[res], df['labelfmt'])\n",
        "  print(res , \" res on all: \", predall)\n",
        "  print('\\n')\n",
        "#print(df['jsonpromptmessfmt'].value_counts())"
      ],
      "metadata": {
        "colab": {
          "base_uri": "https://localhost:8080/"
        },
        "id": "LJTYJtbSYRhs",
        "outputId": "6a198877-c1bf-4967-c433-8b49260ba0ce"
      },
      "execution_count": null,
      "outputs": [
        {
          "output_type": "stream",
          "name": "stdout",
          "text": [
            "promptOGfmt  res on deceptive only:  ('acc: ', 0.39166666666666666, 'precision: ', 1.0, 'recall: ', 0.39166666666666666, 'f1: ', 0.562874251497006, 'specificity: ', 0, 'mcc: ', 0, 'mac pre ', 0.5, 'micro pre ', 0.39166666666666666)\n",
            "promptOGfmt  res on true only:  ('acc: ', 0.6833333333333333, 'precision: ', 0.0, 'recall: ', 0, 'f1: ', 0, 'specificity: ', 0.6833333333333333, 'mcc: ', 0, 'mac pre ', 0.5, 'micro pre ', 0.6833333333333333)\n",
            "promptOGfmt  res on all:  ('acc: ', 0.5375, 'precision: ', 0.5529411764705883, 'recall: ', 0.39166666666666666, 'f1: ', 0.4585365853658537, 'specificity: ', 0.6833333333333333, 'mcc: ', 0.07840923153642577, 'mac pre ', 0.5409867172675522, 'micro pre ', 0.5375)\n",
            "\n",
            "\n",
            "promptOGwHistoryfmt  res on deceptive only:  ('acc: ', 0.6083333333333333, 'precision: ', 1.0, 'recall: ', 0.6083333333333333, 'f1: ', 0.7564766839378237, 'specificity: ', 0, 'mcc: ', 0, 'mac pre ', 0.5, 'micro pre ', 0.6083333333333333)\n",
            "promptOGwHistoryfmt  res on true only:  ('acc: ', 0.4625, 'precision: ', 0.0, 'recall: ', 0, 'f1: ', 0, 'specificity: ', 0.4625, 'mcc: ', 0, 'mac pre ', 0.5, 'micro pre ', 0.4625)\n",
            "promptOGwHistoryfmt  res on all:  ('acc: ', 0.5354166666666667, 'precision: ', 0.5309090909090909, 'recall: ', 0.6083333333333333, 'f1: ', 0.5669902912621358, 'specificity: ', 0.4625, 'mcc: ', 0.07159878357425242, 'mac pre ', 0.5361862527716186, 'micro pre ', 0.5354166666666667)\n",
            "\n",
            "\n",
            "promptwExamplefmt  res on deceptive only:  ('acc: ', 0.49583333333333335, 'precision: ', 1.0, 'recall: ', 0.49583333333333335, 'f1: ', 0.6629526462395543, 'specificity: ', 0, 'mcc: ', 0, 'mac pre ', 0.5, 'micro pre ', 0.49583333333333335)\n",
            "promptwExamplefmt  res on true only:  ('acc: ', 0.5166666666666667, 'precision: ', 0.0, 'recall: ', 0, 'f1: ', 0, 'specificity: ', 0.5166666666666667, 'mcc: ', 0, 'mac pre ', 0.5, 'micro pre ', 0.5166666666666667)\n",
            "promptwExamplefmt  res on all:  ('acc: ', 0.50625, 'precision: ', 0.5063829787234042, 'recall: ', 0.49583333333333335, 'f1: ', 0.5010526315789474, 'specificity: ', 0.5166666666666667, 'mcc: ', 0.01250271355696239, 'mac pre ', 0.5062527138514981, 'micro pre ', 0.50625)\n",
            "\n",
            "\n",
            "promptOGwHistorytemp2fmt  res on deceptive only:  ('acc: ', 0.6125, 'precision: ', 1.0, 'recall: ', 0.6125, 'f1: ', 0.7596899224806202, 'specificity: ', 0, 'mcc: ', 0, 'mac pre ', 0.5, 'micro pre ', 0.6125)\n",
            "promptOGwHistorytemp2fmt  res on true only:  ('acc: ', 0.4583333333333333, 'precision: ', 0.0, 'recall: ', 0, 'f1: ', 0, 'specificity: ', 0.4583333333333333, 'mcc: ', 0, 'mac pre ', 0.5, 'micro pre ', 0.4583333333333333)\n",
            "promptOGwHistorytemp2fmt  res on all:  ('acc: ', 0.5354166666666667, 'precision: ', 0.5306859205776173, 'recall: ', 0.6125, 'f1: ', 0.5686653771760155, 'specificity: ', 0.4583333333333333, 'mcc: ', 0.07169040236548453, 'mac pre ', 0.5362789208799417, 'micro pre ', 0.5354166666666667)\n",
            "\n",
            "\n",
            "promptOGwHistorytemp4fmt  res on deceptive only:  ('acc: ', 0.5958333333333333, 'precision: ', 1.0, 'recall: ', 0.5958333333333333, 'f1: ', 0.7467362924281985, 'specificity: ', 0, 'mcc: ', 0, 'mac pre ', 0.5, 'micro pre ', 0.5958333333333333)\n",
            "promptOGwHistorytemp4fmt  res on true only:  ('acc: ', 0.45, 'precision: ', 0.0, 'recall: ', 0, 'f1: ', 0, 'specificity: ', 0.45, 'mcc: ', 0, 'mac pre ', 0.5, 'micro pre ', 0.45)\n",
            "promptOGwHistorytemp4fmt  res on all:  ('acc: ', 0.5229166666666667, 'precision: ', 0.52, 'recall: ', 0.5958333333333333, 'f1: ', 0.5553398058252428, 'specificity: ', 0.45, 'mcc: ', 0.04632862466569274, 'mac pre ', 0.5234146341463415, 'micro pre ', 0.5229166666666667)\n",
            "\n",
            "\n",
            "feverpromptstructfmt  res on deceptive only:  ('acc: ', 0.6166666666666667, 'precision: ', 1.0, 'recall: ', 0.6166666666666667, 'f1: ', 0.7628865979381444, 'specificity: ', 0, 'mcc: ', 0, 'mac pre ', 0.5, 'micro pre ', 0.6166666666666667)\n",
            "feverpromptstructfmt  res on true only:  ('acc: ', 0.4791666666666667, 'precision: ', 0.0, 'recall: ', 0, 'f1: ', 0, 'specificity: ', 0.4791666666666667, 'mcc: ', 0, 'mac pre ', 0.5, 'micro pre ', 0.4791666666666667)\n",
            "feverpromptstructfmt  res on all:  ('acc: ', 0.5479166666666667, 'precision: ', 0.5421245421245421, 'recall: ', 0.6166666666666667, 'f1: ', 0.5769980506822612, 'specificity: ', 0.4791666666666667, 'mcc: ', 0.09675230933166071, 'mac pre ', 0.5488400488400489, 'micro pre ', 0.5479166666666667)\n",
            "\n",
            "\n",
            "jsonpromptmessfmt  res on deceptive only:  ('acc: ', 0.4791666666666667, 'precision: ', 1.0, 'recall: ', 0.4791666666666667, 'f1: ', 0.647887323943662, 'specificity: ', 0, 'mcc: ', 0, 'mac pre ', 0.5, 'micro pre ', 0.4791666666666667)\n",
            "jsonpromptmessfmt  res on true only:  ('acc: ', 0.6166666666666667, 'precision: ', 0.0, 'recall: ', 0, 'f1: ', 0, 'specificity: ', 0.6166666666666667, 'mcc: ', 0, 'mac pre ', 0.5, 'micro pre ', 0.6166666666666667)\n",
            "jsonpromptmessfmt  res on all:  ('acc: ', 0.5479166666666667, 'precision: ', 0.5555555555555556, 'recall: ', 0.4791666666666667, 'f1: ', 0.5145413870246085, 'specificity: ', 0.6166666666666667, 'mcc: ', 0.09675230933166071, 'mac pre ', 0.5488400488400489, 'micro pre ', 0.5479166666666667)\n",
            "\n",
            "\n",
            "promptOGwHistorytemp6fmt  res on deceptive only:  ('acc: ', 0.5875, 'precision: ', 1.0, 'recall: ', 0.5875, 'f1: ', 0.7401574803149606, 'specificity: ', 0, 'mcc: ', 0, 'mac pre ', 0.5, 'micro pre ', 0.5875)\n",
            "promptOGwHistorytemp6fmt  res on true only:  ('acc: ', 0.4625, 'precision: ', 0.0, 'recall: ', 0, 'f1: ', 0, 'specificity: ', 0.4625, 'mcc: ', 0, 'mac pre ', 0.5, 'micro pre ', 0.4625)\n",
            "promptOGwHistorytemp6fmt  res on all:  ('acc: ', 0.525, 'precision: ', 0.5222222222222223, 'recall: ', 0.5875, 'f1: ', 0.5529411764705883, 'specificity: ', 0.4625, 'mcc: ', 0.05039526306789696, 'mac pre ', 0.5253968253968254, 'micro pre ', 0.525)\n",
            "\n",
            "\n",
            "promptOGwHistorytemp8fmt  res on deceptive only:  ('acc: ', 0.6083333333333333, 'precision: ', 1.0, 'recall: ', 0.6083333333333333, 'f1: ', 0.7564766839378237, 'specificity: ', 0, 'mcc: ', 0, 'mac pre ', 0.5, 'micro pre ', 0.6083333333333333)\n",
            "promptOGwHistorytemp8fmt  res on true only:  ('acc: ', 0.45, 'precision: ', 0.0, 'recall: ', 0, 'f1: ', 0, 'specificity: ', 0.45, 'mcc: ', 0, 'mac pre ', 0.5, 'micro pre ', 0.45)\n",
            "promptOGwHistorytemp8fmt  res on all:  ('acc: ', 0.5291666666666667, 'precision: ', 0.5251798561151079, 'recall: ', 0.6083333333333333, 'f1: ', 0.5637065637065636, 'specificity: ', 0.45, 'mcc: ', 0.05907856705491834, 'mac pre ', 0.5299166607308212, 'micro pre ', 0.5291666666666667)\n",
            "\n",
            "\n",
            "promptOGwHistorytemp10fmt  res on deceptive only:  ('acc: ', 0.5666666666666667, 'precision: ', 1.0, 'recall: ', 0.5666666666666667, 'f1: ', 0.7234042553191489, 'specificity: ', 0, 'mcc: ', 0, 'mac pre ', 0.5, 'micro pre ', 0.5666666666666667)\n",
            "promptOGwHistorytemp10fmt  res on true only:  ('acc: ', 0.45416666666666666, 'precision: ', 0.0, 'recall: ', 0, 'f1: ', 0, 'specificity: ', 0.45416666666666666, 'mcc: ', 0, 'mac pre ', 0.5, 'micro pre ', 0.45416666666666666)\n",
            "promptOGwHistorytemp10fmt  res on all:  ('acc: ', 0.5104166666666666, 'precision: ', 0.5093632958801498, 'recall: ', 0.5666666666666667, 'f1: ', 0.5364891518737672, 'specificity: ', 0.45416666666666666, 'mcc: ', 0.02096643402859862, 'mac pre ', 0.5105501925410139, 'micro pre ', 0.5104166666666666)\n",
            "\n",
            "\n"
          ]
        }
      ]
    },
    {
      "cell_type": "code",
      "source": [
        "def errorcheck(row):\n",
        "  modelwerr = []\n",
        "\n",
        "  #print (row['promptOGfmt'])\n",
        "  if row['promptOGfmt'] != row['labelfmt']:\n",
        "    modelwerr.append('promptOGfmt')\n",
        "  if row['promptOGwHistoryfmt'] != row['labelfmt']:\n",
        "    modelwerr.append('promptOGwHistoryfmt')\n",
        "  if row['promptwExamplefmt'] != row['labelfmt']:\n",
        "    modelwerr.append('promptwExamplefmt')\n",
        "  if row['feverpromptstructfmt'] != row['labelfmt']:\n",
        "    modelwerr.append('feverpromptstructfmt')\n",
        "  if row['jsonpromptmessfmt'] != row['labelfmt']:\n",
        "    modelwerr.append('jsonpromptmessfmt')\n",
        "\n",
        "  if modelwerr == []:\n",
        "    modelwerr.append('all correct')\n",
        "  if len(modelwerr) == 5:\n",
        "    modelwerr = ['all wrong']\n",
        "  return modelwerr\n",
        "\n",
        "df['model errors'] = df.apply(errorcheck, axis = 1)\n"
      ],
      "metadata": {
        "id": "e4z1ORy8BOCD"
      },
      "execution_count": null,
      "outputs": []
    },
    {
      "cell_type": "code",
      "source": [
        "compdf = df[['model errors', 'label', 'msg']]"
      ],
      "metadata": {
        "id": "iCVkA_MnDbxY"
      },
      "execution_count": null,
      "outputs": []
    },
    {
      "cell_type": "code",
      "source": [
        "print(compdf)\n",
        "compdf.to_csv(\"/content/drive/MyDrive/errchecvk.tsv\", sep='\\t' )\n",
        "print(compdf['model errors'].value_counts())"
      ],
      "metadata": {
        "colab": {
          "base_uri": "https://localhost:8080/"
        },
        "id": "ETkm3V9ZDnbd",
        "outputId": "77d040a2-4a64-4df9-e963-8b182d937bfa"
      },
      "execution_count": null,
      "outputs": [
        {
          "output_type": "stream",
          "name": "stdout",
          "text": [
            "                                          model errors label  \\\n",
            "0                                        [all correct]     T   \n",
            "1    [promptOGwHistoryfmt, feverpromptstructfmt, js...     T   \n",
            "2    [promptwExamplefmt, feverpromptstructfmt, json...     T   \n",
            "3                                          [all wrong]     T   \n",
            "4    [promptOGwHistoryfmt, promptwExamplefmt, fever...     T   \n",
            "..                                                 ...   ...   \n",
            "475                                [promptwExamplefmt]     D   \n",
            "476  [promptOGfmt, promptOGwHistoryfmt, feverprompt...     D   \n",
            "477  [promptOGfmt, promptOGwHistoryfmt, feverprompt...     D   \n",
            "478  [promptOGfmt, promptOGwHistoryfmt, promptwExam...     D   \n",
            "479                                      [all correct]     D   \n",
            "\n",
            "                                                   msg  \n",
            "0                             i don't know anything rn  \n",
            "1    please reconsider my words even if you find it...  \n",
            "2                                       but let's see?  \n",
            "3    i therefore think player-2 and player-4 are al...  \n",
            "4    i would be proposing a party with player-3 as ...  \n",
            "..                                                 ...  \n",
            "475  on that note though, it is a bit suspicious th...  \n",
            "476   but i'm good. i want to be on the quest as well.  \n",
            "477  yeah, i won't learn anything from this, but su...  \n",
            "478  however, if the general consensus is player-4 ...  \n",
            "479  otherthan then angel accidentally adding playe...  \n",
            "\n",
            "[480 rows x 3 columns]\n",
            "model errors\n",
            "[all correct]                                                                        110\n",
            "[all wrong]                                                                           79\n",
            "[promptOGfmt]                                                                         40\n",
            "[promptOGwHistoryfmt, promptwExamplefmt, feverpromptstructfmt, jsonpromptmessfmt]     37\n",
            "[promptwExamplefmt]                                                                   16\n",
            "[promptOGfmt, promptOGwHistoryfmt, promptwExamplefmt, feverpromptstructfmt]           15\n",
            "[promptOGfmt, promptOGwHistoryfmt, promptwExamplefmt, jsonpromptmessfmt]              14\n",
            "[promptOGfmt, promptwExamplefmt, feverpromptstructfmt, jsonpromptmessfmt]             13\n",
            "[jsonpromptmessfmt]                                                                   12\n",
            "[feverpromptstructfmt]                                                                11\n",
            "[promptOGwHistoryfmt]                                                                 11\n",
            "[promptOGfmt, promptOGwHistoryfmt, promptwExamplefmt]                                 10\n",
            "[promptOGwHistoryfmt, promptwExamplefmt]                                               9\n",
            "[promptOGwHistoryfmt, promptwExamplefmt, feverpromptstructfmt]                         9\n",
            "[promptwExamplefmt, feverpromptstructfmt, jsonpromptmessfmt]                           8\n",
            "[feverpromptstructfmt, jsonpromptmessfmt]                                              8\n",
            "[promptOGfmt, jsonpromptmessfmt]                                                       8\n",
            "[promptOGwHistoryfmt, promptwExamplefmt, jsonpromptmessfmt]                            7\n",
            "[promptOGfmt, promptwExamplefmt, jsonpromptmessfmt]                                    6\n",
            "[promptOGwHistoryfmt, feverpromptstructfmt]                                            6\n",
            "[promptOGfmt, promptOGwHistoryfmt, feverpromptstructfmt, jsonpromptmessfmt]            6\n",
            "[promptOGfmt, feverpromptstructfmt, jsonpromptmessfmt]                                 6\n",
            "[promptOGfmt, promptOGwHistoryfmt]                                                     6\n",
            "[promptOGfmt, promptwExamplefmt]                                                       6\n",
            "[promptOGfmt, promptOGwHistoryfmt, feverpromptstructfmt]                               5\n",
            "[promptOGfmt, feverpromptstructfmt]                                                    5\n",
            "[promptOGwHistoryfmt, feverpromptstructfmt, jsonpromptmessfmt]                         5\n",
            "[promptwExamplefmt, jsonpromptmessfmt]                                                 4\n",
            "[promptOGwHistoryfmt, jsonpromptmessfmt]                                               3\n",
            "[promptOGfmt, promptwExamplefmt, feverpromptstructfmt]                                 2\n",
            "[promptwExamplefmt, feverpromptstructfmt]                                              2\n",
            "[promptOGfmt, promptOGwHistoryfmt, jsonpromptmessfmt]                                  1\n",
            "Name: count, dtype: int64\n"
          ]
        }
      ]
    },
    {
      "cell_type": "code",
      "source": [
        "\n",
        "\n",
        "dcheck = compdf.loc[compdf['model errors'].con\n",
        "\n",
        "\n",
        "\n",
        "\n",
        "    any('promptwExamplefmt' in compdf['model errors']) == True and any('promptOGfmt' in compdf['model errors']) == False and any('promptOGwHistoryfmt' in compdf['model errors'])]]"
      ],
      "metadata": {
        "colab": {
          "base_uri": "https://localhost:8080/",
          "height": 162
        },
        "id": "5KuuCU_LKvey",
        "outputId": "5ae03c0e-3536-42ff-fa6a-e1008e7d1028"
      },
      "execution_count": null,
      "outputs": [
        {
          "output_type": "error",
          "ename": "TypeError",
          "evalue": "'bool' object is not iterable",
          "traceback": [
            "\u001b[0;31m---------------------------------------------------------------------------\u001b[0m",
            "\u001b[0;31mTypeError\u001b[0m                                 Traceback (most recent call last)",
            "\u001b[0;32m<ipython-input-84-ddb9d42bcdd0>\u001b[0m in \u001b[0;36m<cell line: 0>\u001b[0;34m()\u001b[0m\n\u001b[0;32m----> 1\u001b[0;31m \u001b[0mdcheck\u001b[0m \u001b[0;34m=\u001b[0m \u001b[0mcompdf\u001b[0m\u001b[0;34m.\u001b[0m\u001b[0mloc\u001b[0m\u001b[0;34m[\u001b[0m\u001b[0mcompdf\u001b[0m\u001b[0;34m[\u001b[0m\u001b[0many\u001b[0m\u001b[0;34m(\u001b[0m\u001b[0;34m'promptwExamplefmt'\u001b[0m \u001b[0;32min\u001b[0m \u001b[0mcompdf\u001b[0m\u001b[0;34m[\u001b[0m\u001b[0;34m'model errors'\u001b[0m\u001b[0;34m]\u001b[0m\u001b[0;34m)\u001b[0m \u001b[0;34m==\u001b[0m \u001b[0;32mTrue\u001b[0m \u001b[0;32mand\u001b[0m \u001b[0many\u001b[0m\u001b[0;34m(\u001b[0m\u001b[0;34m'promptOGfmt'\u001b[0m \u001b[0;32min\u001b[0m \u001b[0mcompdf\u001b[0m\u001b[0;34m[\u001b[0m\u001b[0;34m'model errors'\u001b[0m\u001b[0;34m]\u001b[0m\u001b[0;34m)\u001b[0m \u001b[0;34m==\u001b[0m \u001b[0;32mFalse\u001b[0m \u001b[0;32mand\u001b[0m \u001b[0many\u001b[0m\u001b[0;34m(\u001b[0m\u001b[0;34m'promptOGwHistoryfmt'\u001b[0m \u001b[0;32min\u001b[0m \u001b[0mcompdf\u001b[0m\u001b[0;34m[\u001b[0m\u001b[0;34m'model errors'\u001b[0m\u001b[0;34m]\u001b[0m\u001b[0;34m)\u001b[0m\u001b[0;34m]\u001b[0m\u001b[0;34m]\u001b[0m\u001b[0;34m\u001b[0m\u001b[0;34m\u001b[0m\u001b[0m\n\u001b[0m",
            "\u001b[0;31mTypeError\u001b[0m: 'bool' object is not iterable"
          ]
        }
      ]
    },
    {
      "cell_type": "code",
      "source": [
        "import pandas as pd\n",
        "df = pd.read_csv(\"/content/drive/MyDrive/promptcheck.tsv\", sep='\\t' )\n",
        "print(df)"
      ],
      "metadata": {
        "colab": {
          "base_uri": "https://localhost:8080/"
        },
        "id": "fa5IZ50Hx0Fp",
        "outputId": "dc56c94e-d38c-4b27-d08d-fd718abf4bb3"
      },
      "execution_count": null,
      "outputs": [
        {
          "output_type": "stream",
          "name": "stdout",
          "text": [
            "     Unnamed: 0.14  Unnamed: 0.13  Unnamed: 0.12  Unnamed: 0.11  \\\n",
            "0                0              0              0              0   \n",
            "1                1              1              1              1   \n",
            "2                2              2              2              2   \n",
            "3                3              3              3              3   \n",
            "4                4              4              4              4   \n",
            "..             ...            ...            ...            ...   \n",
            "475            475            475            475            475   \n",
            "476            476            476            476            476   \n",
            "477            477            477            477            477   \n",
            "478            478            478            478            478   \n",
            "479            479            479            479            479   \n",
            "\n",
            "     Unnamed: 0.10  Unnamed: 0.9  Unnamed: 0.8  Unnamed: 0.7  Unnamed: 0.6  \\\n",
            "0                0             0             0             0             0   \n",
            "1                1             1             1             1             1   \n",
            "2                2             2             2             2             2   \n",
            "3                3             3             3             3             3   \n",
            "4                4             4             4             4             4   \n",
            "..             ...           ...           ...           ...           ...   \n",
            "475            475           475           475           475           475   \n",
            "476            476           476           476           476           476   \n",
            "477            477           477           477           477           477   \n",
            "478            478           478           478           478           478   \n",
            "479            479           479           479           479           479   \n",
            "\n",
            "     Unnamed: 0.5  ...  feverpromptstruct  jsonpromptmess  \\\n",
            "0               0  ...             True\\n          True\\n   \n",
            "1               1  ...        Deceptive\\n     Deceptive\\n   \n",
            "2               2  ...        Deceptive\\n     Deceptive\\n   \n",
            "3               3  ...        Deceptive\\n     Deceptive\\n   \n",
            "4               4  ...        Deceptive\\n          True\\n   \n",
            "..            ...  ...                ...             ...   \n",
            "475           475  ...        Deceptive\\n     Deceptive\\n   \n",
            "476           476  ...             True\\n          True\\n   \n",
            "477           477  ...             True\\n          True\\n   \n",
            "478           478  ...        Deceptive\\n     Deceptive\\n   \n",
            "479           479  ...        Deceptive\\n     Deceptive\\n   \n",
            "\n",
            "     promptOGwHistorytemp6  promptOGwHistorytemp8  promptOGwHistorytemp10  \\\n",
            "0                   True\\n                 True\\n                  True\\n   \n",
            "1              Deceptive\\n            Deceptive\\n                  True\\n   \n",
            "2                   True\\n                 True\\n                  True\\n   \n",
            "3              Deceptive\\n            Deceptive\\n             Deceptive\\n   \n",
            "4              Deceptive\\n            Deceptive\\n             Deceptive\\n   \n",
            "..                     ...                    ...                     ...   \n",
            "475            Deceptive\\n            Deceptive\\n                  True\\n   \n",
            "476                 True\\n                 True\\n                  True\\n   \n",
            "477                 True\\n            Deceptive\\n                  True\\n   \n",
            "478                 True\\n                 True\\n                  True\\n   \n",
            "479            Deceptive\\n            Deceptive\\n             Deceptive\\n   \n",
            "\n",
            "     comboprompt combopromptremix combopromptremixthesequel    jsonremix  \\\n",
            "0         True\\n         \"True\"\\n                    True\\n       True\\n   \n",
            "1         True\\n      Deceptive\\n               Deceptive\\n  Deceptive\\n   \n",
            "2         True\\n      Deceptive\\n                    True\\n       True\\n   \n",
            "3    Deceptive\\n      Deceptive\\n               Deceptive\\n  Deceptive\\n   \n",
            "4         True\\n      Deceptive\\n                    True\\n  Deceptive\\n   \n",
            "..           ...              ...                       ...          ...   \n",
            "475       True\\n           True\\n               Deceptive\\n  Deceptive\\n   \n",
            "476       True\\n           True\\n                    True\\n       True\\n   \n",
            "477       True\\n           True\\n                    True\\n       True\\n   \n",
            "478       True\\n           True\\n                    True\\n       True\\n   \n",
            "479       True\\n      Deceptive\\n               Deceptive\\n  Deceptive\\n   \n",
            "\n",
            "    jsonremixinspace  \n",
            "0             True\\n  \n",
            "1             True\\n  \n",
            "2        Deceptive\\n  \n",
            "3        Deceptive\\n  \n",
            "4             True\\n  \n",
            "..               ...  \n",
            "475           True\\n  \n",
            "476           True\\n  \n",
            "477           True\\n  \n",
            "478           True\\n  \n",
            "479      Deceptive\\n  \n",
            "\n",
            "[480 rows x 42 columns]\n"
          ]
        }
      ]
    },
    {
      "cell_type": "code",
      "source": [
        "df[\"combopromptfmt\"] = df[\"comboprompt\"].map({'True\\n': 0, 'Deceptive\\n': 1})\n",
        "  #print( df[ver+\"fmt\"].value_counts())\n",
        "df['labelfmt'] = df['label'].map({'T': 0, 'D': 1})"
      ],
      "metadata": {
        "id": "UVcMvKf6x2W9"
      },
      "execution_count": null,
      "outputs": []
    },
    {
      "cell_type": "code",
      "source": [
        "d = df.loc[df[\"labelfmt\"] == 1]\n",
        "preddec = evalsuite(d[\"combopromptfmt\"], d['labelfmt'])\n",
        "print(\" res on deceptive only: \", preddec)\n",
        "\n",
        "t = df.loc[df[\"labelfmt\"] == 0]\n",
        "predt = evalsuite(t[\"combopromptfmt\"], t['labelfmt'])\n",
        "print(\" res on true only: \", predt)\n",
        "\n",
        "\n",
        "predall = evalsuite(df[\"combopromptfmt\"], df['labelfmt'])\n",
        "print(\" res on all: \", predall)\n",
        "print('\\n')"
      ],
      "metadata": {
        "colab": {
          "base_uri": "https://localhost:8080/"
        },
        "id": "ZukO5uN6yYsW",
        "outputId": "ad537869-d42a-4e17-9643-6fa5c2840f55"
      },
      "execution_count": null,
      "outputs": [
        {
          "output_type": "stream",
          "name": "stdout",
          "text": [
            "[0.0, 0.0, 0.0, 1.0, 1.0, 0.0, 0.0, 0.0, 0.0, 0.0, 1.0, 1.0, 0.0, 0.0, 1.0, 0.0, 0.0, 1.0, 1.0, 0.0, 0.0, 0.0, 0.0, 0.0, 0.0, 0.0, 1.0, 0.0, 0.0, 0.0, 1.0, 0.0, 1.0, 0.0, 0.0, 0.0, 1.0, 0.0, 0.0, 1.0, 0.0, 1.0, 0.0, 1.0, 0.0, 1.0, 0.0, 0.0, 0.0, 0.0, 0.0, 0.0, 1.0, 0.0, 0.0, 0.0, 0.0, 0.0, 0.0, 0.0, 1.0, 0.0, 0.0, 0.0, 0.0, 0.0, 0.0, 1.0, 0.0, 0.0, 0.0, 0.0, 1.0, 0.0, 0.0, 0.0, 0.0, 0.0, 0.0, 0.0, 0.0, 1.0, 0.0, 0.0, 0.0, 0.0, 1.0, 0.0, 0.0, 0.0, 0.0, 0.0, 1.0, 0.0, 0.0, 0.0, 1.0, 1.0, 0.0, 0.0, 0.0, 0.0, 0.0, 1.0, 1.0, 0.0, 0.0, 1.0, 0.0, 0.0, 0.0, 0.0, 0.0, 0.0, 1.0, 0.0, 1.0, 1.0, 0.0, 0.0, 0.0, 1.0, 0.0, 1.0, 0.0, 1.0, 0.0, 0.0, 0.0, 1.0, 0.0, 0.0, 1.0, 0.0, 1.0, 0.0, 0.0, 0.0, 0.0, 1.0, 0.0, 0.0, 0.0, 0.0, 0.0, 0.0, 0.0, 0.0, 1.0, 0.0, 0.0, 0.0, 0.0, 0.0, 0.0, 1.0, 0.0, 0.0, 1.0, 0.0, 0.0, 0.0, 0.0, 0.0, 0.0, 0.0, 1.0, 1.0, 0.0, 0.0, 1.0, 1.0, 0.0, 1.0, 1.0, 1.0, 0.0, 1.0, 0.0, 0.0, 1.0, 0.0, 0.0, 0.0, 0.0, 0.0, 1.0, 0.0, 0.0, 0.0, 1.0, 0.0, 1.0, 0.0, 0.0, 0.0, 0.0, 1.0, 0.0, 0.0, 0.0, 0.0, 0.0, 0.0, 0.0, 0.0, 1.0, 1.0, 0.0, 0.0, 0.0, 0.0, 0.0, 0.0, 0.0, 0.0, 1.0, 0.0, 0.0, 1.0, 0.0, 0.0, 1.0, 0.0, 0.0, 0.0, 0.0, 0.0, 0.0, 0.0, 0.0, 0.0, 0.0, 0.0, 0.0, 0.0, 0.0, 0.0, 0.0, 0.0]\n",
            " res on deceptive only:  ('acc: ', 0.24166666666666667, 'precision: ', 1.0, 'recall: ', 0.24166666666666667, 'f1: ', 0.38926174496644295, 'specificity: ', 0, 'mcc: ', 0, 'mac pre ', 0.5, 'micro pre ', 0.24166666666666667)\n",
            "nan 0\n",
            "[0.0, 0.0, 0.0, 1.0, 0.0, 0.0, 0.0, 0.0, 1.0, 0.0, 1.0, 1.0, 0.0, 1.0, 0.0, 0.0, 0.0, 1.0, 0.0, 0.0, 0.0, 0.0, 0.0, 1.0, 0.0, 1.0, 0.0, 0.0, 0.0, 0.0, 0.0, 0.0, 0.0, 0.0, nan, 0.0, 0.0, 0.0, 0.0, 0.0, 0.0, 0.0, 0.0, 0.0, 1.0, 1.0, 0.0, 0.0, 0.0, 0.0, 0.0, 0.0, 0.0, 0.0, 0.0, 0.0, 0.0, 0.0, 0.0, 0.0, 0.0, 0.0, 1.0, 1.0, 0.0, 0.0, 0.0, 0.0, 1.0, 0.0, 1.0, 0.0, 0.0, 0.0, 0.0, 0.0, 0.0, 0.0, 0.0, 1.0, 0.0, 0.0, 0.0, 0.0, 1.0, 0.0, 0.0, 0.0, 0.0, 0.0, 1.0, 0.0, 0.0, 1.0, 0.0, 0.0, 1.0, 0.0, 1.0, 0.0, 0.0, 0.0, 1.0, 0.0, 0.0, 0.0, 0.0, 0.0, 1.0, 0.0, 0.0, 1.0, 0.0, 0.0, 0.0, 0.0, 1.0, 0.0, 0.0, 1.0, 0.0, 0.0, 0.0, 0.0, 1.0, 0.0, 0.0, 1.0, 1.0, 0.0, 0.0, 0.0, 0.0, 0.0, 0.0, 0.0, 0.0, 0.0, 0.0, 1.0, 1.0, 0.0, 1.0, 1.0, 1.0, 0.0, 0.0, 1.0, 0.0, 0.0, 0.0, 0.0, 0.0, 1.0, 0.0, 0.0, 0.0, 0.0, 0.0, 1.0, 0.0, 0.0, 0.0, 0.0, 0.0, 0.0, 0.0, 0.0, 0.0, 0.0, 0.0, 1.0, 0.0, 0.0, 0.0, 1.0, 0.0, 1.0, 0.0, 1.0, 0.0, 0.0, 0.0, 0.0, 0.0, 1.0, 0.0, 0.0, 1.0, 0.0, 0.0, 0.0, 0.0, 0.0, 1.0, 0.0, 0.0, 0.0, 0.0, 0.0, 0.0, 0.0, 0.0, 0.0, 1.0, 0.0, 0.0, 0.0, 0.0, 0.0, 0.0, 1.0, 1.0, 0.0, 1.0, 0.0, 0.0, 0.0, 0.0, 0.0, 1.0, 0.0, 0.0, 0.0, 0.0, 1.0, 0.0, 0.0, 0.0, 1.0, 0.0, 0.0, 1.0, 0.0, 0.0, 0.0, 0.0, 0.0, 0.0, 1.0]\n",
            " res on true only:  ('acc: ', 0.7791666666666667, 'precision: ', 0.0, 'recall: ', 0, 'f1: ', 0, 'specificity: ', 0.7824267782426778, 'mcc: ', 0, 'mac pre ', 0.5, 'micro pre ', 0.7791666666666667)\n",
            "nan 0\n",
            "[0.0, 0.0, 0.0, 1.0, 0.0, 0.0, 0.0, 0.0, 1.0, 0.0, 1.0, 1.0, 0.0, 1.0, 0.0, 0.0, 0.0, 1.0, 0.0, 0.0, 0.0, 0.0, 0.0, 1.0, 0.0, 1.0, 0.0, 0.0, 0.0, 0.0, 0.0, 0.0, 0.0, 0.0, nan, 0.0, 0.0, 0.0, 0.0, 0.0, 0.0, 0.0, 0.0, 0.0, 1.0, 1.0, 0.0, 0.0, 0.0, 0.0, 0.0, 0.0, 0.0, 0.0, 0.0, 0.0, 0.0, 0.0, 0.0, 0.0, 0.0, 0.0, 1.0, 1.0, 0.0, 0.0, 0.0, 0.0, 1.0, 0.0, 1.0, 0.0, 0.0, 0.0, 0.0, 0.0, 0.0, 0.0, 0.0, 1.0, 0.0, 0.0, 0.0, 0.0, 1.0, 0.0, 0.0, 0.0, 0.0, 0.0, 1.0, 0.0, 0.0, 1.0, 0.0, 0.0, 1.0, 0.0, 1.0, 0.0, 0.0, 0.0, 1.0, 0.0, 0.0, 0.0, 0.0, 0.0, 1.0, 0.0, 0.0, 1.0, 0.0, 0.0, 0.0, 0.0, 1.0, 0.0, 0.0, 1.0, 0.0, 0.0, 0.0, 0.0, 1.0, 0.0, 0.0, 1.0, 1.0, 0.0, 0.0, 0.0, 0.0, 0.0, 0.0, 0.0, 0.0, 0.0, 0.0, 1.0, 1.0, 0.0, 1.0, 1.0, 1.0, 0.0, 0.0, 1.0, 0.0, 0.0, 0.0, 0.0, 0.0, 1.0, 0.0, 0.0, 0.0, 0.0, 0.0, 1.0, 0.0, 0.0, 0.0, 0.0, 0.0, 0.0, 0.0, 0.0, 0.0, 0.0, 0.0, 1.0, 0.0, 0.0, 0.0, 1.0, 0.0, 1.0, 0.0, 1.0, 0.0, 0.0, 0.0, 0.0, 0.0, 1.0, 0.0, 0.0, 1.0, 0.0, 0.0, 0.0, 0.0, 0.0, 1.0, 0.0, 0.0, 0.0, 0.0, 0.0, 0.0, 0.0, 0.0, 0.0, 1.0, 0.0, 0.0, 0.0, 0.0, 0.0, 0.0, 1.0, 1.0, 0.0, 1.0, 0.0, 0.0, 0.0, 0.0, 0.0, 1.0, 0.0, 0.0, 0.0, 0.0, 1.0, 0.0, 0.0, 0.0, 1.0, 0.0, 0.0, 1.0, 0.0, 0.0, 0.0, 0.0, 0.0, 0.0, 1.0, 0.0, 0.0, 0.0, 1.0, 1.0, 0.0, 0.0, 0.0, 0.0, 0.0, 1.0, 1.0, 0.0, 0.0, 1.0, 0.0, 0.0, 1.0, 1.0, 0.0, 0.0, 0.0, 0.0, 0.0, 0.0, 0.0, 1.0, 0.0, 0.0, 0.0, 1.0, 0.0, 1.0, 0.0, 0.0, 0.0, 1.0, 0.0, 0.0, 1.0, 0.0, 1.0, 0.0, 1.0, 0.0, 1.0, 0.0, 0.0, 0.0, 0.0, 0.0, 0.0, 1.0, 0.0, 0.0, 0.0, 0.0, 0.0, 0.0, 0.0, 1.0, 0.0, 0.0, 0.0, 0.0, 0.0, 0.0, 1.0, 0.0, 0.0, 0.0, 0.0, 1.0, 0.0, 0.0, 0.0, 0.0, 0.0, 0.0, 0.0, 0.0, 1.0, 0.0, 0.0, 0.0, 0.0, 1.0, 0.0, 0.0, 0.0, 0.0, 0.0, 1.0, 0.0, 0.0, 0.0, 1.0, 1.0, 0.0, 0.0, 0.0, 0.0, 0.0, 1.0, 1.0, 0.0, 0.0, 1.0, 0.0, 0.0, 0.0, 0.0, 0.0, 0.0, 1.0, 0.0, 1.0, 1.0, 0.0, 0.0, 0.0, 1.0, 0.0, 1.0, 0.0, 1.0, 0.0, 0.0, 0.0, 1.0, 0.0, 0.0, 1.0, 0.0, 1.0, 0.0, 0.0, 0.0, 0.0, 1.0, 0.0, 0.0, 0.0, 0.0, 0.0, 0.0, 0.0, 0.0, 1.0, 0.0, 0.0, 0.0, 0.0, 0.0, 0.0, 1.0, 0.0, 0.0, 1.0, 0.0, 0.0, 0.0, 0.0, 0.0, 0.0, 0.0, 1.0, 1.0, 0.0, 0.0, 1.0, 1.0, 0.0, 1.0, 1.0, 1.0, 0.0, 1.0, 0.0, 0.0, 1.0, 0.0, 0.0, 0.0, 0.0, 0.0, 1.0, 0.0, 0.0, 0.0, 1.0, 0.0, 1.0, 0.0, 0.0, 0.0, 0.0, 1.0, 0.0, 0.0, 0.0, 0.0, 0.0, 0.0, 0.0, 0.0, 1.0, 1.0, 0.0, 0.0, 0.0, 0.0, 0.0, 0.0, 0.0, 0.0, 1.0, 0.0, 0.0, 1.0, 0.0, 0.0, 1.0, 0.0, 0.0, 0.0, 0.0, 0.0, 0.0, 0.0, 0.0, 0.0, 0.0, 0.0, 0.0, 0.0, 0.0, 0.0, 0.0, 0.0]\n",
            " res on all:  ('acc: ', 0.5104166666666666, 'precision: ', 0.5272727272727272, 'recall: ', 0.24166666666666667, 'f1: ', 0.3314285714285714, 'specificity: ', 0.7824267782426778, 'mcc: ', 0.028641380443006875, 'mac pre ', 0.5146487951366, 'micro pre ', 0.5104166666666666)\n",
            "\n",
            "\n"
          ]
        }
      ]
    },
    {
      "cell_type": "code",
      "source": [
        "df[\"combopromptremixfmt\"] = df[\"combopromptremix\"].map({'True\\n': 0, 'Deceptive\\n': 1, '\"True\"\\n':0 , '\"Deceptive\"\\n': 1 })\n",
        "print(df['combopromptremix'].value_counts())\n",
        "  #print( df[ver+\"fmt\"].value_counts())\n",
        "df['labelfmt'] = df['label'].map({'T': 0, 'D': 1})"
      ],
      "metadata": {
        "colab": {
          "base_uri": "https://localhost:8080/"
        },
        "id": "gNhCG_r45-Q_",
        "outputId": "d1c8bf67-a1e6-4220-e5e1-fc5443296e98"
      },
      "execution_count": null,
      "outputs": [
        {
          "output_type": "stream",
          "name": "stdout",
          "text": [
            "combopromptremix\n",
            "True\\n           261\n",
            "Deceptive\\n      215\n",
            "\"True\"\\n           3\n",
            "\"Deceptive\"\\n      1\n",
            "Name: count, dtype: int64\n"
          ]
        }
      ]
    },
    {
      "cell_type": "code",
      "source": [
        "d = df.loc[df[\"labelfmt\"] == 1]\n",
        "preddec = evalsuite(d[\"combopromptremixfmt\"], d['labelfmt'])\n",
        "print(\" res on deceptive only: \", preddec)\n",
        "\n",
        "t = df.loc[df[\"labelfmt\"] == 0]\n",
        "predt = evalsuite(t[\"combopromptremixfmt\"], t['labelfmt'])\n",
        "print(\" res on true only: \", predt)\n",
        "\n",
        "\n",
        "predall = evalsuite(df[\"combopromptremixfmt\"], df['labelfmt'])\n",
        "print(\" res on all: \", predall)\n"
      ],
      "metadata": {
        "colab": {
          "base_uri": "https://localhost:8080/"
        },
        "id": "-ednspls67VV",
        "outputId": "235461ab-b675-4d5c-9c0b-9169b53be1b6"
      },
      "execution_count": null,
      "outputs": [
        {
          "output_type": "stream",
          "name": "stdout",
          "text": [
            " res on deceptive only:  ('acc: ', 0.48333333333333334, 'precision: ', 1.0, 'recall: ', 1.0, 'f1: ', 1.0, 'specificity: ', 0, 'mcc: ', 0)\n",
            " res on true only:  ('acc: ', 0.5833333333333334, 'precision: ', 0.0, 'recall: ', 0, 'f1: ', 0, 'specificity: ', 0.5833333333333334, 'mcc: ', 0)\n",
            " res on all:  ('acc: ', 0.5333333333333333, 'precision: ', 0.5370370370370371, 'recall: ', 1.0, 'f1: ', 0.6987951807228916, 'specificity: ', 0.5833333333333334, 'mcc: ', 0.5597067133224968)\n"
          ]
        }
      ]
    },
    {
      "cell_type": "code",
      "source": [
        "def fixjson(row):\n",
        "\n",
        "  if 'True' in row['combopromptremixthesequel']:\n",
        "    return 0\n",
        "  elif 'Deceptive' in row['combopromptremixthesequel']:\n",
        "    return 1\n",
        "  else:\n",
        "    print(row['combopromptremixthesequel'])\n",
        "\n",
        "\n",
        "df['combopromptremixthesequelfmt'] = df.apply(lambda row: fixjson(row), axis=1)\n",
        "print(df['combopromptremixthesequel'].value_counts(), df['combopromptremixthesequelfmt'].value_counts)\n",
        "  #print( df[ver+\"fmt\"].value_counts())\n",
        "df['labelfmt'] = df['label'].map({'T': 0, 'D': 1})"
      ],
      "metadata": {
        "colab": {
          "base_uri": "https://localhost:8080/"
        },
        "id": "hQm-E0ZhEuqS",
        "outputId": "1ed2a7c6-6c94-4f88-f473-cb53a6fda0c7"
      },
      "execution_count": null,
      "outputs": [
        {
          "output_type": "stream",
          "name": "stdout",
          "text": [
            "combopromptremixthesequel\n",
            "True\\n                                                                                                                                                                                                                                                                                                                                                                                                                                                                                                                                                                                                                                                                                                                   240\n",
            "Deceptive\\n                                                                                                                                                                                                                                                                                                                                                                                                                                                                                                                                                                                                                                                                                                              238\n",
            "Based on the game history, player-4 has been actively analyzing other players and adjusting their opinions. The message \"player-4: the proposal\" is incomplete and lacks context. It's impossible to determine if it's true or deceptive without knowing what proposal player-4 is referring to and what their stance on it is. However, given player-4's previous behavior of providing detailed reasoning, this short message is unusual and could be a sign of deception or simply a lack of communication. Without more information, it's difficult to say definitively.\\n\\nSince I must choose, I will lean towards deceptive because it is out of character for player-4 to be so brief.\\n\\nOutput: Deceptive\\n      1\n",
            "Based on the game history, player-5 has been very vocal about their preferred party composition (player-3, player-4, and themselves) and has stated they will reject any other party. Player-3 is stating that they are choosing the party because it's the only one player-5 would vote yes for. This aligns with player-5's stated intentions and the overall game dynamics.\\n\\nTherefore, the message is likely True.\\nOutput: True\\n                                                                                                                                                                                                                                                                                   1\n",
            "Name: count, dtype: int64 <bound method IndexOpsMixin.value_counts of 0      0\n",
            "1      1\n",
            "2      0\n",
            "3      1\n",
            "4      0\n",
            "      ..\n",
            "475    1\n",
            "476    0\n",
            "477    0\n",
            "478    0\n",
            "479    1\n",
            "Name: combopromptremixthesequelfmt, Length: 480, dtype: int64>\n"
          ]
        }
      ]
    },
    {
      "cell_type": "code",
      "source": [
        "d = df.loc[df[\"labelfmt\"] == 1]\n",
        "preddec = evalsuite(d[\"combopromptremixthesequelfmt\"], d['labelfmt'])\n",
        "print(\" res on deceptive only: \", preddec)\n",
        "\n",
        "t = df.loc[df[\"labelfmt\"] == 0]\n",
        "predt = evalsuite(t[\"combopromptremixthesequelfmt\"], t['labelfmt'])\n",
        "print(\" res on true only: \", predt)\n",
        "\n",
        "\n",
        "predall = evalsuite(df[\"combopromptremixthesequelfmt\"], df['labelfmt'])\n",
        "print(\" res on all: \", predall)\n"
      ],
      "metadata": {
        "colab": {
          "base_uri": "https://localhost:8080/"
        },
        "id": "7Shx3IA2ExYQ",
        "outputId": "6af9cebd-4c84-43d1-ed2a-c218d591ce66"
      },
      "execution_count": null,
      "outputs": [
        {
          "output_type": "stream",
          "name": "stdout",
          "text": [
            " res on deceptive only:  ('acc: ', 0.5458333333333333, 'precision: ', 1.0, 'recall: ', 1.0, 'f1: ', 1.0, 'specificity: ', 0, 'mcc: ', 0)\n",
            " res on true only:  ('acc: ', 0.55, 'precision: ', 0.0, 'recall: ', 0, 'f1: ', 0, 'specificity: ', 0.55, 'mcc: ', 0)\n",
            " res on all:  ('acc: ', 0.5479166666666667, 'precision: ', 0.5481171548117155, 'recall: ', 1.0, 'f1: ', 0.7081081081081082, 'specificity: ', 0.55, 'mcc: ', 0.5490577703178815)\n"
          ]
        }
      ]
    },
    {
      "cell_type": "code",
      "source": [
        "def fixjson(row):\n",
        "\n",
        "  if 'True' in row['jsonremix']:\n",
        "    return 0\n",
        "  elif 'Deceptive' in row['jsonremix']:\n",
        "    return 1\n",
        "  else:\n",
        "    print(row['jsonremix'])\n",
        "\n",
        "\n",
        "df['jsonremixfmt'] = df.apply(lambda row: fixjson(row), axis=1)\n",
        "print(df['jsonremix'].value_counts(), df['jsonremixfmt'].value_counts)\n",
        "  #print( df[ver+\"fmt\"].value_counts())\n",
        "df['labelfmt'] = df['label'].map({'T': 0, 'D': 1})"
      ],
      "metadata": {
        "colab": {
          "base_uri": "https://localhost:8080/"
        },
        "id": "uxvxgtSxOi-B",
        "outputId": "06605c4a-6259-4355-889e-7d7a9012b53c"
      },
      "execution_count": null,
      "outputs": [
        {
          "output_type": "stream",
          "name": "stdout",
          "text": [
            "jsonremix\n",
            "Deceptive\\n       247\n",
            "True\\n            230\n",
            "Output: True\\n      2\n",
            "\"True\"\\n            1\n",
            "Name: count, dtype: int64 <bound method IndexOpsMixin.value_counts of 0      0\n",
            "1      1\n",
            "2      0\n",
            "3      1\n",
            "4      1\n",
            "      ..\n",
            "475    1\n",
            "476    0\n",
            "477    0\n",
            "478    0\n",
            "479    1\n",
            "Name: jsonremixfmt, Length: 480, dtype: int64>\n"
          ]
        }
      ]
    },
    {
      "cell_type": "code",
      "source": [
        "d = df.loc[df[\"labelfmt\"] == 1]\n",
        "preddec = evalsuite(d[\"jsonremixfmt\"], d['labelfmt'])\n",
        "print(\" res on deceptive only: \", preddec)\n",
        "\n",
        "t = df.loc[df[\"labelfmt\"] == 0]\n",
        "predt = evalsuite(t[\"jsonremixfmt\"], t['labelfmt'])\n",
        "print(\" res on true only: \", predt)\n",
        "\n",
        "\n",
        "predall = evalsuite(df[\"jsonremixfmt\"], df['labelfmt'])\n",
        "print(\" res on all: \", predall)\n"
      ],
      "metadata": {
        "colab": {
          "base_uri": "https://localhost:8080/"
        },
        "id": "MKnwiORmO3gm",
        "outputId": "fae39a18-09a5-433f-c454-e329e13a2327"
      },
      "execution_count": null,
      "outputs": [
        {
          "output_type": "stream",
          "name": "stdout",
          "text": [
            "[1, 1, 1, 1, 1, 0, 0, 1, 1, 0, 1, 1, 0, 1, 1, 0, 1, 1, 1, 0, 0, 0, 0, 0, 1, 0, 1, 0, 0, 0, 1, 0, 1, 1, 0, 0, 1, 0, 0, 1, 1, 1, 1, 1, 1, 1, 0, 0, 1, 0, 1, 1, 1, 1, 1, 0, 1, 0, 1, 1, 1, 0, 0, 0, 0, 1, 0, 1, 1, 1, 0, 0, 1, 0, 0, 1, 1, 0, 0, 0, 0, 1, 0, 1, 0, 0, 1, 0, 0, 1, 0, 0, 1, 1, 1, 0, 1, 1, 1, 1, 0, 1, 0, 1, 1, 0, 0, 1, 1, 0, 1, 0, 0, 0, 1, 0, 1, 1, 0, 1, 1, 1, 0, 1, 0, 1, 1, 0, 0, 1, 0, 1, 1, 1, 1, 1, 0, 0, 1, 1, 1, 1, 0, 0, 0, 0, 1, 0, 1, 0, 0, 1, 0, 1, 0, 1, 1, 0, 1, 0, 0, 1, 0, 0, 1, 1, 1, 1, 1, 1, 1, 1, 1, 1, 1, 1, 1, 1, 0, 1, 1, 0, 1, 0, 1, 0, 1, 0, 1, 1, 1, 1, 1, 1, 1, 1, 0, 1, 0, 1, 1, 1, 1, 1, 0, 0, 1, 1, 0, 0, 1, 0, 1, 0, 1, 1, 1, 1, 0, 1, 1, 1, 1, 0, 1, 0, 0, 1, 0, 0, 1, 1, 0, 0, 0, 1, 0, 0, 0, 1]\n",
            " res on deceptive only:  ('acc: ', 0.5791666666666667, 'precision: ', 1.0, 'recall: ', 0.5791666666666667, 'f1: ', 0.7335092348284962, 'specificity: ', 0, 'mcc: ', 0, 'mac pre ', 0.5, 'micro pre ', 0.5791666666666667)\n",
            "[0, 1, 0, 1, 1, 0, 1, 0, 1, 1, 1, 0, 0, 1, 0, 0, 0, 1, 0, 0, 1, 1, 1, 1, 1, 1, 1, 0, 0, 0, 1, 0, 0, 1, 1, 0, 0, 0, 1, 1, 0, 0, 1, 1, 1, 1, 0, 1, 0, 0, 0, 0, 0, 0, 0, 0, 1, 1, 0, 0, 0, 1, 1, 1, 1, 1, 1, 0, 1, 0, 1, 0, 0, 0, 0, 1, 0, 0, 1, 1, 0, 1, 1, 0, 0, 0, 1, 1, 0, 0, 1, 0, 0, 1, 0, 1, 1, 1, 1, 0, 0, 0, 1, 1, 1, 0, 0, 1, 1, 0, 0, 1, 0, 0, 0, 0, 1, 0, 0, 1, 1, 1, 0, 0, 0, 0, 0, 0, 1, 0, 0, 0, 1, 1, 1, 1, 0, 0, 0, 1, 1, 1, 1, 1, 1, 1, 0, 1, 0, 1, 0, 0, 0, 1, 0, 0, 0, 0, 0, 1, 0, 1, 0, 0, 0, 0, 1, 0, 0, 0, 0, 0, 1, 0, 0, 1, 1, 1, 0, 1, 0, 0, 0, 0, 1, 1, 0, 0, 1, 1, 0, 1, 0, 0, 0, 0, 0, 0, 0, 0, 0, 1, 0, 0, 1, 0, 1, 0, 1, 0, 0, 1, 1, 1, 1, 0, 0, 1, 1, 0, 1, 0, 0, 1, 0, 1, 1, 0, 1, 1, 1, 0, 1, 0, 1, 0, 1, 0, 0, 1]\n",
            " res on true only:  ('acc: ', 0.55, 'precision: ', 0.0, 'recall: ', 0, 'f1: ', 0, 'specificity: ', 0.55, 'mcc: ', 0, 'mac pre ', 0.5, 'micro pre ', 0.55)\n",
            "[0, 1, 0, 1, 1, 0, 1, 0, 1, 1, 1, 0, 0, 1, 0, 0, 0, 1, 0, 0, 1, 1, 1, 1, 1, 1, 1, 0, 0, 0, 1, 0, 0, 1, 1, 0, 0, 0, 1, 1, 0, 0, 1, 1, 1, 1, 0, 1, 0, 0, 0, 0, 0, 0, 0, 0, 1, 1, 0, 0, 0, 1, 1, 1, 1, 1, 1, 0, 1, 0, 1, 0, 0, 0, 0, 1, 0, 0, 1, 1, 0, 1, 1, 0, 0, 0, 1, 1, 0, 0, 1, 0, 0, 1, 0, 1, 1, 1, 1, 0, 0, 0, 1, 1, 1, 0, 0, 1, 1, 0, 0, 1, 0, 0, 0, 0, 1, 0, 0, 1, 1, 1, 0, 0, 0, 0, 0, 0, 1, 0, 0, 0, 1, 1, 1, 1, 0, 0, 0, 1, 1, 1, 1, 1, 1, 1, 0, 1, 0, 1, 0, 0, 0, 1, 0, 0, 0, 0, 0, 1, 0, 1, 0, 0, 0, 0, 1, 0, 0, 0, 0, 0, 1, 0, 0, 1, 1, 1, 0, 1, 0, 0, 0, 0, 1, 1, 0, 0, 1, 1, 0, 1, 0, 0, 0, 0, 0, 0, 0, 0, 0, 1, 0, 0, 1, 0, 1, 0, 1, 0, 0, 1, 1, 1, 1, 0, 0, 1, 1, 0, 1, 0, 0, 1, 0, 1, 1, 0, 1, 1, 1, 0, 1, 0, 1, 0, 1, 0, 0, 1, 1, 1, 1, 1, 1, 0, 0, 1, 1, 0, 1, 1, 0, 1, 1, 0, 1, 1, 1, 0, 0, 0, 0, 0, 1, 0, 1, 0, 0, 0, 1, 0, 1, 1, 0, 0, 1, 0, 0, 1, 1, 1, 1, 1, 1, 1, 0, 0, 1, 0, 1, 1, 1, 1, 1, 0, 1, 0, 1, 1, 1, 0, 0, 0, 0, 1, 0, 1, 1, 1, 0, 0, 1, 0, 0, 1, 1, 0, 0, 0, 0, 1, 0, 1, 0, 0, 1, 0, 0, 1, 0, 0, 1, 1, 1, 0, 1, 1, 1, 1, 0, 1, 0, 1, 1, 0, 0, 1, 1, 0, 1, 0, 0, 0, 1, 0, 1, 1, 0, 1, 1, 1, 0, 1, 0, 1, 1, 0, 0, 1, 0, 1, 1, 1, 1, 1, 0, 0, 1, 1, 1, 1, 0, 0, 0, 0, 1, 0, 1, 0, 0, 1, 0, 1, 0, 1, 1, 0, 1, 0, 0, 1, 0, 0, 1, 1, 1, 1, 1, 1, 1, 1, 1, 1, 1, 1, 1, 1, 0, 1, 1, 0, 1, 0, 1, 0, 1, 0, 1, 1, 1, 1, 1, 1, 1, 1, 0, 1, 0, 1, 1, 1, 1, 1, 0, 0, 1, 1, 0, 0, 1, 0, 1, 0, 1, 1, 1, 1, 0, 1, 1, 1, 1, 0, 1, 0, 0, 1, 0, 0, 1, 1, 0, 0, 0, 1, 0, 0, 0, 1]\n",
            " res on all:  ('acc: ', 0.5645833333333333, 'precision: ', 0.562753036437247, 'recall: ', 0.5791666666666667, 'f1: ', 0.5708418891170431, 'specificity: ', 0.55, 'mcc: ', 0.12922164242770554, 'mac pre ', 0.5646383207937308, 'micro pre ', 0.5645833333333333)\n"
          ]
        }
      ]
    },
    {
      "cell_type": "code",
      "source": [
        "def fixjson(row):\n",
        "\n",
        "  if 'True' in row['jsonremixinspace']:\n",
        "    return 0\n",
        "  elif 'Deceptive' in row['jsonremixinspace']:\n",
        "    return 1\n",
        "  else:\n",
        "    print(row['jsonremixinspace'])\n",
        "\n",
        "\n",
        "df['jsonremixinspacefmt'] = df.apply(lambda row: fixjson(row), axis=1)\n",
        "print(df['jsonremixinspace'].value_counts(), df['jsonremixinspacefmt'].value_counts)\n",
        "  #print( df[ver+\"fmt\"].value_counts())\n",
        "df['labelfmt'] = df['label'].map({'T': 0, 'D': 1})"
      ],
      "metadata": {
        "colab": {
          "base_uri": "https://localhost:8080/"
        },
        "id": "4QP1VpH8S8m0",
        "outputId": "91cf64fd-1cdf-437c-dfb6-b613d3941940"
      },
      "execution_count": null,
      "outputs": [
        {
          "output_type": "stream",
          "name": "stdout",
          "text": [
            "jsonremixinspace\n",
            "True\\n            305\n",
            "Deceptive\\n       171\n",
            "Output: True\\n      2\n",
            "\"Deceptive\"\\n       1\n",
            "\"True\"\\n            1\n",
            "Name: count, dtype: int64 <bound method IndexOpsMixin.value_counts of 0      0\n",
            "1      0\n",
            "2      1\n",
            "3      1\n",
            "4      0\n",
            "      ..\n",
            "475    0\n",
            "476    0\n",
            "477    0\n",
            "478    0\n",
            "479    1\n",
            "Name: jsonremixinspacefmt, Length: 480, dtype: int64>\n"
          ]
        }
      ]
    },
    {
      "cell_type": "code",
      "source": [
        "d = df.loc[df[\"labelfmt\"] == 1]\n",
        "preddec = evalsuite(d[\"jsonremixinspacefmt\"], d['labelfmt'])\n",
        "print(\" res on deceptive only: \", preddec)\n",
        "\n",
        "t = df.loc[df[\"labelfmt\"] == 0]\n",
        "predt = evalsuite(t[\"jsonremixinspacefmt\"], t['labelfmt'])\n",
        "print(\" res on true only: \", predt)\n",
        "\n",
        "\n",
        "predall = evalsuite(df[\"jsonremixinspacefmt\"], df['labelfmt'])\n",
        "print(\" res on all: \", predall)\n"
      ],
      "metadata": {
        "colab": {
          "base_uri": "https://localhost:8080/"
        },
        "id": "XV8UGPb8TOc_",
        "outputId": "5342514a-f4db-41c5-d57f-dec987679fd2"
      },
      "execution_count": null,
      "outputs": [
        {
          "output_type": "stream",
          "name": "stdout",
          "text": [
            " res on deceptive only:  ('acc: ', 0.38333333333333336, 'precision: ', 1.0, 'recall: ', 1.0, 'f1: ', 1.0, 'specificity: ', 0, 'mcc: ', 0)\n",
            " res on true only:  ('acc: ', 0.6666666666666666, 'precision: ', 0.0, 'recall: ', 0, 'f1: ', 0, 'specificity: ', 0.6666666666666666, 'mcc: ', 0)\n",
            " res on all:  ('acc: ', 0.525, 'precision: ', 0.5348837209302325, 'recall: ', 1.0, 'f1: ', 0.6969696969696969, 'specificity: ', 0.6666666666666666, 'mcc: ', 0.5971508580642095)\n"
          ]
        }
      ]
    },
    {
      "cell_type": "markdown",
      "source": [
        "# full run gemini [re ran]"
      ],
      "metadata": {
        "id": "opr_RR3WHXAj"
      }
    },
    {
      "cell_type": "code",
      "source": [
        "import pandas as pd\n",
        "df = pd.read_csv(\"/content/drive/MyDrive/geminiresfullver.tsv\", sep='\\t' )"
      ],
      "metadata": {
        "id": "hxMmNQSFHff6"
      },
      "execution_count": null,
      "outputs": []
    },
    {
      "cell_type": "code",
      "source": [
        "print(df.columns)"
      ],
      "metadata": {
        "colab": {
          "base_uri": "https://localhost:8080/"
        },
        "id": "ZenFadxcNrua",
        "outputId": "b32239f5-218d-4833-c703-76176d109103"
      },
      "execution_count": null,
      "outputs": [
        {
          "output_type": "stream",
          "name": "stdout",
          "text": [
            "Index(['Unnamed: 0.9', 'Unnamed: 0.8', 'Unnamed: 0.7', 'Unnamed: 0.6',\n",
            "       'Unnamed: 0.5', 'Unnamed: 0.4', 'Unnamed: 0.3', 'Unnamed: 0.2',\n",
            "       'Unnamed: 0.1', 'Unnamed: 0', 'mid', 'persuasion', 'deception', 'label',\n",
            "       'player', 'msg', 'quest', 'turn', 'file', 'withName', 'history',\n",
            "       'msgAndHistory', 'geminiognohistory', 'jsonremix', 'feverpromptstruct',\n",
            "       'geminiogwithhistory', 'jsonpromptmess', 'comboprompt',\n",
            "       'combopromptnoHis', 'jsonremixnohistory'],\n",
            "      dtype='object')\n"
          ]
        }
      ]
    },
    {
      "cell_type": "code",
      "source": [
        "def fixjson(row):\n",
        "\n",
        "  if 'I cannot determine if the message' in row or 'False' in row or \"\"\"Output Format\": \"Incomplete\"\"\" in row:\n",
        "    return -1\n",
        "  if 'True' in row:\n",
        "    return 0\n",
        "  elif 'Deceptive' in row:\n",
        "    return 1\n",
        "  else:\n",
        "    print(row)\n",
        "\n",
        "\n",
        "\n",
        "  #print( df[ver+\"fmt\"].value_counts())\n",
        "df['labelfmt'] = df['label'].map({'T': 0, 'D': 1})\n",
        "\n",
        "\n",
        "for res in ['geminiognohistory','geminiogwithhistory','comboprompt','combopromptnoHis', 'jsonremix', 'jsonremixnohistory']:\n",
        "\n",
        "  df[res+'fmt'] = df.apply(lambda row: fixjson(row[res]), axis=1)\n",
        "  print(df[res].value_counts(), df[res+'fmt'].value_counts)\n",
        "\n",
        "  predall = evalsuite(df[res+'fmt'], df['labelfmt'])\n",
        "  print(res , \" res on all: \", predall)\n",
        "  print('\\n')"
      ],
      "metadata": {
        "colab": {
          "base_uri": "https://localhost:8080/"
        },
        "id": "joLpzXC2N5sI",
        "outputId": "7b41e307-d058-49c0-be2c-d7a6fb49946a"
      },
      "execution_count": null,
      "outputs": [
        {
          "output_type": "stream",
          "name": "stdout",
          "text": [
            "geminiognohistory\n",
            "True\\n         1558\n",
            "Deceptive\\n     826\n",
            "Name: count, dtype: int64 <bound method IndexOpsMixin.value_counts of 0       0\n",
            "1       0\n",
            "2       0\n",
            "3       0\n",
            "4       0\n",
            "       ..\n",
            "2379    0\n",
            "2380    0\n",
            "2381    1\n",
            "2382    1\n",
            "2383    1\n",
            "Name: geminiognohistoryfmt, Length: 2384, dtype: int64>\n",
            "geminiognohistory  res on all:  ('acc: ', 0.6300335570469798, 'precision: ', 0.22518159806295399, 'recall: ', 0.43457943925233644, 'f1: ', 0.2966507177033493, 'specificity: ', 0.6728016359918201, 'mcc: ', 0.08660845828321262, 'mac pre ', 0.5349271276579212, 'micro pre ', 0.6300335570469798)\n",
            "\n",
            "\n",
            "geminiogwithhistory\n",
            "True\\n         1236\n",
            "Deceptive\\n    1147\n",
            "False\\n           1\n",
            "Name: count, dtype: int64 <bound method IndexOpsMixin.value_counts of 0       0\n",
            "1       0\n",
            "2       0\n",
            "3       0\n",
            "4       0\n",
            "       ..\n",
            "2379    0\n",
            "2380    0\n",
            "2381    1\n",
            "2382    1\n",
            "2383    0\n",
            "Name: geminiogwithhistoryfmt, Length: 2384, dtype: int64>\n",
            "-1 0\n",
            "geminiogwithhistory  res on all:  ('acc: ', 0.5251677852348994, 'precision: ', 0.19337979094076654, 'recall: ', 0.5186915887850467, 'f1: ', 0.2817258883248731, 'specificity: ', 0.5265848670756647, 'mcc: ', 0.034777515611354136, 'mac pre ', 0.5133565621370499, 'micro pre ', 0.5251677852348994)\n",
            "\n",
            "\n",
            "comboprompt\n",
            "True\\n                                                                                                                                                                                                                                                                                                                                                                                                                                                                                                                                                                                                                                                                                                                                                                                                                     1857\n",
            "Deceptive\\n                                                                                                                                                                                                                                                                                                                                                                                                                                                                                                                                                                                                                                                                                                                                                                                                                 516\n",
            "\"True\"\\n                                                                                                                                                                                                                                                                                                                                                                                                                                                                                                                                                                                                                                                                                                                                                                                                                      3\n",
            "Output: True\\n                                                                                                                                                                                                                                                                                                                                                                                                                                                                                                                                                                                                                                                                                                                                                                                                                1\n",
            "{\"Output Format\": \"Deceptive\"}\\n                                                                                                                                                                                                                                                                                                                                                                                                                                                                                                                                                                                                                                                                                                                                                                                              1\n",
            "{\"Output Format\": \"Incomplete\"}\\n                                                                                                                                                                                                                                                                                                                                                                                                                                                                                                                                                                                                                                                                                                                                                                                             1\n",
            "Here's how I'll approach this:\\n\\n*   **Analyze the Message:** The message \"player-3: random party given no information. included myself as i am good.\" is claiming a random party selection due to lack of information, while also asserting their own goodness and inclusion in the party.\\n\\n*   **Consider Deception:** Deceptive messages often involve:\\n\\n    *   Vague statements or hedging.\\n    *   Unnecessary justifications.\\n    *   Attempts to appear neutral or uncertain.\\n\\n*   **Evaluate the Message:** The message seems somewhat suspicious. Claiming a \"random party\" is a way to avoid taking responsibility for the party composition. The statement \"included myself as i am good\" is a weak justification and could be an attempt to appear trustworthy.\\n\\n**Prediction:**\\n\\nDeceptive\\n       1\n",
            "{\"Task\" : \"You will be given a message from the hidden role game Avalon. Your task is to determine whether this message is True or Deceptive. Your prediction must be based on the game history and given example.\", \\n  \"Example of a deceptive message\" : \"i'm good, so i'll vote yes on this party. i'm not sure about player-3, but i'm not sure about anyone at this point.\" , \\n \"Game History\" : ,\\n \"Message to predict\" : player-3: no objection. bu why not put yourself on the party?, \\n \"Output Format\" : \"True\" or \"Deceptive\" }\\n                                                                                                                                                                                                                                                                              1\n",
            "Here's an analysis of the message and the predicted output:\\n\\n**Analysis:**\\n\\nThe message \"player-3: as we don't have any info at this time, i'll just choose randomly.\" is likely **True**.\\n\\n*   **Early Game:** The statement suggests it's early in the game. Without prior missions or information, a player might genuinely claim they are choosing randomly.\\n*   **Plausible Deniability:** Even if the player is evil, this statement provides plausible deniability. If the mission fails, they can claim it was just a random choice.\\n*   **Lack of Contradiction:** There's nothing inherently contradictory or suspicious about the statement itself.\\n\\n**Output:**\\n\\nTrue\\n                                                                                                                               1\n",
            "{\"Prediction\":\"Deceptive\"}                                                                                                                                                                                                                                                                                                                                                                                                                                                                                                                                                                                                                                                                                                                                                                                                    1\n",
            "Based on the provided information, I cannot determine if the message is True or Deceptive. Here's why:\\n\\n*   **Lack of Game History:** The \"Game History\" section is empty. Without knowing the previous actions, roles, and voting patterns of the players, it's impossible to assess the truthfulness of the message.\\n*   **Vague Message:** The message \"player-1: not much to go by here, so random party\" is inherently ambiguous. It could be a genuine expression of uncertainty, or it could be a deceptive tactic to appear neutral while subtly influencing the party selection.\\n*   **No Role Information:** I don't know the role of player-1 or any other players. This is crucial for determining if the message aligns with their objectives.\\n\\n**Therefore, my output is:**\\n\\nCannot determine\\n         1\n",
            "Name: count, dtype: int64 <bound method IndexOpsMixin.value_counts of 0       1\n",
            "1       0\n",
            "2       0\n",
            "3       0\n",
            "4       0\n",
            "       ..\n",
            "2379    0\n",
            "2380    0\n",
            "2381    0\n",
            "2382    0\n",
            "2383    0\n",
            "Name: combopromptfmt, Length: 2384, dtype: int64>\n",
            "-1 0\n",
            "-1 0\n",
            "comboprompt  res on all:  ('acc: ', 0.6950503355704698, 'precision: ', 0.21305182341650672, 'recall: ', 0.25934579439252337, 'f1: ', 0.2339304531085353, 'specificity: ', 0.7903885480572597, 'mcc: ', 0.046188876761044655, 'mac pre ', 0.5214480802536103, 'micro pre ', 0.6950503355704698)\n",
            "\n",
            "\n",
            "combopromptnoHis\n",
            "Deceptive\\n    1689\n",
            "True\\n          695\n",
            "Name: count, dtype: int64 <bound method IndexOpsMixin.value_counts of 0       1\n",
            "1       0\n",
            "2       0\n",
            "3       0\n",
            "4       0\n",
            "       ..\n",
            "2379    1\n",
            "2380    1\n",
            "2381    1\n",
            "2382    1\n",
            "2383    1\n",
            "Name: combopromptnoHisfmt, Length: 2384, dtype: int64>\n",
            "combopromptnoHis  res on all:  ('acc: ', 0.37793624161073824, 'precision: ', 0.1876850207223209, 'recall: ', 0.7406542056074766, 'f1: ', 0.29948039678790744, 'specificity: ', 0.2985685071574642, 'mcc: ', 0.033123537360464105, 'mac pre ', 0.5139863952532467, 'micro pre ', 0.37793624161073824)\n",
            "\n",
            "\n",
            "jsonremix\n",
            "Deceptive\\n                                                                                                                                                                                                                                                                                                                                                                                                                                                                                                                                                                                                                                                             1214\n",
            "True\\n                                                                                                                                                                                                                                                                                                                                                                                                                                                                                                                                                                                                                                                                  1160\n",
            "\"True\"\\n                                                                                                                                                                                                                                                                                                                                                                                                                                                                                                                                                                                                                                                                   4\n",
            "Output: True\\n                                                                                                                                                                                                                                                                                                                                                                                                                                                                                                                                                                                                                                                             4\n",
            "Output: Deceptive\\n                                                                                                                                                                                                                                                                                                                                                                                                                                                                                                                                                                                                                                                        1\n",
            "**Analysis:**\\n\\nPlayer 3 is claiming to only choose player 5 because player 1 is suspicious of player 5 and player 2. Let's examine the game history to see if this aligns with the established narrative.\\n\\n*   **Player 1's Suspicion:** Player 1 has expressed suspicion of both Player 5 and Player 2.\\n*   **Player 3's Actions:** Player 3 has generally agreed with the sentiment that Player 5 and Player 6 are on opposite teams. Player 3 has also expressed a desire to include more people who haven't been on quests yet.\\n\\nThe message is deceptive because player 3 is only choosing player 5, but not player 2.\\n\\n**Prediction:**\\n\\nDeceptive\\n       1\n",
            "Name: count, dtype: int64 <bound method IndexOpsMixin.value_counts of 0       1\n",
            "1       0\n",
            "2       0\n",
            "3       1\n",
            "4       0\n",
            "       ..\n",
            "2379    0\n",
            "2380    0\n",
            "2381    0\n",
            "2382    0\n",
            "2383    0\n",
            "Name: jsonremixfmt, Length: 2384, dtype: int64>\n",
            "jsonremix  res on all:  ('acc: ', 0.5167785234899329, 'precision: ', 0.20230263157894737, 'recall: ', 0.5747663551401869, 'f1: ', 0.29927007299270075, 'specificity: ', 0.5040899795501023, 'mcc: ', 0.060541710594829365, 'mac pre ', 0.5232403568853641, 'micro pre ', 0.5167785234899329)\n",
            "\n",
            "\n",
            "jsonremixnohistory\n",
            "Deceptive\\n    1393\n",
            "True\\n          991\n",
            "Name: count, dtype: int64 <bound method IndexOpsMixin.value_counts of 0       1\n",
            "1       0\n",
            "2       0\n",
            "3       0\n",
            "4       0\n",
            "       ..\n",
            "2379    1\n",
            "2380    1\n",
            "2381    1\n",
            "2382    1\n",
            "2383    0\n",
            "Name: jsonremixnohistoryfmt, Length: 2384, dtype: int64>\n",
            "jsonremixnohistory  res on all:  ('acc: ', 0.46518456375838924, 'precision: ', 0.19597989949748743, 'recall: ', 0.6378504672897196, 'f1: ', 0.29983525535420097, 'specificity: ', 0.4274028629856851, 'mcc: ', 0.05081554707965098, 'mac pre ', 0.5197861152381483, 'micro pre ', 0.46518456375838924)\n",
            "\n",
            "\n"
          ]
        }
      ]
    },
    {
      "cell_type": "code",
      "source": [],
      "metadata": {
        "id": "hBMlwJuXjnpB"
      },
      "execution_count": null,
      "outputs": []
    },
    {
      "cell_type": "markdown",
      "source": [
        "# Extra comparison set [re ran]"
      ],
      "metadata": {
        "id": "kHJNYJG-joJC"
      }
    },
    {
      "cell_type": "code",
      "source": [
        "import pandas as pd\n",
        "df = pd.read_csv(\"/content/drive/MyDrive/Colab Notebooks/llm decetion/predictionsfixedwCombo.tsv\", sep='\\t' )\n",
        "print(df.columns)\n"
      ],
      "metadata": {
        "colab": {
          "base_uri": "https://localhost:8080/"
        },
        "id": "S-L54q_wjtOB",
        "outputId": "adea752b-28b6-441e-d970-bf8cfc0d39b7"
      },
      "execution_count": null,
      "outputs": [
        {
          "output_type": "stream",
          "name": "stdout",
          "text": [
            "Index(['Unnamed: 0.8', 'Unnamed: 0.7', 'Unnamed: 0.6', 'Unnamed: 0.5',\n",
            "       'Unnamed: 0.4', 'Unnamed: 0.3', 'Unnamed: 0.2', 'Unnamed: 0.1',\n",
            "       'Unnamed: 0', 'mid', 'persuasion', 'deception', 'label', 'player',\n",
            "       'msg', 'quest', 'turn', 'file', 'withName', 'history', 'msgAndHistory',\n",
            "       'nohiscombo', 'hiscombo', 'robertahistorypred',\n",
            "       'robertahistorylabelsT0D1', 'mberthistorypred',\n",
            "       'mberthistorylabelsT0D1', 'mbertpred', 'mbertlabelsT0D1', 'robertapred',\n",
            "       'robertalabelsT0D1', 'svmpredwCombo', 'svmlabelswComboT1D0',\n",
            "       'svmhistorypredcombo', 'svmhistorylabelsT1D0combo'],\n",
            "      dtype='object')\n"
          ]
        }
      ]
    },
    {
      "cell_type": "code",
      "source": [
        "def invertlist(list):\n",
        "    return [1 - x for x in list]\n",
        "\n",
        "fxsvm = invertlist(df['svmhistorypredcombo'])\n",
        "fxlabels = invertlist(df['svmhistorylabelsT1D0combo'])\n",
        "\n",
        "svmwhistory = evalsuite(fxsvm, fxlabels)\n",
        "print(\"SVM with histoyr: \", svmwhistory)\n",
        "\n",
        "svm = invertlist(df['svmpredwCombo'])\n",
        "lbls = invertlist(df['svmlabelswComboT1D0'])\n",
        "\n",
        "svm = evalsuite(svm, lbls)\n",
        "print(\"SVM: \", svm)\n",
        "\n",
        "\n",
        "\n",
        "robertawhistory = evalsuite(df['robertahistorypred'], df['robertahistorylabelsT0D1'])\n",
        "print(\"roberta w history: \", robertawhistory)\n",
        "\n",
        "\n",
        "roberta= evalsuite(df['robertapred'], df['robertalabelsT0D1'])\n",
        "print(\"roberta : \", roberta)\n",
        "\n",
        "\n",
        "mbertwhistory = evalsuite(df['mberthistorypred'], df['mberthistorylabelsT0D1'])\n",
        "print(\"mbertwhistory: \", mbertwhistory)\n",
        "\n",
        "mbert = evalsuite(df['mbertpred'], df['mbertlabelsT0D1'])\n",
        "print(\"mbert: \", mbert)"
      ],
      "metadata": {
        "colab": {
          "base_uri": "https://localhost:8080/"
        },
        "id": "kKRPY-lcmCfe",
        "outputId": "e931a654-2a10-4c20-ef06-50190c221b42"
      },
      "execution_count": null,
      "outputs": [
        {
          "output_type": "stream",
          "name": "stdout",
          "text": [
            "[0, 0, 0, 0, 0, 0, 0, 0, 0, 0, 0, 0, 0, 0, 0, 0, 0, 0, 0, 0, 1, 0, 0, 0, 0, 0, 0, 0, 0, 0, 0, 0, 0, 0, 0, 0, 0, 0, 0, 0, 0, 0, 0, 0, 0, 0, 0, 0, 0, 0, 0, 0, 0, 0, 0, 0, 0, 0, 0, 0, 0, 0, 0, 0, 0, 0, 0, 0, 0, 0, 0, 0, 0, 0, 0, 0, 0, 0, 0, 0, 0, 0, 0, 0, 0, 0, 0, 0, 0, 0, 0, 0, 0, 0, 0, 0, 0, 0, 0, 0, 0, 0, 0, 0, 0, 0, 0, 0, 0, 0, 0, 0, 0, 0, 0, 0, 0, 0, 0, 0, 0, 0, 0, 0, 0, 0, 0, 0, 0, 0, 0, 0, 0, 0, 0, 0, 0, 0, 0, 0, 0, 0, 0, 0, 0, 0, 0, 0, 0, 0, 0, 0, 0, 0, 0, 0, 0, 0, 0, 0, 0, 0, 0, 0, 0, 0, 0, 0, 0, 0, 0, 0, 0, 0, 0, 0, 0, 0, 0, 0, 0, 0, 0, 0, 0, 0, 0, 0, 0, 0, 0, 0, 0, 0, 0, 0, 0, 0, 0, 0, 0, 0, 0, 0, 0, 0, 0, 0, 0, 0, 0, 0, 0, 0, 0, 0, 0, 0, 0, 0, 0, 0, 0, 0, 0, 0, 0, 0, 0, 0, 0, 0, 0, 0, 0, 0, 0, 0, 0, 0, 0, 0, 0, 0, 0, 0, 0, 0, 0, 0, 0, 0, 0, 0, 0, 0, 0, 0, 0, 0, 0, 0, 0, 0, 0, 0, 0, 0, 0, 0, 0, 0, 0, 0, 0, 0, 0, 0, 0, 0, 0, 0, 0, 0, 0, 0, 0, 0, 0, 0, 0, 0, 0, 0, 0, 0, 0, 0, 0, 0, 0, 0, 1, 0, 0, 0, 0, 0, 0, 0, 0, 0, 0, 0, 0, 0, 0, 0, 0, 0, 0, 0, 0, 0, 0, 0, 0, 0, 0, 0, 0, 0, 0, 0, 0, 0, 0, 0, 0, 0, 0, 0, 0, 0, 0, 0, 0, 0, 0, 0, 0, 0, 0, 0, 0, 0, 0, 0, 0, 0, 0, 0, 0, 0, 0, 0, 0, 0, 0, 0, 0, 0, 0, 0, 0, 0, 0, 0, 0, 0, 0, 0, 0, 0, 1, 0, 0, 0, 0, 0, 0, 0, 0, 0, 0, 0, 0, 0, 0, 0, 0, 0, 0, 0, 0, 0, 0, 0, 0, 0, 0, 0, 0, 0, 0, 0, 0, 0, 0, 0, 0, 0, 0, 0, 0, 0, 0, 0, 0, 0, 0, 0, 0, 0, 0, 0, 0, 0, 0, 0, 0, 0, 0, 0, 0, 0, 1, 0, 0, 0, 0, 0, 0, 0, 0, 0, 0, 0, 0, 0, 0, 0, 0, 0, 0, 0, 0, 0, 0, 0, 0, 0, 0, 0, 0, 0, 0, 0, 0, 0, 0, 0, 0, 0, 0, 0, 0, 0, 0, 0, 0, 0, 0, 0, 0, 0, 0, 0, 0, 0, 0, 0, 0, 0, 0, 0, 0, 0, 0, 0, 0, 0, 0, 0, 0, 0, 0, 0, 0, 0, 0, 0, 0, 0, 0, 0, 0, 0, 0, 0, 0, 0, 0, 0, 0, 0, 0, 0, 0, 0, 0, 0, 0, 0, 0, 0, 0, 0, 0, 0, 0, 0, 0, 0, 0, 0, 0, 0, 0, 0, 0, 0, 0, 0, 0, 0, 0, 0, 0, 0, 0, 0, 0, 0, 0, 0, 0, 0, 0, 0, 0, 0, 0, 0, 0, 0, 0, 0, 0, 0, 0, 0, 0, 0, 0, 0, 0, 0, 0, 0, 0, 0, 0, 0, 0, 0, 0, 0, 0, 0, 0, 0, 0, 0, 0, 0, 0, 0, 0, 0, 0, 0, 0, 0, 0, 0, 0, 0, 0, 0, 0, 0, 0, 0, 0, 0, 0, 0, 0, 0, 0, 0, 0, 0, 0, 0, 0, 0, 0, 0, 0, 0, 0, 0, 0, 0, 0, 0, 0, 0, 0, 0, 0, 0, 0, 0, 0, 0, 0, 0, 0, 0, 0, 0, 0, 0, 0, 0, 0, 0, 0, 0, 0, 0, 0, 0, 0, 0, 0, 0, 0, 0, 0, 0, 0, 0, 0, 0, 0, 0, 0, 0, 0, 0, 0, 0, 0, 0, 0, 0, 0, 0, 0, 0, 0, 0, 0, 0, 0, 0, 0, 0, 0, 0, 0, 0, 0, 0, 0, 0, 0, 0, 0, 0, 0, 0, 0, 0, 0, 0, 0, 0, 0, 0, 0, 0, 0, 0, 0, 0, 0, 0, 0, 0, 0, 0, 0, 0, 0, 0, 0, 0, 0, 0, 0, 0, 0, 0, 0, 0, 0, 0, 0, 0, 0, 0, 0, 0, 0, 0, 0, 0, 0, 0, 0, 0, 0, 0, 0, 0, 0, 0, 0, 0, 0, 0, 0, 0, 0, 0, 0, 0, 0, 0, 0, 0, 0, 0, 0, 0, 0, 0, 0, 0, 0, 0, 0, 0, 0, 0, 0, 0, 0, 0, 0, 0, 0, 0, 0, 0, 0, 0, 0, 0, 0, 0, 0, 0, 0, 0, 0, 0, 0, 0, 0, 0, 0, 0, 0, 0, 0, 0, 0, 0, 0, 0, 0, 0, 0, 0, 0, 0, 0, 0, 0, 0, 0, 0, 0, 0, 0, 0, 0, 0, 0, 0, 0, 0, 0, 0, 0, 0, 0, 0, 0, 0, 0, 0, 0, 0, 0, 0, 0, 0, 0, 0, 0, 0, 0, 0, 0, 0, 0, 0, 0, 0, 0, 0, 0, 0, 0, 0, 0, 0, 0, 0, 0, 0, 0, 0, 0, 0, 0, 0, 0, 0, 0, 0, 0, 0, 0, 0, 0, 0, 0, 0, 0, 0, 0, 0, 0, 0, 0, 0, 0, 0, 0, 0, 0, 0, 0, 0, 0, 0, 0, 0, 0, 0, 0, 0, 0, 0, 0, 0, 0, 0, 0, 0, 0, 0, 0, 0, 0, 0, 0, 0, 0, 0, 0, 0, 0, 0, 0, 0, 0, 0, 0, 0, 0, 0, 0, 0, 0, 0, 0, 0, 0, 0, 0, 0, 0, 0, 0, 0, 0, 0, 0, 0, 0, 0, 0, 0, 0, 0, 0, 0, 0, 0, 0, 0, 0, 0, 0, 0, 0, 0, 0, 0, 0, 0, 0, 0, 0, 0, 0, 0, 0, 0, 0, 0, 0, 0, 0, 0, 0, 0, 0, 0, 0, 0, 0, 0, 0, 0, 0, 0, 0, 0, 0, 0, 0, 0, 0, 0, 0, 0, 0, 0, 0, 0, 0, 0, 0, 0, 0, 0, 0, 0, 0, 0, 0, 0, 0, 0, 0, 0, 0, 0, 0, 0, 0, 0, 0, 0, 0, 0, 0, 0, 0, 0, 0, 0, 0, 0, 0, 0, 0, 0, 0, 0, 0, 0, 0, 0, 0, 0, 0, 0, 0, 0, 0, 0, 0, 0, 0, 0, 0, 0, 0, 0, 0, 0, 0, 0, 0, 0, 0, 0, 0, 0, 0, 0, 0, 0, 0, 0, 0, 0, 0, 0, 0, 0, 0, 0, 0, 0, 0, 0, 0, 0, 0, 0, 0, 0, 0, 0, 0, 0, 0, 0, 0, 0, 0, 0, 0, 0, 0, 0, 0, 0, 0, 0, 0, 0, 0, 0, 0, 0, 0, 0, 0, 0, 0, 0, 0, 0, 0, 0, 0, 0, 0, 0, 0, 0, 0, 0, 0, 0, 0, 0, 0, 0, 0, 0, 0, 0, 0, 0, 0, 0, 0, 0, 0, 0, 0, 0, 0, 0, 0, 0, 0, 0, 0, 0, 0, 0, 0, 0, 0, 0, 0, 0, 0, 0, 0, 0, 0, 0, 0, 0, 0, 0, 0, 0, 0, 0, 0, 0, 0, 0, 0, 0, 0, 0, 0, 0, 0, 0, 0, 0, 0, 0, 0, 0, 0, 0, 0, 0, 0, 0, 0, 0, 0, 0, 0, 0, 0, 0, 0, 0, 0, 0, 0, 0, 0, 0, 0, 0, 0, 0, 0, 0, 0, 0, 0, 0, 0, 0, 0, 0, 0, 0, 0, 0, 0, 0, 0, 0, 0, 0, 0, 0, 0, 0, 0, 0, 0, 0, 0, 0, 0, 0, 0, 0, 0, 0, 0, 0, 0, 0, 0, 0, 1, 1, 0, 0, 0, 0, 0, 0, 0, 0, 0, 0, 0, 0, 0, 0, 0, 0, 0, 0, 0, 0, 0, 0, 0, 0, 0, 0, 0, 0, 0, 0, 0, 0, 0, 0, 0, 0, 0, 0, 0, 0, 0, 0, 0, 0, 0, 0, 0, 0, 0, 0, 0, 0, 0, 0, 0, 0, 0, 0, 0, 0, 0, 0, 0, 0, 0, 0, 0, 0, 0, 0, 0, 0, 0, 0, 0, 0, 0, 0, 0, 0, 0, 0, 0, 0, 0, 0, 0, 0, 0, 0, 0, 0, 0, 0, 0, 0, 0, 0, 0, 0, 0, 0, 0, 0, 0, 0, 0, 0, 0, 0, 0, 0, 0, 0, 0, 0, 0, 0, 0, 0, 0, 0, 0, 0, 0, 0, 0, 0, 0, 0, 0, 0, 0, 0, 0, 0, 0, 0, 0, 0, 0, 0, 0, 0, 0, 0, 0, 0, 0, 0, 0, 0, 0, 0, 0, 0, 0, 0, 0, 0, 0, 0, 0, 0, 0, 0, 0, 0, 0, 0, 0, 0, 0, 0, 0, 0, 0, 0, 0, 0, 0, 0, 0, 0, 0, 0, 0, 0, 0, 0, 0, 0, 0, 0, 0, 0, 0, 0, 0, 0, 0, 0, 0, 0, 0, 0, 0, 0, 0, 0, 0, 0, 0, 0, 0, 0, 0, 0, 0, 0, 0, 0, 0, 0, 0, 0, 0, 0, 0, 0, 0, 0, 0, 0, 0, 0, 0, 0, 0, 0, 0, 0, 0, 0, 0, 0, 0, 0, 0, 0, 0, 0, 0, 0, 0, 0, 0, 0, 0, 0, 0, 0, 0, 0, 0, 0, 0, 0, 0, 0, 0, 0, 0, 0, 0, 0, 0, 0, 0, 0, 0, 0, 0, 0, 0, 0, 0, 0, 0, 0, 0, 0, 0, 0, 0, 0, 0, 0, 0, 0, 0, 0, 0, 0, 0, 0, 0, 0, 0, 0, 0, 0, 0, 0, 0, 0, 0, 0, 0, 0, 0, 0, 0, 0, 0, 0, 0, 0, 0, 0, 0, 0, 0, 0, 0, 0, 0, 0, 0, 0, 0, 0, 0, 0, 0, 0, 0, 0, 0, 0, 0, 0, 0, 0, 0, 0, 0, 0, 0, 0, 0, 0, 0, 0, 0, 0, 0, 0, 0, 0, 0, 0, 0, 0, 0, 0, 0, 0, 0, 0, 0, 0, 0, 0, 0, 0, 0, 0, 0, 0, 0, 0, 0, 0, 0, 0, 0, 0, 0, 0, 0, 0, 0, 0, 0, 0, 0, 0, 0, 0, 0, 0, 0, 0, 0, 0, 0, 0, 0, 0, 0, 0, 0, 0, 0, 0, 0, 0, 0, 0, 0, 0, 0, 0, 0, 0, 0, 0, 0, 0, 0, 1, 0, 0, 1, 0, 0, 0, 0, 0, 0, 1, 1, 1, 1, 0, 1, 0, 0, 0, 0, 0, 0, 0, 0, 0, 0, 0, 0, 0, 0, 0, 0, 0, 0, 0, 0, 0, 0, 0, 0, 0, 0, 0, 0, 0, 0, 0, 0, 0, 0, 0, 0, 0, 0, 0, 0, 0, 0, 0, 0, 0, 0, 0, 0, 0, 0, 0, 0, 0, 0, 0, 0, 0, 0, 0, 0, 0, 0, 0, 0, 0, 0, 0, 0, 0, 0, 0, 0, 0, 0, 0, 0, 0, 0, 0, 0, 0, 0, 0, 0, 0, 0, 0, 0, 0, 0, 0, 0, 0, 0, 0, 0, 0, 0, 0, 0, 0, 0, 0, 0, 0, 0, 0, 0, 0, 0, 0, 0, 0, 0, 0, 0, 0, 0, 0, 0, 0, 0, 0, 0, 0, 0, 0, 0, 0, 0, 0, 0, 0, 0, 0, 0, 0, 0, 0, 0, 0, 0, 0, 0, 0, 0, 0, 0, 0, 0, 0, 0, 0, 0, 0, 0, 0, 0, 0, 0, 0, 0, 0, 0, 0, 0, 0, 0, 0, 0, 0, 0, 0, 0, 0, 0, 0, 0, 0, 0, 0, 0, 0, 0, 0, 0, 0, 0, 0, 0, 0, 0, 0, 0, 0, 0, 0, 0, 0, 0, 0, 0, 0, 0, 0, 0, 0, 0, 0, 0, 0, 0, 0, 0, 0, 0, 0, 0, 0, 0, 0, 0, 0, 0, 0, 0, 0, 0, 0, 0, 0, 0, 0, 0, 0, 0, 0, 0, 0, 0, 0, 0, 0, 0, 0, 0, 0, 0, 0, 0, 0, 0, 0, 0, 0, 0, 0, 0, 0, 0, 0, 0, 0, 0, 0, 0, 0, 0, 0, 0, 0, 0, 0, 0, 0, 0, 0, 0, 0, 0, 0, 0, 0, 0, 0, 0, 0, 0, 0, 0, 0, 0, 0, 0, 0, 0, 0, 0, 0, 0, 0, 0, 0, 0, 0, 0, 0, 0, 0, 0, 0, 0, 0, 0, 0, 0, 0, 0, 0, 0, 0, 0, 0, 0, 0, 0, 0, 0, 0, 0, 0, 0, 0, 0, 0, 0, 0, 0, 0, 0, 0, 0, 0, 0, 0, 0, 0, 0, 0, 0, 0, 0, 0, 0, 0, 0, 0, 0, 0, 0, 0, 0, 0, 0, 0, 0, 0, 0, 0, 0, 0, 0, 0, 0, 0, 0, 0, 0, 0, 0, 0, 0, 0, 0, 0, 0, 0, 0, 0, 0, 0, 0, 0, 0, 0, 0, 0, 0, 0, 0, 0, 0, 0, 0, 0, 0, 0, 0, 0, 0, 0, 0, 0, 0, 0, 0, 0, 0, 0, 0, 0, 0, 0, 0, 0, 0, 0, 0, 0, 0, 0, 0, 0, 0, 0, 0, 0, 0, 0, 0, 0, 0, 0, 0, 0, 0, 0, 0, 0, 0, 0, 0, 0, 0, 0, 0, 0, 0, 0, 0, 0, 0, 0, 0, 0, 0, 0, 0, 0, 0, 0, 0, 0, 0, 0, 0, 0, 0, 0, 0, 0, 0, 0, 0, 0, 0, 0, 0, 0, 0, 0, 0, 0, 0, 0, 0, 0, 0, 0, 0, 0, 0, 0, 0, 0, 0, 0, 0, 0, 0, 0, 0, 0, 0, 0, 0, 0, 0, 0, 0, 0, 0, 0, 0, 0, 0, 0, 0, 0, 0, 0, 0, 0, 0, 0, 0, 0, 0, 0, 0, 0, 0, 1, 0, 0, 0, 0, 0, 0, 0, 0, 0, 0, 0, 0, 0, 0, 0, 0, 0, 0, 0, 0, 0, 0, 0, 0, 0, 0, 0, 0, 0, 0, 0, 0, 0, 0, 0, 0, 0, 0, 0, 0]\n",
            "SVM with histoyr:  ('acc: ', 0.8145973154362416, 'precision: ', 0.0, 'recall: ', 0.0, 'f1: ', 0, 'specificity: ', 0.9928425357873211, 'mcc: ', -0.035952351748025455, 'mac pre ', 0.40970464135021095, 'micro pre ', 0.8145973154362416)\n",
            "[0, 0, 0, 0, 0, 0, 0, 0, 0, 0, 0, 0, 0, 0, 0, 0, 0, 0, 0, 0, 0, 0, 0, 0, 0, 0, 0, 0, 0, 0, 0, 0, 0, 0, 0, 0, 0, 0, 0, 0, 0, 0, 0, 0, 0, 0, 0, 0, 0, 0, 0, 0, 0, 0, 0, 0, 0, 0, 0, 0, 0, 0, 0, 0, 0, 0, 0, 0, 0, 0, 0, 0, 0, 0, 0, 0, 0, 0, 0, 0, 0, 0, 0, 0, 0, 0, 0, 0, 0, 0, 0, 0, 0, 0, 0, 0, 0, 0, 0, 0, 0, 0, 0, 0, 0, 0, 0, 0, 0, 0, 0, 0, 0, 0, 0, 0, 0, 0, 0, 0, 0, 0, 0, 0, 0, 0, 0, 0, 0, 0, 0, 0, 0, 0, 0, 0, 0, 0, 0, 0, 0, 0, 0, 0, 0, 0, 0, 0, 0, 0, 0, 0, 0, 0, 0, 0, 0, 0, 0, 0, 0, 0, 0, 0, 0, 0, 0, 0, 0, 0, 0, 0, 0, 0, 0, 0, 0, 0, 0, 0, 0, 0, 0, 0, 0, 0, 0, 0, 0, 0, 0, 0, 0, 0, 0, 0, 0, 0, 0, 0, 0, 0, 0, 0, 0, 0, 0, 0, 0, 0, 0, 0, 0, 0, 0, 0, 0, 0, 0, 0, 0, 0, 0, 0, 0, 0, 0, 0, 0, 0, 0, 0, 0, 0, 0, 0, 0, 0, 0, 0, 0, 0, 0, 0, 0, 0, 0, 0, 0, 0, 0, 0, 0, 0, 0, 0, 0, 0, 0, 0, 0, 0, 0, 0, 0, 0, 0, 0, 0, 0, 0, 0, 0, 0, 0, 0, 0, 0, 0, 0, 0, 0, 0, 0, 0, 0, 0, 0, 0, 0, 0, 0, 0, 0, 0, 0, 0, 0, 0, 0, 0, 0, 0, 0, 0, 0, 0, 0, 0, 0, 0, 0, 0, 0, 0, 0, 0, 0, 0, 0, 0, 0, 0, 0, 0, 0, 0, 0, 0, 0, 0, 0, 0, 0, 0, 0, 0, 0, 0, 0, 0, 0, 0, 0, 0, 0, 0, 0, 0, 0, 0, 0, 0, 0, 0, 0, 0, 0, 0, 0, 0, 0, 0, 0, 0, 0, 0, 0, 0, 0, 0, 0, 0, 0, 0, 0, 0, 0, 0, 0, 0, 0, 0, 0, 0, 0, 0, 0, 0, 0, 0, 0, 0, 0, 0, 0, 0, 0, 0, 0, 0, 0, 0, 0, 0, 0, 0, 0, 0, 0, 0, 0, 0, 0, 0, 0, 0, 0, 0, 0, 0, 0, 0, 0, 0, 0, 0, 0, 0, 0, 0, 0, 0, 0, 0, 0, 0, 0, 0, 0, 0, 0, 0, 0, 0, 0, 0, 0, 0, 0, 0, 0, 0, 0, 0, 0, 0, 0, 0, 0, 0, 0, 0, 0, 0, 0, 0, 0, 0, 0, 0, 0, 0, 0, 0, 0, 0, 0, 0, 0, 0, 0, 0, 0, 0, 0, 0, 0, 0, 0, 0, 0, 0, 0, 0, 0, 0, 0, 0, 0, 0, 0, 0, 0, 0, 0, 0, 0, 0, 0, 0, 0, 0, 0, 0, 0, 0, 0, 0, 0, 0, 0, 0, 0, 0, 0, 0, 0, 0, 0, 0, 0, 0, 0, 0, 0, 0, 0, 0, 0, 0, 0, 0, 0, 0, 0, 0, 0, 0, 0, 0, 0, 0, 0, 0, 0, 0, 0, 0, 0, 0, 0, 0, 0, 0, 0, 0, 0, 0, 0, 0, 0, 0, 0, 0, 0, 0, 0, 0, 0, 0, 0, 0, 0, 0, 0, 0, 0, 0, 0, 0, 0, 0, 0, 0, 0, 0, 0, 0, 0, 0, 0, 0, 0, 0, 0, 0, 0, 0, 0, 0, 0, 0, 0, 0, 0, 0, 0, 0, 0, 0, 0, 0, 0, 0, 0, 0, 0, 0, 0, 0, 0, 0, 0, 0, 0, 0, 0, 0, 0, 0, 0, 0, 0, 0, 0, 0, 0, 0, 0, 0, 0, 0, 0, 0, 0, 0, 0, 0, 0, 0, 0, 0, 0, 0, 0, 0, 0, 0, 0, 0, 0, 0, 0, 0, 0, 0, 0, 0, 0, 0, 0, 0, 0, 0, 0, 0, 0, 0, 0, 0, 0, 0, 0, 0, 0, 0, 0, 0, 0, 0, 0, 0, 0, 0, 0, 0, 0, 0, 0, 0, 0, 0, 0, 0, 0, 0, 0, 0, 0, 0, 0, 0, 0, 0, 0, 0, 0, 0, 0, 0, 0, 0, 0, 0, 0, 0, 0, 0, 0, 0, 0, 0, 0, 0, 0, 0, 0, 0, 0, 0, 0, 0, 0, 0, 0, 0, 0, 0, 0, 0, 0, 0, 0, 0, 0, 0, 0, 0, 0, 0, 0, 0, 0, 0, 0, 0, 0, 0, 0, 0, 0, 0, 0, 0, 0, 0, 0, 0, 0, 0, 0, 0, 0, 0, 0, 0, 0, 0, 0, 0, 0, 0, 0, 0, 0, 0, 0, 0, 0, 0, 0, 0, 0, 0, 0, 0, 0, 0, 0, 0, 0, 0, 0, 0, 0, 0, 0, 0, 0, 0, 0, 0, 0, 0, 0, 0, 0, 0, 0, 0, 0, 0, 0, 0, 0, 0, 0, 0, 0, 0, 0, 0, 0, 0, 0, 0, 0, 0, 0, 0, 0, 0, 0, 0, 0, 0, 0, 0, 0, 0, 0, 0, 0, 0, 0, 0, 0, 0, 0, 0, 0, 0, 0, 0, 0, 0, 0, 0, 0, 0, 0, 0, 0, 0, 0, 0, 0, 0, 0, 0, 0, 0, 0, 0, 0, 0, 0, 0, 0, 0, 0, 0, 0, 0, 0, 0, 0, 0, 0, 0, 0, 0, 0, 0, 0, 0, 0, 0, 0, 0, 0, 0, 0, 0, 0, 0, 0, 0, 0, 0, 0, 0, 0, 0, 0, 0, 0, 0, 0, 0, 0, 0, 0, 0, 0, 0, 0, 0, 0, 0, 0, 0, 0, 0, 0, 0, 0, 0, 0, 0, 0, 0, 0, 0, 0, 0, 0, 0, 0, 0, 0, 0, 0, 0, 0, 0, 0, 0, 0, 0, 0, 0, 0, 0, 0, 0, 0, 0, 0, 0, 0, 0, 0, 0, 0, 0, 0, 0, 0, 0, 0, 0, 0, 0, 0, 0, 0, 0, 0, 0, 0, 0, 0, 0, 0, 0, 0, 0, 0, 0, 0, 0, 0, 0, 0, 0, 0, 0, 0, 0, 0, 0, 0, 0, 0, 0, 0, 0, 0, 0, 0, 0, 0, 0, 0, 0, 0, 0, 0, 0, 0, 0, 0, 0, 0, 0, 0, 0, 0, 0, 0, 0, 0, 0, 0, 0, 0, 0, 0, 0, 0, 0, 0, 0, 0, 0, 0, 0, 0, 0, 0, 0, 0, 0, 0, 0, 0, 0, 0, 0, 0, 0, 0, 0, 0, 0, 0, 0, 0, 0, 0, 0, 0, 0, 0, 0, 0, 0, 0, 0, 0, 0, 0, 0, 0, 0, 0, 0, 0, 0, 0, 0, 0, 0, 0, 0, 0, 0, 0, 0, 0, 0, 0, 0, 0, 0, 0, 0, 0, 0, 0, 0, 0, 0, 0, 0, 0, 0, 0, 0, 0, 0, 0, 0, 0, 0, 0, 0, 0, 0, 0, 0, 0, 0, 0, 0, 0, 0, 0, 0, 0, 0, 0, 0, 0, 0, 0, 0, 0, 0, 0, 0, 0, 0, 0, 0, 0, 0, 0, 0, 0, 0, 0, 0, 0, 0, 0, 0, 0, 0, 0, 0, 0, 0, 0, 0, 0, 0, 0, 0, 0, 0, 0, 0, 0, 0, 0, 0, 0, 0, 0, 0, 0, 0, 0, 0, 0, 0, 0, 0, 0, 0, 0, 0, 0, 0, 0, 0, 0, 0, 0, 0, 0, 0, 0, 0, 0, 0, 0, 0, 0, 0, 0, 0, 0, 0, 0, 0, 0, 0, 0, 0, 0, 0, 0, 0, 0, 0, 0, 0, 0, 0, 0, 0, 0, 0, 0, 0, 0, 0, 0, 0, 0, 0, 0, 0, 0, 0, 0, 0, 0, 0, 0, 0, 0, 0, 0, 0, 0, 0, 0, 0, 0, 0, 0, 0, 0, 0, 0, 0, 0, 0, 0, 0, 0, 0, 0, 0, 0, 0, 0, 0, 0, 0, 0, 0, 0, 0, 0, 0, 0, 0, 0, 0, 0, 0, 0, 0, 0, 0, 0, 0, 0, 0, 0, 0, 0, 0, 0, 0, 0, 0, 0, 0, 0, 0, 0, 0, 0, 0, 0, 0, 0, 0, 0, 0, 0, 0, 0, 0, 0, 0, 0, 0, 0, 0, 0, 0, 0, 0, 0, 0, 0, 0, 0, 0, 0, 0, 0, 0, 0, 0, 0, 0, 0, 0, 0, 0, 0, 0, 0, 0, 0, 0, 0, 0, 0, 0, 0, 0, 0, 0, 0, 0, 0, 0, 0, 0, 0, 0, 0, 0, 0, 0, 0, 0, 0, 0, 0, 0, 0, 0, 0, 0, 0, 0, 0, 0, 0, 0, 0, 0, 0, 0, 0, 0, 0, 0, 0, 0, 0, 0, 0, 0, 0, 0, 0, 0, 0, 0, 0, 0, 0, 0, 0, 0, 0, 0, 0, 0, 0, 0, 0, 0, 0, 0, 0, 0, 0, 0, 0, 0, 0, 0, 0, 0, 0, 0, 0, 0, 0, 0, 0, 0, 0, 0, 0, 0, 0, 0, 0, 0, 0, 0, 0, 0, 0, 0, 0, 0, 0, 0, 0, 0, 0, 0, 0, 0, 0, 0, 0, 0, 0, 0, 0, 0, 0, 0, 0, 0, 0, 0, 0, 0, 0, 0, 0, 0, 0, 0, 0, 0, 0, 0, 0, 0, 0, 0, 0, 0, 0, 0, 0, 0, 0, 0, 0, 0, 0, 0, 0, 0, 0, 0, 0, 0, 0, 0, 0, 0, 0, 0, 0, 0, 0, 0, 0, 0, 0, 0, 0, 0, 0, 0, 0, 0, 0, 0, 0, 0, 0, 0, 0, 0, 0, 0, 0, 0, 0, 0, 0, 0, 0, 0, 0, 0, 0, 0, 0, 0, 0, 0, 0, 0, 0, 0, 0, 0, 0, 0, 0, 0, 0, 0, 0, 0, 0, 0, 0, 0, 0, 0, 0, 0, 0, 0, 0, 0, 0, 0, 0, 0, 0, 0, 0, 0, 0, 0, 0, 0, 0, 0, 0, 0, 0, 0, 0, 0, 0, 0, 0, 0, 0, 0, 0, 0, 0, 0, 0, 0, 0, 0, 0, 0, 0, 0, 0, 0, 0, 0, 0, 0, 0, 0, 0, 0, 0, 0, 0, 0, 0, 0, 0, 0, 0, 0, 0, 0, 0, 0, 0, 0, 0, 0, 0, 0, 0, 0, 0, 0, 0, 0, 0, 0, 0, 0, 0, 0, 0, 0, 0, 0, 0, 0, 0, 0, 0, 0, 0, 0, 0, 0, 0, 0, 0, 0, 0, 0, 0, 0, 0, 0, 0, 0, 0, 0, 0, 0, 0, 0, 0, 0, 0, 0, 0, 0, 0, 0, 0, 0, 0, 0, 0, 0, 0, 0, 0, 0, 0, 0, 0, 0, 0, 0, 0, 0, 0, 0, 0, 0, 0, 0, 0, 0, 0, 0, 0, 0, 0, 0, 0, 0, 0, 0, 0, 0, 0, 0, 0, 0, 0, 0, 0, 0, 0, 0, 0, 0, 0, 0, 0, 0, 0, 0, 0, 0, 0, 0, 0, 0, 0, 0, 0, 0, 0, 0, 0, 0, 0, 0, 0, 0, 0, 0, 0, 0, 0, 0, 0, 0, 0, 0, 0, 0, 0, 0, 0, 0, 0, 0, 0, 0, 0, 0, 0, 0, 0, 0, 0, 0, 0, 0, 0, 0, 0, 0, 0, 0, 0, 0, 0, 0, 0, 0, 0, 0, 0, 0, 0, 0, 0, 0, 0, 0, 0, 0, 0, 0, 0, 0, 0, 0, 0, 0, 0, 0, 0, 0, 0, 0, 0, 0, 0, 0, 0, 0, 0, 0, 0, 0, 0, 0, 0, 0, 0, 0, 0, 0, 0, 0, 0, 0, 0, 0, 0, 0, 0, 0, 0, 0, 0, 0, 0, 0, 0, 0, 0, 0, 0, 0, 0, 0, 0, 0, 0, 0, 0, 0, 0, 0, 0, 0, 0, 0, 0, 0, 0, 0, 0, 0, 0, 0, 0, 0, 0, 0, 0, 0, 0, 0, 0, 0, 0, 0, 0, 0, 0, 0, 0, 0, 0, 0, 0, 0, 0, 0, 0, 0, 0, 0, 0, 0, 0, 0, 0, 0, 0, 0, 0, 0, 0, 0, 0, 0, 0, 0, 0, 0, 0, 0, 0, 0, 0, 0, 0, 0, 0, 0, 0, 0, 0, 0, 0, 0, 0, 0, 0, 0, 0, 0, 0, 0, 0, 0, 0, 0, 0, 0, 0, 0, 0, 0, 0, 0, 0, 0, 0, 0, 0, 0, 0, 0, 0, 0, 0, 0, 0, 0, 0, 0, 0, 0, 0, 0, 0, 0, 0, 0, 0, 0, 0, 0, 0, 0, 0, 0, 0, 0, 0, 0, 0, 0, 0, 0, 0, 0, 0, 0, 0, 0, 0, 0, 0, 0, 0, 0, 0, 0, 0, 0, 0, 0, 0, 0, 0, 0, 0, 0, 0, 0, 0, 0, 0, 0, 0, 0, 0, 0, 0, 0, 0, 0, 0, 0, 0, 0, 0, 0, 0, 0, 0, 0, 0, 0, 0, 0, 0, 0, 0, 0, 0, 0, 0, 0, 0, 0, 0, 0, 0, 0, 0, 0, 0, 0, 0, 0, 0, 0, 0, 0, 0, 0, 0, 0, 0, 0, 0, 0, 0, 0, 0, 0, 0, 0, 0, 0, 0, 0, 0, 0, 0, 0, 0, 0, 0, 0, 0, 0, 0, 0, 0, 0, 0, 0, 0, 0, 0, 0, 0, 0, 0, 0, 0, 0, 0, 0, 0, 0, 0, 0, 0, 0, 0, 0, 0, 0, 0, 0, 0, 0, 0, 0, 0, 0, 0, 0, 0, 0, 0, 0, 0, 0, 0, 0, 0, 0, 0, 0, 0, 0, 0, 0, 0, 0, 0, 0, 0, 0, 0, 0, 0, 0, 0, 0, 0, 0, 0, 0, 0, 0, 0, 0, 0, 0, 0, 0, 0, 0, 0, 0, 0, 0, 0, 0, 0, 0, 0, 0, 0, 0, 0, 0, 0, 0, 0, 0, 0, 0, 0, 0, 0, 0, 0, 0, 0, 0, 0, 0, 0, 0, 0, 0, 0, 0, 0, 0, 0, 0, 0, 0, 0, 0, 0, 0, 0, 0, 0, 0, 0, 0, 0, 0, 0, 0, 0, 0, 0, 0, 0, 0, 0, 0, 0, 0, 0, 0, 0, 0, 0, 0, 0, 0, 0, 0, 0, 0, 0, 0, 0, 0, 0, 0, 0, 0, 0, 0, 0, 0, 0, 0, 0, 0, 0, 0, 0, 0, 0, 0, 0, 0, 0, 0, 0]\n",
            "SVM:  ('acc: ', 0.8204697986577181, 'precision: ', 0, 'recall: ', 0.0, 'f1: ', 0, 'specificity: ', 1.0, 'mcc: ', 0, 'mac pre ', 0.41023489932885904, 'micro pre ', 0.8204697986577181)\n",
            "[0, 0, 0, 0, 0, 0, 0, 0, 0, 0, 0, 0, 0, 0, 0, 0, 0, 0, 0, 0, 0, 0, 0, 0, 0, 0, 0, 0, 0, 0, 0, 0, 0, 0, 0, 0, 0, 0, 0, 0, 0, 0, 0, 0, 0, 0, 0, 0, 0, 0, 0, 0, 0, 0, 0, 0, 0, 0, 0, 0, 0, 0, 0, 0, 0, 0, 0, 0, 0, 0, 0, 0, 0, 0, 0, 0, 0, 0, 0, 0, 0, 0, 0, 0, 0, 0, 0, 0, 0, 0, 0, 0, 0, 0, 0, 0, 0, 0, 0, 0, 0, 0, 0, 0, 0, 0, 0, 0, 0, 0, 0, 0, 0, 0, 0, 0, 0, 0, 0, 0, 0, 0, 0, 0, 0, 0, 0, 0, 0, 0, 0, 0, 0, 0, 0, 0, 0, 0, 0, 0, 0, 0, 0, 0, 0, 0, 0, 0, 0, 0, 0, 0, 0, 0, 0, 0, 0, 0, 0, 0, 0, 0, 0, 0, 0, 0, 0, 0, 0, 0, 0, 0, 0, 0, 0, 0, 0, 0, 0, 0, 0, 0, 0, 0, 0, 0, 0, 0, 0, 0, 0, 0, 0, 0, 0, 0, 0, 0, 0, 0, 0, 0, 0, 0, 0, 0, 0, 0, 0, 0, 0, 0, 0, 0, 0, 0, 0, 0, 0, 0, 0, 0, 0, 0, 0, 0, 0, 0, 0, 0, 0, 0, 0, 0, 0, 0, 0, 0, 0, 0, 0, 0, 0, 0, 0, 0, 0, 0, 0, 0, 0, 0, 0, 0, 0, 0, 0, 0, 0, 0, 0, 0, 0, 0, 0, 0, 0, 0, 0, 0, 0, 0, 0, 0, 0, 0, 0, 0, 0, 0, 0, 0, 0, 0, 0, 0, 0, 0, 0, 0, 0, 0, 0, 0, 0, 0, 0, 0, 0, 0, 0, 0, 0, 0, 0, 0, 0, 0, 0, 0, 0, 0, 0, 0, 0, 0, 0, 0, 0, 0, 0, 0, 0, 0, 0, 0, 0, 0, 0, 0, 0, 0, 0, 0, 0, 0, 0, 0, 0, 0, 0, 0, 0, 0, 0, 0, 0, 0, 0, 0, 0, 0, 0, 0, 0, 0, 0, 0, 0, 0, 0, 0, 0, 0, 0, 0, 0, 0, 0, 0, 0, 0, 0, 0, 0, 0, 0, 0, 0, 0, 0, 0, 0, 0, 0, 0, 0, 0, 0, 0, 0, 0, 0, 0, 0, 0, 0, 0, 0, 0, 0, 0, 0, 0, 0, 0, 0, 0, 0, 0, 0, 0, 0, 0, 0, 0, 0, 0, 0, 0, 0, 0, 0, 0, 0, 0, 0, 0, 0, 0, 0, 0, 0, 0, 0, 0, 0, 0, 0, 0, 0, 0, 0, 0, 0, 0, 0, 0, 0, 0, 0, 0, 0, 0, 0, 0, 0, 0, 0, 0, 0, 0, 0, 0, 0, 0, 0, 0, 0, 0, 0, 0, 0, 0, 0, 0, 0, 0, 0, 0, 0, 0, 0, 0, 0, 0, 0, 0, 0, 0, 0, 0, 0, 0, 0, 0, 0, 0, 0, 0, 0, 0, 0, 0, 0, 0, 0, 0, 0, 0, 0, 0, 0, 0, 0, 0, 0, 0, 0, 0, 0, 0, 0, 0, 0, 0, 0, 0, 0, 0, 0, 0, 0, 0, 0, 0, 0, 0, 0, 0, 0, 0, 0, 0, 0, 0, 0, 0, 0, 0, 0, 0, 0, 0, 0, 0, 0, 0, 0, 0, 0, 0, 0, 0, 0, 0, 0, 0, 0, 0, 0, 0, 0, 0, 0, 0, 0, 0, 0, 0, 0, 0, 0, 0, 0, 0, 0, 0, 0, 0, 0, 0, 0, 0, 0, 0, 0, 0, 0, 0, 0, 0, 0, 0, 0, 0, 0, 0, 0, 0, 0, 0, 0, 0, 0, 0, 0, 0, 0, 0, 0, 0, 0, 0, 0, 0, 0, 0, 0, 0, 0, 0, 0, 0, 0, 0, 0, 0, 0, 0, 0, 0, 0, 0, 0, 0, 0, 0, 0, 0, 0, 0, 0, 0, 0, 0, 0, 0, 0, 0, 0, 0, 0, 0, 0, 0, 0, 0, 0, 0, 0, 0, 0, 0, 0, 0, 0, 0, 0, 0, 0, 0, 0, 0, 0, 0, 0, 0, 0, 0, 0, 0, 0, 0, 0, 0, 0, 0, 0, 0, 0, 0, 0, 0, 0, 0, 0, 0, 0, 0, 0, 0, 0, 0, 0, 0, 0, 0, 0, 0, 0, 0, 0, 0, 0, 0, 0, 0, 0, 0, 0, 0, 0, 0, 0, 0, 0, 0, 0, 0, 0, 0, 0, 0, 0, 0, 0, 0, 0, 0, 0, 0, 0, 0, 0, 0, 0, 0, 0, 0, 0, 0, 0, 0, 0, 0, 0, 0, 0, 0, 0, 0, 0, 0, 0, 0, 0, 0, 0, 0, 0, 0, 0, 0, 0, 0, 0, 0, 0, 0, 0, 0, 0, 0, 0, 0, 0, 0, 0, 0, 0, 0, 0, 0, 0, 0, 0, 0, 0, 0, 0, 0, 0, 0, 0, 0, 0, 0, 0, 0, 0, 0, 0, 0, 0, 0, 0, 0, 0, 0, 0, 0, 0, 0, 0, 0, 0, 0, 0, 0, 0, 0, 0, 0, 0, 0, 0, 0, 0, 0, 0, 0, 0, 0, 0, 0, 0, 0, 0, 0, 0, 0, 0, 0, 0, 0, 0, 0, 0, 0, 0, 0, 0, 0, 0, 0, 0, 0, 0, 0, 0, 0, 0, 0, 0, 0, 0, 0, 0, 0, 0, 0, 0, 0, 0, 0, 0, 0, 0, 0, 0, 0, 0, 0, 0, 0, 0, 0, 0, 0, 0, 0, 0, 0, 0, 0, 0, 0, 0, 0, 0, 0, 0, 0, 0, 0, 0, 0, 0, 0, 0, 0, 0, 0, 0, 0, 0, 0, 0, 0, 0, 0, 0, 0, 0, 0, 0, 0, 0, 0, 0, 0, 0, 0, 0, 0, 0, 0, 0, 0, 0, 0, 0, 0, 0, 0, 0, 0, 0, 0, 0, 0, 0, 0, 0, 0, 0, 0, 0, 0, 0, 0, 0, 0, 0, 0, 0, 0, 0, 0, 0, 0, 0, 0, 0, 0, 0, 0, 0, 0, 0, 0, 0, 0, 0, 0, 0, 0, 0, 0, 0, 0, 0, 0, 0, 0, 0, 0, 0, 0, 0, 0, 0, 0, 0, 0, 0, 0, 0, 0, 0, 0, 0, 0, 0, 0, 0, 0, 0, 0, 0, 0, 0, 0, 0, 0, 0, 0, 0, 0, 0, 0, 0, 0, 0, 0, 0, 0, 0, 0, 0, 0, 0, 0, 0, 0, 0, 0, 0, 0, 0, 0, 0, 0, 0, 0, 0, 0, 0, 0, 0, 0, 0, 0, 0, 0, 0, 0, 0, 0, 0, 0, 0, 0, 0, 0, 0, 0, 0, 0, 0, 0, 0, 0, 0, 0, 0, 0, 0, 0, 0, 0, 0, 0, 0, 0, 0, 0, 0, 0, 0, 0, 0, 0, 0, 0, 0, 0, 0, 0, 0, 0, 0, 0, 0, 0, 0, 0, 0, 0, 0, 0, 0, 0, 0, 0, 0, 0, 0, 0, 0, 0, 0, 0, 0, 0, 0, 0, 0, 0, 0, 0, 0, 0, 0, 0, 0, 0, 0, 0, 0, 0, 0, 0, 0, 0, 0, 0, 0, 0, 0, 0, 0, 0, 0, 0, 0, 0, 0, 0, 0, 0, 0, 0, 0, 0, 0, 0, 0, 0, 0, 0, 0, 0, 0, 0, 0, 0, 0, 0, 0, 0, 0, 0, 0, 0, 0, 0, 0, 0, 0, 0, 0, 0, 0, 0, 0, 0, 0, 0, 0, 0, 0, 0, 0, 0, 0, 0, 0, 0, 0, 0, 0, 0, 0, 0, 0, 0, 0, 0, 0, 0, 0, 0, 0, 0, 0, 0, 0, 0, 0, 0, 0, 0, 0, 0, 0, 0, 0, 0, 0, 0, 0, 0, 0, 0, 0, 0, 0, 0, 0, 0, 0, 0, 0, 0, 0, 0, 0, 0, 0, 0, 0, 0, 0, 0, 0, 0, 0, 0, 0, 0, 0, 0, 0, 0, 0, 0, 0, 0, 0, 0, 0, 0, 0, 0, 0, 0, 0, 0, 0, 0, 0, 0, 0, 0, 0, 0, 0, 0, 0, 0, 0, 0, 0, 0, 0, 0, 0, 0, 0, 0, 0, 0, 0, 0, 0, 0, 0, 0, 0, 0, 0, 0, 0, 0, 0, 0, 0, 0, 0, 0, 0, 0, 0, 0, 0, 0, 0, 0, 0, 0, 0, 0, 0, 0, 0, 0, 0, 0, 0, 0, 0, 0, 0, 0, 0, 0, 0, 0, 0, 0, 0, 0, 0, 0, 0, 0, 0, 0, 0, 0, 0, 0, 0, 0, 0, 0, 0, 0, 0, 0, 0, 0, 0, 0, 0, 0, 0, 0, 0, 0, 0, 0, 0, 0, 0, 0, 0, 0, 0, 0, 0, 0, 0, 0, 0, 0, 0, 0, 0, 0, 0, 0, 0, 0, 0, 0, 0, 0, 0, 0, 0, 0, 0, 0, 0, 0, 0, 0, 0, 0, 0, 0, 0, 0, 0, 0, 0, 0, 0, 0, 0, 0, 0, 0, 0, 0, 0, 0, 0, 0, 0, 0, 0, 0, 0, 0, 0, 0, 0, 0, 0, 0, 0, 0, 0, 0, 0, 0, 0, 0, 0, 0, 0, 0, 0, 0, 0, 0, 0, 0, 0, 0, 0, 0, 0, 0, 0, 0, 0, 0, 0, 0, 0, 0, 0, 0, 0, 0, 0, 0, 0, 0, 0, 0, 0, 0, 0, 0, 0, 0, 0, 0, 0, 0, 0, 0, 0, 0, 0, 0, 0, 0, 0, 0, 0, 0, 0, 0, 0, 0, 0, 0, 0, 0, 0, 0, 0, 0, 0, 0, 0, 0, 0, 0, 0, 0, 0, 0, 0, 0, 0, 0, 0, 0, 0, 0, 0, 0, 0, 0, 0, 0, 0, 0, 0, 0, 0, 0, 0, 0, 0, 0, 0, 0, 0, 0, 0, 0, 0, 0, 0, 0, 0, 0, 0, 0, 0, 0, 0, 0, 0, 0, 0, 0, 0, 0, 0, 0, 0, 0, 0, 0, 0, 0, 0, 0, 0, 0, 0, 0, 0, 0, 0, 0, 0, 0, 0, 0, 0, 0, 0, 0, 0, 0, 0, 0, 0, 0, 0, 0, 0, 0, 0, 0, 0, 0, 0, 0, 0, 0, 0, 0, 0, 0, 0, 0, 0, 0, 0, 0, 0, 0, 0, 0, 0, 0, 0, 0, 0, 0, 0, 0, 0, 0, 0, 0, 0, 0, 0, 0, 0, 0, 0, 0, 0, 0, 0, 0, 0, 0, 0, 0, 0, 0, 0, 0, 0, 0, 0, 0, 0, 0, 0, 0, 0, 0, 0, 0, 0, 0, 0, 0, 0, 0, 0, 0, 0, 0, 0, 0, 0, 0, 0, 0, 0, 0, 0, 0, 0, 0, 0, 0, 0, 0, 0, 0, 0, 0, 0, 0, 0, 0, 0, 0, 0, 0, 0, 0, 0, 0, 0, 0, 0, 0, 0, 0, 0, 0, 0, 0, 0, 0, 0, 0, 0, 0, 0, 0, 0, 0, 0, 0, 0, 0, 0, 0, 0, 0, 0, 0, 0, 0, 0, 0, 0, 0, 0, 0, 0, 0, 0, 0, 0, 0, 0, 0, 0, 0, 0, 0, 0, 0, 0, 0, 0, 0, 0, 0, 0, 0, 0, 0, 0, 0, 0, 0, 0, 0, 0, 0, 0, 0, 0, 0, 0, 0, 0, 0, 0, 0, 0, 0, 0, 0, 0, 0, 0, 0, 0, 0, 0, 0, 0, 0, 0, 0, 0, 0, 0, 0, 0, 0, 0, 0, 0, 0, 0, 0, 0, 0, 0, 0, 0, 0, 0, 0, 0, 0, 0, 0, 0, 0, 0, 0, 0, 0, 0, 0, 0, 0, 0, 0, 0, 0, 0, 0, 0, 0, 0, 0, 0, 0, 0, 0, 0, 0, 0, 0, 0, 0, 0, 0, 0, 0, 0, 0, 0, 0, 0, 0, 0, 0, 0, 0, 0, 0, 0, 0, 0, 0, 0, 0, 0, 0, 0, 0, 0, 0, 0, 0, 0, 0, 0, 0, 0, 0, 0, 0, 0, 0, 0, 0, 0, 0, 0, 0, 0, 0, 0, 0, 0, 0, 0, 0, 0, 0, 0, 0, 0, 0, 0, 0, 0, 0, 0, 0, 0, 0, 0, 0, 0, 0, 0, 0, 0, 0, 0, 0, 0, 0, 0, 0, 0, 0, 0, 0, 0, 0, 0, 0, 0, 0, 0, 0, 0, 0, 0, 0, 0, 0, 0, 0, 0, 0, 0, 0, 0, 0, 0, 0, 0, 0, 0, 0, 0, 0, 0, 0, 0, 0, 0, 0, 0, 0, 0, 0, 0, 0, 0, 0, 0, 0, 0, 0, 0, 0, 0, 0, 0, 0, 0, 0, 0, 0, 0, 0, 0, 0, 0, 0, 0, 0, 0, 0, 0, 0, 0, 0, 0, 0, 0, 0, 0, 0, 0, 0, 0, 0, 0, 0, 0, 0, 0, 0, 0, 0, 0, 0, 0, 0, 0, 0, 0, 0, 0, 0, 0, 0, 0, 0, 0, 0, 0, 0, 0, 0, 0, 0, 0, 0, 0, 0, 0, 0, 0, 0, 0, 0, 0, 0, 0, 0, 0, 0, 0, 0, 0, 0, 0, 0, 0, 0, 0, 0, 0, 0, 0, 0, 0, 0, 0, 0, 0, 0, 0, 0, 0, 0, 0, 0, 0, 0, 0, 0, 0, 0, 0, 0, 0, 0, 0, 0, 0, 0, 0, 0, 0, 0, 0, 0, 0, 0, 0, 0, 0, 0, 0, 0, 0, 0, 0, 0, 0, 0, 0, 0, 0, 0, 0, 0, 0, 0, 0, 0, 0, 0, 0, 0, 0, 0, 0, 0, 0, 0, 0, 0, 0, 0, 0, 0, 0, 0, 0, 0, 0, 0, 0, 0, 0, 0, 0, 0, 0, 0, 0, 0, 0, 0, 0, 0, 0, 0, 0, 0, 0, 0, 0, 0, 0, 0, 0, 0, 0, 0, 0, 0, 0, 0, 0, 0, 0, 0, 0, 0, 0, 0, 0, 0, 0, 0, 0, 0, 0, 0, 0, 0, 0, 0, 0, 0, 0, 0, 0, 0, 0, 0, 0, 0, 0, 0, 0, 0, 0, 0, 0, 0, 0, 0, 0, 0, 0, 0, 0, 0, 0, 0, 0, 0, 0, 0, 0, 0, 0, 0, 0, 0, 0, 0, 0, 0, 0, 0, 0, 0, 0, 0, 0, 0, 0, 0, 0, 0, 0, 0, 0, 0, 0, 0, 0, 0, 0, 0, 0, 0, 0, 0, 0, 0, 0, 0, 0, 0, 0, 0, 0, 0, 0, 0, 0, 0, 0, 0, 0, 0, 0, 0, 0, 0, 0, 0, 0, 0, 0, 0, 0, 0, 0, 0, 0, 0, 0, 0]\n",
            "roberta w history:  ('acc: ', 0.8204697986577181, 'precision: ', 0, 'recall: ', 0.0, 'f1: ', 0, 'specificity: ', 1.0, 'mcc: ', 0, 'mac pre ', 0.41023489932885904, 'micro pre ', 0.8204697986577181)\n",
            "[0, 0, 0, 0, 0, 0, 0, 0, 0, 0, 0, 0, 0, 0, 0, 0, 0, 0, 0, 0, 0, 0, 0, 0, 0, 0, 0, 0, 0, 0, 0, 0, 0, 0, 0, 0, 0, 0, 0, 0, 0, 0, 0, 0, 0, 0, 0, 0, 0, 0, 0, 0, 0, 0, 0, 0, 0, 0, 0, 0, 0, 0, 0, 0, 0, 0, 0, 0, 0, 0, 0, 0, 0, 0, 0, 0, 0, 0, 0, 0, 0, 0, 0, 0, 0, 0, 0, 0, 0, 0, 0, 0, 0, 0, 0, 0, 0, 0, 0, 0, 0, 0, 0, 0, 0, 0, 0, 0, 0, 0, 0, 0, 0, 0, 0, 0, 0, 0, 0, 0, 0, 0, 0, 0, 0, 0, 0, 0, 0, 0, 0, 0, 0, 0, 0, 0, 0, 0, 0, 0, 0, 0, 0, 0, 0, 0, 0, 0, 0, 0, 0, 0, 0, 0, 0, 0, 0, 0, 0, 0, 0, 0, 0, 0, 0, 0, 0, 0, 0, 0, 0, 0, 0, 0, 0, 0, 0, 0, 0, 0, 0, 0, 0, 0, 0, 0, 0, 0, 0, 0, 0, 0, 0, 0, 0, 0, 0, 0, 0, 0, 0, 0, 0, 0, 0, 0, 0, 0, 0, 0, 0, 0, 0, 0, 0, 0, 0, 0, 0, 0, 0, 0, 0, 0, 0, 0, 0, 0, 0, 0, 0, 0, 0, 0, 0, 0, 0, 0, 0, 0, 0, 0, 0, 0, 0, 0, 0, 0, 0, 0, 0, 0, 0, 0, 0, 0, 0, 0, 0, 0, 0, 0, 0, 0, 0, 0, 0, 0, 0, 0, 0, 0, 0, 0, 0, 0, 0, 0, 0, 0, 0, 0, 0, 0, 0, 0, 0, 0, 0, 0, 0, 0, 0, 0, 0, 0, 0, 0, 0, 0, 0, 0, 0, 0, 0, 0, 0, 0, 0, 0, 0, 0, 0, 0, 0, 0, 0, 0, 0, 0, 0, 0, 0, 0, 0, 0, 0, 0, 0, 0, 0, 0, 0, 0, 0, 0, 0, 0, 0, 0, 0, 0, 0, 0, 0, 0, 0, 0, 0, 0, 0, 0, 0, 0, 0, 0, 0, 0, 0, 0, 0, 0, 0, 0, 0, 0, 0, 0, 0, 0, 0, 0, 0, 0, 0, 0, 0, 0, 0, 0, 0, 0, 0, 0, 0, 0, 0, 0, 0, 0, 0, 0, 0, 0, 0, 0, 0, 0, 0, 0, 0, 0, 0, 0, 0, 0, 0, 0, 0, 0, 0, 0, 0, 0, 0, 0, 0, 0, 0, 0, 0, 0, 0, 0, 0, 0, 0, 0, 0, 0, 0, 0, 0, 0, 0, 0, 0, 0, 0, 0, 0, 0, 0, 0, 0, 0, 0, 0, 0, 0, 0, 0, 0, 0, 0, 0, 0, 0, 0, 0, 0, 0, 0, 0, 0, 0, 0, 0, 0, 0, 0, 0, 0, 0, 0, 0, 0, 0, 0, 0, 0, 0, 0, 0, 0, 0, 0, 0, 0, 0, 0, 0, 0, 0, 0, 0, 0, 0, 0, 0, 0, 0, 0, 0, 0, 0, 0, 0, 0, 0, 0, 0, 0, 0, 0, 0, 0, 0, 0, 0, 0, 0, 0, 0, 0, 0, 0, 0, 0, 0, 0, 0, 0, 0, 0, 0, 0, 0, 0, 0, 0, 0, 0, 0, 0, 0, 0, 0, 0, 0, 0, 0, 0, 0, 0, 0, 0, 0, 0, 0, 0, 0, 0, 0, 0, 0, 0, 0, 0, 0, 0, 0, 0, 0, 0, 0, 0, 0, 0, 0, 0, 0, 0, 0, 0, 0, 0, 0, 0, 0, 0, 0, 0, 0, 0, 0, 0, 0, 0, 0, 0, 0, 0, 0, 0, 0, 0, 0, 0, 0, 0, 0, 0, 0, 0, 0, 0, 0, 0, 0, 0, 0, 0, 0, 0, 0, 0, 0, 0, 0, 0, 0, 0, 0, 0, 0, 0, 0, 0, 0, 0, 0, 0, 0, 0, 0, 0, 0, 0, 0, 0, 0, 0, 0, 0, 0, 0, 0, 0, 0, 0, 0, 0, 0, 0, 0, 0, 0, 0, 0, 0, 0, 0, 0, 0, 0, 0, 0, 0, 0, 0, 0, 0, 0, 0, 0, 0, 0, 0, 0, 0, 0, 0, 0, 0, 0, 0, 0, 0, 0, 0, 0, 0, 0, 0, 0, 0, 0, 0, 0, 0, 0, 0, 0, 0, 0, 0, 0, 0, 0, 0, 0, 0, 0, 0, 0, 0, 0, 0, 0, 0, 0, 0, 0, 0, 0, 0, 0, 0, 0, 0, 0, 0, 0, 0, 0, 0, 0, 0, 0, 0, 0, 0, 0, 0, 0, 0, 0, 0, 0, 0, 0, 0, 0, 0, 0, 0, 0, 0, 0, 0, 0, 0, 0, 0, 0, 0, 0, 0, 0, 0, 0, 0, 0, 0, 0, 0, 0, 0, 0, 0, 0, 0, 0, 0, 0, 0, 0, 0, 0, 0, 0, 0, 0, 0, 0, 0, 0, 0, 0, 0, 0, 0, 0, 0, 0, 0, 0, 0, 0, 0, 0, 0, 0, 0, 0, 0, 0, 0, 0, 0, 0, 0, 0, 0, 0, 0, 0, 0, 0, 0, 0, 0, 0, 0, 0, 0, 0, 0, 0, 0, 0, 0, 0, 0, 0, 0, 0, 0, 0, 0, 0, 0, 0, 0, 0, 0, 0, 0, 0, 0, 0, 0, 0, 0, 0, 0, 0, 0, 0, 0, 0, 0, 0, 0, 0, 0, 0, 0, 0, 0, 0, 0, 0, 0, 0, 0, 0, 0, 0, 0, 0, 0, 0, 0, 0, 0, 0, 0, 0, 0, 0, 0, 0, 0, 0, 0, 0, 0, 0, 0, 0, 0, 0, 0, 0, 0, 0, 0, 0, 0, 0, 0, 0, 0, 0, 0, 0, 0, 0, 0, 0, 0, 0, 0, 0, 0, 0, 0, 0, 0, 0, 0, 0, 0, 0, 0, 0, 0, 0, 0, 0, 0, 0, 0, 0, 0, 0, 0, 0, 0, 0, 0, 0, 0, 0, 0, 0, 0, 0, 0, 0, 0, 0, 0, 0, 0, 0, 0, 0, 0, 0, 0, 0, 0, 0, 0, 0, 0, 0, 0, 0, 0, 0, 0, 0, 0, 0, 0, 0, 0, 0, 0, 0, 0, 0, 0, 0, 0, 0, 0, 0, 0, 0, 0, 0, 0, 0, 0, 0, 0, 0, 0, 0, 0, 0, 0, 0, 0, 0, 0, 0, 0, 0, 0, 0, 0, 0, 0, 0, 0, 0, 0, 0, 0, 0, 0, 0, 0, 0, 0, 0, 0, 0, 0, 0, 0, 0, 0, 0, 0, 0, 0, 0, 0, 0, 0, 0, 0, 0, 0, 0, 0, 0, 0, 0, 0, 0, 0, 0, 0, 0, 0, 0, 0, 0, 0, 0, 0, 0, 0, 0, 0, 0, 0, 0, 0, 0, 0, 0, 0, 0, 0, 0, 0, 0, 0, 0, 0, 0, 0, 0, 0, 0, 0, 0, 0, 0, 0, 0, 0, 0, 0, 0, 0, 0, 0, 0, 0, 0, 0, 0, 0, 0, 0, 0, 0, 0, 0, 0, 0, 0, 0, 0, 0, 0, 0, 0, 0, 0, 0, 0, 0, 0, 0, 0, 0, 0, 0, 0, 0, 0, 0, 0, 0, 0, 0, 0, 0, 0, 0, 0, 0, 0, 0, 0, 0, 0, 0, 0, 0, 0, 0, 0, 0, 0, 0, 0, 0, 0, 0, 0, 0, 0, 0, 0, 0, 0, 0, 0, 0, 0, 0, 0, 0, 0, 0, 0, 0, 0, 0, 0, 0, 0, 0, 0, 0, 0, 0, 0, 0, 0, 0, 0, 0, 0, 0, 0, 0, 0, 0, 0, 0, 0, 0, 0, 0, 0, 0, 0, 0, 0, 0, 0, 0, 0, 0, 0, 0, 0, 0, 0, 0, 0, 0, 0, 0, 0, 0, 0, 0, 0, 0, 0, 0, 0, 0, 0, 0, 0, 0, 0, 0, 0, 0, 0, 0, 0, 0, 0, 0, 0, 0, 0, 0, 0, 0, 0, 0, 0, 0, 0, 0, 0, 0, 0, 0, 0, 0, 0, 0, 0, 0, 0, 0, 0, 0, 0, 0, 0, 0, 0, 0, 0, 0, 0, 0, 0, 0, 0, 0, 0, 0, 0, 0, 0, 0, 0, 0, 0, 0, 0, 0, 0, 0, 0, 0, 0, 0, 0, 0, 0, 0, 0, 0, 0, 0, 0, 0, 0, 0, 0, 0, 0, 0, 0, 0, 0, 0, 0, 0, 0, 0, 0, 0, 0, 0, 0, 0, 0, 0, 0, 0, 0, 0, 0, 0, 0, 0, 0, 0, 0, 0, 0, 0, 0, 0, 0, 0, 0, 0, 0, 0, 0, 0, 0, 0, 0, 0, 0, 0, 0, 0, 0, 0, 0, 0, 0, 0, 0, 0, 0, 0, 0, 0, 0, 0, 0, 0, 0, 0, 0, 0, 0, 0, 0, 0, 0, 0, 0, 0, 0, 0, 0, 0, 0, 0, 0, 0, 0, 0, 0, 0, 0, 0, 0, 0, 0, 0, 0, 0, 0, 0, 0, 0, 0, 0, 0, 0, 0, 0, 0, 0, 0, 0, 0, 0, 0, 0, 0, 0, 0, 0, 0, 0, 0, 0, 0, 0, 0, 0, 0, 0, 0, 0, 0, 0, 0, 0, 0, 0, 0, 0, 0, 0, 0, 0, 0, 0, 0, 0, 0, 0, 0, 0, 0, 0, 0, 0, 0, 0, 0, 0, 0, 0, 0, 0, 0, 0, 0, 0, 0, 0, 0, 0, 0, 0, 0, 0, 0, 0, 0, 0, 0, 0, 0, 0, 0, 0, 0, 0, 0, 0, 0, 0, 0, 0, 0, 0, 0, 0, 0, 0, 0, 0, 0, 0, 0, 0, 0, 0, 0, 0, 0, 0, 0, 0, 0, 0, 0, 0, 0, 0, 0, 0, 0, 0, 0, 0, 0, 0, 0, 0, 0, 0, 0, 0, 0, 0, 0, 0, 0, 0, 0, 0, 0, 0, 0, 0, 0, 0, 0, 0, 0, 0, 0, 0, 0, 0, 0, 0, 0, 0, 0, 0, 0, 0, 0, 0, 0, 0, 0, 0, 0, 0, 0, 0, 0, 0, 0, 0, 0, 0, 0, 0, 0, 0, 0, 0, 0, 0, 0, 0, 0, 0, 0, 0, 0, 0, 0, 0, 0, 0, 0, 0, 0, 0, 0, 0, 0, 0, 0, 0, 0, 0, 0, 0, 0, 0, 0, 0, 0, 0, 0, 0, 0, 0, 0, 0, 0, 0, 0, 0, 0, 0, 0, 0, 0, 0, 0, 0, 0, 0, 0, 0, 0, 0, 0, 0, 0, 0, 0, 0, 0, 0, 0, 0, 0, 0, 0, 0, 0, 0, 0, 0, 0, 0, 0, 0, 0, 0, 0, 0, 0, 0, 0, 0, 0, 0, 0, 0, 0, 0, 0, 0, 0, 0, 0, 0, 0, 0, 0, 0, 0, 0, 0, 0, 0, 0, 0, 0, 0, 0, 0, 0, 0, 0, 0, 0, 0, 0, 0, 0, 0, 0, 0, 0, 0, 0, 0, 0, 0, 0, 0, 0, 0, 0, 0, 0, 0, 0, 0, 0, 0, 0, 0, 0, 0, 0, 0, 0, 0, 0, 0, 0, 0, 0, 0, 0, 0, 0, 0, 0, 0, 0, 0, 0, 0, 0, 0, 0, 0, 0, 0, 0, 0, 0, 0, 0, 0, 0, 0, 0, 0, 0, 0, 0, 0, 0, 0, 0, 0, 0, 0, 0, 0, 0, 0, 0, 0, 0, 0, 0, 0, 0, 0, 0, 0, 0, 0, 0, 0, 0, 0, 0, 0, 0, 0, 0, 0, 0, 0, 0, 0, 0, 0, 0, 0, 0, 0, 0, 0, 0, 0, 0, 0, 0, 0, 0, 0, 0, 0, 0, 0, 0, 0, 0, 0, 0, 0, 0, 0, 0, 0, 0, 0, 0, 0, 0, 0, 0, 0, 0, 0, 0, 0, 0, 0, 0, 0, 0, 0, 0, 0, 0, 0, 0, 0, 0, 0, 0, 0, 0, 0, 0, 0, 0, 0, 0, 0, 0, 0, 0, 0, 0, 0, 0, 0, 0, 0, 0, 0, 0, 0, 0, 0, 0, 0, 0, 0, 0, 0, 0, 0, 0, 0, 0, 0, 0, 0, 0, 0, 0, 0, 0, 0, 0, 0, 0, 0, 0, 0, 0, 0, 0, 0, 0, 0, 0, 0, 0, 0, 0, 0, 0, 0, 0, 0, 0, 0, 0, 0, 0, 0, 0, 0, 0, 0, 0, 0, 0, 0, 0, 0, 0, 0, 0, 0, 0, 0, 0, 0, 0, 0, 0, 0, 0, 0, 0, 0, 0, 0, 0, 0, 0, 0, 0, 0, 0, 0, 0, 0, 0, 0, 0, 0, 0, 0, 0, 0, 0, 0, 0, 0, 0, 0, 0, 0, 0, 0, 0, 0, 0, 0, 0, 0, 0, 0, 0, 0, 0, 0, 0, 0, 0, 0, 0, 0, 0, 0, 0, 0, 0, 0, 0, 0, 0, 0, 0, 0, 0, 0, 0, 0, 0, 0, 0, 0, 0, 0, 0, 0, 0, 0, 0, 0, 0, 0, 0, 0, 0, 0, 0, 0, 0, 0, 0, 0, 0, 0, 0, 0, 0, 0, 0, 0, 0, 0, 0, 0, 0, 0, 0, 0, 0, 0, 0, 0, 0, 0, 0, 0, 0, 0, 0, 0, 0, 0, 0, 0, 0, 0, 0, 0, 0, 0, 0, 0, 0, 0, 0, 0, 0, 0, 0, 0, 0, 0, 0, 0, 0, 0, 0, 0, 0, 0, 0, 0, 0, 0, 0, 0, 0, 0, 0, 0, 0, 0, 0, 0, 0, 0, 0, 0, 0, 0, 0, 0, 0, 0, 0, 0, 0, 0, 0, 0, 0, 0, 0, 0, 0, 0, 0, 0, 0, 0, 0, 0, 0, 0, 0, 0, 0, 0, 0, 0, 0, 0, 0, 0, 0, 0, 0, 0, 0, 0, 0, 0, 0, 0, 0, 0, 0, 0, 0, 0, 0, 0, 0, 0, 0, 0, 0, 0, 0, 0, 0, 0, 0, 0, 0, 0, 0, 0, 0, 0, 0, 0, 0, 0, 0, 0, 0, 0, 0, 0, 0, 0, 0, 0, 0, 0, 0, 0, 0, 0, 0, 0, 0, 0, 0, 0, 0, 0, 0, 0, 0, 0, 0, 0, 0, 0, 0, 0, 0, 0, 0, 0, 0, 0, 0, 0, 0, 0, 0, 0, 0, 0, 0, 0, 0, 0, 0, 0, 0, 0, 0, 0, 0, 0, 0, 0, 0, 0, 0, 0, 0, 0, 0, 0, 0, 0, 0, 0, 0, 0, 0, 0, 0, 0, 0, 0, 0, 0, 0, 0, 0, 0, 0, 0, 0, 0, 0, 0, 0, 0, 0, 0, 0, 0, 0, 0, 0, 0, 0, 0, 0, 0, 0, 0, 0, 0, 0, 0]\n",
            "roberta :  ('acc: ', 0.8204697986577181, 'precision: ', 0, 'recall: ', 0.0, 'f1: ', 0, 'specificity: ', 1.0, 'mcc: ', 0, 'mac pre ', 0.41023489932885904, 'micro pre ', 0.8204697986577181)\n",
            "[1, 1, 1, 1, 1, 1, 1, 1, 1, 1, 1, 1, 1, 1, 1, 1, 1, 1, 1, 1, 1, 1, 1, 1, 1, 0, 1, 1, 1, 1, 1, 1, 1, 1, 1, 1, 1, 1, 1, 1, 1, 1, 1, 1, 1, 1, 1, 1, 1, 1, 1, 1, 1, 1, 1, 1, 1, 1, 1, 1, 1, 1, 1, 1, 1, 1, 1, 1, 1, 1, 1, 1, 1, 1, 1, 1, 1, 1, 1, 1, 1, 1, 1, 1, 1, 1, 1, 1, 1, 1, 1, 1, 1, 1, 1, 1, 1, 1, 1, 1, 1, 1, 1, 1, 1, 1, 1, 1, 1, 1, 1, 1, 1, 1, 1, 1, 1, 1, 1, 1, 1, 1, 1, 1, 1, 1, 1, 1, 1, 1, 1, 1, 1, 1, 1, 1, 1, 1, 1, 1, 1, 1, 1, 1, 1, 1, 1, 1, 1, 1, 1, 1, 1, 1, 1, 1, 1, 1, 1, 1, 1, 1, 1, 1, 1, 1, 1, 1, 1, 1, 1, 1, 1, 1, 1, 1, 1, 1, 1, 1, 1, 1, 1, 1, 1, 1, 1, 1, 1, 1, 1, 1, 1, 1, 1, 1, 1, 1, 1, 1, 1, 1, 1, 1, 1, 1, 1, 1, 1, 1, 1, 1, 1, 1, 1, 1, 1, 1, 1, 1, 1, 1, 1, 1, 1, 1, 1, 1, 1, 1, 1, 1, 1, 1, 1, 1, 1, 1, 1, 1, 1, 1, 1, 1, 1, 1, 1, 1, 1, 1, 1, 1, 1, 1, 1, 1, 1, 1, 1, 1, 1, 1, 1, 1, 1, 1, 1, 1, 1, 1, 1, 1, 1, 1, 1, 1, 1, 1, 1, 1, 1, 1, 1, 1, 1, 1, 1, 1, 1, 1, 1, 1, 1, 1, 1, 1, 1, 1, 1, 1, 1, 1, 1, 1, 1, 1, 1, 1, 1, 1, 1, 1, 1, 1, 1, 1, 1, 1, 1, 1, 1, 1, 1, 1, 1, 1, 1, 1, 1, 1, 1, 1, 1, 1, 1, 1, 1, 1, 1, 1, 1, 1, 1, 1, 1, 1, 1, 1, 1, 1, 1, 1, 1, 1, 1, 1, 1, 1, 1, 1, 1, 1, 1, 1, 1, 1, 1, 1, 1, 1, 1, 1, 1, 1, 1, 1, 1, 1, 1, 1, 1, 1, 1, 1, 1, 1, 1, 1, 1, 1, 1, 1, 1, 1, 1, 1, 1, 1, 1, 1, 1, 1, 1, 1, 1, 1, 1, 1, 1, 1, 1, 1, 1, 1, 1, 1, 1, 1, 1, 1, 1, 1, 1, 1, 1, 1, 1, 1, 1, 1, 1, 1, 1, 1, 1, 1, 1, 1, 1, 1, 1, 1, 1, 1, 1, 1, 1, 1, 1, 1, 1, 1, 1, 1, 1, 1, 1, 1, 1, 1, 1, 1, 1, 1, 1, 1, 1, 1, 1, 1, 1, 1, 1, 1, 1, 1, 1, 1, 1, 1, 1, 1, 1, 1, 1, 1, 1, 1, 1, 1, 1, 1, 1, 1, 1, 1, 1, 1, 1, 1, 1, 1, 1, 1, 1, 1, 1, 1, 1, 1, 1, 1, 1, 1, 1, 1, 1, 1, 1, 1, 1, 1, 1, 1, 1, 1, 1, 1, 1, 1, 1, 1, 1, 1, 1, 1, 1, 1, 1, 1, 1, 1, 1, 1, 1, 1, 1, 1, 1, 1, 1, 1, 1, 1, 1, 1, 1, 1, 1, 1, 1, 1, 1, 1, 1, 1, 1, 1, 1, 1, 1, 1, 1, 1, 1, 1, 1, 1, 1, 1, 1, 1, 1, 1, 1, 1, 1, 1, 1, 1, 1, 1, 1, 1, 1, 1, 1, 1, 1, 1, 1, 1, 1, 1, 1, 1, 1, 1, 1, 1, 1, 1, 1, 1, 1, 1, 1, 1, 1, 1, 1, 1, 1, 1, 1, 1, 1, 1, 1, 1, 1, 1, 1, 1, 1, 1, 1, 1, 1, 1, 1, 1, 1, 1, 1, 1, 1, 1, 1, 1, 1, 1, 1, 1, 1, 1, 1, 1, 1, 1, 1, 1, 1, 1, 1, 1, 1, 1, 1, 1, 1, 1, 1, 1, 1, 1, 1, 1, 1, 1, 1, 1, 1, 1, 1, 1, 1, 1, 1, 1, 1, 1, 1, 1, 1, 1, 1, 1, 1, 1, 1, 1, 1, 1, 1, 1, 1, 1, 1, 1, 1, 1, 1, 1, 1, 1, 1, 1, 1, 1, 1, 1, 1, 1, 1, 1, 1, 1, 1, 1, 1, 1, 1, 1, 1, 1, 1, 1, 1, 1, 1, 1, 1, 1, 1, 1, 1, 1, 1, 1, 1, 1, 1, 1, 1, 1, 1, 1, 1, 1, 1, 1, 1, 1, 1, 1, 1, 1, 1, 1, 1, 1, 1, 1, 1, 1, 1, 1, 1, 1, 1, 1, 1, 1, 1, 1, 1, 1, 1, 1, 1, 1, 1, 1, 1, 1, 1, 1, 1, 1, 1, 1, 1, 1, 1, 1, 1, 1, 1, 1, 1, 1, 1, 1, 1, 1, 1, 1, 1, 1, 1, 1, 1, 1, 1, 1, 1, 1, 1, 1, 1, 1, 1, 1, 1, 1, 1, 1, 1, 1, 1, 1, 1, 1, 1, 1, 1, 1, 1, 1, 1, 1, 1, 1, 1, 1, 1, 1, 1, 1, 1, 1, 1, 1, 1, 1, 1, 1, 1, 1, 1, 1, 1, 1, 1, 1, 1, 1, 1, 1, 1, 1, 1, 1, 1, 1, 1, 1, 1, 1, 1, 1, 1, 1, 1, 1, 1, 1, 1, 1, 1, 1, 1, 1, 1, 1, 1, 1, 1, 1, 1, 1, 1, 1, 1, 1, 1, 1, 1, 1, 1, 1, 1, 1, 1, 1, 1, 1, 1, 1, 1, 1, 1, 1, 1, 1, 1, 1, 1, 1, 1, 1, 1, 1, 1, 1, 1, 1, 1, 1, 1, 1, 1, 1, 1, 1, 1, 1, 1, 1, 1, 1, 1, 1, 1, 1, 1, 1, 1, 1, 1, 1, 1, 1, 1, 1, 1, 1, 1, 1, 1, 1, 1, 1, 1, 1, 1, 1, 1, 1, 1, 1, 1, 1, 1, 1, 1, 1, 1, 1, 1, 1, 1, 1, 1, 1, 1, 1, 1, 1, 1, 1, 1, 1, 1, 1, 1, 1, 1, 1, 1, 1, 1, 1, 1, 1, 1, 1, 1, 1, 1, 1, 1, 1, 1, 1, 1, 1, 1, 1, 1, 1, 1, 1, 1, 1, 1, 1, 1, 1, 1, 1, 1, 1, 1, 1, 1, 1, 1, 1, 1, 1, 1, 1, 1, 1, 1, 1, 1, 1, 1, 1, 1, 1, 1, 1, 1, 1, 1, 1, 1, 1, 1, 1, 1, 1, 1, 1, 1, 1, 1, 1, 1, 1, 1, 1, 1, 1, 1, 1, 1, 1, 1, 1, 1, 1, 1, 1, 1, 1, 1, 1, 1, 1, 1, 1, 1, 1, 1, 1, 1, 1, 1, 1, 1, 1, 1, 1, 1, 1, 1, 1, 1, 1, 1, 1, 1, 1, 1, 1, 1, 1, 1, 1, 1, 1, 1, 1, 1, 1, 1, 1, 1, 1, 1, 1, 1, 1, 1, 1, 1, 1, 1, 1, 1, 1, 1, 1, 1, 1, 1, 1, 1, 1, 1, 1, 1, 1, 1, 1, 1, 1, 1, 1, 1, 1, 1, 1, 1, 1, 1, 1, 1, 1, 1, 1, 1, 1, 1, 1, 1, 1, 1, 1, 1, 1, 1, 1, 1, 1, 1, 1, 1, 1, 1, 1, 1, 1, 1, 1, 1, 1, 1, 1, 1, 1, 1, 1, 1, 1, 1, 1, 1, 1, 1, 1, 1, 1, 1, 1, 1, 1, 1, 1, 1, 1, 1, 1, 1, 1, 1, 1, 1, 1, 1, 1, 1, 1, 1, 1, 1, 1, 1, 1, 1, 1, 1, 1, 1, 1, 1, 1, 1, 1, 1, 1, 1, 1, 1, 1, 1, 1, 1, 1, 1, 1, 1, 1, 1, 1, 1, 1, 1, 1, 1, 1, 1, 1, 1, 1, 1, 1, 1, 1, 1, 1, 1, 1, 1, 1, 1, 1, 1, 1, 1, 1, 1, 1, 1, 1, 1, 1, 1, 1, 1, 1, 1, 1, 1, 1, 1, 1, 1, 1, 1, 1, 1, 1, 1, 1, 1, 1, 1, 1, 1, 1, 1, 1, 1, 1, 1, 0, 1, 1, 1, 1, 1, 1, 1, 1, 1, 1, 1, 1, 1, 1, 1, 1, 1, 1, 1, 1, 1, 1, 1, 1, 1, 1, 1, 1, 1, 1, 1, 1, 1, 1, 1, 1, 1, 1, 1, 1, 1, 1, 1, 1, 1, 1, 1, 1, 1, 1, 1, 1, 1, 1, 1, 1, 1, 1, 1, 1, 1, 1, 1, 1, 1, 1, 1, 1, 1, 1, 1, 1, 1, 1, 1, 1, 1, 1, 1, 1, 1, 1, 1, 1, 1, 1, 1, 1, 1, 1, 1, 1, 1, 1, 1, 1, 1, 1, 1, 1, 1, 1, 1, 1, 1, 1, 1, 1, 1, 1, 1, 1, 1, 1, 1, 1, 1, 1, 1, 1, 1, 1, 1, 1, 1, 1, 1, 1, 1, 1, 1, 0, 1, 1, 1, 1, 1, 1, 1, 1, 1, 1, 1, 1, 1, 1, 1, 1, 1, 1, 1, 1, 1, 1, 1, 1, 1, 1, 1, 1, 1, 1, 1, 1, 1, 1, 1, 1, 1, 1, 1, 1, 1, 1, 1, 1, 1, 1, 1, 1, 1, 1, 1, 1, 1, 1, 1, 1, 1, 1, 1, 1, 1, 1, 1, 1, 1, 1, 1, 1, 1, 1, 1, 1, 1, 1, 1, 1, 1, 1, 1, 1, 1, 1, 1, 1, 1, 1, 1, 1, 1, 1, 1, 1, 1, 1, 1, 1, 1, 1, 1, 1, 1, 1, 1, 1, 1, 1, 1, 1, 1, 1, 1, 1, 1, 1, 1, 1, 1, 1, 1, 1, 1, 1, 1, 1, 1, 1, 1, 1, 1, 1, 1, 1, 1, 1, 1, 1, 1, 1, 1, 1, 1, 1, 1, 1, 1, 1, 1, 1, 1, 1, 1, 1, 1, 1, 1, 1, 1, 1, 1, 1, 1, 1, 1, 1, 1, 1, 1, 1, 1, 1, 1, 1, 1, 1, 1, 1, 1, 1, 1, 1, 1, 1, 1, 1, 1, 1, 1, 1, 1, 1, 1, 1, 1, 1, 1, 1, 1, 1, 1, 1, 1, 1, 1, 1, 1, 1, 1, 1, 1, 1, 1, 1, 1, 1, 1, 1, 1, 1, 1, 1, 1, 1, 1, 1, 1, 1, 1, 1, 1, 1, 1, 1, 1, 1, 1, 1, 1, 1, 1, 1, 1, 1, 1, 1, 1, 1, 1, 1, 1, 1, 1, 1, 1, 1, 1, 1, 1, 1, 1, 1, 1, 1, 1, 1, 1, 1, 1, 1, 1, 1, 1, 1, 1, 1, 1, 1, 1, 1, 1, 1, 1, 1, 1, 1, 1, 1, 1, 1, 1, 1, 1, 1, 1, 1, 1, 1, 1, 1, 1, 1, 1, 1, 1, 1, 1, 1, 1, 1, 1, 1, 1, 1, 1, 1, 1, 1, 1, 1, 1, 1, 1, 1, 1, 1, 1, 1, 1, 1, 1, 1, 1, 1, 1, 1, 1, 1, 1, 1, 1, 1, 1, 1, 1, 1, 1, 1, 1, 1, 1, 1, 1, 1, 1, 1, 1, 1, 1, 1, 1, 1, 1, 1, 1, 1, 1, 1, 1, 1, 1, 1, 1, 1, 1, 1, 1, 1, 1, 1, 1, 1, 1, 1, 1, 1, 1, 1, 1, 1, 1, 1, 1, 1, 1, 1, 1, 1, 1, 1, 1, 1, 1, 1, 1, 1, 1, 1, 1, 1, 1, 1, 1, 1, 1, 1, 1, 1, 1, 1, 1, 1, 1, 1, 1, 1, 1, 1, 1, 1, 1, 1, 1, 1, 1, 1, 1, 1, 1, 1, 1, 1, 1, 1, 1, 1, 1, 1, 1, 1, 1, 1, 1, 1, 1, 1, 1, 1, 1, 1, 1, 1, 1, 1, 1, 1, 1, 1, 1, 1, 1, 1, 1, 1, 1, 1, 1, 1, 1, 1, 1, 1, 1, 1, 1, 1, 1, 1, 1, 1, 1, 1, 1, 1, 1, 1, 1, 1, 1, 1, 1, 1, 1, 1, 1, 1, 1, 1, 1, 1, 1, 1, 1, 1, 1, 1, 1, 1, 1, 1, 1, 1, 1, 1, 1, 1, 1, 1, 1, 1, 1, 1, 1, 1, 1, 1, 1, 1, 1, 1, 1, 1, 1, 1, 1, 1, 1, 1, 1, 1, 1, 1, 1, 1, 1, 1, 1, 1, 1, 1, 1, 1, 1, 1, 1, 1, 1, 1, 1, 1, 1, 1, 1, 1, 1, 1, 1, 1, 1, 1, 1, 1, 1, 1, 1, 1, 1, 1, 1, 1, 1, 1, 1, 1, 1, 1, 1, 1, 1, 1, 1, 1, 1, 1, 1, 1, 1, 1, 1, 1, 1, 1, 1, 1, 1, 1, 1, 1, 1, 1, 1, 1, 1, 1, 1, 1, 1, 1, 1, 1, 1, 1, 1, 1, 1, 1, 1, 1, 1, 1, 1, 1, 1, 1, 1, 1, 1, 1, 1, 1, 1, 1, 1, 1, 1, 1, 1, 1, 1, 1, 1, 1, 1, 1, 1, 1, 1, 1, 1, 1, 1, 1, 1, 1, 1, 1, 1, 1, 1, 1, 1, 1, 1, 1, 1, 1, 1, 1, 1, 1, 1, 1, 1, 1, 1, 1, 1, 1, 1, 1, 1, 1, 1, 1, 1, 1, 1, 1, 1, 1, 1, 1, 1, 1, 1, 1, 1, 1, 1, 1, 1, 1, 1, 1, 1, 1, 1, 1, 1, 1, 1, 1, 1, 1, 1, 1, 1, 1, 1, 1, 1, 1, 1, 1, 1, 1, 1, 1, 1, 1, 1, 1, 1, 1, 1, 1, 1, 1, 1, 1, 1, 1, 1, 1, 1, 1, 1, 1, 1, 1, 1, 1, 1, 1, 1, 1, 1, 1, 1, 1, 1, 1, 1, 1, 1, 1, 1, 1, 1, 1, 1, 1, 1, 1, 1, 1, 1, 1, 1, 1, 1, 1, 1, 1, 1, 1, 1, 1, 1, 1, 1, 1, 1, 1, 1, 1, 1, 1, 1, 1, 1, 1, 1, 1, 1, 1, 1, 1, 1, 1, 1, 1, 1, 1, 1, 1, 1, 1, 1, 1, 1, 1, 1, 1, 1, 1, 1, 1, 1, 1, 1, 1, 1, 1, 1, 1, 1, 1, 1, 1, 1, 1, 1, 1, 1, 1, 1, 1, 1, 1, 1, 1, 1, 1, 1, 1, 1, 1, 1, 1, 1, 1, 1, 1, 1, 1, 1, 1, 1, 1, 1, 1, 1, 1, 1, 1, 1, 1, 1, 1, 1, 1]\n",
            "mbertwhistory:  ('acc: ', 0.17911073825503357, 'precision: ', 0.17891642167156657, 'recall: ', 0.9953271028037384, 'f1: ', 0.30331078675685297, 'specificity: ', 0.0005112474437627812, 'mcc: ', -0.04505380878866, 'mac pre ', 0.25612487750244994, 'micro pre ', 0.17911073825503357)\n",
            "[1, 1, 1, 1, 1, 1, 1, 1, 1, 1, 1, 1, 1, 1, 1, 1, 1, 1, 1, 1, 1, 1, 1, 1, 1, 1, 1, 1, 1, 1, 1, 1, 1, 1, 1, 1, 1, 1, 1, 1, 1, 1, 1, 1, 1, 1, 1, 1, 1, 1, 1, 1, 1, 1, 1, 1, 1, 1, 1, 1, 1, 1, 1, 1, 1, 1, 1, 1, 1, 1, 1, 1, 1, 1, 1, 1, 1, 1, 1, 1, 1, 1, 1, 1, 1, 1, 1, 1, 1, 1, 1, 1, 1, 1, 1, 1, 1, 1, 1, 1, 1, 1, 1, 1, 1, 1, 1, 1, 1, 1, 1, 1, 1, 1, 1, 1, 1, 1, 1, 1, 1, 1, 1, 1, 1, 1, 1, 1, 1, 1, 1, 1, 1, 1, 1, 1, 1, 1, 1, 1, 1, 1, 1, 1, 1, 1, 1, 1, 1, 1, 1, 1, 1, 1, 1, 1, 1, 1, 1, 1, 1, 1, 1, 1, 1, 1, 1, 1, 1, 1, 1, 1, 1, 1, 1, 1, 1, 1, 1, 1, 1, 1, 1, 1, 1, 1, 1, 1, 1, 1, 1, 1, 1, 1, 1, 1, 1, 1, 1, 1, 1, 1, 1, 1, 1, 1, 1, 1, 1, 1, 1, 1, 1, 1, 1, 1, 1, 1, 1, 1, 1, 1, 1, 1, 1, 1, 1, 1, 1, 1, 1, 1, 1, 1, 1, 1, 1, 1, 1, 1, 1, 1, 1, 1, 1, 1, 1, 1, 1, 1, 1, 1, 1, 1, 1, 1, 1, 1, 1, 1, 1, 1, 1, 1, 1, 1, 1, 1, 1, 1, 1, 1, 1, 1, 1, 1, 1, 1, 1, 1, 1, 1, 1, 1, 1, 1, 1, 1, 1, 1, 1, 1, 1, 1, 1, 1, 1, 1, 1, 1, 1, 1, 1, 1, 1, 1, 1, 1, 1, 1, 1, 1, 1, 1, 1, 1, 1, 1, 1, 1, 1, 1, 1, 1, 1, 1, 1, 1, 1, 1, 1, 1, 1, 1, 1, 1, 1, 1, 1, 1, 1, 1, 1, 1, 1, 1, 1, 1, 1, 1, 1, 1, 1, 1, 1, 1, 1, 1, 1, 1, 1, 1, 1, 1, 1, 1, 1, 1, 1, 1, 1, 1, 1, 1, 1, 1, 1, 1, 1, 1, 1, 1, 1, 1, 1, 1, 1, 1, 1, 1, 1, 1, 1, 1, 1, 1, 1, 1, 1, 1, 1, 1, 1, 1, 1, 1, 1, 1, 1, 1, 1, 1, 1, 1, 1, 1, 1, 1, 1, 1, 1, 1, 1, 1, 1, 1, 1, 1, 1, 1, 1, 1, 1, 1, 1, 1, 1, 1, 1, 1, 1, 1, 1, 1, 1, 1, 1, 1, 1, 1, 1, 1, 1, 1, 1, 1, 1, 1, 1, 1, 1, 1, 1, 1, 1, 1, 1, 1, 1, 1, 1, 1, 1, 1, 1, 1, 1, 1, 1, 1, 1, 1, 1, 1, 1, 1, 1, 1, 1, 1, 1, 1, 1, 1, 1, 1, 1, 1, 1, 1, 1, 1, 1, 1, 1, 1, 1, 1, 1, 1, 1, 1, 1, 1, 1, 1, 1, 1, 1, 1, 1, 1, 1, 1, 1, 1, 1, 1, 1, 1, 1, 1, 1, 1, 1, 1, 1, 1, 1, 1, 1, 1, 1, 1, 1, 1, 1, 1, 1, 1, 1, 1, 1, 1, 1, 1, 1, 1, 1, 1, 1, 1, 1, 1, 1, 1, 1, 1, 1, 1, 1, 1, 1, 1, 1, 1, 1, 1, 1, 1, 1, 1, 1, 1, 1, 1, 1, 1, 1, 1, 1, 1, 1, 1, 1, 1, 1, 1, 1, 1, 1, 1, 1, 1, 1, 1, 1, 1, 1, 1, 1, 1, 1, 1, 1, 1, 1, 1, 1, 1, 1, 1, 1, 1, 1, 1, 1, 1, 1, 1, 1, 1, 1, 1, 1, 1, 1, 1, 1, 1, 1, 1, 1, 1, 1, 1, 1, 1, 1, 1, 1, 1, 1, 1, 1, 1, 1, 1, 1, 1, 1, 1, 1, 1, 1, 1, 1, 1, 1, 1, 1, 1, 1, 1, 1, 1, 1, 1, 1, 1, 1, 1, 1, 1, 1, 1, 1, 1, 1, 1, 1, 1, 1, 1, 1, 1, 1, 1, 1, 1, 1, 1, 1, 1, 1, 1, 1, 1, 1, 1, 1, 1, 1, 1, 1, 1, 1, 1, 1, 1, 1, 1, 1, 1, 1, 1, 1, 1, 1, 1, 1, 1, 1, 1, 1, 1, 1, 1, 1, 1, 1, 1, 1, 1, 1, 1, 1, 1, 1, 1, 1, 1, 1, 1, 1, 1, 1, 1, 1, 1, 1, 1, 1, 1, 1, 1, 1, 1, 1, 1, 1, 1, 1, 1, 1, 1, 1, 1, 1, 1, 1, 1, 1, 1, 1, 1, 1, 1, 1, 1, 1, 1, 1, 1, 1, 1, 1, 1, 1, 1, 1, 1, 1, 1, 1, 1, 1, 1, 1, 1, 1, 1, 1, 1, 1, 1, 1, 1, 1, 1, 1, 1, 1, 1, 1, 1, 1, 1, 1, 1, 1, 1, 1, 1, 1, 1, 1, 1, 1, 1, 1, 1, 1, 1, 1, 1, 1, 1, 1, 1, 1, 1, 1, 1, 1, 1, 1, 1, 1, 1, 1, 1, 1, 1, 1, 1, 1, 1, 1, 1, 1, 1, 1, 1, 1, 1, 1, 1, 1, 1, 1, 1, 1, 1, 1, 1, 1, 1, 1, 1, 1, 1, 1, 1, 1, 1, 1, 1, 1, 1, 1, 1, 1, 1, 1, 1, 1, 1, 1, 1, 1, 1, 1, 1, 1, 1, 1, 1, 1, 1, 1, 1, 1, 1, 1, 1, 1, 1, 1, 1, 1, 1, 1, 1, 1, 1, 1, 1, 1, 1, 1, 1, 1, 1, 1, 1, 1, 1, 1, 1, 1, 1, 1, 1, 1, 1, 1, 1, 1, 1, 1, 1, 1, 1, 1, 1, 1, 1, 1, 1, 1, 1, 1, 1, 1, 1, 1, 1, 1, 1, 1, 1, 1, 1, 1, 1, 1, 1, 1, 1, 1, 1, 1, 1, 1, 1, 1, 1, 1, 1, 1, 1, 1, 1, 1, 1, 1, 1, 1, 1, 1, 1, 1, 1, 1, 1, 1, 1, 1, 1, 1, 1, 1, 1, 1, 1, 1, 1, 1, 1, 1, 1, 1, 1, 1, 1, 1, 1, 1, 1, 1, 1, 1, 1, 1, 1, 1, 1, 1, 1, 1, 1, 1, 1, 1, 1, 1, 1, 1, 1, 1, 1, 1, 1, 1, 1, 1, 1, 1, 1, 1, 1, 1, 1, 1, 1, 1, 1, 1, 1, 1, 1, 1, 1, 1, 1, 1, 1, 1, 1, 1, 1, 1, 1, 1, 1, 1, 1, 1, 1, 1, 1, 1, 1, 1, 1, 1, 1, 1, 1, 1, 1, 1, 1, 1, 1, 1, 1, 1, 1, 1, 1, 1, 1, 1, 1, 1, 1, 1, 1, 1, 1, 1, 1, 1, 1, 1, 1, 1, 1, 1, 1, 1, 1, 1, 1, 1, 1, 1, 1, 1, 1, 1, 1, 1, 1, 1, 1, 1, 1, 1, 1, 1, 1, 1, 1, 1, 1, 1, 1, 1, 1, 1, 1, 1, 1, 1, 1, 1, 1, 1, 1, 1, 1, 1, 1, 1, 1, 1, 1, 1, 1, 1, 1, 1, 1, 1, 1, 1, 1, 1, 1, 1, 1, 1, 1, 1, 1, 1, 1, 1, 1, 1, 1, 1, 1, 1, 1, 1, 1, 1, 1, 1, 1, 1, 1, 1, 1, 1, 1, 1, 1, 1, 1, 1, 1, 1, 1, 1, 1, 1, 1, 1, 1, 1, 1, 1, 1, 1, 1, 1, 1, 1, 1, 1, 1, 1, 1, 1, 1, 1, 1, 1, 1, 1, 1, 1, 1, 1, 1, 1, 1, 1, 1, 1, 1, 1, 1, 1, 1, 1, 1, 1, 1, 1, 1, 1, 1, 1, 1, 1, 1, 1, 1, 1, 1, 1, 1, 1, 1, 1, 1, 1, 1, 1, 1, 1, 1, 1, 1, 1, 1, 1, 1, 1, 1, 1, 1, 1, 1, 1, 1, 1, 1, 1, 1, 1, 1, 1, 1, 1, 1, 1, 1, 1, 1, 1, 1, 1, 1, 1, 1, 1, 1, 1, 1, 1, 1, 1, 1, 1, 1, 1, 1, 1, 1, 1, 1, 1, 1, 1, 1, 1, 1, 1, 1, 1, 1, 1, 1, 1, 1, 1, 1, 1, 1, 1, 1, 1, 1, 1, 1, 1, 1, 1, 1, 1, 1, 1, 1, 1, 1, 1, 1, 1, 1, 1, 1, 1, 1, 1, 1, 1, 1, 1, 1, 1, 1, 1, 1, 1, 1, 1, 1, 1, 1, 1, 1, 1, 1, 1, 1, 1, 1, 1, 1, 1, 1, 1, 1, 1, 1, 1, 1, 1, 1, 1, 1, 1, 1, 1, 1, 1, 1, 1, 1, 1, 1, 1, 1, 1, 1, 1, 1, 1, 1, 1, 1, 1, 1, 1, 1, 1, 1, 1, 1, 1, 1, 1, 1, 1, 1, 1, 1, 1, 1, 1, 1, 1, 1, 1, 1, 1, 1, 1, 1, 1, 1, 1, 1, 1, 1, 1, 1, 1, 1, 1, 1, 1, 1, 1, 1, 1, 1, 1, 1, 1, 1, 1, 1, 1, 1, 1, 1, 1, 1, 1, 1, 1, 1, 1, 1, 1, 1, 1, 1, 1, 1, 1, 1, 1, 1, 1, 1, 1, 1, 1, 1, 1, 1, 1, 1, 1, 1, 1, 1, 1, 1, 1, 1, 1, 1, 1, 1, 1, 1, 1, 1, 1, 1, 1, 1, 1, 1, 1, 1, 1, 1, 1, 1, 1, 1, 1, 1, 1, 1, 1, 1, 1, 1, 1, 1, 1, 1, 1, 1, 1, 1, 1, 1, 1, 1, 1, 1, 1, 1, 1, 1, 1, 1, 1, 1, 1, 1, 1, 1, 1, 1, 1, 1, 1, 1, 1, 1, 1, 1, 1, 1, 1, 1, 1, 1, 1, 1, 1, 1, 1, 1, 1, 1, 1, 1, 1, 1, 1, 1, 1, 1, 1, 1, 1, 1, 1, 1, 1, 1, 1, 1, 1, 1, 1, 1, 1, 1, 1, 1, 1, 1, 1, 1, 1, 1, 1, 1, 1, 1, 1, 1, 1, 1, 1, 1, 1, 1, 1, 1, 1, 1, 1, 1, 1, 1, 1, 1, 1, 1, 1, 1, 1, 1, 1, 1, 1, 1, 1, 1, 1, 1, 1, 1, 1, 1, 1, 1, 1, 1, 1, 1, 1, 1, 1, 1, 1, 1, 1, 1, 1, 1, 1, 1, 1, 1, 1, 1, 1, 1, 1, 1, 1, 1, 1, 1, 1, 1, 1, 1, 1, 1, 1, 1, 1, 1, 1, 1, 1, 1, 1, 1, 1, 1, 1, 1, 1, 1, 1, 1, 1, 1, 1, 1, 1, 1, 1, 1, 1, 1, 1, 1, 1, 1, 1, 1, 1, 1, 1, 1, 1, 1, 1, 1, 1, 1, 1, 1, 1, 1, 1, 1, 1, 1, 1, 1, 1, 1, 1, 1, 1, 1, 1, 1, 1, 1, 1, 1, 1, 1, 1, 1, 1, 1, 1, 1, 1, 1, 1, 1, 1, 1, 1, 1, 1, 1, 1, 1, 1, 1, 1, 1, 1, 1, 1, 1, 1, 1, 1, 1, 1, 1, 1, 1, 1, 1, 1, 1, 1, 1, 1, 1, 1, 1, 1, 1, 1, 1, 1, 1, 1, 1, 1, 1, 1, 1, 1, 1, 1, 1, 1, 1, 1, 1, 1, 1, 1, 1, 1, 1, 1, 1, 1, 1, 1, 1, 1, 1, 1, 1, 1, 1, 1, 1, 1, 1, 1, 1, 1, 1, 1, 1, 1, 1, 1, 1, 1, 1, 1, 1, 1, 1, 1, 1, 1, 1, 1, 1, 1, 1, 1, 1, 1, 1, 1, 1, 1, 1, 1, 1, 1, 1, 1, 1, 1, 1, 1, 1, 1, 1, 1, 1, 1, 1, 1, 1, 1, 1, 1, 1, 1, 1, 1, 1, 1, 1, 1, 1, 1, 1, 1, 1, 1, 1, 1, 1, 1, 1, 1, 1, 1, 1, 1, 1, 1, 1, 1, 1, 1, 1, 1, 1, 1, 1, 1, 1, 1, 1, 1, 1, 1, 1, 1, 1, 1, 1, 1, 1, 1, 1, 1, 1, 1, 1, 1, 1, 1, 1, 1, 1, 1, 1, 1, 1, 1, 1, 1, 1, 1, 1, 1, 1, 1, 1, 1, 1, 1, 1, 1, 1, 1, 1, 1, 1, 1, 1, 1, 1, 1, 1, 1, 1, 1, 1, 1, 1, 1, 1, 1, 1, 1, 1, 1, 1, 1, 1, 1, 1, 1, 1, 1, 1, 1, 1, 1, 1, 1, 1, 1, 1, 1, 1, 1, 1, 1, 1, 1, 1, 1, 1, 1, 1, 1, 1, 1, 1, 1, 1, 1, 1, 1, 1, 1, 1, 1, 1, 1, 1, 1, 1, 1, 1, 1, 1, 1, 1, 1, 1, 1, 1, 1, 1, 1, 1, 1, 1, 1, 1, 1, 1, 1, 1, 1, 1, 1, 1, 1, 1, 1, 1, 1, 1, 1, 1, 1, 1, 1, 1, 1, 1, 1, 1, 1, 1, 1, 1, 1, 1, 1, 1, 1, 1, 1, 1, 1, 1, 1, 1, 1, 1, 1, 1, 1, 1, 1, 1, 1, 1, 1, 1, 1, 1, 1, 1, 1, 1, 1, 1, 1, 1, 1, 1, 1, 1, 1, 1, 1, 1, 1, 1, 1, 1, 1, 1, 1, 1, 1, 1, 1, 1, 1, 1, 1, 1, 1, 1, 1, 1, 1, 1, 1, 1, 1, 1, 1, 1, 1, 1, 1, 1, 1, 1, 1, 1, 1, 1, 1, 1, 1, 1, 1, 1, 1, 1, 1, 1, 1, 1, 1, 1, 1, 1, 1, 1, 1, 1, 1, 1, 1, 1, 1, 1, 1, 1, 1, 1, 1, 1, 1, 1, 1, 1, 1, 1, 1, 1, 1, 1, 1, 1, 1, 1, 1, 1, 1, 1, 1, 1, 1, 1, 1, 1, 1, 1, 1, 1, 1, 1, 1, 1, 1, 1, 1, 1, 1, 1, 1, 1, 1, 1, 1, 1, 1, 1, 1, 1, 1, 1, 1, 1, 1, 1, 1, 1, 1, 1, 1, 1, 1, 1, 1, 1, 1, 1, 1, 1, 1, 1, 1, 1, 1, 1, 1, 1, 1, 1, 1, 1, 1, 1, 1, 1, 1, 1, 1, 1, 1, 1, 1, 1, 1, 1, 1, 1, 1, 1, 1, 1, 1, 1, 1, 1, 1, 1, 1, 1, 1, 1, 1, 1, 1, 1, 1, 1, 1, 1, 1, 1, 1, 1, 1, 1, 1, 1, 1, 1, 1, 1]\n",
            "mbert:  ('acc: ', 0.17953020134228187, 'precision: ', 0.17953020134228187, 'recall: ', 1.0, 'f1: ', 0.30440967283072545, 'specificity: ', 0.0, 'mcc: ', 0, 'mac pre ', 0.08976510067114093, 'micro pre ', 0.17953020134228187)\n"
          ]
        },
        {
          "output_type": "stream",
          "name": "stderr",
          "text": [
            "/usr/local/lib/python3.11/dist-packages/sklearn/metrics/_classification.py:1565: UndefinedMetricWarning: Precision is ill-defined and being set to 0.0 in labels with no predicted samples. Use `zero_division` parameter to control this behavior.\n",
            "  _warn_prf(average, modifier, f\"{metric.capitalize()} is\", len(result))\n",
            "/usr/local/lib/python3.11/dist-packages/sklearn/metrics/_classification.py:1565: UndefinedMetricWarning: Precision is ill-defined and being set to 0.0 in labels with no predicted samples. Use `zero_division` parameter to control this behavior.\n",
            "  _warn_prf(average, modifier, f\"{metric.capitalize()} is\", len(result))\n",
            "/usr/local/lib/python3.11/dist-packages/sklearn/metrics/_classification.py:1565: UndefinedMetricWarning: Precision is ill-defined and being set to 0.0 in labels with no predicted samples. Use `zero_division` parameter to control this behavior.\n",
            "  _warn_prf(average, modifier, f\"{metric.capitalize()} is\", len(result))\n",
            "/usr/local/lib/python3.11/dist-packages/sklearn/metrics/_classification.py:1565: UndefinedMetricWarning: Precision is ill-defined and being set to 0.0 in labels with no predicted samples. Use `zero_division` parameter to control this behavior.\n",
            "  _warn_prf(average, modifier, f\"{metric.capitalize()} is\", len(result))\n"
          ]
        }
      ]
    }
  ]
}